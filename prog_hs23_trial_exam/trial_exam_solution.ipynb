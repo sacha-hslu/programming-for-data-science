{
 "cells": [
  {
   "cell_type": "markdown",
   "id": "27e29b9b",
   "metadata": {},
   "source": [
    "# <font color='red'>PROG Probeprüfung H23</font>\n",
    "**28. November 2023**"
   ]
  },
  {
   "cell_type": "markdown",
   "id": "3779df9e",
   "metadata": {
    "tags": []
   },
   "source": [
    "## Informationen zur Prüfung\n",
    "### Dauer: \n",
    "45 Min\n",
    "\n",
    "\n",
    "### Total mögliche Punktzahl:\n",
    "40 Punkte\n",
    "\n",
    "\n",
    "### Erlaubte Hilfsmittel\n",
    "Die Prüfung ist \"Open Book\", d.h. erlaubt sind folgende Mittel:\n",
    "- Vorlesungsskript und gelöste Übungen\n",
    "- Persönliche Zusammenfassung\n",
    "- Python Standardbibliothek - https://docs.python.org/3/library/index.html\n",
    "- NumPy Dokumentation - https://numpy.org/doc/\n",
    "- Pandas Dokumentation - https://pandas.pydata.org/pandas-docs/stable/\n",
    "- Matplotlib Dokumentation - https://matplotlib.org\n",
    "- Seaborn Dokumentation - https://seaborn.pydata.org\n",
    "\n",
    "\n",
    "### Nicht erlaubt sind:\n",
    "- Kommunikation mit Dritten während der Prüfung\n",
    "- Bezug fremder Hilfe, oder Hilfe leisten (z.B. Ergebnisse teilen, Tipps geben, etc.)\n",
    "- Internetrecherche, abgesehen von den oben ausdrücklich erlaubten Seiten\n",
    "- Chat-bots, sowie jede andere, nicht explizit erwähnte, unredliche Handlung\n",
    "\n",
    "\n",
    "### Instruktionen\n",
    "- Sie müssen die Aufgaben in diesem Jupyter Notebook direkt lösen. Fügen Sie die Lösung direkt unterhalb der Fragen ein. \n",
    "- Als Editor ist nur Jupyter Notebook zugelassen, keine IDE.\n",
    "- Die Aufgaben sind zudem in einem ausgedruckten Aufgabenblatt beschrieben. Dieses Papier wird am Schluss wieder eingesammelt.\n",
    "- Teillösungen werden auch bewertet\n",
    "- Gewisse Aufgaben verweisen möglicherweise auf Dateien, welche heruntergeladen und in Ihrem Arbeitsverzeichnis abgelegt werden müssen, damit alls korrekt ausgeführt werden kann. \n",
    "\n",
    "- Speichern Sie die Jupyter Prüfungsdatei mit Ihren Lösungen unter Verwendung folgender Namenskonvention: <font color=\"red\">_**Nachname_Vorname_PROG_PREP_H23.ipynb**_</font>\n",
    "- Laden Sie ihre Lösung spätestens nach Abschluss der Prüfung in Ilias in den PREP Ordner hoch\n",
    "- Falls die Abgabe wider Erwarten über Ilias nicht möglich, melden Sie dies der Aufsicht und senden Sie die gelösten Aufgaben von Ihrer offiziellen HSLU-E-Mail-Adresse an <a href='mailto:bjoern.jensen@hslu.ch'>bjoern.jensen@hslu.ch</a>"
   ]
  },
  {
   "cell_type": "markdown",
   "id": "e9e9c2a4",
   "metadata": {},
   "source": [
    "<br>\n",
    "\n",
    "<br>\n",
    "\n",
    "## Redlichkeitsbedingungen\n",
    "**Mit der Absolvierung der Prüfung bestätige ich, dass ich:**\n",
    "- die Prüfungen alleine und ohne unerlaubte fremde Hilfe absolviert habe,\n",
    "- die Lösungen und Resultate selbst hergeleitet habe,\n",
    "- keine anderen als die für die entsprechende Prüfung ausdrücklich vorgesehenen Hilfsmittel benutzt habe,\n",
    "- keine unerlaubte Kommunikation mit Dritten während der Prüfung geführt habe\n",
    "\n",
    "Bei Unredlichkeiten gilt der Artikel 39 der Studienordnung für Ausbildung an der Hochschule Luzern, FH Zentralschweiz (Nr. 521).\n",
    "\n",
    "&nbsp;\n",
    "\n",
    "&nbsp;\n",
    "<font color='red'>_**Datum, Name und Vorname**_</font>"
   ]
  },
  {
   "cell_type": "markdown",
   "id": "524f083c",
   "metadata": {},
   "source": []
  },
  {
   "cell_type": "markdown",
   "id": "cac9bdac",
   "metadata": {},
   "source": [
    "# Aufgabe 1: Fibonacci-Zahlen (5 Punkte)\n",
    "\n",
    "Schreiben sie eine Funktion `fib(n)`, die die n-te Fibonacci-Zahl berechnet. \n",
    "Die Funktion soll die Zahlen mittels Rekursion berechnen. Um möglichst schnell zu sein, sollen einmal berechnete Zahlen in einem *Dictionary* `cache_fib` abgelegt werden. Das *Dictionary* `cache_fib` ist als globale Variable abgelegt. Die Fibonacci-Zahl wird dabei als *Value* und ihr Index `n` als Schlüssel im *Dictionary* verwendet."
   ]
  },
  {
   "cell_type": "markdown",
   "id": "4afb6932",
   "metadata": {},
   "source": [
    "\\begin{align}\n",
    "f_0 &= 0 \\\\\n",
    "f_1 &= 1 \\\\\n",
    "f_n &= f_{n-1} + f_{n-2}\n",
    "\\end{align}"
   ]
  },
  {
   "cell_type": "markdown",
   "id": "79c51fd2",
   "metadata": {},
   "source": [
    "Hier ein Beispielaufruf, um die 12-te Fibonacci-Zahl zu berechnen und der Zustand dies *Dictionary* `cache_fib` nach dem Aufruf."
   ]
  },
  {
   "cell_type": "markdown",
   "id": "aad60b3c",
   "metadata": {},
   "source": [
    "```\n",
    "fib(12) # -> 144\n",
    "\n",
    "{1: 1, 0: 0, 2: 1, 3: 2, 4: 3, 5: 5, 6: 8, 7: 13, 8: 21, 9: 34, 10: 55, 11: 89, 12: 144}\n",
    "```"
   ]
  },
  {
   "cell_type": "code",
   "execution_count": null,
   "id": "eaa0d682",
   "metadata": {},
   "outputs": [],
   "source": [
    "# global variable\n",
    "cache_fib = {}\n",
    "\n",
    "# your code ...\n"
   ]
  },
  {
   "cell_type": "markdown",
   "id": "ea4e2b93",
   "metadata": {},
   "source": [
    "### Musterlösung"
   ]
  },
  {
   "cell_type": "code",
   "execution_count": null,
   "id": "e0258cb1",
   "metadata": {},
   "outputs": [],
   "source": [
    "import sys\n",
    "\n",
    "sys.setrecursionlimit(99999999)"
   ]
  },
  {
   "cell_type": "code",
   "execution_count": null,
   "id": "57f105be",
   "metadata": {},
   "outputs": [],
   "source": [
    "# global variable\n",
    "cache_fib = {}\n",
    "\n",
    "\n",
    "# 0.5P: function definition\n",
    "def fib(n):\n",
    "    \"\"\"\n",
    "    compute the n-th Fibonacci number and return it.\n",
    "    The number is computed using recursion.\n",
    "    \"\"\"\n",
    "    # 1P: inital Fibonacci-Values\n",
    "    if n < 0:\n",
    "        return 0\n",
    "    elif n == 0:\n",
    "        fv = 0\n",
    "    elif n == 1:\n",
    "        fv = 1\n",
    "    elif n in cache_fib:\n",
    "        # 1P: retrieve result from dict\n",
    "        return cache_fib[n]\n",
    "    else:\n",
    "        #1P: compute new Fibinacci number\n",
    "        fv = fib(n-1) + fib(n-2)\n",
    "\n",
    "    # 1P: store result in dict\n",
    "    cache_fib[n] = fv\n",
    "    # 0.5P: return value (all returns combined)\n",
    "    return fv\n"
   ]
  },
  {
   "cell_type": "code",
   "execution_count": null,
   "id": "52cc191d",
   "metadata": {},
   "outputs": [],
   "source": [
    "fib(12)"
   ]
  },
  {
   "cell_type": "code",
   "execution_count": null,
   "id": "8ed67d15",
   "metadata": {},
   "outputs": [],
   "source": [
    "cache_fib"
   ]
  },
  {
   "cell_type": "code",
   "execution_count": null,
   "id": "aaf994cf",
   "metadata": {},
   "outputs": [],
   "source": [
    "if False:\n",
    "    fib(400_000)"
   ]
  },
  {
   "cell_type": "code",
   "execution_count": null,
   "id": "efa8823b",
   "metadata": {},
   "outputs": [],
   "source": [
    "if False:\n",
    "    fib(400_000)"
   ]
  },
  {
   "cell_type": "markdown",
   "id": "bb5e82d5",
   "metadata": {},
   "source": [
    "# Aufgabe 2: Häufigkeiten\n",
    "\n",
    "## 2.1. Buchstabenpaare (3 Punkte)\n",
    "\n",
    "Schreiben Sie eine Funktion `two_gram()`, die alle möglichen Buchstabenpaare für die Buchstaben aus dem Englischen Alphabet erstellt.\n",
    "Die Buchstaben sind beispielsweise in `string.ascii_lowercase` zusammengestellt."
   ]
  },
  {
   "cell_type": "code",
   "execution_count": null,
   "id": "9cf4a01e",
   "metadata": {},
   "outputs": [],
   "source": [
    "import string\n"
   ]
  },
  {
   "cell_type": "code",
   "execution_count": null,
   "id": "cd2106d5",
   "metadata": {},
   "outputs": [],
   "source": [
    "def two_gram():\n",
    "    \"\"\"\n",
    "    create a list of all combinations of two letters.\n",
    "    \"\"\"\n",
    "    result = []\n",
    "    for c1 in string.ascii_lowercase:\n",
    "        for c2 in string.ascii_lowercase:\n",
    "            result.append(c1 + c2)\n",
    "    return result\n"
   ]
  },
  {
   "cell_type": "code",
   "execution_count": null,
   "id": "79bcbb9a",
   "metadata": {},
   "outputs": [],
   "source": [
    "print(two_gram())\n"
   ]
  },
  {
   "cell_type": "code",
   "execution_count": null,
   "id": "3b77d1ac",
   "metadata": {},
   "outputs": [],
   "source": [
    "def two_gram_comprehension():\n",
    "    \"\"\"\n",
    "    create a list of all combinations of two letters.\n",
    "    \"\"\"\n",
    "    return [ c1 + c2 for c1 in string.ascii_lowercase for c2 in string.ascii_lowercase ]\n"
   ]
  },
  {
   "cell_type": "code",
   "execution_count": null,
   "id": "fb8d2594",
   "metadata": {},
   "outputs": [],
   "source": [
    "print(two_gram_comprehension())\n"
   ]
  },
  {
   "cell_type": "markdown",
   "id": "ac0e5afb",
   "metadata": {},
   "source": [
    "## 2.2. Häufigkeit (5 Punkte)\n",
    "\n",
    "Schreiben Sie eine Funktion `hist()`, die für alle oben erstellten Buchstabenpaare die Häufigkeit im unten stehenden Beispieltext ermittelt und als *Dictionary* zurückgibt. Das *Dictionary* soll alle möglichen Buchstabenpaare enthalten, auch solche, die nicht im Beispieltext vorkommen. Die Häufigkeit wird dabei als *Value* und das Buchstabenpaar als als Schlüssel im *Dictionary* verwendet."
   ]
  },
  {
   "cell_type": "code",
   "execution_count": null,
   "id": "2d1ee080",
   "metadata": {
    "scrolled": true
   },
   "outputs": [],
   "source": [
    "#!pip install lorem-text\n"
   ]
  },
  {
   "cell_type": "code",
   "execution_count": null,
   "id": "ef732563",
   "metadata": {},
   "outputs": [],
   "source": [
    "from lorem_text import lorem\n",
    "n_words = 150\n",
    "print(txt_example := lorem.words(n_words))\n"
   ]
  },
  {
   "cell_type": "code",
   "execution_count": null,
   "id": "d761c641",
   "metadata": {},
   "outputs": [],
   "source": [
    "txt_example = \"\"\"\n",
    "voluptatum ipsa veniam sed optio harum voluptas quidem dolorum quibusdam nostrum\n",
    "officiis quis ut qui adipisci sequi voluptate iusto dicta nesciunt expedita nulla\n",
    "repudiandae neque perspiciatis omnis impedit provident cum natus unde ratione\n",
    "itaque nihil commodi dolor cupiditate minima eos veritatis officia minus molestias\n",
    "saepe blanditiis magni rem alias aperiam consequuntur obcaecati doloremque suscipit\n",
    "quos tempore voluptates vel magnam a beatae sint perferendis tenetur dolore aut\n",
    "quaerat possimus consequatur nisi ea voluptatem exercitationem temporibus odio fuga\n",
    "atque esse rerum laborum quisquam quam at quas accusantium fugiat reprehenderit\n",
    "soluta ad ab architecto placeat accusamus inventore modi explicabo enim eius illum\n",
    "mollitia quo culpa corrupti eaque ipsam laudantium libero similique dignissimos error\n",
    "ullam earum ducimus est in repellat eum quasi hic animi nemo repellendus doloribus\n",
    "dolores reiciendis tempora fugit vitae distinctio autem numquam sit labore aliquid\n",
    "nobis cumque corporis non asperiores et iure consectetur debitis maiores illo quia\n",
    "maxime necessitatibus facere eveniet\"\"\"\n"
   ]
  },
  {
   "cell_type": "code",
   "execution_count": null,
   "id": "36eb5087",
   "metadata": {},
   "outputs": [],
   "source": [
    "# your code here\n"
   ]
  },
  {
   "cell_type": "markdown",
   "id": "4b6006d9",
   "metadata": {},
   "source": [
    "### Musterlösung"
   ]
  },
  {
   "cell_type": "code",
   "execution_count": null,
   "id": "366ef23d",
   "metadata": {},
   "outputs": [],
   "source": [
    "# 1P: function definition and return\n",
    "def hist(txt):\n",
    "    \"\"\"\n",
    "    count occurences of letter pairs in given text.\n",
    "    \"\"\"\n",
    "    # 0.5P: text lowercase\n",
    "    # convert everything to lowercase\n",
    "    txt = txt[:].lower()\n",
    "\n",
    "    # 0.5P: ensure all keys are in dictionary\n",
    "    # initialize dictionary\n",
    "    result = dict.fromkeys(two_gram(), 0)\n",
    "\n",
    "    # 3P: extract all pairs of letters\n",
    "    for ix, c in enumerate(txt[:-1]):\n",
    "        if c in string.ascii_lowercase \\\n",
    "        and txt[ix+1] in string.ascii_lowercase:\n",
    "            result[c + txt[ix+1]] += 1\n",
    "    return result\n"
   ]
  },
  {
   "cell_type": "code",
   "execution_count": null,
   "id": "caad2077",
   "metadata": {},
   "outputs": [],
   "source": [
    "h = hist(txt_example)\n",
    "print(h)\n"
   ]
  },
  {
   "cell_type": "code",
   "execution_count": null,
   "id": "42d1d87c",
   "metadata": {},
   "outputs": [],
   "source": [
    "def hist(txt):\n",
    "    # your code here\n",
    "    temp_dic = {a:0 for a in two_gram()}\n",
    "    \n",
    "    for i, j in zip(txt, txt[1:]):\n",
    "        if i not in string.ascii_lowercase or j not in string.ascii_lowercase:\n",
    "            continue\n",
    "        temp_dic[i+j] += 1\n",
    "    return temp_dic\n",
    "\n",
    "hist(txt_example)\n"
   ]
  },
  {
   "cell_type": "markdown",
   "id": "7462fdb5",
   "metadata": {},
   "source": [
    "## 2.3. Ausgabe der Häufigkeit (2 Punkte)\n",
    "\n",
    "Geben Sie die Häufigkeit der Buchstabenpaare, wie hier unten gezeigt aus. Achten Sie darauf, das die Ausgabe nach aufsteigender Reihenfolge der Buchstabenpaare erfolgt. Es sollen folgende Daten ausgegeben werden:\n",
    "+ (I) die absolute Anzahl, \n",
    "+ (II) die relative Buchstabenpaarhäufigkeit, also Anzahl eines Buchstabenpaares relativ zur Anzahl des häufigsten Buchstabenpaares.\n",
    "+ (III) eine Balkengrafik mit `=`-Symbolen der relativen Buchstabenpaarhäufigkeit, also (II). Diese Grafik wird so skaliert, dass der grösste Wert der Buchstabenhäufigkeit 50 `=`-Symbolen entspricht.\n",
    "\n",
    "Beispielausgabe:\n",
    "> Zahlenwerte und Prozente entsprechen nicht notwendigerweise dem oben stehenden Beispieltext\n",
    "\n",
    "> Die Spaltenüberschriften (I), (II), (III) und der Trennstrich müssen nicht mitausgegeben werden."
   ]
  },
  {
   "cell_type": "raw",
   "id": "5a2243f5",
   "metadata": {},
   "source": [
    "                 (I)    (II)   (III)\n",
    "--------------------------------------------------------------------------------------\n",
    "h['aa'] =          0     0%   |\n",
    "h['ab'] =          4    16%   |========\n",
    "h['ac'] =          4    16%   |========\n",
    "h['ad'] =          2     8%   |====\n",
    "h['ae'] =          6    24%   |============\n",
    "h['af'] =          0     0%   |\n",
    "...\n",
    "h['zu'] =          0     0%   |\n",
    "h['zv'] =          0     0%   |\n",
    "h['zw'] =          0     0%   |\n",
    "h['zx'] =          0     0%   |\n",
    "h['zy'] =          0     0%   |\n",
    "h['zz'] =          0     0%   |"
   ]
  },
  {
   "cell_type": "code",
   "execution_count": null,
   "id": "876029b5",
   "metadata": {},
   "outputs": [],
   "source": [
    "# your code here\n"
   ]
  },
  {
   "cell_type": "markdown",
   "id": "7d29b38e",
   "metadata": {},
   "source": [
    "### Musterlösung"
   ]
  },
  {
   "cell_type": "code",
   "execution_count": null,
   "id": "5169d624",
   "metadata": {},
   "outputs": [],
   "source": [
    "def print_hist(h):\n",
    "    \"\"\"\n",
    "    \"\"\"\n",
    "    total = sum(h.values())\n",
    "    max_val = max(h.values())\n",
    "    #print(f\"h['{k}'] = {v:>10}   {pr:>3}%     |{'='*n:<}\")\n",
    "    print(f\"           {'Count':>10}   {'Relative %':>10}     | Relative % (bar graph, max value = 50 symbols)\")\n",
    "    print('-'*(53+50))\n",
    "    for k, v in h.items():\n",
    "        pr = int(100 * v / max_val)\n",
    "        n = int(v / max_val * 50)\n",
    "        print(f\"h['{k}'] = {v:>11}   {pr:>9}%     |{'='*n:<}\")"
   ]
  },
  {
   "cell_type": "code",
   "execution_count": null,
   "id": "1e31f08b",
   "metadata": {},
   "outputs": [],
   "source": [
    "print_hist(h)\n"
   ]
  },
  {
   "cell_type": "markdown",
   "id": "5d5cf356",
   "metadata": {},
   "source": [
    "# Aufgabe 3: Text (5 Punkte)\n",
    "\n",
    "Bearbeiten sie Teilaufgaben mit folgendem Beispieltext (`txt_example`):"
   ]
  },
  {
   "cell_type": "code",
   "execution_count": null,
   "id": "4e970add",
   "metadata": {},
   "outputs": [],
   "source": [
    "txt_example = \"\"\"\n",
    "voluptatum ipsa veniam sed optio harum voluptas quidem dolorum quibusdam nostrum\n",
    "officiis quis ut qui adipisci sequi voluptate iusto dicta nesciunt expedita nulla\n",
    "repudiandae neque perspiciatis omnis impedit provident cum natus unde ratione\n",
    "itaque nihil commodi dolor cupiditate minima eos veritatis officia minus molestias\n",
    "saepe blanditiis magni rem alias aperiam consequuntur obcaecati doloremque suscipit\n",
    "quos tempore voluptates vel magnam a beatae sint perferendis tenetur dolore aut\n",
    "quaerat possimus consequatur nisi ea voluptatem exercitationem temporibus odio fuga\n",
    "atque esse rerum laborum quisquam quam at quas accusantium fugiat reprehenderit\n",
    "soluta ad ab architecto placeat accusamus inventore modi explicabo enim eius illum\n",
    "mollitia quo culpa corrupti eaque ipsam laudantium libero similique dignissimos error\n",
    "ullam earum ducimus est in repellat eum quasi hic animi nemo repellendus doloribus\n",
    "dolores reiciendis tempora fugit vitae distinctio autem numquam sit labore aliquid\n",
    "nobis cumque corporis non asperiores et iure consectetur debitis maiores illo quia\n",
    "maxime necessitatibus facere eveniet\"\"\"\n"
   ]
  },
  {
   "cell_type": "markdown",
   "id": "7f681b77",
   "metadata": {},
   "source": [
    "## 3.1 Tokenizer (1 Punkt)\n",
    "\n",
    "Teilen sie den oben angegebenen Beispieltext (`txt_example`) in eine Liste aller Worte auf.\n",
    "\n",
    "Beispiel:"
   ]
  },
  {
   "cell_type": "raw",
   "id": "a539f326",
   "metadata": {},
   "source": [
    "['voluptatum', 'ipsa', 'veniam', 'sed', 'optio', 'harum', 'voluptas', 'quidem', 'dolorum', 'quibusdam', 'nostrum', 'officiis', 'quis', 'ut', 'qui', 'adipisci', 'sequi', 'voluptate', 'iusto', 'dicta', 'nesciunt', 'expedita', 'nulla', 'repudiandae', 'neque', 'perspiciatis', 'omnis', 'impedit', 'provident', 'cum', 'natus', 'unde', 'ratione', 'itaque', 'nihil', 'commodi', 'dolor', 'cupiditate', 'minima', ...\n"
   ]
  },
  {
   "cell_type": "code",
   "execution_count": null,
   "id": "ccec76e8",
   "metadata": {},
   "outputs": [],
   "source": [
    "# your code here\n"
   ]
  },
  {
   "cell_type": "markdown",
   "id": "6549809f",
   "metadata": {},
   "source": [
    "### Musterlösung"
   ]
  },
  {
   "cell_type": "code",
   "execution_count": null,
   "id": "a338f90e",
   "metadata": {},
   "outputs": [],
   "source": [
    "print( txt_example.split() )\n"
   ]
  },
  {
   "cell_type": "markdown",
   "id": "1cca5149",
   "metadata": {},
   "source": [
    "## 3.2. Anfang Grossbuchstaben (1 Punkt)\n",
    "\n",
    "Wandeln Sie alle Worte aus dem Beispieltext (`txt_example`) so um, das sie mit einem Grossbuchstaben beginnen und der Rest Kleinbuchstaben sind. Das Ergebnis ist eine Zeichenkette.\n",
    "\n",
    "Beispiel:"
   ]
  },
  {
   "cell_type": "raw",
   "id": "b207e096",
   "metadata": {},
   "source": [
    "Voluptatum Ipsa Veniam Sed Optio Harum Voluptas Quidem Dolorum Quibusdam Nostrum Officiis Quis Ut Qui Adipisci Sequi Voluptate Iusto Dicta Nesciunt Expedita Nulla Repudiandae Neque Perspiciatis Omnis Impedit Provident Cum Natus Unde Ratione Itaque Nihil Commodi Dolor Cupiditate Minima Eos Veritatis Officia Minus Molestias Saepe Blanditiis Magni Rem Alias ...\n"
   ]
  },
  {
   "cell_type": "code",
   "execution_count": null,
   "id": "c1138990",
   "metadata": {},
   "outputs": [],
   "source": [
    "# your code here\n"
   ]
  },
  {
   "cell_type": "markdown",
   "id": "f33780f0",
   "metadata": {},
   "source": [
    "### Musterlösung"
   ]
  },
  {
   "cell_type": "code",
   "execution_count": null,
   "id": "fcd33a86",
   "metadata": {},
   "outputs": [],
   "source": [
    "print( ' '.join([ w.capitalize() for w in txt_example.split() ]) )\n"
   ]
  },
  {
   "cell_type": "markdown",
   "id": "9b5e3834",
   "metadata": {},
   "source": [
    "## 3.3 Code (3 Punkte)\n",
    "\n",
    "Wandeln Sie den Beispieltext (`txt_example`) so um, das jeder Buchstabe des englischen Alphabets durch einen Buchstaben ersetzt wird, der 13 Buchstaben später liegt.\n",
    "\n",
    "> Hinweis: zum Testen können Sie diese Vorschrift 2x anwenden und sollten dann wieder den Originaltext bekommen."
   ]
  },
  {
   "cell_type": "markdown",
   "id": "7c37fe97",
   "metadata": {},
   "source": [
    "Beispiel:\n",
    "\n",
    "| a | b | c | d | e | f | g | h | i | j | k | l | m | n | o | p | q | r | s | t | u | v | w | x | y | z |\n",
    "|---|---|---|---|---|---|---|---|---|---|---|---|---|---|---|---|---|---|---|---|---|---|---|---|---|---|\n",
    "| n | o | p | q | r | s | t | u | v | w | x | y | z | a | b | c | d | e | f | g | h | i | j | k | l | m |"
   ]
  },
  {
   "cell_type": "code",
   "execution_count": null,
   "id": "0323ee52",
   "metadata": {},
   "outputs": [],
   "source": [
    "# your code here\n"
   ]
  },
  {
   "cell_type": "markdown",
   "id": "32ac52cc",
   "metadata": {},
   "source": [
    "### Musterlösung"
   ]
  },
  {
   "cell_type": "code",
   "execution_count": null,
   "id": "19b7b4cb",
   "metadata": {},
   "outputs": [],
   "source": [
    "# small caps (1 point)\n",
    "offset = 13\n",
    "cypher = dict(zip(string.ascii_lowercase, \\\n",
    "                  string.ascii_lowercase[offset:]+string.ascii_lowercase[:offset]))\n",
    "\n",
    "# alternative for small & big caps\n",
    "# small & big caps\n",
    "#cypher = dict(zip(string.ascii_lowercase + string.ascii_uppercase, \\\n",
    "#                  string.ascii_lowercase[offset:]+string.ascii_lowercase[:offset] \\\n",
    "#                 +string.ascii_uppercase[offset:]+string.ascii_uppercase[:offset]))\n",
    "\n",
    "# apply encoding (1 point)\n",
    "txt = ''.join([ c if c not in cypher.keys() else cypher[c] for c in txt_example ])\n",
    "#               |<----           1 point            ---->|\n",
    "print(txt)\n"
   ]
  },
  {
   "cell_type": "code",
   "execution_count": null,
   "id": "5f49fcf8",
   "metadata": {},
   "outputs": [],
   "source": [
    "print('| '+' | '.join(cypher.keys())+' |')\n",
    "print('|'+''.join(['---|' for c in cypher.keys()]))\n",
    "print('| '+' | '.join(cypher.values())+' |')\n"
   ]
  },
  {
   "cell_type": "code",
   "execution_count": null,
   "id": "350d7228",
   "metadata": {},
   "outputs": [],
   "source": [
    "txt = ''.join([ c if c not in cypher.keys() else cypher[c] for c in txt_example ])\n",
    "print(txt)\n"
   ]
  },
  {
   "cell_type": "code",
   "execution_count": null,
   "id": "d6264dae",
   "metadata": {},
   "outputs": [],
   "source": [
    "txt = ''.join([ c if c not in string.ascii_lowercase else cypher[c] for c in txt ])\n",
    "print(txt)\n"
   ]
  },
  {
   "cell_type": "code",
   "execution_count": null,
   "id": "c6c4c4b8",
   "metadata": {},
   "outputs": [],
   "source": [
    "list(cypher.keys())"
   ]
  },
  {
   "cell_type": "code",
   "execution_count": null,
   "id": "30f956ba",
   "metadata": {},
   "outputs": [],
   "source": [
    "ord(\"a\"), chr(ord(\"a\") + 2)"
   ]
  },
  {
   "cell_type": "code",
   "execution_count": null,
   "id": "6c9992e5",
   "metadata": {},
   "outputs": [],
   "source": [
    "out = \"\"\n",
    "for l in txt_example:\n",
    "    if l in string.ascii_lowercase:\n",
    "        out += chr((ord(l) + 13-97) % 26 + 97)\n",
    "        continue\n",
    "    out += l\n",
    "\n",
    "print(out)"
   ]
  },
  {
   "cell_type": "markdown",
   "id": "963cf497",
   "metadata": {},
   "source": [
    "# Aufgabe 4: Numpy \n",
    "#### Die folgenden 3 Aufgaben sollten nur mit den Numpy-Funktionen gelöst werden"
   ]
  },
  {
   "cell_type": "markdown",
   "id": "0cd80d2c",
   "metadata": {},
   "source": [
    "## 4.1 NumPy Fragen 1 (2 Punkte)"
   ]
  },
  {
   "cell_type": "markdown",
   "id": "d9094156",
   "metadata": {},
   "source": [
    "![List_vs_array](List_array_example.png)\n"
   ]
  },
  {
   "cell_type": "markdown",
   "id": "31851171",
   "metadata": {},
   "source": [
    "1) Was ist die primäre Datenstruktur von NumPy für effiziente numerische Operationen? (0.5 P)\n",
    "\n",
    "a. Verknüpfte Listen\n",
    "\n",
    "b. Tupel\n",
    "\n",
    "c. Arrays und Matrizen\n",
    "\n",
    "d. Wörterbücher"
   ]
  },
  {
   "cell_type": "markdown",
   "id": "b1481793",
   "metadata": {},
   "source": [
    "Antwort: c)"
   ]
  },
  {
   "cell_type": "markdown",
   "id": "ea433571",
   "metadata": {},
   "source": [
    "2) In welchem Szenario ist das Broadcasting von NumPy besonders nützlich? (1 P)\n",
    "\n",
    "a. Bei der Durchführung von String-Manipulationen auf Arrays.\n",
    "\n",
    "b. Bei der Arbeit mit Arrays, die nur die gleiche Form haben.\n",
    "\n",
    "c. Bei der Arbeit mit Arrays unterschiedlicher Form ohne explizite Loops oder Replikation.\n",
    "\n",
    "d. Broadcasting ist im numerischen Rechnen irrelevant."
   ]
  },
  {
   "cell_type": "markdown",
   "id": "7d3fe212",
   "metadata": {},
   "source": [
    "Antwort: c)"
   ]
  },
  {
   "cell_type": "code",
   "execution_count": 1,
   "id": "e23f36f5",
   "metadata": {},
   "outputs": [
    {
     "data": {
      "text/plain": [
       "array([[1, 2, 3],\n",
       "       [2, 3, 4],\n",
       "       [3, 4, 5]])"
      ]
     },
     "execution_count": 1,
     "metadata": {},
     "output_type": "execute_result"
    }
   ],
   "source": [
    "import numpy as np\n",
    "\n",
    "# Defining the arrays\n",
    "a = np.array([1, 2, 3])\n",
    "b = np.array([[0, 0, 0], [1, 1, 1], [2, 2, 2]])\n",
    "\n",
    "# Broadcasting and adding the arrays\n",
    "result = a + b\n",
    "result\n"
   ]
  },
  {
   "cell_type": "code",
   "execution_count": 2,
   "id": "d101b130",
   "metadata": {},
   "outputs": [
    {
     "name": "stdout",
     "output_type": "stream",
     "text": [
      "[[1]\n",
      " [2]\n",
      " [3]]\n",
      "(3, 1) (3, 3)\n"
     ]
    },
    {
     "data": {
      "text/plain": [
       "array([[1, 1, 1],\n",
       "       [3, 3, 3],\n",
       "       [5, 5, 5]])"
      ]
     },
     "execution_count": 2,
     "metadata": {},
     "output_type": "execute_result"
    }
   ],
   "source": [
    "import numpy as np\n",
    "\n",
    "# Defining the arrays\n",
    "a = np.array([1, 2, 3]).reshape(3, 1)\n",
    "b = np.array([[0, 0, 0], [1, 1, 1], [2, 2, 2]])\n",
    "\n",
    "print(a)\n",
    "print(a.shape, b.shape)\n",
    "# Broadcasting and adding the arrays\n",
    "result = a + b\n",
    "result\n"
   ]
  },
  {
   "cell_type": "markdown",
   "id": "2dcb44e9",
   "metadata": {},
   "source": [
    "3. Können Sie Spaltennamen zu einem ndarray in Numpy hinzufügen? (0.5 P)"
   ]
  },
  {
   "cell_type": "markdown",
   "id": "e07f6e9f",
   "metadata": {},
   "source": [
    "Antwort: nein, nicht möglich."
   ]
  },
  {
   "cell_type": "markdown",
   "id": "bea05ea7",
   "metadata": {},
   "source": [
    "## 4.2 Array, Mittelwert & Standardabweichung (2 Punkte)"
   ]
  },
  {
   "cell_type": "markdown",
   "id": "dd044cde",
   "metadata": {},
   "source": [
    "Schreiben Sie Python-Code, der:\n",
    "1) ein Numpy Array mit Werten\n",
    "von 1 bis 10 (einschließlich) erzeugt; (1 P)\n",
    "2) den Mittelwert und die Standardabweichung des Arrays berechnet. (1 P)"
   ]
  },
  {
   "cell_type": "code",
   "execution_count": null,
   "id": "98085327",
   "metadata": {},
   "outputs": [],
   "source": [
    "# Lösungen:\n",
    "\n",
    "# 1. Numpy array erzeugen\n",
    "\n",
    "import numpy as np\n",
    "\n",
    "arr = np.arange(1, 11)\n",
    "arr\n",
    "\n",
    "# 2. Mittelwert berechnen und Standardabweichung\n",
    "\n",
    "mean_arr = np.mean(arr)\n",
    "std_arr = np.std(arr)\n"
   ]
  },
  {
   "cell_type": "markdown",
   "id": "132c8afb",
   "metadata": {},
   "source": [
    "## 4.3 Progression (4 Punkte)"
   ]
  },
  {
   "cell_type": "markdown",
   "id": "284f20fc",
   "metadata": {},
   "source": [
    "Schreiben sie eine Funktion, die für eine gegebene Anzahl von Termen $n$ eine Geometrische Progression mit einem gemeinsamen Verhältnis von zwei erzeugt (1, 2, 4, 8 ...). (2 P)\n",
    "\n",
    "Hier ist ein Beispiel für eine geometrische Progression mit dem Anfangsterm $a$ und dem gemeinsamen Verhältnis $r$:\n",
    "\n",
    "\\begin{align*}\n",
    "\\quad & a, ar, ar^2, ar^3, \\ldots \\\\\n",
    "\\end{align*}"
   ]
  },
  {
   "cell_type": "code",
   "execution_count": null,
   "id": "b9563521",
   "metadata": {},
   "outputs": [],
   "source": [
    "import numpy as np\n",
    "\n",
    "# Geometric Progression with a common ratio of 2\n",
    "def geometric_progression(n):\n",
    "    # TODO: use np.XXXXspace() function to create a geometric progression\n",
    "    return\n"
   ]
  },
  {
   "cell_type": "markdown",
   "id": "52c23134",
   "metadata": {},
   "source": [
    "Schreiben sie eine Funktion, die für eine gegebene Anzahl von Termen $n$ eine arithmetische Progression mit einer gemeinsamen Differenz von zwei erzeugt (1, 3, 5, 7 ...). (2 P)\n",
    "\n",
    "Hier ist ein Beispiel für eine arithmetische Progression Progression mit dem Anfangsterm $a$ und der gemeinsamen Differenz $d$:\n",
    "\n",
    "\\begin{align*}\n",
    "\\quad & a, a+d, a+2d, a+3d, \\ldots \\\\\n",
    "\\end{align*}\n"
   ]
  },
  {
   "cell_type": "code",
   "execution_count": null,
   "id": "f09cb7ae",
   "metadata": {},
   "outputs": [],
   "source": [
    "# Arithmetic Progression with a common difference of 2\n",
    "def arithmetic_progression(n):\n",
    "    # TODO: use np.YYYspace() function to create an arithmetic progression\n",
    "    return\n"
   ]
  },
  {
   "cell_type": "code",
   "execution_count": null,
   "id": "159e8114",
   "metadata": {},
   "outputs": [],
   "source": [
    "n = 10\n",
    "2**(n -1)"
   ]
  },
  {
   "cell_type": "code",
   "execution_count": 2,
   "id": "7c7bd309",
   "metadata": {},
   "outputs": [
    {
     "name": "stdout",
     "output_type": "stream",
     "text": [
      "Geometric Progression: [  1.   2.   4.   8.  16.  32.  64. 128. 256. 512.]\n",
      "Arithmetic Progression: [ 1.  3.  5.  7.  9. 11. 13. 15. 17. 19.]\n"
     ]
    }
   ],
   "source": [
    "# Lösungen:\n",
    "\n",
    "import numpy as np\n",
    "\n",
    "# Geometric Progression with a common ratio of 2\n",
    "def geometric_progression(n):\n",
    "    return np.geomspace(1, 2**(n-1), n, endpoint=True)\n",
    "\n",
    "# Arithmetic Progression with a common difference of 2\n",
    "def arithmetic_progression(n):\n",
    "    return np.linspace(1, 1 + 2*(n-1), n)\n",
    "\n",
    "# Specify the number of terms you want in the sequence\n",
    "num_terms = 10\n",
    "\n",
    "# Display the sequences\n",
    "print(\"Geometric Progression:\", geometric_progression(num_terms))\n",
    "print(\"Arithmetic Progression:\", arithmetic_progression(num_terms))\n"
   ]
  },
  {
   "cell_type": "markdown",
   "id": "1a1915b2",
   "metadata": {},
   "source": [
    "# Aufgabe 5: Pandas \n",
    "#### Die folgenden 2 Aufgaben sollten nur mit den Pandas-Funktionen gelöst werden"
   ]
  },
  {
   "cell_type": "markdown",
   "id": "29513b51",
   "metadata": {},
   "source": [
    "## 5.1 DataFrame (4 Punkten)\n",
    "\n",
    "1. Erstellen Sie eine Pandas-Series unter Verwendung eines Wörterbuchs mit benutzerdefinierten Indizes ['A', 'B', 'C', 'D', 'E'] und einigen Werten (1 P). \n",
    "\n",
    "2. Erstellen Sie einen Pandas Dataframe aus 2 Pandas-Serien unter Verwendung eines Wörterbuchs (1 P). Hinweis: Denken Sie an die Indizes! \n",
    "\n",
    "3. Wie erhalten Sie die Typen der DataFrame-Spalten? (0.5 P)\n",
    "\n",
    "4. Erzeugen Sie Pandas Datafarme mit doppelten Zeilen, und zeigen Sie, wie Sie die doppelten Zeilen identifizieren und entfernen können. (1.5 P)"
   ]
  },
  {
   "cell_type": "code",
   "execution_count": 3,
   "id": "63a7cb2e",
   "metadata": {},
   "outputs": [
    {
     "name": "stdout",
     "output_type": "stream",
     "text": [
      "A    10\n",
      "B    20\n",
      "C    30\n",
      "D    40\n",
      "E    50\n",
      "dtype: int64\n"
     ]
    }
   ],
   "source": [
    "# Lösungen\n",
    "\n",
    "# Pandas Series erzeugen unter Verwendung eines Wörterbuchs\n",
    "\n",
    "import pandas as pd\n",
    "\n",
    "# Wörterbuch mit benutzerdefinierten Indizes und Werten erstellen\n",
    "data = {'A': 10, 'B': 20, 'C': 30, 'D': 40, 'E': 50}\n",
    "\n",
    "# Pandas Series erstellen\n",
    "custom_series = pd.Series(data)\n",
    "\n",
    "# Die erstellte Serie anzeigen\n",
    "print(custom_series)\n"
   ]
  },
  {
   "cell_type": "code",
   "execution_count": 5,
   "id": "82525cca",
   "metadata": {},
   "outputs": [
    {
     "name": "stdout",
     "output_type": "stream",
     "text": [
      "   Column1  Column2\n",
      "A       10       60\n",
      "B       20       50\n",
      "C       30       40\n"
     ]
    }
   ],
   "source": [
    "# Pandas DataFrame erzeugen unter Verwendung eines Wörterbuchs von 2 Pandas Series\n",
    "\n",
    "# Erste Pandas-Serie\n",
    "series1 = pd.Series([10, 20, 30], index=['A', 'B', 'C'])\n",
    "\n",
    "# Zweite Pandas-Serie\n",
    "series2 = pd.Series([40, 50, 60], index=['C', 'B', 'A'])\n",
    "\n",
    "# Wörterbuch erstellen\n",
    "data = {'Column1': series1, 'Column2': series2}\n",
    "\n",
    "# Pandas DataFrame erstellen\n",
    "df = pd.DataFrame(data)\n",
    "\n",
    "# DataFrame anzeigen\n",
    "print(df)\n"
   ]
  },
  {
   "cell_type": "code",
   "execution_count": null,
   "id": "1ad278ee",
   "metadata": {},
   "outputs": [],
   "source": [
    "#  Wie erhalten Sie die Typen der DataFrame-Spalten?\n",
    "df.dtypes\n"
   ]
  },
  {
   "cell_type": "code",
   "execution_count": 6,
   "id": "40b6631c",
   "metadata": {},
   "outputs": [
    {
     "name": "stdout",
     "output_type": "stream",
     "text": [
      "DataFrame with duplicates:\n",
      "   A    B\n",
      "0  1  foo\n",
      "1  2  bar\n",
      "2  1  foo\n",
      "3  3  bar\n",
      "4  4  baz\n",
      "Duplicate Rows:\n",
      "   A    B\n",
      "2  1  foo\n",
      "DataFrame after dropping duplicates:\n",
      "   A    B\n",
      "0  1  foo\n",
      "1  2  bar\n",
      "3  3  bar\n",
      "4  4  baz\n"
     ]
    }
   ],
   "source": [
    "# Doppelte Zeile in Pandas DataFrame finden\n",
    "\n",
    "# Create a sample DataFrame\n",
    "data = {'A': [1, 2, 1, 3, 4],\n",
    "        'B': ['foo', 'bar', 'foo', 'bar', 'baz']}\n",
    "df = pd.DataFrame(data)\n",
    "print(\"DataFrame with duplicates:\")\n",
    "print(df)\n",
    "\n",
    "# Identify duplicate rows\n",
    "duplicate_mask = df.duplicated()\n",
    "print(\"Duplicate Rows:\")\n",
    "print(df[duplicate_mask])\n",
    "\n",
    "# Drop duplicate rows\n",
    "df_no_duplicates = df.drop_duplicates()\n",
    "print(\"DataFrame after dropping duplicates:\")\n",
    "print(df_no_duplicates)\n"
   ]
  },
  {
   "cell_type": "markdown",
   "id": "98ef2fef",
   "metadata": {},
   "source": [
    "## 5.2 Fächer (4 Punkten)\n",
    "\n",
    "Sie erhalten einen DataFrame mit den Namen und Fächern der Studenten. Der Code zur Erzeugung des DataFrame ist unten angegeben:"
   ]
  },
  {
   "cell_type": "code",
   "execution_count": 1,
   "id": "cece3492",
   "metadata": {},
   "outputs": [
    {
     "name": "stdout",
     "output_type": "stream",
     "text": [
      "  first_name last_name  year_of_study             major              minor  \\\n",
      "0       John       Doe              3  Computer Science         Statistics   \n",
      "1       Jane     Smith              4           Biology          Chemistry   \n",
      "2        Bob   Johnson              1           Physics   Computer Science   \n",
      "3      Alice  Williams              3       Mathematics          Economics   \n",
      "4    Charlie     Brown              3         Chemistry        Mathematics   \n",
      "5      David    Miller              4         Economics  Political Science   \n",
      "6       Emma     White              1        Statistics            Physics   \n",
      "7      Frank     Davis              1        Psychology        Mathematics   \n",
      "8      Grace     Jones              3         Sociology  Political Science   \n",
      "9      Henry    Taylor              2           History            English   \n",
      "\n",
      "   grade  \n",
      "0     78  \n",
      "1     82  \n",
      "2     70  \n",
      "3     70  \n",
      "4     83  \n",
      "5     95  \n",
      "6     99  \n",
      "7     83  \n",
      "8     62  \n",
      "9     81  \n"
     ]
    }
   ],
   "source": [
    "import pandas as pd\n",
    "import numpy as np\n",
    "\n",
    "# Generating random data for demonstration purposes\n",
    "np.random.seed(42)  # for reproducibility\n",
    "\n",
    "# Sample data\n",
    "data = {\n",
    "    'first_name': ['John', 'Jane', 'Bob', 'Alice', 'Charlie', 'David', 'Emma', 'Frank', 'Grace', 'Henry'],\n",
    "    'last_name': ['Doe', 'Smith', 'Johnson', 'Williams', 'Brown', 'Miller', 'White', 'Davis', 'Jones', 'Taylor'],\n",
    "    'year_of_study': np.random.randint(1, 5, size=10),\n",
    "    'major': ['Computer Science', 'Biology', 'Physics', 'Mathematics', 'Chemistry', 'Economics', 'Statistics', 'Psychology', 'Sociology', 'History'],\n",
    "    'minor': ['Statistics', 'Chemistry', 'Computer Science', 'Economics', 'Mathematics', 'Political Science', 'Physics', 'Mathematics', 'Political Science', 'English'],\n",
    "    'grade': np.random.randint(60, 100, size=10),\n",
    "}\n",
    "\n",
    "# Creating a DataFrame\n",
    "df = pd.DataFrame(data)\n",
    "\n",
    "# Displaying the DataFrame\n",
    "print(df)\n"
   ]
  },
  {
   "cell_type": "markdown",
   "id": "24bd84dd",
   "metadata": {},
   "source": [
    "1. Wie greift man auf den \"Vornamen\" und den \"Nachnamen\" aus Zeilen 5 und 10 eines DataFrame zu? (1 P)\n",
    "\n",
    "2. Wie kann man den DataFrame nach den Spalten Studienjahr und Noten sortieren, wobei das Studienjahr aufsteigend und die Noten absteigend sortiert sind? (2 P)\n",
    "\n",
    "3. Finden Sie mithilfe der Booleschen Indizierung nur die Studenten, die Informatik als Haupt- oder Nebenfach haben. (1 P)"
   ]
  },
  {
   "cell_type": "code",
   "execution_count": 2,
   "id": "1671b141",
   "metadata": {},
   "outputs": [
    {
     "name": "stdout",
     "output_type": "stream",
     "text": [
      "  first_name last_name\n",
      "4    Charlie     Brown\n",
      "9      Henry    Taylor\n"
     ]
    }
   ],
   "source": [
    "# Freifen auf den \"Vornamen\" und den \"Nachnamen\" aus Zeilen 5 und 10 eines DataFrame\n",
    "\n",
    "# Verwenden von .loc und Listen für den Zugriff auf \"Vorname\" und \"Nachname\"\n",
    "rows_to_access = [4, 9]\n",
    "columns_to_access = ['first_name', 'last_name']\n",
    "\n",
    "# Auf die ausgewählten Werte zugreifen\n",
    "selected_values = df.loc[rows_to_access, columns_to_access]\n",
    "\n",
    "# Ergebnisse anzeigen\n",
    "print(selected_values)\n"
   ]
  },
  {
   "cell_type": "code",
   "execution_count": 3,
   "id": "31f148eb",
   "metadata": {},
   "outputs": [
    {
     "data": {
      "text/html": [
       "<div>\n",
       "<style scoped>\n",
       "    .dataframe tbody tr th:only-of-type {\n",
       "        vertical-align: middle;\n",
       "    }\n",
       "\n",
       "    .dataframe tbody tr th {\n",
       "        vertical-align: top;\n",
       "    }\n",
       "\n",
       "    .dataframe thead th {\n",
       "        text-align: right;\n",
       "    }\n",
       "</style>\n",
       "<table border=\"1\" class=\"dataframe\">\n",
       "  <thead>\n",
       "    <tr style=\"text-align: right;\">\n",
       "      <th></th>\n",
       "      <th>first_name</th>\n",
       "      <th>last_name</th>\n",
       "    </tr>\n",
       "  </thead>\n",
       "  <tbody>\n",
       "    <tr>\n",
       "      <th>4</th>\n",
       "      <td>Charlie</td>\n",
       "      <td>Brown</td>\n",
       "    </tr>\n",
       "    <tr>\n",
       "      <th>9</th>\n",
       "      <td>Henry</td>\n",
       "      <td>Taylor</td>\n",
       "    </tr>\n",
       "  </tbody>\n",
       "</table>\n",
       "</div>"
      ],
      "text/plain": [
       "  first_name last_name\n",
       "4    Charlie     Brown\n",
       "9      Henry    Taylor"
      ]
     },
     "execution_count": 3,
     "metadata": {},
     "output_type": "execute_result"
    }
   ],
   "source": [
    "df[[\"first_name\", \"last_name\"]].iloc[[4, 9]]"
   ]
  },
  {
   "cell_type": "code",
   "execution_count": null,
   "id": "49e4c876",
   "metadata": {},
   "outputs": [],
   "source": [
    "# Sorting the DataFrame by the values in the \"year_of_study\" and \"grade\" columns\n",
    "\n",
    "df_sorted_rows = df.sort_values(by=['year_of_study','grade'], ascending=[True, False])\n",
    "df_sorted_rows\n"
   ]
  },
  {
   "cell_type": "code",
   "execution_count": 4,
   "id": "7eeb3b49",
   "metadata": {},
   "outputs": [
    {
     "name": "stdout",
     "output_type": "stream",
     "text": [
      "Studenten mit Informatik als Haupt- oder Nebenfach:\n",
      "  first_name last_name  year_of_study             major             minor  \\\n",
      "0       John       Doe              3  Computer Science        Statistics   \n",
      "2        Bob   Johnson              1           Physics  Computer Science   \n",
      "\n",
      "   grade  \n",
      "0     78  \n",
      "2     70  \n"
     ]
    }
   ],
   "source": [
    "# Boolesche Indizierung, um Studenten mit Informatik als Haupt- oder Nebenfach zu finden\n",
    "informatics_students = df[(df['major'] == 'Computer Science') | (df['minor'] == 'Computer Science')]\n",
    "\n",
    "# Ergebnisse anzeigen\n",
    "print(\"Studenten mit Informatik als Haupt- oder Nebenfach:\")\n",
    "print(informatics_students)\n"
   ]
  },
  {
   "cell_type": "markdown",
   "id": "1630f72d",
   "metadata": {},
   "source": [
    "# Aufgabe 6: PyTest (2 Punkte)"
   ]
  },
  {
   "cell_type": "markdown",
   "id": "c152509d",
   "metadata": {},
   "source": [
    "## 6.1 -- 6.2 Fragen (1 P)\n",
    "\n",
    "1. Was ist der Zweck der assert-Anweisung in PyTest? (0.5 P)\n",
    "\n",
    "a) Sie wird für die Definition von Testfixtures verwendet.\n",
    "\n",
    "b) Sie wird verwendet, um einen Testfall zu definieren.\n",
    "\n",
    "c) Sie wird verwendet, um Behauptungen über das Verhalten des getesteten Codes aufzustellen.\n",
    "\n",
    "d) Sie ist ein Dekorator zur Markierung von Testfunktionen.\n",
    "\n",
    "<br>\n",
    "\n",
    "Lösung: c)\n",
    "\n",
    "<br>\n",
    "\n",
    "2. Welcher Befehl wird verwendet, um PyTest-Tests von der Kommandozeile aus auszuführen? (0.5 P)\n",
    "\n",
    "a) run_tests.py\n",
    "\n",
    "b) pytest\n",
    "\n",
    "c) test.py\n",
    "\n",
    "d) python -m unittest\n",
    "\n",
    "<br>\n",
    "\n",
    "Lösung: b)\n",
    "\n"
   ]
  },
  {
   "cell_type": "markdown",
   "id": "e236e435",
   "metadata": {},
   "source": [
    "## 6.3 Testfall (1 P)"
   ]
  },
  {
   "cell_type": "markdown",
   "id": "ab967a46",
   "metadata": {},
   "source": [
    "Stellen sie sich vor, ihre Funktion ist in einem Modul mit dem Namen *calculator.py* definiert. Der Inhalt des Moduls ist in der Zelle unten angegeben. "
   ]
  },
  {
   "cell_type": "code",
   "execution_count": null,
   "id": "555c19fe",
   "metadata": {},
   "outputs": [],
   "source": [
    "# calculator.py\n",
    "\n",
    "def add_numbers(a, b):\n",
    "    return a + b\n"
   ]
  },
  {
   "cell_type": "markdown",
   "id": "3a384352",
   "metadata": {},
   "source": [
    "Stellen wir uns vor, dass Sie in der Datei *test_calculator.py* den Testfall mit Pytest schreiben wollen.  Der Inhalt von test_calculator.py ist in der Zelle unten angegeben. \n",
    "\n",
    "Schreiben Sie den PyTest-Testfall für die oben definierte Funktion *add_numbers* in der Zelle unten (wo # TODO steht). \n",
    "\n",
    "Hinweis: Sie sollten keine .py-Dateien schreiben und Pytest tatsächlich ausführen, wir nehmen nur an, dass Sie .py-Dateien haben. "
   ]
  },
  {
   "cell_type": "code",
   "execution_count": null,
   "id": "a0d3f1f7",
   "metadata": {},
   "outputs": [],
   "source": [
    "# test_calculator.py\n",
    "\n",
    "from calculator import add_numbers\n",
    "\n",
    "# Lösung: write a test for the add_numbers() function\n",
    "\n",
    "def test_add_numbers():\n",
    "    # Testfall 1: Positive Zahlen\n",
    "    result1 = add_numbers(3, 5)\n",
    "    assert result1 == 8\n",
    "\n",
    "    # Testfall 2: Negative Zahlen\n",
    "    result2 = add_numbers(-2, -4)\n",
    "    assert result2 == -6\n",
    "\n",
    "    # Testfall 3: Eine positive und eine negative Zahl\n",
    "    result3 = add_numbers(10, -3)\n",
    "    assert result3 == 7\n"
   ]
  },
  {
   "cell_type": "markdown",
   "id": "45a2c3bf",
   "metadata": {},
   "source": [
    "# Aufgabe 7: Files (2 Punkte)\n",
    "\n",
    "Erstellen Sie ein Python-Programm, das eine Liste von Zahlen aus einer einer Datei namens \"numbers.txt\" liest und ihre Summe berechnet. \n",
    "Jede Zahl steht in einer eigenen Zeile in der Datei. Speichern Sie das Ergebnis in einer neuen Datei namens \"sum.txt\". (2 P)"
   ]
  },
  {
   "cell_type": "code",
   "execution_count": null,
   "id": "21ddc83a",
   "metadata": {},
   "outputs": [],
   "source": [
    "# numbers.txt inhalt\n",
    "2\n",
    "1\n",
    "3\n",
    "4\n",
    "5\n"
   ]
  },
  {
   "cell_type": "code",
   "execution_count": null,
   "id": "910e1b6b",
   "metadata": {},
   "outputs": [],
   "source": [
    "# Programm zur Berechnung der Summe von Zahlen aus einer Datei\n",
    "\n",
    "def sum_numbers(input_filename, output_filename):\n",
    "\n",
    "    # Zahlen aus der Datei lesen\n",
    "    with open(input_filename, 'r') as file:\n",
    "        numbers = [int(line.strip()) for line in file.readlines()]\n",
    "\n",
    "    # Summe berechnen\n",
    "    total_sum = sum(numbers)\n",
    "\n",
    "    # Ergebnis in eine neue Datei schreiben\n",
    "    with open(output_filename, 'w') as output_file:\n",
    "        output_file.write(str(total_sum))\n",
    "\n",
    "    print(f\"Die Summe der Zahlen wurde in der Datei '{output_filename}' gespeichert.\")\n",
    "\n",
    "# Beispielaufruf\n",
    "sum_numbers(\"numbers.txt\", \"sum.txt\")\n"
   ]
  },
  {
   "cell_type": "code",
   "execution_count": null,
   "id": "0e77b19f",
   "metadata": {},
   "outputs": [],
   "source": [
    "sum_temp = 0\n",
    "\n",
    "with open(\"numbers.txt\", \"r\") as f:\n",
    "    for lines in f.readlines():\n",
    "        sum_temp += int(lines)\n",
    "\n",
    "with open(\"sum.txt\", \"w\") as f:\n",
    "    f.write(str(sum_temp))\n",
    "    "
   ]
  }
 ],
 "metadata": {
  "kernelspec": {
   "display_name": "Python 3 (ipykernel)",
   "language": "python",
   "name": "python3"
  },
  "language_info": {
   "codemirror_mode": {
    "name": "ipython",
    "version": 3
   },
   "file_extension": ".py",
   "mimetype": "text/x-python",
   "name": "python",
   "nbconvert_exporter": "python",
   "pygments_lexer": "ipython3",
   "version": "3.11.5"
  },
  "vscode": {
   "interpreter": {
    "hash": "aee8b7b246df8f9039afb4144a1f6fd8d2ca17a180786b69acc140d282b71a49"
   }
  }
 },
 "nbformat": 4,
 "nbformat_minor": 5
}
