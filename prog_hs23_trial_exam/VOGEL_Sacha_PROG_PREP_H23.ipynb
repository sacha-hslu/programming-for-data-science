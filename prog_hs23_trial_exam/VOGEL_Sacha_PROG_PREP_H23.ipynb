{
 "cells": [
  {
   "cell_type": "markdown",
   "id": "27e29b9b",
   "metadata": {},
   "source": [
    "# <font color='red'>PROG Probeprüfung H23</font>\n",
    "**28. November 2023**"
   ]
  },
  {
   "cell_type": "markdown",
   "id": "3779df9e",
   "metadata": {
    "tags": []
   },
   "source": [
    "## Informationen zur Prüfung\n",
    "### Dauer: \n",
    "45 Min\n",
    "\n",
    "\n",
    "### Total mögliche Punktzahl:\n",
    "40 Punkte\n",
    "\n",
    "\n",
    "### Erlaubte Hilfsmittel\n",
    "Die Prüfung ist \"Open Book\", d.h. erlaubt sind folgende Mittel:\n",
    "- Vorlesungsskript und gelöste Übungen\n",
    "- Persönliche Zusammenfassung\n",
    "- Python Standardbibliothek - https://docs.python.org/3/library/index.html\n",
    "- NumPy Dokumentation - https://numpy.org/doc/\n",
    "- Pandas Dokumentation - https://pandas.pydata.org/pandas-docs/stable/\n",
    "- Matplotlib Dokumentation - https://matplotlib.org\n",
    "- Seaborn Dokumentation - https://seaborn.pydata.org\n",
    "\n",
    "\n",
    "### Nicht erlaubt sind:\n",
    "- Kommunikation mit Dritten während der Prüfung\n",
    "- Bezug fremder Hilfe, oder Hilfe leisten (z.B. Ergebnisse teilen, Tipps geben, etc.)\n",
    "- Internetrecherche, abgesehen von den oben ausdrücklich erlaubten Seiten\n",
    "- Chat-bots, sowie jede andere, nicht explizit erwähnte, unredliche Handlung\n",
    "\n",
    "\n",
    "### Instruktionen\n",
    "- Sie müssen die Aufgaben in diesem Jupyter Notebook direkt lösen. Fügen Sie die Lösung direkt unterhalb der Fragen ein. \n",
    "- Als Editor ist nur Jupyter Notebook zugelassen, keine IDE.\n",
    "- Die Aufgaben sind zudem in einem ausgedruckten Aufgabenblatt beschrieben. Dieses Papier wird am Schluss wieder eingesammelt.\n",
    "- Teillösungen werden auch bewertet\n",
    "- Gewisse Aufgaben verweisen möglicherweise auf Dateien, welche heruntergeladen und in Ihrem Arbeitsverzeichnis abgelegt werden müssen, damit alls korrekt ausgeführt werden kann. \n",
    "\n",
    "- Speichern Sie die Jupyter Prüfungsdatei mit Ihren Lösungen unter Verwendung folgender Namenskonvention: <font color=\"red\">_**NACHNAME_Vorname_PROG_PREP_H23.ipynb**_</font>\n",
    "- Laden Sie ihre Lösung spätestens nach Abschluss der Prüfung in Ilias in den PREP Ordner hoch\n",
    "- Falls die Abgabe wider Erwarten über Ilias nicht möglich, melden Sie dies der Aufsicht und senden Sie die gelösten Aufgaben von Ihrer offiziellen HSLU-E-Mail-Adresse an <a href='mailto:bjoern.jensen@hslu.ch'>bjoern.jensen@hslu.ch</a>"
   ]
  },
  {
   "cell_type": "markdown",
   "id": "e9e9c2a4",
   "metadata": {},
   "source": [
    "<br>\n",
    "\n",
    "<br>\n",
    "\n",
    "## Redlichkeitsbedingungen\n",
    "**Mit der Absolvierung der Prüfung bestätige ich, dass ich:**\n",
    "- die Prüfungen alleine und ohne unerlaubte fremde Hilfe absolviert habe,\n",
    "- die Lösungen und Resultate selbst hergeleitet habe,\n",
    "- keine anderen als die für die entsprechende Prüfung ausdrücklich vorgesehenen Hilfsmittel benutzt habe,\n",
    "- keine unerlaubte Kommunikation mit Dritten während der Prüfung geführt habe\n",
    "\n",
    "Bei Unredlichkeiten gilt der Artikel 39 der Studienordnung für Ausbildung an der Hochschule Luzern, FH Zentralschweiz (Nr. 521).\n",
    "\n",
    "&nbsp;\n",
    "\n",
    "&nbsp;\n",
    "<font color='red'>_**Datum, Name und Vorname**_</font>"
   ]
  },
  {
   "cell_type": "markdown",
   "id": "524f083c",
   "metadata": {},
   "source": []
  },
  {
   "cell_type": "markdown",
   "id": "cac9bdac",
   "metadata": {},
   "source": [
    "# Aufgabe 1: Fibonacci-Zahlen (5 Punkte)\n",
    "\n",
    "Schreiben sie eine Funktion `fib(n)`, die die n-te Fibonacci-Zahl berechnet. \n",
    "Die Funktion soll die Zahlen mittels **Rekursion** berechnen. Um möglichst schnell zu sein, sollen einmal berechnete Zahlen in einem *Dictionary* `cache_fib` abgelegt werden. Das *Dictionary* `cache_fib` ist als globale Variable abgelegt. Die Fibonacci-Zahl wird dabei als *Value* und ihr Index `n` als Schlüssel im *Dictionary* verwendet."
   ]
  },
  {
   "cell_type": "markdown",
   "id": "4afb6932",
   "metadata": {},
   "source": [
    "\\begin{align}\n",
    "f_0 &= 0 \\\\\n",
    "f_1 &= 1 \\\\\n",
    "f_n &= f_{n-1} + f_{n-2}\n",
    "\\end{align}"
   ]
  },
  {
   "cell_type": "markdown",
   "id": "79c51fd2",
   "metadata": {},
   "source": [
    "Hier ein Beispielaufruf, um die 12-te Fibonacci-Zahl zu berechnen und der Zustand dies *Dictionary* `cache_fib` nach dem Aufruf."
   ]
  },
  {
   "cell_type": "markdown",
   "id": "aad60b3c",
   "metadata": {},
   "source": [
    "```\n",
    "fib(12) # -> 144\n",
    "\n",
    "{1: 1, 0: 0, 2: 1, 3: 2, 4: 3, 5: 5, 6: 8, 7: 13, 8: 21, 9: 34, 10: 55, 11: 89, 12: 144}\n",
    "```"
   ]
  },
  {
   "cell_type": "code",
   "execution_count": 2,
   "id": "eaa0d682",
   "metadata": {
    "ExecuteTime": {
     "end_time": "2023-11-28T12:16:52.222458Z",
     "start_time": "2023-11-28T12:16:52.188401Z"
    }
   },
   "outputs": [
    {
     "ename": "KeyError",
     "evalue": "12",
     "output_type": "error",
     "traceback": [
      "\u001b[0;31m---------------------------------------------------------------------------\u001b[0m",
      "\u001b[0;31mKeyError\u001b[0m                                  Traceback (most recent call last)",
      "Cell \u001b[0;32mIn[2], line 15\u001b[0m\n\u001b[1;32m     11\u001b[0m         cache_fib[n] \u001b[38;5;241m=\u001b[39m cache_fib[n\u001b[38;5;241m-\u001b[39m\u001b[38;5;241m1\u001b[39m] \u001b[38;5;241m+\u001b[39m cache_fib[n\u001b[38;5;241m-\u001b[39m\u001b[38;5;241m2\u001b[39m]\n\u001b[1;32m     12\u001b[0m     \u001b[38;5;28;01mreturn\u001b[39;00m cache_fib[n]\n\u001b[0;32m---> 15\u001b[0m \u001b[38;5;28mprint\u001b[39m(\u001b[43mfib\u001b[49m\u001b[43m(\u001b[49m\u001b[38;5;241;43m12\u001b[39;49m\u001b[43m)\u001b[49m)\n\u001b[1;32m     16\u001b[0m \u001b[38;5;28mprint\u001b[39m(cache_fib)\n",
      "Cell \u001b[0;32mIn[2], line 6\u001b[0m, in \u001b[0;36mfib\u001b[0;34m(n)\u001b[0m\n\u001b[1;32m      4\u001b[0m cache_fib[\u001b[38;5;241m0\u001b[39m] \u001b[38;5;241m=\u001b[39m \u001b[38;5;241m0\u001b[39m\n\u001b[1;32m      5\u001b[0m cache_fib[\u001b[38;5;241m1\u001b[39m] \u001b[38;5;241m=\u001b[39m \u001b[38;5;241m1\u001b[39m\n\u001b[0;32m----> 6\u001b[0m \u001b[38;5;28;01mif\u001b[39;00m \u001b[43mcache_fib\u001b[49m\u001b[43m[\u001b[49m\u001b[43mn\u001b[49m\u001b[43m]\u001b[49m \u001b[38;5;241m!=\u001b[39m \u001b[38;5;124m'\u001b[39m\u001b[38;5;124m'\u001b[39m:\n\u001b[1;32m      7\u001b[0m     \u001b[38;5;28;01mreturn\u001b[39;00m cache_fib[n]\n\u001b[1;32m      8\u001b[0m \u001b[38;5;28;01mif\u001b[39;00m n \u001b[38;5;241m>\u001b[39m \u001b[38;5;241m2\u001b[39m:\n",
      "\u001b[0;31mKeyError\u001b[0m: 12"
     ]
    }
   ],
   "source": [
    "cache_fib = {}\n",
    "\n",
    "def fib(n):\n",
    "    cache_fib[0] = 0\n",
    "    cache_fib[1] = 1\n",
    "    if cache_fib[n] != '':\n",
    "        return cache_fib[n]\n",
    "    if n > 2:\n",
    "        return cache_fib[n]\n",
    "    for i in range(n):\n",
    "        cache_fib[n] = cache_fib[n-1] + cache_fib[n-2]\n",
    "    return cache_fib[n]\n",
    "\n",
    "\n",
    "print(fib(12))\n",
    "print(cache_fib)"
   ]
  },
  {
   "cell_type": "markdown",
   "id": "bb5e82d5",
   "metadata": {},
   "source": [
    "# Aufgabe 2: Häufigkeiten\n",
    "\n",
    "## 2.1. Buchstabenpaare (3 Punkte)\n",
    "\n",
    "Schreiben Sie eine Funktion `two_gram()`, die alle möglichen Buchstabenpaare für die Buchstaben aus dem Englischen Alphabet erstellt und die Paare als Liste zurückgibt.\n",
    "Die zu verwendenden Buchstaben sind in `string.ascii_lowercase` zusammengestellt.\n",
    "\n",
    "Beispiel der Rückgabe der Funktion `two_gram()`:"
   ]
  },
  {
   "cell_type": "raw",
   "id": "a885f340",
   "metadata": {},
   "source": [
    "['aa', 'ab', 'ac', 'ad', 'ae', 'af', 'ag', 'ah', 'ai', 'aj', 'ak', 'al', 'am', 'an', 'ao', 'ap', 'aq', 'ar', 'as', 'at', 'au', 'av', 'aw', 'ax', 'ay', 'az', 'ba', 'bb', 'bc', 'bd', 'be', 'bf', 'bg', 'bh', 'bi', 'bj', 'bk', 'bl', 'bm', 'bn', 'bo', 'bp', 'bq', 'br', 'bs', 'bt', 'bu', 'bv', 'bw', 'bx', 'by', 'bz', 'ca', 'cb', 'cc', 'cd', 'ce', 'cf', 'cg', 'ch', 'ci', 'cj', 'ck', 'cl', ...\n"
   ]
  },
  {
   "cell_type": "code",
   "execution_count": 3,
   "id": "9cf4a01e",
   "metadata": {
    "ExecuteTime": {
     "end_time": "2023-11-28T12:18:55.416018Z",
     "start_time": "2023-11-28T12:18:55.392083Z"
    }
   },
   "outputs": [],
   "source": [
    "import string           # string.ascii_lowercase\n"
   ]
  },
  {
   "cell_type": "code",
   "execution_count": 22,
   "id": "768f3738",
   "metadata": {
    "ExecuteTime": {
     "end_time": "2023-11-28T12:31:50.118615Z",
     "start_time": "2023-11-28T12:31:50.099396Z"
    }
   },
   "outputs": [
    {
     "name": "stdout",
     "output_type": "stream",
     "text": [
      "['aa', 'ab', 'ac', 'ad', 'ae', 'af', 'ag', 'ah', 'ai', 'aj', 'ak', 'al', 'am', 'an', 'ao', 'ap', 'aq', 'ar', 'as', 'at', 'au', 'av', 'aw', 'ax', 'ay', 'az', 'ba', 'bb', 'bc', 'bd', 'be', 'bf', 'bg', 'bh', 'bi', 'bj', 'bk', 'bl', 'bm', 'bn', 'bo', 'bp', 'bq', 'br', 'bs', 'bt', 'bu', 'bv', 'bw', 'bx', 'by', 'bz', 'ca', 'cb', 'cc', 'cd', 'ce', 'cf', 'cg', 'ch', 'ci', 'cj', 'ck', 'cl', 'cm', 'cn', 'co', 'cp', 'cq', 'cr', 'cs', 'ct', 'cu', 'cv', 'cw', 'cx', 'cy', 'cz', 'da', 'db', 'dc', 'dd', 'de', 'df', 'dg', 'dh', 'di', 'dj', 'dk', 'dl', 'dm', 'dn', 'do', 'dp', 'dq', 'dr', 'ds', 'dt', 'du', 'dv', 'dw', 'dx', 'dy', 'dz', 'ea', 'eb', 'ec', 'ed', 'ee', 'ef', 'eg', 'eh', 'ei', 'ej', 'ek', 'el', 'em', 'en', 'eo', 'ep', 'eq', 'er', 'es', 'et', 'eu', 'ev', 'ew', 'ex', 'ey', 'ez', 'fa', 'fb', 'fc', 'fd', 'fe', 'ff', 'fg', 'fh', 'fi', 'fj', 'fk', 'fl', 'fm', 'fn', 'fo', 'fp', 'fq', 'fr', 'fs', 'ft', 'fu', 'fv', 'fw', 'fx', 'fy', 'fz', 'ga', 'gb', 'gc', 'gd', 'ge', 'gf', 'gg', 'gh', 'gi', 'gj', 'gk', 'gl', 'gm', 'gn', 'go', 'gp', 'gq', 'gr', 'gs', 'gt', 'gu', 'gv', 'gw', 'gx', 'gy', 'gz', 'ha', 'hb', 'hc', 'hd', 'he', 'hf', 'hg', 'hh', 'hi', 'hj', 'hk', 'hl', 'hm', 'hn', 'ho', 'hp', 'hq', 'hr', 'hs', 'ht', 'hu', 'hv', 'hw', 'hx', 'hy', 'hz', 'ia', 'ib', 'ic', 'id', 'ie', 'if', 'ig', 'ih', 'ii', 'ij', 'ik', 'il', 'im', 'in', 'io', 'ip', 'iq', 'ir', 'is', 'it', 'iu', 'iv', 'iw', 'ix', 'iy', 'iz', 'ja', 'jb', 'jc', 'jd', 'je', 'jf', 'jg', 'jh', 'ji', 'jj', 'jk', 'jl', 'jm', 'jn', 'jo', 'jp', 'jq', 'jr', 'js', 'jt', 'ju', 'jv', 'jw', 'jx', 'jy', 'jz', 'ka', 'kb', 'kc', 'kd', 'ke', 'kf', 'kg', 'kh', 'ki', 'kj', 'kk', 'kl', 'km', 'kn', 'ko', 'kp', 'kq', 'kr', 'ks', 'kt', 'ku', 'kv', 'kw', 'kx', 'ky', 'kz', 'la', 'lb', 'lc', 'ld', 'le', 'lf', 'lg', 'lh', 'li', 'lj', 'lk', 'll', 'lm', 'ln', 'lo', 'lp', 'lq', 'lr', 'ls', 'lt', 'lu', 'lv', 'lw', 'lx', 'ly', 'lz', 'ma', 'mb', 'mc', 'md', 'me', 'mf', 'mg', 'mh', 'mi', 'mj', 'mk', 'ml', 'mm', 'mn', 'mo', 'mp', 'mq', 'mr', 'ms', 'mt', 'mu', 'mv', 'mw', 'mx', 'my', 'mz', 'na', 'nb', 'nc', 'nd', 'ne', 'nf', 'ng', 'nh', 'ni', 'nj', 'nk', 'nl', 'nm', 'nn', 'no', 'np', 'nq', 'nr', 'ns', 'nt', 'nu', 'nv', 'nw', 'nx', 'ny', 'nz', 'oa', 'ob', 'oc', 'od', 'oe', 'of', 'og', 'oh', 'oi', 'oj', 'ok', 'ol', 'om', 'on', 'oo', 'op', 'oq', 'or', 'os', 'ot', 'ou', 'ov', 'ow', 'ox', 'oy', 'oz', 'pa', 'pb', 'pc', 'pd', 'pe', 'pf', 'pg', 'ph', 'pi', 'pj', 'pk', 'pl', 'pm', 'pn', 'po', 'pp', 'pq', 'pr', 'ps', 'pt', 'pu', 'pv', 'pw', 'px', 'py', 'pz', 'qa', 'qb', 'qc', 'qd', 'qe', 'qf', 'qg', 'qh', 'qi', 'qj', 'qk', 'ql', 'qm', 'qn', 'qo', 'qp', 'qq', 'qr', 'qs', 'qt', 'qu', 'qv', 'qw', 'qx', 'qy', 'qz', 'ra', 'rb', 'rc', 'rd', 're', 'rf', 'rg', 'rh', 'ri', 'rj', 'rk', 'rl', 'rm', 'rn', 'ro', 'rp', 'rq', 'rr', 'rs', 'rt', 'ru', 'rv', 'rw', 'rx', 'ry', 'rz', 'sa', 'sb', 'sc', 'sd', 'se', 'sf', 'sg', 'sh', 'si', 'sj', 'sk', 'sl', 'sm', 'sn', 'so', 'sp', 'sq', 'sr', 'ss', 'st', 'su', 'sv', 'sw', 'sx', 'sy', 'sz', 'ta', 'tb', 'tc', 'td', 'te', 'tf', 'tg', 'th', 'ti', 'tj', 'tk', 'tl', 'tm', 'tn', 'to', 'tp', 'tq', 'tr', 'ts', 'tt', 'tu', 'tv', 'tw', 'tx', 'ty', 'tz', 'ua', 'ub', 'uc', 'ud', 'ue', 'uf', 'ug', 'uh', 'ui', 'uj', 'uk', 'ul', 'um', 'un', 'uo', 'up', 'uq', 'ur', 'us', 'ut', 'uu', 'uv', 'uw', 'ux', 'uy', 'uz', 'va', 'vb', 'vc', 'vd', 've', 'vf', 'vg', 'vh', 'vi', 'vj', 'vk', 'vl', 'vm', 'vn', 'vo', 'vp', 'vq', 'vr', 'vs', 'vt', 'vu', 'vv', 'vw', 'vx', 'vy', 'vz', 'wa', 'wb', 'wc', 'wd', 'we', 'wf', 'wg', 'wh', 'wi', 'wj', 'wk', 'wl', 'wm', 'wn', 'wo', 'wp', 'wq', 'wr', 'ws', 'wt', 'wu', 'wv', 'ww', 'wx', 'wy', 'wz', 'xa', 'xb', 'xc', 'xd', 'xe', 'xf', 'xg', 'xh', 'xi', 'xj', 'xk', 'xl', 'xm', 'xn', 'xo', 'xp', 'xq', 'xr', 'xs', 'xt', 'xu', 'xv', 'xw', 'xx', 'xy', 'xz', 'ya', 'yb', 'yc', 'yd', 'ye', 'yf', 'yg', 'yh', 'yi', 'yj', 'yk', 'yl', 'ym', 'yn', 'yo', 'yp', 'yq', 'yr', 'ys', 'yt', 'yu', 'yv', 'yw', 'yx', 'yy', 'yz', 'za', 'zb', 'zc', 'zd', 'ze', 'zf', 'zg', 'zh', 'zi', 'zj', 'zk', 'zl', 'zm', 'zn', 'zo', 'zp', 'zq', 'zr', 'zs', 'zt', 'zu', 'zv', 'zw', 'zx', 'zy', 'zz']\n"
     ]
    }
   ],
   "source": [
    "def two_gram():\n",
    "    pairs = []\n",
    "    for i in string.ascii_lowercase:\n",
    "        for y in string.ascii_lowercase:\n",
    "            pairs.append(f'{i}{y}')\n",
    "    return pairs\n",
    "\n",
    "print(two_gram())"
   ]
  },
  {
   "cell_type": "markdown",
   "id": "ac0e5afb",
   "metadata": {},
   "source": [
    "## 2.2. Häufigkeit (5 Punkte)\n",
    "\n",
    "Schreiben Sie eine Funktion `hist()`, die für alle oben erstellten Buchstabenpaare die Häufigkeit im unten stehenden Beispieltext (`txt_example`)ermittelt und als *Dictionary* zurückgibt. Das *Dictionary* soll alle möglichen Buchstabenpaare enthalten, auch solche, die nicht im Beispieltext vorkommen. Die Häufigkeit wird dabei als *Value* und das Buchstabenpaar als als Schlüssel im *Dictionary* verwendet."
   ]
  },
  {
   "cell_type": "code",
   "execution_count": 20,
   "id": "d761c641",
   "metadata": {
    "ExecuteTime": {
     "end_time": "2023-11-28T12:30:13.383209Z",
     "start_time": "2023-11-28T12:30:13.334630Z"
    }
   },
   "outputs": [],
   "source": [
    "txt_example = \"\"\"\n",
    "voluptatum ipsa veniam sed optio harum voluptas quidem dolorum quibusdam nostrum\n",
    "officiis quis ut qui adipisci sequi voluptate iusto dicta nesciunt expedita nulla\n",
    "repudiandae neque perspiciatis omnis impedit provident cum natus unde ratione\n",
    "itaque nihil commodi dolor cupiditate minima eos veritatis officia minus molestias\n",
    "saepe blanditiis magni rem alias aperiam consequuntur obcaecati doloremque suscipit\n",
    "quos tempore voluptates vel magnam a beatae sint perferendis tenetur dolore aut\n",
    "quaerat possimus consequatur nisi ea voluptatem exercitationem temporibus odio fuga\n",
    "atque esse rerum laborum quisquam quam at quas accusantium fugiat reprehenderit\n",
    "soluta ad ab architecto placeat accusamus inventore modi explicabo enim eius illum\n",
    "mollitia quo culpa corrupti eaque ipsam laudantium libero similique dignissimos error\n",
    "ullam earum ducimus est in repellat eum quasi hic animi nemo repellendus doloribus\n",
    "dolores reiciendis tempora fugit vitae distinctio autem numquam sit labore aliquid\n",
    "nobis cumque corporis non asperiores et iure consectetur debitis maiores illo quia\n",
    "maxime necessitatibus facere eveniet\"\"\"\n"
   ]
  },
  {
   "cell_type": "code",
   "execution_count": 24,
   "id": "36eb5087",
   "metadata": {
    "ExecuteTime": {
     "end_time": "2023-11-28T12:32:49.614083Z",
     "start_time": "2023-11-28T12:32:49.597064Z"
    }
   },
   "outputs": [
    {
     "name": "stdout",
     "output_type": "stream",
     "text": [
      "{'aa': 0, 'ab': 4, 'ac': 4, 'ad': 2, 'ae': 6, 'af': 0, 'ag': 2, 'ah': 0, 'ai': 1, 'aj': 0, 'ak': 0, 'al': 2, 'am': 10, 'an': 5, 'ao': 0, 'ap': 1, 'aq': 2, 'ar': 3, 'as': 6, 'at': 20, 'au': 3, 'av': 0, 'aw': 0, 'ax': 1, 'ay': 0, 'az': 0, 'ba': 0, 'bb': 0, 'bc': 1, 'bd': 0, 'be': 2, 'bf': 0, 'bg': 0, 'bh': 0, 'bi': 2, 'bj': 0, 'bk': 0, 'bl': 1, 'bm': 0, 'bn': 0, 'bo': 3, 'bp': 0, 'bq': 0, 'br': 0, 'bs': 0, 'bt': 0, 'bu': 4, 'bv': 0, 'bw': 0, 'bx': 0, 'by': 0, 'bz': 0, 'ca': 3, 'cb': 0, 'cc': 2, 'cd': 0, 'ce': 3, 'cf': 0, 'cg': 0, 'ch': 1, 'ci': 9, 'cj': 0, 'ck': 0, 'cl': 0, 'cm': 0, 'cn': 0, 'co': 6, 'cp': 0, 'cq': 0, 'cr': 0, 'cs': 0, 'ct': 4, 'cu': 6, 'cv': 0, 'cw': 0, 'cx': 0, 'cy': 0, 'cz': 0, 'da': 3, 'db': 0, 'dc': 0, 'dd': 0, 'de': 5, 'df': 0, 'dg': 0, 'dh': 0, 'di': 14, 'dj': 0, 'dk': 0, 'dl': 0, 'dm': 0, 'dn': 0, 'do': 6, 'dp': 0, 'dq': 0, 'dr': 0, 'ds': 0, 'dt': 0, 'du': 2, 'dv': 0, 'dw': 0, 'dx': 0, 'dy': 0, 'dz': 0, 'ea': 5, 'eb': 1, 'ec': 4, 'ed': 3, 'ee': 0, 'ef': 0, 'eg': 0, 'eh': 1, 'ei': 2, 'ej': 0, 'ek': 0, 'el': 3, 'em': 10, 'en': 10, 'eo': 1, 'ep': 5, 'eq': 4, 'er': 13, 'es': 9, 'et': 4, 'eu': 1, 'ev': 1, 'ew': 0, 'ex': 3, 'ey': 0, 'ez': 0, 'fa': 1, 'fb': 0, 'fc': 0, 'fd': 0, 'fe': 1, 'ff': 2, 'fg': 0, 'fh': 0, 'fi': 2, 'fj': 0, 'fk': 0, 'fl': 0, 'fm': 0, 'fn': 0, 'fo': 0, 'fp': 0, 'fq': 0, 'fr': 0, 'fs': 0, 'ft': 0, 'fu': 3, 'fv': 0, 'fw': 0, 'fx': 0, 'fy': 0, 'fz': 0, 'ga': 1, 'gb': 0, 'gc': 0, 'gd': 0, 'ge': 0, 'gf': 0, 'gg': 0, 'gh': 0, 'gi': 2, 'gj': 0, 'gk': 0, 'gl': 0, 'gm': 0, 'gn': 3, 'go': 0, 'gp': 0, 'gq': 0, 'gr': 0, 'gs': 0, 'gt': 0, 'gu': 0, 'gv': 0, 'gw': 0, 'gx': 0, 'gy': 0, 'gz': 0, 'ha': 1, 'hb': 0, 'hc': 0, 'hd': 0, 'he': 1, 'hf': 0, 'hg': 0, 'hh': 0, 'hi': 3, 'hj': 0, 'hk': 0, 'hl': 0, 'hm': 0, 'hn': 0, 'ho': 0, 'hp': 0, 'hq': 0, 'hr': 0, 'hs': 0, 'ht': 0, 'hu': 0, 'hv': 0, 'hw': 0, 'hx': 0, 'hy': 0, 'hz': 0, 'ia': 10, 'ib': 5, 'ic': 7, 'id': 4, 'ie': 2, 'if': 0, 'ig': 1, 'ih': 1, 'ii': 2, 'ij': 0, 'ik': 0, 'il': 4, 'im': 9, 'in': 6, 'io': 7, 'ip': 4, 'iq': 2, 'ir': 0, 'is': 16, 'it': 16, 'iu': 6, 'iv': 0, 'iw': 0, 'ix': 0, 'iy': 0, 'iz': 0, 'ja': 0, 'jb': 0, 'jc': 0, 'jd': 0, 'je': 0, 'jf': 0, 'jg': 0, 'jh': 0, 'ji': 0, 'jj': 0, 'jk': 0, 'jl': 0, 'jm': 0, 'jn': 0, 'jo': 0, 'jp': 0, 'jq': 0, 'jr': 0, 'js': 0, 'jt': 0, 'ju': 0, 'jv': 0, 'jw': 0, 'jx': 0, 'jy': 0, 'jz': 0, 'ka': 0, 'kb': 0, 'kc': 0, 'kd': 0, 'ke': 0, 'kf': 0, 'kg': 0, 'kh': 0, 'ki': 0, 'kj': 0, 'kk': 0, 'kl': 0, 'km': 0, 'kn': 0, 'ko': 0, 'kp': 0, 'kq': 0, 'kr': 0, 'ks': 0, 'kt': 0, 'ku': 0, 'kv': 0, 'kw': 0, 'kx': 0, 'ky': 0, 'kz': 0, 'la': 8, 'lb': 0, 'lc': 0, 'ld': 0, 'le': 2, 'lf': 0, 'lg': 0, 'lh': 0, 'li': 6, 'lj': 0, 'lk': 0, 'll': 7, 'lm': 0, 'ln': 0, 'lo': 7, 'lp': 1, 'lq': 0, 'lr': 0, 'ls': 0, 'lt': 0, 'lu': 7, 'lv': 0, 'lw': 0, 'lx': 0, 'ly': 0, 'lz': 0, 'ma': 5, 'mb': 0, 'mc': 0, 'md': 0, 'me': 1, 'mf': 0, 'mg': 0, 'mh': 0, 'mi': 4, 'mj': 0, 'mk': 0, 'ml': 0, 'mm': 1, 'mn': 1, 'mo': 6, 'mp': 4, 'mq': 3, 'mr': 0, 'ms': 0, 'mt': 0, 'mu': 3, 'mv': 0, 'mw': 0, 'mx': 0, 'my': 0, 'mz': 0, 'na': 2, 'nb': 0, 'nc': 1, 'nd': 7, 'ne': 7, 'nf': 0, 'ng': 0, 'nh': 0, 'ni': 10, 'nj': 0, 'nk': 0, 'nl': 0, 'nm': 0, 'nn': 0, 'no': 3, 'np': 0, 'nq': 0, 'nr': 0, 'ns': 3, 'nt': 7, 'nu': 3, 'nv': 1, 'nw': 0, 'nx': 0, 'ny': 0, 'nz': 0, 'oa': 0, 'ob': 2, 'oc': 0, 'od': 3, 'oe': 0, 'of': 2, 'og': 0, 'oh': 0, 'oi': 0, 'oj': 0, 'ok': 0, 'ol': 14, 'om': 2, 'on': 6, 'oo': 0, 'op': 1, 'oq': 0, 'or': 18, 'os': 5, 'ot': 0, 'ou': 0, 'ov': 1, 'ow': 0, 'ox': 0, 'oy': 0, 'oz': 0, 'pa': 1, 'pb': 0, 'pc': 0, 'pd': 0, 'pe': 9, 'pf': 0, 'pg': 0, 'ph': 0, 'pi': 4, 'pj': 0, 'pk': 0, 'pl': 2, 'pm': 0, 'pn': 0, 'po': 5, 'pp': 0, 'pq': 0, 'pr': 2, 'ps': 2, 'pt': 7, 'pu': 1, 'pv': 0, 'pw': 0, 'px': 0, 'py': 0, 'pz': 0, 'qa': 0, 'qb': 0, 'qc': 0, 'qd': 0, 'qe': 0, 'qf': 0, 'qg': 0, 'qh': 0, 'qi': 0, 'qj': 0, 'qk': 0, 'ql': 0, 'qm': 0, 'qn': 0, 'qo': 0, 'qp': 0, 'qq': 0, 'qr': 0, 'qs': 0, 'qt': 0, 'qu': 25, 'qv': 0, 'qw': 0, 'qx': 0, 'qy': 0, 'qz': 0, 'ra': 3, 'rb': 0, 'rc': 2, 'rd': 0, 're': 19, 'rf': 1, 'rg': 0, 'rh': 0, 'ri': 7, 'rj': 0, 'rk': 0, 'rl': 0, 'rm': 0, 'rn': 0, 'ro': 3, 'rp': 1, 'rq': 0, 'rr': 2, 'rs': 1, 'rt': 0, 'ru': 7, 'rv': 0, 'rw': 0, 'rx': 0, 'ry': 0, 'rz': 0, 'sa': 5, 'sb': 0, 'sc': 3, 'sd': 1, 'se': 6, 'sf': 0, 'sg': 0, 'sh': 0, 'si': 8, 'sj': 0, 'sk': 0, 'sl': 0, 'sm': 0, 'sn': 0, 'so': 1, 'sp': 2, 'sq': 1, 'sr': 0, 'ss': 4, 'st': 5, 'su': 1, 'sv': 0, 'sw': 0, 'sx': 0, 'sy': 0, 'sz': 0, 'ta': 15, 'tb': 0, 'tc': 0, 'td': 0, 'te': 11, 'tf': 0, 'tg': 0, 'th': 0, 'ti': 16, 'tj': 0, 'tk': 0, 'tl': 0, 'tm': 0, 'tn': 0, 'to': 3, 'tp': 0, 'tq': 1, 'tr': 1, 'ts': 0, 'tt': 0, 'tu': 6, 'tv': 0, 'tw': 0, 'tx': 0, 'ty': 0, 'tz': 0, 'ua': 7, 'ub': 0, 'uc': 1, 'ud': 2, 'ue': 7, 'uf': 0, 'ug': 3, 'uh': 0, 'ui': 8, 'uj': 0, 'uk': 0, 'ul': 3, 'um': 14, 'un': 3, 'uo': 2, 'up': 7, 'uq': 0, 'ur': 5, 'us': 15, 'ut': 4, 'uu': 1, 'uv': 0, 'uw': 0, 'ux': 0, 'uy': 0, 'uz': 0, 'va': 0, 'vb': 0, 'vc': 0, 'vd': 0, 've': 5, 'vf': 0, 'vg': 0, 'vh': 0, 'vi': 2, 'vj': 0, 'vk': 0, 'vl': 0, 'vm': 0, 'vn': 0, 'vo': 5, 'vp': 0, 'vq': 0, 'vr': 0, 'vs': 0, 'vt': 0, 'vu': 0, 'vv': 0, 'vw': 0, 'vx': 0, 'vy': 0, 'vz': 0, 'wa': 0, 'wb': 0, 'wc': 0, 'wd': 0, 'we': 0, 'wf': 0, 'wg': 0, 'wh': 0, 'wi': 0, 'wj': 0, 'wk': 0, 'wl': 0, 'wm': 0, 'wn': 0, 'wo': 0, 'wp': 0, 'wq': 0, 'wr': 0, 'ws': 0, 'wt': 0, 'wu': 0, 'wv': 0, 'ww': 0, 'wx': 0, 'wy': 0, 'wz': 0, 'xa': 0, 'xb': 0, 'xc': 0, 'xd': 0, 'xe': 1, 'xf': 0, 'xg': 0, 'xh': 0, 'xi': 1, 'xj': 0, 'xk': 0, 'xl': 0, 'xm': 0, 'xn': 0, 'xo': 0, 'xp': 2, 'xq': 0, 'xr': 0, 'xs': 0, 'xt': 0, 'xu': 0, 'xv': 0, 'xw': 0, 'xx': 0, 'xy': 0, 'xz': 0, 'ya': 0, 'yb': 0, 'yc': 0, 'yd': 0, 'ye': 0, 'yf': 0, 'yg': 0, 'yh': 0, 'yi': 0, 'yj': 0, 'yk': 0, 'yl': 0, 'ym': 0, 'yn': 0, 'yo': 0, 'yp': 0, 'yq': 0, 'yr': 0, 'ys': 0, 'yt': 0, 'yu': 0, 'yv': 0, 'yw': 0, 'yx': 0, 'yy': 0, 'yz': 0, 'za': 0, 'zb': 0, 'zc': 0, 'zd': 0, 'ze': 0, 'zf': 0, 'zg': 0, 'zh': 0, 'zi': 0, 'zj': 0, 'zk': 0, 'zl': 0, 'zm': 0, 'zn': 0, 'zo': 0, 'zp': 0, 'zq': 0, 'zr': 0, 'zs': 0, 'zt': 0, 'zu': 0, 'zv': 0, 'zw': 0, 'zx': 0, 'zy': 0, 'zz': 0}\n"
     ]
    }
   ],
   "source": [
    "def hist():\n",
    "    dict = {}\n",
    "    for pair in two_gram():\n",
    "        dict.update({ pair: txt_example.count(pair) })\n",
    "    return dict\n",
    "\n",
    "print(hist())"
   ]
  },
  {
   "cell_type": "markdown",
   "id": "7462fdb5",
   "metadata": {},
   "source": [
    "## 2.3. Ausgabe der Häufigkeit (2 Punkte)\n",
    "\n",
    "Geben Sie die Häufigkeit der Buchstabenpaare, wie hier unten gezeigt aus. Achten Sie darauf, das die Ausgabe nach aufsteigender Reihenfolge der Buchstabenpaare erfolgt. Es sollen folgende Daten ausgegeben werden:\n",
    "+ (I) die absolute Anzahl, \n",
    "+ (II) die relative Buchstabenpaarhäufigkeit, also Anzahl eines Buchstabenpaares relativ zur Anzahl des häufigsten Buchstabenpaares.\n",
    "+ (III) eine Balkengrafik mit `=`-Symbolen der relativen Buchstabenpaarhäufigkeit, also (II). Diese Grafik wird so skaliert, dass der grösste Wert der Buchstabenhäufigkeit 50 `=`-Symbolen entspricht.\n",
    "\n",
    "Beispielausgabe:\n",
    "> Zahlenwerte und Prozente entsprechen nicht notwendigerweise dem oben stehenden Beispieltext\n",
    "\n",
    "> Die Spaltenüberschriften (I), (II), (III) und der Trennstrich müssen nicht mitausgegeben werden."
   ]
  },
  {
   "cell_type": "raw",
   "id": "5a2243f5",
   "metadata": {},
   "source": [
    "                 (I)    (II)   (III)\n",
    "--------------------------------------------------------------------------------------\n",
    "h['aa'] =          0     0%   |\n",
    "h['ab'] =          4    16%   |========\n",
    "h['ac'] =          4    16%   |========\n",
    "h['ad'] =          2     8%   |====\n",
    "h['ae'] =          6    24%   |============\n",
    "h['af'] =          0     0%   |\n",
    "...\n",
    "h['zu'] =          0     0%   |\n",
    "h['zv'] =          0     0%   |\n",
    "h['zw'] =          0     0%   |\n",
    "h['zx'] =          0     0%   |\n",
    "h['zy'] =          0     0%   |\n",
    "h['zz'] =          0     0%   |\n"
   ]
  },
  {
   "cell_type": "code",
   "execution_count": 31,
   "id": "876029b5",
   "metadata": {
    "ExecuteTime": {
     "end_time": "2023-11-28T12:42:38.137041Z",
     "start_time": "2023-11-28T12:42:38.109351Z"
    }
   },
   "outputs": [
    {
     "name": "stdout",
     "output_type": "stream",
     "text": [
      "                 (I)    (II)   (III)\n",
      "{'aa': 0, 'ab': 4, 'ac': 4, 'ad': 2, 'ae': 6, 'af': 0, 'ag': 2, 'ah': 0, 'ai': 1, 'aj': 0, 'ak': 0, 'al': 2, 'am': 10, 'an': 5, 'ao': 0, 'ap': 1, 'aq': 2, 'ar': 3, 'as': 6, 'at': 20, 'au': 3, 'av': 0, 'aw': 0, 'ax': 1, 'ay': 0, 'az': 0, 'ba': 0, 'bb': 0, 'bc': 1, 'bd': 0, 'be': 2, 'bf': 0, 'bg': 0, 'bh': 0, 'bi': 2, 'bj': 0, 'bk': 0, 'bl': 1, 'bm': 0, 'bn': 0, 'bo': 3, 'bp': 0, 'bq': 0, 'br': 0, 'bs': 0, 'bt': 0, 'bu': 4, 'bv': 0, 'bw': 0, 'bx': 0, 'by': 0, 'bz': 0, 'ca': 3, 'cb': 0, 'cc': 2, 'cd': 0, 'ce': 3, 'cf': 0, 'cg': 0, 'ch': 1, 'ci': 9, 'cj': 0, 'ck': 0, 'cl': 0, 'cm': 0, 'cn': 0, 'co': 6, 'cp': 0, 'cq': 0, 'cr': 0, 'cs': 0, 'ct': 4, 'cu': 6, 'cv': 0, 'cw': 0, 'cx': 0, 'cy': 0, 'cz': 0, 'da': 3, 'db': 0, 'dc': 0, 'dd': 0, 'de': 5, 'df': 0, 'dg': 0, 'dh': 0, 'di': 14, 'dj': 0, 'dk': 0, 'dl': 0, 'dm': 0, 'dn': 0, 'do': 6, 'dp': 0, 'dq': 0, 'dr': 0, 'ds': 0, 'dt': 0, 'du': 2, 'dv': 0, 'dw': 0, 'dx': 0, 'dy': 0, 'dz': 0, 'ea': 5, 'eb': 1, 'ec': 4, 'ed': 3, 'ee': 0, 'ef': 0, 'eg': 0, 'eh': 1, 'ei': 2, 'ej': 0, 'ek': 0, 'el': 3, 'em': 10, 'en': 10, 'eo': 1, 'ep': 5, 'eq': 4, 'er': 13, 'es': 9, 'et': 4, 'eu': 1, 'ev': 1, 'ew': 0, 'ex': 3, 'ey': 0, 'ez': 0, 'fa': 1, 'fb': 0, 'fc': 0, 'fd': 0, 'fe': 1, 'ff': 2, 'fg': 0, 'fh': 0, 'fi': 2, 'fj': 0, 'fk': 0, 'fl': 0, 'fm': 0, 'fn': 0, 'fo': 0, 'fp': 0, 'fq': 0, 'fr': 0, 'fs': 0, 'ft': 0, 'fu': 3, 'fv': 0, 'fw': 0, 'fx': 0, 'fy': 0, 'fz': 0, 'ga': 1, 'gb': 0, 'gc': 0, 'gd': 0, 'ge': 0, 'gf': 0, 'gg': 0, 'gh': 0, 'gi': 2, 'gj': 0, 'gk': 0, 'gl': 0, 'gm': 0, 'gn': 3, 'go': 0, 'gp': 0, 'gq': 0, 'gr': 0, 'gs': 0, 'gt': 0, 'gu': 0, 'gv': 0, 'gw': 0, 'gx': 0, 'gy': 0, 'gz': 0, 'ha': 1, 'hb': 0, 'hc': 0, 'hd': 0, 'he': 1, 'hf': 0, 'hg': 0, 'hh': 0, 'hi': 3, 'hj': 0, 'hk': 0, 'hl': 0, 'hm': 0, 'hn': 0, 'ho': 0, 'hp': 0, 'hq': 0, 'hr': 0, 'hs': 0, 'ht': 0, 'hu': 0, 'hv': 0, 'hw': 0, 'hx': 0, 'hy': 0, 'hz': 0, 'ia': 10, 'ib': 5, 'ic': 7, 'id': 4, 'ie': 2, 'if': 0, 'ig': 1, 'ih': 1, 'ii': 2, 'ij': 0, 'ik': 0, 'il': 4, 'im': 9, 'in': 6, 'io': 7, 'ip': 4, 'iq': 2, 'ir': 0, 'is': 16, 'it': 16, 'iu': 6, 'iv': 0, 'iw': 0, 'ix': 0, 'iy': 0, 'iz': 0, 'ja': 0, 'jb': 0, 'jc': 0, 'jd': 0, 'je': 0, 'jf': 0, 'jg': 0, 'jh': 0, 'ji': 0, 'jj': 0, 'jk': 0, 'jl': 0, 'jm': 0, 'jn': 0, 'jo': 0, 'jp': 0, 'jq': 0, 'jr': 0, 'js': 0, 'jt': 0, 'ju': 0, 'jv': 0, 'jw': 0, 'jx': 0, 'jy': 0, 'jz': 0, 'ka': 0, 'kb': 0, 'kc': 0, 'kd': 0, 'ke': 0, 'kf': 0, 'kg': 0, 'kh': 0, 'ki': 0, 'kj': 0, 'kk': 0, 'kl': 0, 'km': 0, 'kn': 0, 'ko': 0, 'kp': 0, 'kq': 0, 'kr': 0, 'ks': 0, 'kt': 0, 'ku': 0, 'kv': 0, 'kw': 0, 'kx': 0, 'ky': 0, 'kz': 0, 'la': 8, 'lb': 0, 'lc': 0, 'ld': 0, 'le': 2, 'lf': 0, 'lg': 0, 'lh': 0, 'li': 6, 'lj': 0, 'lk': 0, 'll': 7, 'lm': 0, 'ln': 0, 'lo': 7, 'lp': 1, 'lq': 0, 'lr': 0, 'ls': 0, 'lt': 0, 'lu': 7, 'lv': 0, 'lw': 0, 'lx': 0, 'ly': 0, 'lz': 0, 'ma': 5, 'mb': 0, 'mc': 0, 'md': 0, 'me': 1, 'mf': 0, 'mg': 0, 'mh': 0, 'mi': 4, 'mj': 0, 'mk': 0, 'ml': 0, 'mm': 1, 'mn': 1, 'mo': 6, 'mp': 4, 'mq': 3, 'mr': 0, 'ms': 0, 'mt': 0, 'mu': 3, 'mv': 0, 'mw': 0, 'mx': 0, 'my': 0, 'mz': 0, 'na': 2, 'nb': 0, 'nc': 1, 'nd': 7, 'ne': 7, 'nf': 0, 'ng': 0, 'nh': 0, 'ni': 10, 'nj': 0, 'nk': 0, 'nl': 0, 'nm': 0, 'nn': 0, 'no': 3, 'np': 0, 'nq': 0, 'nr': 0, 'ns': 3, 'nt': 7, 'nu': 3, 'nv': 1, 'nw': 0, 'nx': 0, 'ny': 0, 'nz': 0, 'oa': 0, 'ob': 2, 'oc': 0, 'od': 3, 'oe': 0, 'of': 2, 'og': 0, 'oh': 0, 'oi': 0, 'oj': 0, 'ok': 0, 'ol': 14, 'om': 2, 'on': 6, 'oo': 0, 'op': 1, 'oq': 0, 'or': 18, 'os': 5, 'ot': 0, 'ou': 0, 'ov': 1, 'ow': 0, 'ox': 0, 'oy': 0, 'oz': 0, 'pa': 1, 'pb': 0, 'pc': 0, 'pd': 0, 'pe': 9, 'pf': 0, 'pg': 0, 'ph': 0, 'pi': 4, 'pj': 0, 'pk': 0, 'pl': 2, 'pm': 0, 'pn': 0, 'po': 5, 'pp': 0, 'pq': 0, 'pr': 2, 'ps': 2, 'pt': 7, 'pu': 1, 'pv': 0, 'pw': 0, 'px': 0, 'py': 0, 'pz': 0, 'qa': 0, 'qb': 0, 'qc': 0, 'qd': 0, 'qe': 0, 'qf': 0, 'qg': 0, 'qh': 0, 'qi': 0, 'qj': 0, 'qk': 0, 'ql': 0, 'qm': 0, 'qn': 0, 'qo': 0, 'qp': 0, 'qq': 0, 'qr': 0, 'qs': 0, 'qt': 0, 'qu': 25, 'qv': 0, 'qw': 0, 'qx': 0, 'qy': 0, 'qz': 0, 'ra': 3, 'rb': 0, 'rc': 2, 'rd': 0, 're': 19, 'rf': 1, 'rg': 0, 'rh': 0, 'ri': 7, 'rj': 0, 'rk': 0, 'rl': 0, 'rm': 0, 'rn': 0, 'ro': 3, 'rp': 1, 'rq': 0, 'rr': 2, 'rs': 1, 'rt': 0, 'ru': 7, 'rv': 0, 'rw': 0, 'rx': 0, 'ry': 0, 'rz': 0, 'sa': 5, 'sb': 0, 'sc': 3, 'sd': 1, 'se': 6, 'sf': 0, 'sg': 0, 'sh': 0, 'si': 8, 'sj': 0, 'sk': 0, 'sl': 0, 'sm': 0, 'sn': 0, 'so': 1, 'sp': 2, 'sq': 1, 'sr': 0, 'ss': 4, 'st': 5, 'su': 1, 'sv': 0, 'sw': 0, 'sx': 0, 'sy': 0, 'sz': 0, 'ta': 15, 'tb': 0, 'tc': 0, 'td': 0, 'te': 11, 'tf': 0, 'tg': 0, 'th': 0, 'ti': 16, 'tj': 0, 'tk': 0, 'tl': 0, 'tm': 0, 'tn': 0, 'to': 3, 'tp': 0, 'tq': 1, 'tr': 1, 'ts': 0, 'tt': 0, 'tu': 6, 'tv': 0, 'tw': 0, 'tx': 0, 'ty': 0, 'tz': 0, 'ua': 7, 'ub': 0, 'uc': 1, 'ud': 2, 'ue': 7, 'uf': 0, 'ug': 3, 'uh': 0, 'ui': 8, 'uj': 0, 'uk': 0, 'ul': 3, 'um': 14, 'un': 3, 'uo': 2, 'up': 7, 'uq': 0, 'ur': 5, 'us': 15, 'ut': 4, 'uu': 1, 'uv': 0, 'uw': 0, 'ux': 0, 'uy': 0, 'uz': 0, 'va': 0, 'vb': 0, 'vc': 0, 'vd': 0, 've': 5, 'vf': 0, 'vg': 0, 'vh': 0, 'vi': 2, 'vj': 0, 'vk': 0, 'vl': 0, 'vm': 0, 'vn': 0, 'vo': 5, 'vp': 0, 'vq': 0, 'vr': 0, 'vs': 0, 'vt': 0, 'vu': 0, 'vv': 0, 'vw': 0, 'vx': 0, 'vy': 0, 'vz': 0, 'wa': 0, 'wb': 0, 'wc': 0, 'wd': 0, 'we': 0, 'wf': 0, 'wg': 0, 'wh': 0, 'wi': 0, 'wj': 0, 'wk': 0, 'wl': 0, 'wm': 0, 'wn': 0, 'wo': 0, 'wp': 0, 'wq': 0, 'wr': 0, 'ws': 0, 'wt': 0, 'wu': 0, 'wv': 0, 'ww': 0, 'wx': 0, 'wy': 0, 'wz': 0, 'xa': 0, 'xb': 0, 'xc': 0, 'xd': 0, 'xe': 1, 'xf': 0, 'xg': 0, 'xh': 0, 'xi': 1, 'xj': 0, 'xk': 0, 'xl': 0, 'xm': 0, 'xn': 0, 'xo': 0, 'xp': 2, 'xq': 0, 'xr': 0, 'xs': 0, 'xt': 0, 'xu': 0, 'xv': 0, 'xw': 0, 'xx': 0, 'xy': 0, 'xz': 0, 'ya': 0, 'yb': 0, 'yc': 0, 'yd': 0, 'ye': 0, 'yf': 0, 'yg': 0, 'yh': 0, 'yi': 0, 'yj': 0, 'yk': 0, 'yl': 0, 'ym': 0, 'yn': 0, 'yo': 0, 'yp': 0, 'yq': 0, 'yr': 0, 'ys': 0, 'yt': 0, 'yu': 0, 'yv': 0, 'yw': 0, 'yx': 0, 'yy': 0, 'yz': 0, 'za': 0, 'zb': 0, 'zc': 0, 'zd': 0, 'ze': 0, 'zf': 0, 'zg': 0, 'zh': 0, 'zi': 0, 'zj': 0, 'zk': 0, 'zl': 0, 'zm': 0, 'zn': 0, 'zo': 0, 'zp': 0, 'zq': 0, 'zr': 0, 'zs': 0, 'zt': 0, 'zu': 0, 'zv': 0, 'zw': 0, 'zx': 0, 'zy': 0, 'zz': 0}\n"
     ]
    },
    {
     "ename": "TypeError",
     "evalue": "unsupported operand type(s) for /: 'int' and 'str'",
     "output_type": "error",
     "traceback": [
      "\u001b[0;31m---------------------------------------------------------------------------\u001b[0m",
      "\u001b[0;31mTypeError\u001b[0m                                 Traceback (most recent call last)",
      "Cell \u001b[0;32mIn[31], line 17\u001b[0m\n\u001b[1;32m     15\u001b[0m \u001b[38;5;28;01mfor\u001b[39;00m key, value \u001b[38;5;129;01min\u001b[39;00m \u001b[38;5;28mdict\u001b[39m:\n\u001b[1;32m     16\u001b[0m     \u001b[38;5;28mprint\u001b[39m(\u001b[38;5;28mdict\u001b[39m)\n\u001b[0;32m---> 17\u001b[0m     percentage \u001b[38;5;241m=\u001b[39m \u001b[43mtotal\u001b[49m\u001b[38;5;241;43m/\u001b[39;49m\u001b[43mvalue\u001b[49m\u001b[38;5;241m*\u001b[39m\u001b[38;5;241m100\u001b[39m\n\u001b[1;32m     18\u001b[0m     \u001b[38;5;28mprint\u001b[39m(\u001b[38;5;124mf\u001b[39m\u001b[38;5;124m'\u001b[39m\u001b[38;5;132;01m{\u001b[39;00mkey\u001b[38;5;132;01m}\u001b[39;00m\u001b[38;5;124m = \u001b[39m\u001b[38;5;132;01m{\u001b[39;00mvalue\u001b[38;5;132;01m:\u001b[39;00m\u001b[38;5;124m>10\u001b[39m\u001b[38;5;132;01m}\u001b[39;00m\u001b[38;5;132;01m{\u001b[39;00mpercentage\u001b[38;5;132;01m:\u001b[39;00m\u001b[38;5;124m>5\u001b[39m\u001b[38;5;132;01m}\u001b[39;00m\u001b[38;5;124m%\u001b[39m\u001b[38;5;132;01m{\u001b[39;00msymobls(percentage)\u001b[38;5;132;01m}\u001b[39;00m\u001b[38;5;124m'\u001b[39m)\n",
      "\u001b[0;31mTypeError\u001b[0m: unsupported operand type(s) for /: 'int' and 'str'"
     ]
    }
   ],
   "source": [
    "print('                 (I)    (II)   (III)')\n",
    "\n",
    "total = 0\n",
    "dict = hist()\n",
    "\n",
    "for key in dict.keys():\n",
    "    total += dict[key]\n",
    "    \n",
    "def symobls(i):\n",
    "    symbol = ''\n",
    "    for x in range(i/2):\n",
    "        symbol += '='\n",
    "    return symbol\n",
    "\n",
    "for key, value in dict:\n",
    "    print(dict)\n",
    "    percentage = total/value*100\n",
    "    print(f'{key} = {value:>10}{percentage:>5}%{symobls(percentage)}')\n"
   ]
  },
  {
   "cell_type": "markdown",
   "id": "5d5cf356",
   "metadata": {},
   "source": [
    "# Aufgabe 3: Text\n",
    "\n",
    "Bearbeiten sie die nachstehenden Teilaufgaben mit folgendem Beispieltext (`txt_example`):"
   ]
  },
  {
   "cell_type": "code",
   "execution_count": 32,
   "id": "4e970add",
   "metadata": {
    "ExecuteTime": {
     "end_time": "2023-11-28T12:43:15.411791Z",
     "start_time": "2023-11-28T12:43:15.397Z"
    }
   },
   "outputs": [],
   "source": [
    "txt_example = \"\"\"\n",
    "voluptatum ipsa veniam sed optio harum voluptas quidem dolorum quibusdam nostrum\n",
    "officiis quis ut qui adipisci sequi voluptate iusto dicta nesciunt expedita nulla\n",
    "repudiandae neque perspiciatis omnis impedit provident cum natus unde ratione\n",
    "itaque nihil commodi dolor cupiditate minima eos veritatis officia minus molestias\n",
    "saepe blanditiis magni rem alias aperiam consequuntur obcaecati doloremque suscipit\n",
    "quos tempore voluptates vel magnam a beatae sint perferendis tenetur dolore aut\n",
    "quaerat possimus consequatur nisi ea voluptatem exercitationem temporibus odio fuga\n",
    "atque esse rerum laborum quisquam quam at quas accusantium fugiat reprehenderit\n",
    "soluta ad ab architecto placeat accusamus inventore modi explicabo enim eius illum\n",
    "mollitia quo culpa corrupti eaque ipsam laudantium libero similique dignissimos error\n",
    "ullam earum ducimus est in repellat eum quasi hic animi nemo repellendus doloribus\n",
    "dolores reiciendis tempora fugit vitae distinctio autem numquam sit labore aliquid\n",
    "nobis cumque corporis non asperiores et iure consectetur debitis maiores illo quia\n",
    "maxime necessitatibus facere eveniet\"\"\"\n"
   ]
  },
  {
   "cell_type": "markdown",
   "id": "7f681b77",
   "metadata": {},
   "source": [
    "## 3.1 Tokenizer (1 Punkt)\n",
    "\n",
    "Nutzen sie Python, um beispielsweise den oben angegebenen Beispieltext (`txt_example`) in einzelne Worte aufzuteilen, die in einer Liste abgelegt werden.aufzu\n",
    "\n",
    "Beispielausgabe:"
   ]
  },
  {
   "cell_type": "raw",
   "id": "a539f326",
   "metadata": {},
   "source": [
    "['voluptatum', 'ipsa', 'veniam', 'sed', 'optio', 'harum', 'voluptas', 'quidem', 'dolorum', 'quibusdam', 'nostrum', 'officiis', 'quis', 'ut', 'qui', 'adipisci', 'sequi', 'voluptate', 'iusto', 'dicta', 'nesciunt', 'expedita', 'nulla', 'repudiandae', 'neque', 'perspiciatis', 'omnis', 'impedit', 'provident', 'cum', 'natus', 'unde', 'ratione', 'itaque', 'nihil', 'commodi', 'dolor', 'cupiditate', 'minima', ...\n"
   ]
  },
  {
   "cell_type": "code",
   "execution_count": 33,
   "id": "ccec76e8",
   "metadata": {
    "ExecuteTime": {
     "end_time": "2023-11-28T12:43:24.214357Z",
     "start_time": "2023-11-28T12:43:24.188612Z"
    }
   },
   "outputs": [
    {
     "data": {
      "text/plain": [
       "'\\nvoluptatum ipsa veniam sed optio harum voluptas quidem dolorum quibusdam nostrum\\nofficiis quis ut qui adipisci sequi voluptate iusto dicta nesciunt expedita nulla\\nrepudiandae neque perspiciatis omnis impedit provident cum natus unde ratione\\nitaque nihil commodi dolor cupiditate minima eos veritatis officia minus molestias\\nsaepe blanditiis magni rem alias aperiam consequuntur obcaecati doloremque suscipit\\nquos tempore voluptates vel magnam a beatae sint perferendis tenetur dolore aut\\nquaerat possimus consequatur nisi ea voluptatem exercitationem temporibus odio fuga\\natque esse rerum laborum quisquam quam at quas accusantium fugiat reprehenderit\\nsoluta ad ab architecto placeat accusamus inventore modi explicabo enim eius illum\\nmollitia quo culpa corrupti eaque ipsam laudantium libero similique dignissimos error\\nullam earum ducimus est in repellat eum quasi hic animi nemo repellendus doloribus\\ndolores reiciendis tempora fugit vitae distinctio autem numquam sit labore aliquid\\nnobis cumque corporis non asperiores et iure consectetur debitis maiores illo quia\\nmaxime necessitatibus facere eveniet'"
      ]
     },
     "execution_count": 33,
     "metadata": {},
     "output_type": "execute_result"
    }
   ],
   "source": []
  },
  {
   "cell_type": "markdown",
   "id": "1cca5149",
   "metadata": {},
   "source": [
    "## 3.2. Anfang Grossbuchstaben (1 Punkt)\n",
    "\n",
    "Nutzen sie Python, um alle Worte aus dem Beispieltext (`txt_example`) so umzuwandeln, das sie mit einem Grossbuchstaben beginnen und der Rest Kleinbuchstaben sind. Das Ergebnis soll wieder eine Zeichenkette sein, wie in der Beispielausgabe gezeigt.\n",
    "\n",
    "Beispielausgabe:"
   ]
  },
  {
   "cell_type": "raw",
   "id": "b207e096",
   "metadata": {},
   "source": [
    "Voluptatum Ipsa Veniam Sed Optio Harum Voluptas Quidem Dolorum Quibusdam Nostrum Officiis Quis Ut Qui Adipisci Sequi Voluptate Iusto Dicta Nesciunt Expedita Nulla Repudiandae Neque Perspiciatis Omnis Impedit Provident Cum Natus Unde Ratione Itaque Nihil Commodi Dolor Cupiditate Minima Eos Veritatis Officia Minus Molestias Saepe Blanditiis Magni Rem Alias ...\n"
   ]
  },
  {
   "cell_type": "code",
   "execution_count": null,
   "id": "c1138990",
   "metadata": {},
   "outputs": [],
   "source": [
    "# your code here\n"
   ]
  },
  {
   "cell_type": "markdown",
   "id": "9b5e3834",
   "metadata": {},
   "source": [
    "## 3.3 Verschlüsselung (3 Punkte)\n",
    "\n",
    "Wandeln Sie den Beispieltext (`txt_example`) so um, das jeder Buchstabe des englischen Alphabets durch einen Buchstaben ersetzt wird, der 13 Buchstaben später liegt.\n",
    "\n",
    "> Hinweis: zum Testen können Sie diese Vorschrift einfach zwei Mal anwenden, um wieder den Originaltext bekommen."
   ]
  },
  {
   "cell_type": "markdown",
   "id": "7c37fe97",
   "metadata": {},
   "source": [
    "Beispiel:\n",
    "<br>\n",
    "<br>\n",
    "| a | b | c | d | e | f | g | h | i | j | k | l | m | n | o | p | q | r | s | t | u | v | w | x | y | z |\n",
    "|---|---|---|---|---|---|---|---|---|---|---|---|---|---|---|---|---|---|---|---|---|---|---|---|---|---|\n",
    "| n | o | p | q | r | s | t | u | v | w | x | y | z | a | b | c | d | e | f | g | h | i | j | k | l | m |"
   ]
  },
  {
   "cell_type": "code",
   "execution_count": 1,
   "id": "0323ee52",
   "metadata": {},
   "outputs": [],
   "source": [
    "# your code \n",
    "\n",
    "a = \"hello\"\n",
    "a.\n",
    "\n"
   ]
  },
  {
   "cell_type": "markdown",
   "id": "17d96ce3",
   "metadata": {},
   "source": [
    "# Aufgabe 4: Numpy \n",
    "Die folgenden drei Teilaufgaben (4.1 - 4.3) sollten **nur** mit **Numpy-Funktionen** gelöst werden."
   ]
  },
  {
   "cell_type": "markdown",
   "id": "08ed747f",
   "metadata": {},
   "source": [
    "## 4.1 NumPy Fragen"
   ]
  },
  {
   "cell_type": "markdown",
   "id": "848df59c",
   "metadata": {},
   "source": [
    "### 4.1.1  Effiziente numerische Operationen (0.5 P)\n",
    "\n",
    "Was ist die primäre Datenstruktur von *NumPy* für effiziente numerische Operationen?\n",
    "\n",
    "a) Verknüpfte Listen\n",
    "\n",
    "b) Tupel\n",
    "\n",
    "c) Arrays und Matrizen\n",
    "\n",
    "d) Wörterbücher"
   ]
  },
  {
   "cell_type": "code",
   "execution_count": null,
   "id": "302a5f94",
   "metadata": {},
   "outputs": [],
   "source": [
    "# Antwort\n"
   ]
  },
  {
   "cell_type": "markdown",
   "id": "7aa50a9b",
   "metadata": {},
   "source": [
    "### 4.1.2 Broadcasting (1 P)\n",
    "In welchem Szenario ist das Broadcasting von NumPy besonders nützlich?\n",
    "\n",
    "a) Bei der Durchführung von String-Manipulationen auf Arrays.\n",
    "\n",
    "b) Bei der Arbeit mit Arrays, die nur die gleiche Form haben.\n",
    "\n",
    "c) Bei der Arbeit mit Arrays unterschiedlicher Form ohne explizite Loops oder Replikation.\n",
    "\n",
    "d) Broadcasting ist im numerischen Rechnen irrelevant."
   ]
  },
  {
   "cell_type": "code",
   "execution_count": null,
   "id": "7b4f8e70",
   "metadata": {},
   "outputs": [],
   "source": [
    "# Antwort\n"
   ]
  },
  {
   "cell_type": "markdown",
   "id": "de6180c6",
   "metadata": {},
   "source": [
    "### 4.1.3. Spaltennamen (0.5 P)\n",
    "Wie können Sie Spaltennamen zu einem *ndarray* in *NumPy* hinzufügen?"
   ]
  },
  {
   "cell_type": "code",
   "execution_count": null,
   "id": "ac81348d",
   "metadata": {},
   "outputs": [],
   "source": [
    "# Antwort\n"
   ]
  },
  {
   "cell_type": "markdown",
   "id": "d0a45bb6",
   "metadata": {},
   "source": [
    "## 4.2 Array, Mittelwert & Standartabweichung (2 Punkte)"
   ]
  },
  {
   "cell_type": "markdown",
   "id": "9bf0c569",
   "metadata": {},
   "source": [
    "Schreiben sie Python-Code, der:\n",
    "1) ein *Numpy*-Array mit Werten\n",
    "von 1 bis 10 (einschließlich) erzeugt; (1 P)\n",
    "2) den Mittelwert und die Standardabweichung des Arrays berechnet. (1 P)"
   ]
  },
  {
   "cell_type": "code",
   "execution_count": null,
   "id": "aac5d57a",
   "metadata": {},
   "outputs": [],
   "source": [
    "# your code here\n"
   ]
  },
  {
   "cell_type": "markdown",
   "id": "8f193392",
   "metadata": {},
   "source": [
    "## 4.3 Progressionen"
   ]
  },
  {
   "cell_type": "markdown",
   "id": "8905ab35",
   "metadata": {},
   "source": [
    "# 4.3.1 Geometrische Progression (2 Punkte)\n",
    "\n",
    "Schreiben sie eine Funktion, die für eine gegebene Anzahl von Termen $n$ eine Geometrische Progression mit einem gemeinsamen Verhältnis von zwei erzeugt (1, 2, 4, 8 ...).\n",
    "\n",
    "Hier ist ein Beispiel für eine geometrische Progression mit dem Anfangsterm $a$ und dem gemeinsamen Verhältnis $r$:\n",
    "\n",
    "\\begin{align*}\n",
    "\\quad & a, ar, ar^2, ar^3, \\ldots \\\\\n",
    "\\end{align*}\n"
   ]
  },
  {
   "cell_type": "code",
   "execution_count": null,
   "id": "0c37af2d",
   "metadata": {},
   "outputs": [],
   "source": [
    "import numpy as np\n",
    "\n",
    "# Geometric Progression with a common ratio of 2\n",
    "def geometric_progression(n):\n",
    "    # TODO: use np.XXXXspace() function to create a geometric progression\n",
    "    # your code here\n",
    "    return\n"
   ]
  },
  {
   "cell_type": "markdown",
   "id": "80562750",
   "metadata": {},
   "source": [
    "## 4.3.2 Arithmetische Progression (2P)\n",
    "\n",
    "Schreiben sie eine Funktion, die für eine gegebene Anzahl von Termen $n$ eine arithmetische Progression mit einer gemeinsamen Differenz von zwei erzeugt (1, 3, 5, 7 ...).\n",
    "\n",
    "Hier ist ein Beispiel für eine arithmetische Progression Progression mit dem Anfangsterm $a$ und der gemeinsamen Differenz $d$:\n",
    "\n",
    "\\begin{align*}\n",
    "\\quad & a, a+d, a+2d, a+3d, \\ldots \\\\\n",
    "\\end{align*}\n",
    "\n",
    "\n",
    "\n"
   ]
  },
  {
   "cell_type": "code",
   "execution_count": null,
   "id": "4d0ec6ea",
   "metadata": {},
   "outputs": [],
   "source": [
    "# Arithmetic Progression with a common difference of 2\n",
    "def arithmetic_progression(n):\n",
    "    # TODO: use np.YYYspace() function to create an arithmetic progression\n",
    "    # your code here\n",
    "    return\n"
   ]
  },
  {
   "cell_type": "markdown",
   "id": "57473c3e",
   "metadata": {},
   "source": [
    "# Aufgabe 5: Pandas \n",
    "\n",
    "Die folgenden beiden Aufgaben sollen **nur** mit den **Pandas-Funktionen** gelöst werden."
   ]
  },
  {
   "cell_type": "markdown",
   "id": "3d15bccb",
   "metadata": {},
   "source": [
    "## 5.1 Dataframe\n",
    "\n",
    "### 5.1.1. Pandas-Series (1 Punkt)\n",
    "Erstellen sie eine Pandas-Series unter Verwendung eines Wörterbuchs mit benutzerdefinierten Indizes `['A', 'B', 'C', 'D', 'E']` und einigen Werten. "
   ]
  },
  {
   "cell_type": "code",
   "execution_count": null,
   "id": "30d5ff53",
   "metadata": {},
   "outputs": [],
   "source": [
    "# your code here\n"
   ]
  },
  {
   "cell_type": "markdown",
   "id": "a7f17e92",
   "metadata": {},
   "source": [
    "### 5.1.2. Pandas-DataFrame (1 Punkt)\n",
    "\n",
    "Erstellen sie einen Pandas-DataFrame aus 2 Pandas-Serien unter Verwendung eines Wörterbuchs. \n",
    "> Hinweis: Denken sie an die Indizes! "
   ]
  },
  {
   "cell_type": "code",
   "execution_count": null,
   "id": "0f86e204",
   "metadata": {},
   "outputs": [],
   "source": [
    "# your code here\n"
   ]
  },
  {
   "cell_type": "markdown",
   "id": "daede8dc",
   "metadata": {},
   "source": [
    "### 5.1.3. Typen (0.5 Punkte)\n",
    "\n",
    "Wie erhalten sie die Typen der DataFrame-Spalten?"
   ]
  },
  {
   "cell_type": "code",
   "execution_count": null,
   "id": "e9f4ffe3",
   "metadata": {},
   "outputs": [],
   "source": [
    "# your code here\n"
   ]
  },
  {
   "cell_type": "markdown",
   "id": "3bb69359",
   "metadata": {},
   "source": [
    "### 5.1.4. Doppelte Zeilen (1.5 Punkte)\n",
    "\n",
    "Erzeugen sie Pandas DataFrame mit doppelten Zeilen, und zeigen sie, wie sie die doppelten Zeilen identifizieren und entfernen können. "
   ]
  },
  {
   "cell_type": "code",
   "execution_count": null,
   "id": "d5b189af",
   "metadata": {},
   "outputs": [],
   "source": [
    "# your code here\n"
   ]
  },
  {
   "cell_type": "markdown",
   "id": "b9c4d788",
   "metadata": {},
   "source": [
    "## 5.2 Fächer (4 Punkten)\n",
    "\n",
    "Sie erhalten einen DataFrame mit den Namen und Fächern der Studenten. Der Code zur Erzeugung des DataFrame ist unten angegeben:"
   ]
  },
  {
   "cell_type": "code",
   "execution_count": 34,
   "id": "3de4e809",
   "metadata": {
    "ExecuteTime": {
     "end_time": "2023-11-28T13:35:41.538322Z",
     "start_time": "2023-11-28T13:35:41.185541Z"
    }
   },
   "outputs": [
    {
     "name": "stdout",
     "output_type": "stream",
     "text": [
      "  first_name last_name  year_of_study             major              minor  \\\n",
      "0       John       Doe              3  Computer Science         Statistics   \n",
      "1       Jane     Smith              4           Biology          Chemistry   \n",
      "2        Bob   Johnson              1           Physics   Computer Science   \n",
      "3      Alice  Williams              3       Mathematics          Economics   \n",
      "4    Charlie     Brown              3         Chemistry        Mathematics   \n",
      "5      David    Miller              4         Economics  Political Science   \n",
      "6       Emma     White              1        Statistics            Physics   \n",
      "7      Frank     Davis              1        Psychology        Mathematics   \n",
      "8      Grace     Jones              3         Sociology  Political Science   \n",
      "9      Henry    Taylor              2           History            English   \n",
      "\n",
      "   grade  \n",
      "0     78  \n",
      "1     82  \n",
      "2     70  \n",
      "3     70  \n",
      "4     83  \n",
      "5     95  \n",
      "6     99  \n",
      "7     83  \n",
      "8     62  \n",
      "9     81  \n"
     ]
    }
   ],
   "source": [
    "import pandas as pd\n",
    "import numpy as np\n",
    "\n",
    "# Generating random data for demonstration purposes\n",
    "np.random.seed(42)  # for reproducibility\n",
    "\n",
    "# Sample data\n",
    "data = {\n",
    "    'first_name': ['John', 'Jane', 'Bob', 'Alice', 'Charlie', 'David', 'Emma', 'Frank', 'Grace', 'Henry'],\n",
    "    'last_name': ['Doe', 'Smith', 'Johnson', 'Williams', 'Brown', 'Miller', 'White', 'Davis', 'Jones', 'Taylor'],\n",
    "    'year_of_study': np.random.randint(1, 5, size=10),\n",
    "    'major': ['Computer Science', 'Biology', 'Physics', 'Mathematics', 'Chemistry', 'Economics', 'Statistics', 'Psychology', 'Sociology', 'History'],\n",
    "    'minor': ['Statistics', 'Chemistry', 'Computer Science', 'Economics', 'Mathematics', 'Political Science', 'Physics', 'Mathematics', 'Political Science', 'English'],\n",
    "    'grade': np.random.randint(60, 100, size=10),\n",
    "}\n",
    "\n",
    "# Creating a DataFrame\n",
    "df = pd.DataFrame(data)\n",
    "\n",
    "# Displaying the DataFrame\n",
    "print(df)\n"
   ]
  },
  {
   "cell_type": "markdown",
   "id": "ebf5102d",
   "metadata": {},
   "source": [
    "### 5.2.1. Zeilenzugriff (1 Punkt)\n",
    "Wie greift man auf den *\"Vornamen\"* und den *\"Nachnamen\"* aus Zeilen 5 und 10 eines DataFrame zu?"
   ]
  },
  {
   "cell_type": "code",
   "execution_count": null,
   "id": "3774857e",
   "metadata": {},
   "outputs": [],
   "source": [
    "# your code here\n"
   ]
  },
  {
   "cell_type": "markdown",
   "id": "13f193d1",
   "metadata": {},
   "source": [
    "### 5.2.2. Sortieren (2 Punkte)\n",
    "\n",
    "Wie kann man den DataFrame nach den Spalten Studienjahr und Noten sortieren, wobei das Studienjahr aufsteigend und die Noten absteigend sortiert sind?"
   ]
  },
  {
   "cell_type": "code",
   "execution_count": null,
   "id": "704dc987",
   "metadata": {},
   "outputs": [],
   "source": [
    "# your code here\n"
   ]
  },
  {
   "cell_type": "markdown",
   "id": "29215354",
   "metadata": {},
   "source": [
    "### 5.2.3.Indizierung (1 Punkt)\n",
    "Finden sie mithilfe der Booleschen Indizierung nur die Studenten, die Informatik als Haupt- oder Nebenfach haben."
   ]
  },
  {
   "cell_type": "code",
   "execution_count": null,
   "id": "65055e47",
   "metadata": {},
   "outputs": [],
   "source": [
    "# your code here\n"
   ]
  },
  {
   "cell_type": "markdown",
   "id": "3606e300",
   "metadata": {},
   "source": [
    "# Aufgabe 6: PyTest"
   ]
  },
  {
   "cell_type": "markdown",
   "id": "d88ccbb2",
   "metadata": {},
   "source": [
    "## 6.1 assert (0.5 Punkte)\n",
    "\n",
    "Was ist der Zweck der *assert*-Anweisung in *PyTest*?\n",
    "\n",
    "a) Sie wird für die Definition von Testfixtures verwendet.\n",
    "\n",
    "b) Sie wird verwendet, um einen Testfall zu definieren.\n",
    "\n",
    "c) Sie wird verwendet, um Behauptungen über das Verhalten des getesteten Codes aufzustellen.\n",
    "\n",
    "d) Sie ist ein Dekorator zur Markierung von Testfunktionen."
   ]
  },
  {
   "cell_type": "code",
   "execution_count": null,
   "id": "d3607b27",
   "metadata": {},
   "outputs": [],
   "source": [
    "# Antwort\n"
   ]
  },
  {
   "cell_type": "markdown",
   "id": "d6ebb7a6",
   "metadata": {},
   "source": [
    "## 6.2 Kommandozeile (0.5 Punkte)\n",
    "\n",
    "Welcher Befehl wird verwendet, um *PyTest*-Tests von der Kommandozeile aus auszuführen?\n",
    "\n",
    "a) `run_tests.py`\n",
    "\n",
    "b) `pytest`\n",
    "\n",
    "c) `test.py`\n",
    "\n",
    "d) `python -m unittest`"
   ]
  },
  {
   "cell_type": "code",
   "execution_count": null,
   "id": "f6988ed7",
   "metadata": {},
   "outputs": [],
   "source": [
    "# Antwort\n"
   ]
  },
  {
   "cell_type": "markdown",
   "id": "50c9bb7d",
   "metadata": {},
   "source": [
    "## 6.3 Testfall (1 Punkt)\n",
    "Stellen sie sich vor, ihre Funktion ist in einem Modul mit dem Namen *calculator.py* definiert. Der Inhalt des Moduls ist in der Zelle unten angegeben. "
   ]
  },
  {
   "cell_type": "code",
   "execution_count": null,
   "id": "01f16bd3",
   "metadata": {},
   "outputs": [],
   "source": [
    "# calculator.py\n",
    "\n",
    "def add_numbers(a, b):\n",
    "    return a + b\n"
   ]
  },
  {
   "cell_type": "markdown",
   "id": "4b5060fc",
   "metadata": {},
   "source": [
    "Stellen wir uns vor, dass Sie in der Datei *test_calculator.py* den Testfall mit Pytest schreiben wollen.  Der Inhalt von test_calculator.py ist in der Zelle unten angegeben. \n",
    "\n",
    "Schreiben Sie den PyTest-Testfall für die oben definierte Funktion *add_numbers* in der Zelle unten (wo # TODO steht). \n",
    "\n",
    "Hinweis: Sie sollten keine .py-Dateien schreiben und Pytest tatsächlich ausführen, wir nehmen nur an, dass Sie .py-Dateien haben. "
   ]
  },
  {
   "cell_type": "code",
   "execution_count": null,
   "id": "27c6032d",
   "metadata": {},
   "outputs": [],
   "source": [
    "# test_calculator.py\n",
    "\n",
    "from calculator import add_numbers\n",
    "\n",
    "# TODO: write a test for the add_numbers() function\n"
   ]
  },
  {
   "cell_type": "markdown",
   "id": "b6ee0f2a",
   "metadata": {},
   "source": [
    "# Aufgabe 7: Files (2 Punkte)\n",
    "\n",
    "Erstellen sie ein Python-Programm, das eine Liste von Zahlen aus einer einer Datei namens *\"numbers.txt\"* liest und ihre Summe berechnet. \n",
    "Jede Zahl steht in einer eigenen Zeile in der Datei. Speichern sie das Ergebnis in einer neuen Datei namens *\"sum.txt\"*. \n",
    "\n",
    "Beispielinhalt der Datei *numbers.txt* (als Datei vorhanden):"
   ]
  },
  {
   "cell_type": "raw",
   "id": "f4f14b6e",
   "metadata": {},
   "source": [
    "# numbers.txt inhalt\n",
    "1\n",
    "2\n",
    "3\n",
    "4\n",
    "5\n"
   ]
  },
  {
   "cell_type": "code",
   "execution_count": null,
   "id": "53af1531",
   "metadata": {},
   "outputs": [],
   "source": [
    "# your code here\n"
   ]
  }
 ],
 "metadata": {
  "kernelspec": {
   "display_name": "Python 3 (ipykernel)",
   "language": "python",
   "name": "python3"
  },
  "language_info": {
   "codemirror_mode": {
    "name": "ipython",
    "version": 3
   },
   "file_extension": ".py",
   "mimetype": "text/x-python",
   "name": "python",
   "nbconvert_exporter": "python",
   "pygments_lexer": "ipython3",
   "version": "3.11.5"
  },
  "vscode": {
   "interpreter": {
    "hash": "aee8b7b246df8f9039afb4144a1f6fd8d2ca17a180786b69acc140d282b71a49"
   }
  }
 },
 "nbformat": 4,
 "nbformat_minor": 5
}
