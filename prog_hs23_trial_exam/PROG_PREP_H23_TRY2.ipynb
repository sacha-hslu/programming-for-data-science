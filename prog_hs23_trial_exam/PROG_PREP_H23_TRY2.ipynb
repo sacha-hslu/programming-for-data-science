{
 "cells": [
  {
   "cell_type": "markdown",
   "id": "27e29b9b",
   "metadata": {},
   "source": [
    "# <font color='red'>PROG Probeprüfung H23</font>\n",
    "**28. November 2023**"
   ]
  },
  {
   "cell_type": "markdown",
   "id": "3779df9e",
   "metadata": {
    "tags": []
   },
   "source": [
    "## Informationen zur Prüfung\n",
    "### Dauer: \n",
    "45 Min\n",
    "\n",
    "\n",
    "### Total mögliche Punktzahl:\n",
    "40 Punkte\n",
    "\n",
    "\n",
    "### Erlaubte Hilfsmittel\n",
    "Die Prüfung ist \"Open Book\", d.h. erlaubt sind folgende Mittel:\n",
    "- Vorlesungsskript und gelöste Übungen\n",
    "- Persönliche Zusammenfassung\n",
    "- Python Standardbibliothek - https://docs.python.org/3/library/index.html\n",
    "- NumPy Dokumentation - https://numpy.org/doc/\n",
    "- Pandas Dokumentation - https://pandas.pydata.org/pandas-docs/stable/\n",
    "- Matplotlib Dokumentation - https://matplotlib.org\n",
    "- Seaborn Dokumentation - https://seaborn.pydata.org\n",
    "\n",
    "\n",
    "### Nicht erlaubt sind:\n",
    "- Kommunikation mit Dritten während der Prüfung\n",
    "- Bezug fremder Hilfe, oder Hilfe leisten (z.B. Ergebnisse teilen, Tipps geben, etc.)\n",
    "- Internetrecherche, abgesehen von den oben ausdrücklich erlaubten Seiten\n",
    "- Chat-bots, sowie jede andere, nicht explizit erwähnte, unredliche Handlung\n",
    "\n",
    "\n",
    "### Instruktionen\n",
    "- Sie müssen die Aufgaben in diesem Jupyter Notebook direkt lösen. Fügen Sie die Lösung direkt unterhalb der Fragen ein. \n",
    "- Als Editor ist nur Jupyter Notebook zugelassen, keine IDE.\n",
    "- Die Aufgaben sind zudem in einem ausgedruckten Aufgabenblatt beschrieben. Dieses Papier wird am Schluss wieder eingesammelt.\n",
    "- Teillösungen werden auch bewertet\n",
    "- Gewisse Aufgaben verweisen möglicherweise auf Dateien, welche heruntergeladen und in Ihrem Arbeitsverzeichnis abgelegt werden müssen, damit alls korrekt ausgeführt werden kann. \n",
    "\n",
    "- Speichern Sie die Jupyter Prüfungsdatei mit Ihren Lösungen unter Verwendung folgender Namenskonvention: <font color=\"red\">_**NACHNAME_Vorname_PROG_PREP_H23.ipynb**_</font>\n",
    "- Laden Sie ihre Lösung spätestens nach Abschluss der Prüfung in Ilias in den PREP Ordner hoch\n",
    "- Falls die Abgabe wider Erwarten über Ilias nicht möglich, melden Sie dies der Aufsicht und senden Sie die gelösten Aufgaben von Ihrer offiziellen HSLU-E-Mail-Adresse an <a href='mailto:bjoern.jensen@hslu.ch'>bjoern.jensen@hslu.ch</a>"
   ]
  },
  {
   "cell_type": "markdown",
   "id": "e9e9c2a4",
   "metadata": {},
   "source": [
    "<br>\n",
    "\n",
    "<br>\n",
    "\n",
    "## Redlichkeitsbedingungen\n",
    "**Mit der Absolvierung der Prüfung bestätige ich, dass ich:**\n",
    "- die Prüfungen alleine und ohne unerlaubte fremde Hilfe absolviert habe,\n",
    "- die Lösungen und Resultate selbst hergeleitet habe,\n",
    "- keine anderen als die für die entsprechende Prüfung ausdrücklich vorgesehenen Hilfsmittel benutzt habe,\n",
    "- keine unerlaubte Kommunikation mit Dritten während der Prüfung geführt habe\n",
    "\n",
    "Bei Unredlichkeiten gilt der Artikel 39 der Studienordnung für Ausbildung an der Hochschule Luzern, FH Zentralschweiz (Nr. 521).\n",
    "\n",
    "&nbsp;\n",
    "\n",
    "&nbsp;\n",
    "<font color='red'>_**Datum, Name und Vorname**_</font>"
   ]
  },
  {
   "cell_type": "markdown",
   "id": "524f083c",
   "metadata": {},
   "source": []
  },
  {
   "cell_type": "markdown",
   "id": "cac9bdac",
   "metadata": {},
   "source": [
    "# Aufgabe 1: Fibonacci-Zahlen (5 Punkte)\n",
    "\n",
    "Schreiben sie eine Funktion `fib(n)`, die die n-te Fibonacci-Zahl berechnet. \n",
    "Die Funktion soll die Zahlen mittels **Rekursion** berechnen. Um möglichst schnell zu sein, sollen einmal berechnete Zahlen in einem *Dictionary* `cache_fib` abgelegt werden. Das *Dictionary* `cache_fib` ist als globale Variable abgelegt. Die Fibonacci-Zahl wird dabei als *Value* und ihr Index `n` als Schlüssel im *Dictionary* verwendet."
   ]
  },
  {
   "cell_type": "markdown",
   "id": "4afb6932",
   "metadata": {},
   "source": [
    "\\begin{align}\n",
    "f_0 &= 0 \\\\\n",
    "f_1 &= 1 \\\\\n",
    "f_n &= f_{n-1} + f_{n-2}\n",
    "\\end{align}"
   ]
  },
  {
   "cell_type": "markdown",
   "id": "79c51fd2",
   "metadata": {},
   "source": [
    "Hier ein Beispielaufruf, um die 12-te Fibonacci-Zahl zu berechnen und der Zustand dies *Dictionary* `cache_fib` nach dem Aufruf."
   ]
  },
  {
   "cell_type": "markdown",
   "id": "aad60b3c",
   "metadata": {},
   "source": [
    "```\n",
    "fib(12) # -> 144\n",
    "\n",
    "{1: 1, 0: 0, 2: 1, 3: 2, 4: 3, 5: 5, 6: 8, 7: 13, 8: 21, 9: 34, 10: 55, 11: 89, 12: 144}\n",
    "```"
   ]
  },
  {
   "cell_type": "code",
   "execution_count": null,
   "id": "eaa0d682",
   "metadata": {
    "ExecuteTime": {
     "end_time": "2023-11-28T12:16:52.222458Z",
     "start_time": "2023-11-28T12:16:52.188401Z"
    }
   },
   "outputs": [],
   "source": []
  },
  {
   "cell_type": "markdown",
   "id": "bb5e82d5",
   "metadata": {},
   "source": [
    "# Aufgabe 2: Häufigkeiten\n",
    "\n",
    "## 2.1. Buchstabenpaare (3 Punkte)\n",
    "\n",
    "Schreiben Sie eine Funktion `two_gram()`, die alle möglichen Buchstabenpaare für die Buchstaben aus dem Englischen Alphabet erstellt und die Paare als Liste zurückgibt.\n",
    "Die zu verwendenden Buchstaben sind in `string.ascii_lowercase` zusammengestellt.\n",
    "\n",
    "Beispiel der Rückgabe der Funktion `two_gram()`:"
   ]
  },
  {
   "cell_type": "raw",
   "id": "a885f340",
   "metadata": {},
   "source": [
    "['aa', 'ab', 'ac', 'ad', 'ae', 'af', 'ag', 'ah', 'ai', 'aj', 'ak', 'al', 'am', 'an', 'ao', 'ap', 'aq', 'ar', 'as', 'at', 'au', 'av', 'aw', 'ax', 'ay', 'az', 'ba', 'bb', 'bc', 'bd', 'be', 'bf', 'bg', 'bh', 'bi', 'bj', 'bk', 'bl', 'bm', 'bn', 'bo', 'bp', 'bq', 'br', 'bs', 'bt', 'bu', 'bv', 'bw', 'bx', 'by', 'bz', 'ca', 'cb', 'cc', 'cd', 'ce', 'cf', 'cg', 'ch', 'ci', 'cj', 'ck', 'cl', ...\n"
   ]
  },
  {
   "cell_type": "code",
   "execution_count": 1,
   "id": "9cf4a01e",
   "metadata": {
    "ExecuteTime": {
     "end_time": "2023-11-28T12:18:55.416018Z",
     "start_time": "2023-11-28T12:18:55.392083Z"
    }
   },
   "outputs": [],
   "source": [
    "import string           # string.ascii_lowercase\n"
   ]
  },
  {
   "cell_type": "code",
   "execution_count": null,
   "id": "768f3738",
   "metadata": {
    "ExecuteTime": {
     "end_time": "2023-11-28T12:31:50.118615Z",
     "start_time": "2023-11-28T12:31:50.099396Z"
    }
   },
   "outputs": [],
   "source": []
  },
  {
   "cell_type": "markdown",
   "id": "ac0e5afb",
   "metadata": {},
   "source": [
    "## 2.2. Häufigkeit (5 Punkte)\n",
    "\n",
    "Schreiben Sie eine Funktion `hist()`, die für alle oben erstellten Buchstabenpaare die Häufigkeit im unten stehenden Beispieltext (`txt_example`)ermittelt und als *Dictionary* zurückgibt. Das *Dictionary* soll alle möglichen Buchstabenpaare enthalten, auch solche, die nicht im Beispieltext vorkommen. Die Häufigkeit wird dabei als *Value* und das Buchstabenpaar als als Schlüssel im *Dictionary* verwendet."
   ]
  },
  {
   "cell_type": "code",
   "execution_count": 2,
   "id": "d761c641",
   "metadata": {
    "ExecuteTime": {
     "end_time": "2023-11-28T12:30:13.383209Z",
     "start_time": "2023-11-28T12:30:13.334630Z"
    }
   },
   "outputs": [],
   "source": [
    "txt_example = \"\"\"\n",
    "voluptatum ipsa veniam sed optio harum voluptas quidem dolorum quibusdam nostrum\n",
    "officiis quis ut qui adipisci sequi voluptate iusto dicta nesciunt expedita nulla\n",
    "repudiandae neque perspiciatis omnis impedit provident cum natus unde ratione\n",
    "itaque nihil commodi dolor cupiditate minima eos veritatis officia minus molestias\n",
    "saepe blanditiis magni rem alias aperiam consequuntur obcaecati doloremque suscipit\n",
    "quos tempore voluptates vel magnam a beatae sint perferendis tenetur dolore aut\n",
    "quaerat possimus consequatur nisi ea voluptatem exercitationem temporibus odio fuga\n",
    "atque esse rerum laborum quisquam quam at quas accusantium fugiat reprehenderit\n",
    "soluta ad ab architecto placeat accusamus inventore modi explicabo enim eius illum\n",
    "mollitia quo culpa corrupti eaque ipsam laudantium libero similique dignissimos error\n",
    "ullam earum ducimus est in repellat eum quasi hic animi nemo repellendus doloribus\n",
    "dolores reiciendis tempora fugit vitae distinctio autem numquam sit labore aliquid\n",
    "nobis cumque corporis non asperiores et iure consectetur debitis maiores illo quia\n",
    "maxime necessitatibus facere eveniet\"\"\"\n"
   ]
  },
  {
   "cell_type": "code",
   "execution_count": null,
   "id": "36eb5087",
   "metadata": {
    "ExecuteTime": {
     "end_time": "2023-11-28T12:32:49.614083Z",
     "start_time": "2023-11-28T12:32:49.597064Z"
    }
   },
   "outputs": [],
   "source": []
  },
  {
   "cell_type": "markdown",
   "id": "7462fdb5",
   "metadata": {},
   "source": [
    "## 2.3. Ausgabe der Häufigkeit (2 Punkte)\n",
    "\n",
    "Geben Sie die Häufigkeit der Buchstabenpaare, wie hier unten gezeigt aus. Achten Sie darauf, das die Ausgabe nach aufsteigender Reihenfolge der Buchstabenpaare erfolgt. Es sollen folgende Daten ausgegeben werden:\n",
    "+ (I) die absolute Anzahl, \n",
    "+ (II) die relative Buchstabenpaarhäufigkeit, also Anzahl eines Buchstabenpaares relativ zur Anzahl des häufigsten Buchstabenpaares.\n",
    "+ (III) eine Balkengrafik mit `=`-Symbolen der relativen Buchstabenpaarhäufigkeit, also (II). Diese Grafik wird so skaliert, dass der grösste Wert der Buchstabenhäufigkeit 50 `=`-Symbolen entspricht.\n",
    "\n",
    "Beispielausgabe:\n",
    "> Zahlenwerte und Prozente entsprechen nicht notwendigerweise dem oben stehenden Beispieltext\n",
    "\n",
    "> Die Spaltenüberschriften (I), (II), (III) und der Trennstrich müssen nicht mitausgegeben werden."
   ]
  },
  {
   "cell_type": "raw",
   "id": "5a2243f5",
   "metadata": {},
   "source": [
    "                 (I)    (II)   (III)\n",
    "--------------------------------------------------------------------------------------\n",
    "h['aa'] =          0     0%   |\n",
    "h['ab'] =          4    16%   |========\n",
    "h['ac'] =          4    16%   |========\n",
    "h['ad'] =          2     8%   |====\n",
    "h['ae'] =          6    24%   |============\n",
    "h['af'] =          0     0%   |\n",
    "...\n",
    "h['zu'] =          0     0%   |\n",
    "h['zv'] =          0     0%   |\n",
    "h['zw'] =          0     0%   |\n",
    "h['zx'] =          0     0%   |\n",
    "h['zy'] =          0     0%   |\n",
    "h['zz'] =          0     0%   |\n"
   ]
  },
  {
   "cell_type": "code",
   "execution_count": 3,
   "id": "876029b5",
   "metadata": {
    "ExecuteTime": {
     "end_time": "2023-11-28T12:42:38.137041Z",
     "start_time": "2023-11-28T12:42:38.109351Z"
    }
   },
   "outputs": [
    {
     "name": "stdout",
     "output_type": "stream",
     "text": [
      "                 (I)    (II)   (III)\n"
     ]
    }
   ],
   "source": [
    "print('                 (I)    (II)   (III)')\n",
    "\n",
    "\n"
   ]
  },
  {
   "cell_type": "markdown",
   "id": "5d5cf356",
   "metadata": {},
   "source": [
    "# Aufgabe 3: Text\n",
    "\n",
    "Bearbeiten sie die nachstehenden Teilaufgaben mit folgendem Beispieltext (`txt_example`):"
   ]
  },
  {
   "cell_type": "code",
   "execution_count": 4,
   "id": "4e970add",
   "metadata": {
    "ExecuteTime": {
     "end_time": "2023-11-28T12:43:15.411791Z",
     "start_time": "2023-11-28T12:43:15.397Z"
    }
   },
   "outputs": [],
   "source": [
    "txt_example = \"\"\"\n",
    "voluptatum ipsa veniam sed optio harum voluptas quidem dolorum quibusdam nostrum\n",
    "officiis quis ut qui adipisci sequi voluptate iusto dicta nesciunt expedita nulla\n",
    "repudiandae neque perspiciatis omnis impedit provident cum natus unde ratione\n",
    "itaque nihil commodi dolor cupiditate minima eos veritatis officia minus molestias\n",
    "saepe blanditiis magni rem alias aperiam consequuntur obcaecati doloremque suscipit\n",
    "quos tempore voluptates vel magnam a beatae sint perferendis tenetur dolore aut\n",
    "quaerat possimus consequatur nisi ea voluptatem exercitationem temporibus odio fuga\n",
    "atque esse rerum laborum quisquam quam at quas accusantium fugiat reprehenderit\n",
    "soluta ad ab architecto placeat accusamus inventore modi explicabo enim eius illum\n",
    "mollitia quo culpa corrupti eaque ipsam laudantium libero similique dignissimos error\n",
    "ullam earum ducimus est in repellat eum quasi hic animi nemo repellendus doloribus\n",
    "dolores reiciendis tempora fugit vitae distinctio autem numquam sit labore aliquid\n",
    "nobis cumque corporis non asperiores et iure consectetur debitis maiores illo quia\n",
    "maxime necessitatibus facere eveniet\"\"\"\n"
   ]
  },
  {
   "cell_type": "markdown",
   "id": "7f681b77",
   "metadata": {},
   "source": [
    "## 3.1 Tokenizer (1 Punkt)\n",
    "\n",
    "Nutzen sie Python, um beispielsweise den oben angegebenen Beispieltext (`txt_example`) in einzelne Worte aufzuteilen, die in einer Liste abgelegt werden.aufzu\n",
    "\n",
    "Beispielausgabe:"
   ]
  },
  {
   "cell_type": "raw",
   "id": "a539f326",
   "metadata": {},
   "source": [
    "['voluptatum', 'ipsa', 'veniam', 'sed', 'optio', 'harum', 'voluptas', 'quidem', 'dolorum', 'quibusdam', 'nostrum', 'officiis', 'quis', 'ut', 'qui', 'adipisci', 'sequi', 'voluptate', 'iusto', 'dicta', 'nesciunt', 'expedita', 'nulla', 'repudiandae', 'neque', 'perspiciatis', 'omnis', 'impedit', 'provident', 'cum', 'natus', 'unde', 'ratione', 'itaque', 'nihil', 'commodi', 'dolor', 'cupiditate', 'minima', ...\n"
   ]
  },
  {
   "cell_type": "code",
   "execution_count": 5,
   "id": "ccec76e8",
   "metadata": {
    "ExecuteTime": {
     "end_time": "2023-11-28T12:43:24.214357Z",
     "start_time": "2023-11-28T12:43:24.188612Z"
    }
   },
   "outputs": [
    {
     "data": {
      "text/plain": [
       "['voluptatum',\n",
       " 'ipsa',\n",
       " 'veniam',\n",
       " 'sed',\n",
       " 'optio',\n",
       " 'harum',\n",
       " 'voluptas',\n",
       " 'quidem',\n",
       " 'dolorum',\n",
       " 'quibusdam',\n",
       " 'nostrum',\n",
       " 'officiis',\n",
       " 'quis',\n",
       " 'ut',\n",
       " 'qui',\n",
       " 'adipisci',\n",
       " 'sequi',\n",
       " 'voluptate',\n",
       " 'iusto',\n",
       " 'dicta',\n",
       " 'nesciunt',\n",
       " 'expedita',\n",
       " 'nulla',\n",
       " 'repudiandae',\n",
       " 'neque',\n",
       " 'perspiciatis',\n",
       " 'omnis',\n",
       " 'impedit',\n",
       " 'provident',\n",
       " 'cum',\n",
       " 'natus',\n",
       " 'unde',\n",
       " 'ratione',\n",
       " 'itaque',\n",
       " 'nihil',\n",
       " 'commodi',\n",
       " 'dolor',\n",
       " 'cupiditate',\n",
       " 'minima',\n",
       " 'eos',\n",
       " 'veritatis',\n",
       " 'officia',\n",
       " 'minus',\n",
       " 'molestias',\n",
       " 'saepe',\n",
       " 'blanditiis',\n",
       " 'magni',\n",
       " 'rem',\n",
       " 'alias',\n",
       " 'aperiam',\n",
       " 'consequuntur',\n",
       " 'obcaecati',\n",
       " 'doloremque',\n",
       " 'suscipit',\n",
       " 'quos',\n",
       " 'tempore',\n",
       " 'voluptates',\n",
       " 'vel',\n",
       " 'magnam',\n",
       " 'a',\n",
       " 'beatae',\n",
       " 'sint',\n",
       " 'perferendis',\n",
       " 'tenetur',\n",
       " 'dolore',\n",
       " 'aut',\n",
       " 'quaerat',\n",
       " 'possimus',\n",
       " 'consequatur',\n",
       " 'nisi',\n",
       " 'ea',\n",
       " 'voluptatem',\n",
       " 'exercitationem',\n",
       " 'temporibus',\n",
       " 'odio',\n",
       " 'fuga',\n",
       " 'atque',\n",
       " 'esse',\n",
       " 'rerum',\n",
       " 'laborum',\n",
       " 'quisquam',\n",
       " 'quam',\n",
       " 'at',\n",
       " 'quas',\n",
       " 'accusantium',\n",
       " 'fugiat',\n",
       " 'reprehenderit',\n",
       " 'soluta',\n",
       " 'ad',\n",
       " 'ab',\n",
       " 'architecto',\n",
       " 'placeat',\n",
       " 'accusamus',\n",
       " 'inventore',\n",
       " 'modi',\n",
       " 'explicabo',\n",
       " 'enim',\n",
       " 'eius',\n",
       " 'illum',\n",
       " 'mollitia',\n",
       " 'quo',\n",
       " 'culpa',\n",
       " 'corrupti',\n",
       " 'eaque',\n",
       " 'ipsam',\n",
       " 'laudantium',\n",
       " 'libero',\n",
       " 'similique',\n",
       " 'dignissimos',\n",
       " 'error',\n",
       " 'ullam',\n",
       " 'earum',\n",
       " 'ducimus',\n",
       " 'est',\n",
       " 'in',\n",
       " 'repellat',\n",
       " 'eum',\n",
       " 'quasi',\n",
       " 'hic',\n",
       " 'animi',\n",
       " 'nemo',\n",
       " 'repellendus',\n",
       " 'doloribus',\n",
       " 'dolores',\n",
       " 'reiciendis',\n",
       " 'tempora',\n",
       " 'fugit',\n",
       " 'vitae',\n",
       " 'distinctio',\n",
       " 'autem',\n",
       " 'numquam',\n",
       " 'sit',\n",
       " 'labore',\n",
       " 'aliquid',\n",
       " 'nobis',\n",
       " 'cumque',\n",
       " 'corporis',\n",
       " 'non',\n",
       " 'asperiores',\n",
       " 'et',\n",
       " 'iure',\n",
       " 'consectetur',\n",
       " 'debitis',\n",
       " 'maiores',\n",
       " 'illo',\n",
       " 'quia',\n",
       " 'maxime',\n",
       " 'necessitatibus',\n",
       " 'facere',\n",
       " 'eveniet']"
      ]
     },
     "execution_count": 5,
     "metadata": {},
     "output_type": "execute_result"
    }
   ],
   "source": [
    "txt_example.split()"
   ]
  },
  {
   "cell_type": "markdown",
   "id": "1cca5149",
   "metadata": {},
   "source": [
    "## 3.2. Anfang Grossbuchstaben (1 Punkt)\n",
    "\n",
    "Nutzen sie Python, um alle Worte aus dem Beispieltext (`txt_example`) so umzuwandeln, das sie mit einem Grossbuchstaben beginnen und der Rest Kleinbuchstaben sind. Das Ergebnis soll wieder eine Zeichenkette sein, wie in der Beispielausgabe gezeigt.\n",
    "\n",
    "Beispielausgabe:"
   ]
  },
  {
   "cell_type": "raw",
   "id": "b207e096",
   "metadata": {},
   "source": [
    "Voluptatum Ipsa Veniam Sed Optio Harum Voluptas Quidem Dolorum Quibusdam Nostrum Officiis Quis Ut Qui Adipisci Sequi Voluptate Iusto Dicta Nesciunt Expedita Nulla Repudiandae Neque Perspiciatis Omnis Impedit Provident Cum Natus Unde Ratione Itaque Nihil Commodi Dolor Cupiditate Minima Eos Veritatis Officia Minus Molestias Saepe Blanditiis Magni Rem Alias ...\n"
   ]
  },
  {
   "cell_type": "code",
   "execution_count": 6,
   "id": "c1138990",
   "metadata": {},
   "outputs": [
    {
     "name": "stdout",
     "output_type": "stream",
     "text": [
      "Voluptatum Ipsa Veniam Sed Optio Harum Voluptas Quidem Dolorum Quibusdam Nostrum Officiis Quis Ut Qui Adipisci Sequi Voluptate Iusto Dicta Nesciunt Expedita Nulla Repudiandae Neque Perspiciatis Omnis Impedit Provident Cum Natus Unde Ratione Itaque Nihil Commodi Dolor Cupiditate Minima Eos Veritatis Officia Minus Molestias Saepe Blanditiis Magni Rem Alias Aperiam Consequuntur Obcaecati Doloremque Suscipit Quos Tempore Voluptates Vel Magnam A Beatae Sint Perferendis Tenetur Dolore Aut Quaerat Possimus Consequatur Nisi Ea Voluptatem Exercitationem Temporibus Odio Fuga Atque Esse Rerum Laborum Quisquam Quam At Quas Accusantium Fugiat Reprehenderit Soluta Ad Ab Architecto Placeat Accusamus Inventore Modi Explicabo Enim Eius Illum Mollitia Quo Culpa Corrupti Eaque Ipsam Laudantium Libero Similique Dignissimos Error Ullam Earum Ducimus Est In Repellat Eum Quasi Hic Animi Nemo Repellendus Doloribus Dolores Reiciendis Tempora Fugit Vitae Distinctio Autem Numquam Sit Labore Aliquid Nobis Cumque Corporis Non Asperiores Et Iure Consectetur Debitis Maiores Illo Quia Maxime Necessitatibus Facere Eveniet\n"
     ]
    }
   ],
   "source": [
    "print(' '.join([word.title() for word in txt_example.split()]))\n"
   ]
  },
  {
   "cell_type": "markdown",
   "id": "9b5e3834",
   "metadata": {},
   "source": [
    "## 3.3 Verschlüsselung (3 Punkte)\n",
    "\n",
    "Wandeln Sie den Beispieltext (`txt_example`) so um, das jeder Buchstabe des englischen Alphabets durch einen Buchstaben ersetzt wird, der 13 Buchstaben später liegt.\n",
    "\n",
    "> Hinweis: zum Testen können Sie diese Vorschrift einfach zwei Mal anwenden, um wieder den Originaltext bekommen."
   ]
  },
  {
   "cell_type": "markdown",
   "id": "7c37fe97",
   "metadata": {},
   "source": [
    "Beispiel:\n",
    "<br>\n",
    "<br>\n",
    "| a | b | c | d | e | f | g | h | i | j | k | l | m | n | o | p | q | r | s | t | u | v | w | x | y | z |\n",
    "|---|---|---|---|---|---|---|---|---|---|---|---|---|---|---|---|---|---|---|---|---|---|---|---|---|---|\n",
    "| n | o | p | q | r | s | t | u | v | w | x | y | z | a | b | c | d | e | f | g | h | i | j | k | l | m |"
   ]
  },
  {
   "cell_type": "code",
   "execution_count": 7,
   "id": "0323ee52",
   "metadata": {},
   "outputs": [
    {
     "ename": "TypeError",
     "evalue": "can only concatenate str (not \"int\") to str",
     "output_type": "error",
     "traceback": [
      "\u001b[0;31m---------------------------------------------------------------------------\u001b[0m",
      "\u001b[0;31mTypeError\u001b[0m                                 Traceback (most recent call last)",
      "Cell \u001b[0;32mIn[7], line 7\u001b[0m\n\u001b[1;32m      4\u001b[0m newtxt \u001b[38;5;241m=\u001b[39m \u001b[38;5;124m'\u001b[39m\u001b[38;5;124m'\u001b[39m\n\u001b[1;32m      6\u001b[0m \u001b[38;5;28;01mfor\u001b[39;00m letter \u001b[38;5;129;01min\u001b[39;00m txt_example\u001b[38;5;241m.\u001b[39mlower():\n\u001b[0;32m----> 7\u001b[0m     newtxt \u001b[38;5;241m+\u001b[39m\u001b[38;5;241m=\u001b[39m \u001b[38;5;28mchr\u001b[39m((\u001b[38;5;28mord\u001b[39m(letter) \u001b[38;5;241m-\u001b[39m \u001b[38;5;28mord\u001b[39m(\u001b[38;5;124;43m'\u001b[39;49m\u001b[38;5;124;43ma\u001b[39;49m\u001b[38;5;124;43m'\u001b[39;49m\u001b[43m \u001b[49m\u001b[38;5;241;43m+\u001b[39;49m\u001b[43m \u001b[49m\u001b[38;5;241;43m13\u001b[39;49m)) \u001b[38;5;241m%\u001b[39m \u001b[38;5;241m26\u001b[39m \u001b[38;5;241m+\u001b[39m \u001b[38;5;28mord\u001b[39m(\u001b[38;5;124m'\u001b[39m\u001b[38;5;124ma\u001b[39m\u001b[38;5;124m'\u001b[39m))\n\u001b[1;32m      9\u001b[0m \u001b[38;5;28mprint\u001b[39m(newtxt)\n",
      "\u001b[0;31mTypeError\u001b[0m: can only concatenate str (not \"int\") to str"
     ]
    }
   ],
   "source": [
    "# your code \n",
    "\n",
    "a = \"hello\"\n",
    "newtxt = ''\n",
    "\n",
    "for letter in txt_example.lower():\n",
    "    newtxt += chr((ord(letter) - ord('a' + 13)) % 26 + ord('a'))\n",
    "\n",
    "print(newtxt)\n"
   ]
  },
  {
   "cell_type": "markdown",
   "id": "17d96ce3",
   "metadata": {},
   "source": [
    "# Aufgabe 4: Numpy \n",
    "Die folgenden drei Teilaufgaben (4.1 - 4.3) sollten **nur** mit **Numpy-Funktionen** gelöst werden."
   ]
  },
  {
   "cell_type": "markdown",
   "id": "08ed747f",
   "metadata": {},
   "source": [
    "## 4.1 NumPy Fragen"
   ]
  },
  {
   "cell_type": "markdown",
   "id": "848df59c",
   "metadata": {},
   "source": [
    "### 4.1.1  Effiziente numerische Operationen (0.5 P)\n",
    "\n",
    "Was ist die primäre Datenstruktur von *NumPy* für effiziente numerische Operationen?\n",
    "\n",
    "a) Verknüpfte Listen\n",
    "\n",
    "b) Tupel\n",
    "\n",
    "c) Arrays und Matrizen\n",
    "\n",
    "d) Wörterbücher"
   ]
  },
  {
   "cell_type": "code",
   "execution_count": null,
   "id": "302a5f94",
   "metadata": {},
   "outputs": [],
   "source": [
    "# Antwort\n"
   ]
  },
  {
   "cell_type": "markdown",
   "id": "7aa50a9b",
   "metadata": {},
   "source": [
    "### 4.1.2 Broadcasting (1 P)\n",
    "In welchem Szenario ist das Broadcasting von NumPy besonders nützlich?\n",
    "\n",
    "a) Bei der Durchführung von String-Manipulationen auf Arrays.\n",
    "\n",
    "b) Bei der Arbeit mit Arrays, die nur die gleiche Form haben.\n",
    "\n",
    "c) Bei der Arbeit mit Arrays unterschiedlicher Form ohne explizite Loops oder Replikation.\n",
    "\n",
    "d) Broadcasting ist im numerischen Rechnen irrelevant."
   ]
  },
  {
   "cell_type": "code",
   "execution_count": null,
   "id": "7b4f8e70",
   "metadata": {},
   "outputs": [],
   "source": [
    "# Antwort\n"
   ]
  },
  {
   "cell_type": "markdown",
   "id": "de6180c6",
   "metadata": {},
   "source": [
    "### 4.1.3. Spaltennamen (0.5 P)\n",
    "Wie können Sie Spaltennamen zu einem *ndarray* in *NumPy* hinzufügen?"
   ]
  },
  {
   "cell_type": "code",
   "execution_count": null,
   "id": "ac81348d",
   "metadata": {},
   "outputs": [],
   "source": [
    "# Antwort\n"
   ]
  },
  {
   "cell_type": "markdown",
   "id": "d0a45bb6",
   "metadata": {},
   "source": [
    "## 4.2 Array, Mittelwert & Standartabweichung (2 Punkte)"
   ]
  },
  {
   "cell_type": "markdown",
   "id": "9bf0c569",
   "metadata": {},
   "source": [
    "Schreiben sie Python-Code, der:\n",
    "1) ein *Numpy*-Array mit Werten\n",
    "von 1 bis 10 (einschließlich) erzeugt; (1 P)\n",
    "2) den Mittelwert und die Standardabweichung des Arrays berechnet. (1 P)"
   ]
  },
  {
   "cell_type": "code",
   "execution_count": null,
   "id": "aac5d57a",
   "metadata": {},
   "outputs": [],
   "source": [
    "# your code here\n"
   ]
  },
  {
   "cell_type": "markdown",
   "id": "8f193392",
   "metadata": {},
   "source": [
    "## 4.3 Progressionen"
   ]
  },
  {
   "cell_type": "markdown",
   "id": "8905ab35",
   "metadata": {},
   "source": [
    "# 4.3.1 Geometrische Progression (2 Punkte)\n",
    "\n",
    "Schreiben sie eine Funktion, die für eine gegebene Anzahl von Termen $n$ eine Geometrische Progression mit einem gemeinsamen Verhältnis von zwei erzeugt (1, 2, 4, 8 ...).\n",
    "\n",
    "Hier ist ein Beispiel für eine geometrische Progression mit dem Anfangsterm $a$ und dem gemeinsamen Verhältnis $r$:\n",
    "\n",
    "\\begin{align*}\n",
    "\\quad & a, ar, ar^2, ar^3, \\ldots \\\\\n",
    "\\end{align*}\n"
   ]
  },
  {
   "cell_type": "code",
   "execution_count": null,
   "id": "0c37af2d",
   "metadata": {},
   "outputs": [],
   "source": [
    "import numpy as np\n",
    "\n",
    "# Geometric Progression with a common ratio of 2\n",
    "def geometric_progression(n):\n",
    "    # TODO: use np.XXXXspace() function to create a geometric progression\n",
    "    # your code here\n",
    "    return\n"
   ]
  },
  {
   "cell_type": "markdown",
   "id": "80562750",
   "metadata": {},
   "source": [
    "## 4.3.2 Arithmetische Progression (2P)\n",
    "\n",
    "Schreiben sie eine Funktion, die für eine gegebene Anzahl von Termen $n$ eine arithmetische Progression mit einer gemeinsamen Differenz von zwei erzeugt (1, 3, 5, 7 ...).\n",
    "\n",
    "Hier ist ein Beispiel für eine arithmetische Progression Progression mit dem Anfangsterm $a$ und der gemeinsamen Differenz $d$:\n",
    "\n",
    "\\begin{align*}\n",
    "\\quad & a, a+d, a+2d, a+3d, \\ldots \\\\\n",
    "\\end{align*}\n",
    "\n",
    "\n",
    "\n"
   ]
  },
  {
   "cell_type": "code",
   "execution_count": null,
   "id": "4d0ec6ea",
   "metadata": {},
   "outputs": [],
   "source": [
    "# Arithmetic Progression with a common difference of 2\n",
    "def arithmetic_progression(n):\n",
    "    # TODO: use np.YYYspace() function to create an arithmetic progression\n",
    "    # your code here\n",
    "    return\n"
   ]
  },
  {
   "cell_type": "markdown",
   "id": "57473c3e",
   "metadata": {},
   "source": [
    "# Aufgabe 5: Pandas \n",
    "\n",
    "Die folgenden beiden Aufgaben sollen **nur** mit den **Pandas-Funktionen** gelöst werden."
   ]
  },
  {
   "cell_type": "markdown",
   "id": "3d15bccb",
   "metadata": {},
   "source": [
    "## 5.1 Dataframe\n",
    "\n",
    "### 5.1.1. Pandas-Series (1 Punkt)\n",
    "Erstellen sie eine Pandas-Series unter Verwendung eines Wörterbuchs mit benutzerdefinierten Indizes `['A', 'B', 'C', 'D', 'E']` und einigen Werten. "
   ]
  },
  {
   "cell_type": "code",
   "execution_count": null,
   "id": "30d5ff53",
   "metadata": {},
   "outputs": [],
   "source": [
    "# your code here\n"
   ]
  },
  {
   "cell_type": "markdown",
   "id": "a7f17e92",
   "metadata": {},
   "source": [
    "### 5.1.2. Pandas-DataFrame (1 Punkt)\n",
    "\n",
    "Erstellen sie einen Pandas-DataFrame aus 2 Pandas-Serien unter Verwendung eines Wörterbuchs. \n",
    "> Hinweis: Denken sie an die Indizes! "
   ]
  },
  {
   "cell_type": "code",
   "execution_count": null,
   "id": "0f86e204",
   "metadata": {},
   "outputs": [],
   "source": [
    "# your code here\n"
   ]
  },
  {
   "cell_type": "markdown",
   "id": "daede8dc",
   "metadata": {},
   "source": [
    "### 5.1.3. Typen (0.5 Punkte)\n",
    "\n",
    "Wie erhalten sie die Typen der DataFrame-Spalten?"
   ]
  },
  {
   "cell_type": "code",
   "execution_count": null,
   "id": "e9f4ffe3",
   "metadata": {},
   "outputs": [],
   "source": [
    "# your code here\n"
   ]
  },
  {
   "cell_type": "markdown",
   "id": "3bb69359",
   "metadata": {},
   "source": [
    "### 5.1.4. Doppelte Zeilen (1.5 Punkte)\n",
    "\n",
    "Erzeugen sie Pandas DataFrame mit doppelten Zeilen, und zeigen sie, wie sie die doppelten Zeilen identifizieren und entfernen können. "
   ]
  },
  {
   "cell_type": "code",
   "execution_count": null,
   "id": "d5b189af",
   "metadata": {},
   "outputs": [],
   "source": [
    "# your code here\n"
   ]
  },
  {
   "cell_type": "markdown",
   "id": "b9c4d788",
   "metadata": {},
   "source": [
    "## 5.2 Fächer (4 Punkten)\n",
    "\n",
    "Sie erhalten einen DataFrame mit den Namen und Fächern der Studenten. Der Code zur Erzeugung des DataFrame ist unten angegeben:"
   ]
  },
  {
   "cell_type": "code",
   "execution_count": null,
   "id": "3de4e809",
   "metadata": {
    "ExecuteTime": {
     "end_time": "2023-11-28T13:35:41.538322Z",
     "start_time": "2023-11-28T13:35:41.185541Z"
    }
   },
   "outputs": [],
   "source": [
    "import pandas as pd\n",
    "import numpy as np\n",
    "\n",
    "# Generating random data for demonstration purposes\n",
    "np.random.seed(42)  # for reproducibility\n",
    "\n",
    "# Sample data\n",
    "data = {\n",
    "    'first_name': ['John', 'Jane', 'Bob', 'Alice', 'Charlie', 'David', 'Emma', 'Frank', 'Grace', 'Henry'],\n",
    "    'last_name': ['Doe', 'Smith', 'Johnson', 'Williams', 'Brown', 'Miller', 'White', 'Davis', 'Jones', 'Taylor'],\n",
    "    'year_of_study': np.random.randint(1, 5, size=10),\n",
    "    'major': ['Computer Science', 'Biology', 'Physics', 'Mathematics', 'Chemistry', 'Economics', 'Statistics', 'Psychology', 'Sociology', 'History'],\n",
    "    'minor': ['Statistics', 'Chemistry', 'Computer Science', 'Economics', 'Mathematics', 'Political Science', 'Physics', 'Mathematics', 'Political Science', 'English'],\n",
    "    'grade': np.random.randint(60, 100, size=10),\n",
    "}\n",
    "\n",
    "# Creating a DataFrame\n",
    "df = pd.DataFrame(data)\n",
    "\n",
    "# Displaying the DataFrame\n",
    "print(df)\n"
   ]
  },
  {
   "cell_type": "markdown",
   "id": "ebf5102d",
   "metadata": {},
   "source": [
    "### 5.2.1. Zeilenzugriff (1 Punkt)\n",
    "Wie greift man auf den *\"Vornamen\"* und den *\"Nachnamen\"* aus Zeilen 5 und 10 eines DataFrame zu?"
   ]
  },
  {
   "cell_type": "code",
   "execution_count": null,
   "id": "3774857e",
   "metadata": {},
   "outputs": [],
   "source": [
    "# your code here\n"
   ]
  },
  {
   "cell_type": "markdown",
   "id": "13f193d1",
   "metadata": {},
   "source": [
    "### 5.2.2. Sortieren (2 Punkte)\n",
    "\n",
    "Wie kann man den DataFrame nach den Spalten Studienjahr und Noten sortieren, wobei das Studienjahr aufsteigend und die Noten absteigend sortiert sind?"
   ]
  },
  {
   "cell_type": "code",
   "execution_count": null,
   "id": "704dc987",
   "metadata": {},
   "outputs": [],
   "source": [
    "# your code here\n"
   ]
  },
  {
   "cell_type": "markdown",
   "id": "29215354",
   "metadata": {},
   "source": [
    "### 5.2.3.Indizierung (1 Punkt)\n",
    "Finden sie mithilfe der Booleschen Indizierung nur die Studenten, die Informatik als Haupt- oder Nebenfach haben."
   ]
  },
  {
   "cell_type": "code",
   "execution_count": null,
   "id": "65055e47",
   "metadata": {},
   "outputs": [],
   "source": [
    "# your code here\n"
   ]
  },
  {
   "cell_type": "markdown",
   "id": "3606e300",
   "metadata": {},
   "source": [
    "# Aufgabe 6: PyTest"
   ]
  },
  {
   "cell_type": "markdown",
   "id": "d88ccbb2",
   "metadata": {},
   "source": [
    "## 6.1 assert (0.5 Punkte)\n",
    "\n",
    "Was ist der Zweck der *assert*-Anweisung in *PyTest*?\n",
    "\n",
    "a) Sie wird für die Definition von Testfixtures verwendet.\n",
    "\n",
    "b) Sie wird verwendet, um einen Testfall zu definieren.\n",
    "\n",
    "c) Sie wird verwendet, um Behauptungen über das Verhalten des getesteten Codes aufzustellen.\n",
    "\n",
    "d) Sie ist ein Dekorator zur Markierung von Testfunktionen."
   ]
  },
  {
   "cell_type": "code",
   "execution_count": null,
   "id": "d3607b27",
   "metadata": {},
   "outputs": [],
   "source": [
    "b"
   ]
  },
  {
   "cell_type": "markdown",
   "id": "d6ebb7a6",
   "metadata": {},
   "source": [
    "## 6.2 Kommandozeile (0.5 Punkte)\n",
    "\n",
    "Welcher Befehl wird verwendet, um *PyTest*-Tests von der Kommandozeile aus auszuführen?\n",
    "\n",
    "a) `run_tests.py`\n",
    "\n",
    "b) `pytest`\n",
    "\n",
    "c) `test.py`\n",
    "\n",
    "d) `python -m unittest`"
   ]
  },
  {
   "cell_type": "code",
   "execution_count": null,
   "id": "f6988ed7",
   "metadata": {},
   "outputs": [],
   "source": [
    "# Antwort\n"
   ]
  },
  {
   "cell_type": "markdown",
   "id": "50c9bb7d",
   "metadata": {},
   "source": [
    "## 6.3 Testfall (1 Punkt)\n",
    "Stellen sie sich vor, ihre Funktion ist in einem Modul mit dem Namen *calculator.py* definiert. Der Inhalt des Moduls ist in der Zelle unten angegeben. "
   ]
  },
  {
   "cell_type": "code",
   "execution_count": null,
   "id": "01f16bd3",
   "metadata": {},
   "outputs": [],
   "source": [
    "# calculator.py\n",
    "\n",
    "def add_numbers(a, b):\n",
    "    return a + b\n"
   ]
  },
  {
   "cell_type": "markdown",
   "id": "4b5060fc",
   "metadata": {},
   "source": [
    "Stellen wir uns vor, dass Sie in der Datei *test_calculator.py* den Testfall mit Pytest schreiben wollen.  Der Inhalt von test_calculator.py ist in der Zelle unten angegeben. \n",
    "\n",
    "Schreiben Sie den PyTest-Testfall für die oben definierte Funktion *add_numbers* in der Zelle unten (wo # TODO steht). \n",
    "\n",
    "Hinweis: Sie sollten keine .py-Dateien schreiben und Pytest tatsächlich ausführen, wir nehmen nur an, dass Sie .py-Dateien haben. "
   ]
  },
  {
   "cell_type": "code",
   "execution_count": null,
   "id": "27c6032d",
   "metadata": {},
   "outputs": [],
   "source": [
    "# test_calculator.py\n",
    "\n",
    "from calculator import add_numbers\n",
    "\n",
    "# TODO: write a test for the add_numbers() function\n"
   ]
  },
  {
   "cell_type": "markdown",
   "id": "b6ee0f2a",
   "metadata": {},
   "source": [
    "# Aufgabe 7: Files (2 Punkte)\n",
    "\n",
    "Erstellen sie ein Python-Programm, das eine Liste von Zahlen aus einer einer Datei namens *\"numbers.txt\"* liest und ihre Summe berechnet. \n",
    "Jede Zahl steht in einer eigenen Zeile in der Datei. Speichern sie das Ergebnis in einer neuen Datei namens *\"sum.txt\"*. \n",
    "\n",
    "Beispielinhalt der Datei *numbers.txt* (als Datei vorhanden):"
   ]
  },
  {
   "cell_type": "raw",
   "id": "f4f14b6e",
   "metadata": {},
   "source": [
    "# numbers.txt inhalt\n",
    "1\n",
    "2\n",
    "3\n",
    "4\n",
    "5\n"
   ]
  },
  {
   "cell_type": "code",
   "execution_count": null,
   "id": "53af1531",
   "metadata": {
    "scrolled": true
   },
   "outputs": [],
   "source": [
    "sm = 0\n",
    "number_list = []\n",
    "\n",
    "with open('numbers.txt', mode='r') as nrs:\n",
    "    print(nrs)\n",
    "    number_list = [int(nr) for nr in nrs.readlines()]\n",
    "    print(number_list)\n",
    "\n",
    "sm = sum(number_list)\n",
    "\n",
    "with open('sum.txt', mode='w') as sum_file:\n",
    "    sum_file.write(str(sm))"
   ]
  },
  {
   "cell_type": "code",
   "execution_count": null,
   "id": "4c91b9d1-7c32-477d-afcf-d8b7f57df444",
   "metadata": {},
   "outputs": [],
   "source": []
  },
  {
   "cell_type": "code",
   "execution_count": null,
   "id": "2a7d0fef-7e7d-4d90-a1b1-81b326d0bf70",
   "metadata": {},
   "outputs": [],
   "source": []
  }
 ],
 "metadata": {
  "kernelspec": {
   "display_name": "Python 3 (ipykernel)",
   "language": "python",
   "name": "python3"
  },
  "language_info": {
   "codemirror_mode": {
    "name": "ipython",
    "version": 3
   },
   "file_extension": ".py",
   "mimetype": "text/x-python",
   "name": "python",
   "nbconvert_exporter": "python",
   "pygments_lexer": "ipython3",
   "version": "3.11.5"
  },
  "vscode": {
   "interpreter": {
    "hash": "aee8b7b246df8f9039afb4144a1f6fd8d2ca17a180786b69acc140d282b71a49"
   }
  }
 },
 "nbformat": 4,
 "nbformat_minor": 5
}
