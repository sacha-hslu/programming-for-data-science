{
 "cells": [
  {
   "cell_type": "markdown",
   "metadata": {},
   "source": [
    "# 8.7 Recap: Wiederholung des ersten Teils der Vorlesungen (1-7)"
   ]
  },
  {
   "cell_type": "code",
   "execution_count": 2,
   "metadata": {},
   "outputs": [],
   "source": [
    "import pytest\n",
    "import ipytest\n",
    "ipytest.autoconfig()\n",
    "import pylint\n"
   ]
  },
  {
   "cell_type": "markdown",
   "metadata": {},
   "source": [
    "<font size=\"3.5\"> wenn Module nicht importiert werden können, geben Sie folgenden Befehl im Terminal ein: \n",
    "\n",
    "pip install pytest pylint ipytest\n",
    "\n",
    "oder in der Zelle des Jupyter-Notebooks:\n",
    "\n",
    "!pip install pytest pylint ipytest\n",
    "</font>"
   ]
  },
  {
   "cell_type": "markdown",
   "metadata": {},
   "source": [
    "<font size=\"3.5\">\n",
    "Für Anaconda Distribution: conda install pytest pylint ipytest -c conda-forge --yes\n",
    "</font>"
   ]
  },
  {
   "cell_type": "markdown",
   "metadata": {},
   "source": [
    "# 8.7.1 Funktionen"
   ]
  },
  {
   "cell_type": "markdown",
   "metadata": {},
   "source": [
    "Write a Python function to check whether a number is \"Perfect\" or not.\n",
    "\n",
    "According to Wikipedia : In number theory, a perfect number is a positive integer that is equal to the sum of its proper positive divisors, that is, the sum of its positive divisors excluding the number itself. \n",
    "\n",
    "Example : The first perfect number is 6, because 1, 2, and 3 are its proper positive divisors, and 1 + 2 + 3 = 6. The next perfect number is 28 = 1 + 2 + 4 + 7 + 14. This is followed by the perfect numbers 496 and 8128."
   ]
  },
  {
   "cell_type": "markdown",
   "metadata": {},
   "source": [
    "<font size = \"3.5\">\n",
    "\n",
    "Schreibe eine Python-Funktion, die prüft, ob eine Zahl \"perfekt\" ist oder nicht.\n",
    "\n",
    "Laut Wikipedia : In der Zahlentheorie ist eine perfekte Zahl eine positive ganze Zahl, die gleich der Summe ihrer eigenen positiven Teiler ist, d.h. der Summe ihrer positiven Teiler ohne die Zahl selbst. \n",
    "\n",
    "Beispiel: Die erste vollkommene Zahl ist 6, denn 1, 2 und 3 sind ihre positiven Teiler, und 1 + 2 + 3 = 6. Die nächste vollkommene Zahl ist 28 = 1 + 2 + 4 + 7 + 14. Es folgen die vollkommenen Zahlen 496 und 8128.\n",
    "\n",
    "</font>"
   ]
  },
  {
   "cell_type": "code",
   "execution_count": 4,
   "metadata": {},
   "outputs": [
    {
     "name": "stdout",
     "output_type": "stream",
     "text": [
      "True\n"
     ]
    }
   ],
   "source": [
    "def perfect_number(n):\n",
    "    sum = 0\n",
    "    for x in range(1, n):\n",
    "        if n % x == 0:\n",
    "            sum += x\n",
    "    return sum == n\n",
    "\n",
    "print(perfect_number(6))\n"
   ]
  },
  {
   "cell_type": "markdown",
   "metadata": {},
   "source": [
    "<font size = \"3.5\">\n",
    "\n",
    "Schreiben Sie Testfälle für 6, 28, 12, 496 und 8128.\n",
    "\n",
    "</font>"
   ]
  },
  {
   "cell_type": "code",
   "execution_count": 5,
   "metadata": {},
   "outputs": [
    {
     "name": "stdout",
     "output_type": "stream",
     "text": [
      "Test case 1 passed\n",
      "Test case 2 passed\n",
      "Test case 3 passed\n",
      "Test case 4 passed\n",
      "Test case 5 passed\n"
     ]
    }
   ],
   "source": [
    "# Hier Testfäalle definieren mit assert\n",
    "\n",
    "def test_perfect_number():\n",
    "    try:\n",
    "        assert perfect_number(6) == True\n",
    "        print(\"Test case 1 passed\")\n",
    "    except AssertionError:\n",
    "        print(\"Test case 1 failed\")\n",
    "\n",
    "    try:\n",
    "        assert perfect_number(28) == True\n",
    "        print(\"Test case 2 passed\")\n",
    "    except AssertionError:\n",
    "        print(\"Test case 2 failed\")\n",
    "\n",
    "    try:\n",
    "        assert perfect_number(12) == False\n",
    "        print(\"Test case 3 passed\")\n",
    "    except AssertionError:\n",
    "        print(\"Test case 3 failed\")\n",
    "\n",
    "    try:\n",
    "        assert perfect_number(496) == True\n",
    "        print(\"Test case 4 passed\")\n",
    "    except AssertionError:\n",
    "        print(\"Test case 4 failed\")\n",
    "\n",
    "    try:\n",
    "        assert perfect_number(8128) == True\n",
    "        print(\"Test case 5 passed\")\n",
    "    except AssertionError:\n",
    "        print(\"Test case 5 failed\")\n",
    "\n",
    "test_perfect_number()\n"
   ]
  },
  {
   "cell_type": "markdown",
   "metadata": {},
   "source": [
    "<font size=\"3.5\">\n",
    "\n",
    "Info: assertion error in Python: https://www.geeksforgeeks.org/python-assertion-error/\n",
    "\n",
    "Buch P.Deitel & H.Deitel: Abschnitt 9.10 -- 9.11 \n",
    "\n",
    "</font>"
   ]
  },
  {
   "cell_type": "markdown",
   "metadata": {},
   "source": [
    "# 8.7.2 Listen und Tupel"
   ]
  },
  {
   "cell_type": "markdown",
   "metadata": {},
   "source": [
    "<font size=\"5\"> Übung Listen </font>"
   ]
  },
  {
   "cell_type": "markdown",
   "metadata": {},
   "source": [
    "You are given an N-dimensional array (a nested list) and your task is to convert it into a 1D array. The N-dimensional array can have any number of nested lists and each nested list can contain any number of elements. The elements in the nested lists are integers. Write a function that takes an N-dimensional array as input and returns a 1D array."
   ]
  },
  {
   "cell_type": "markdown",
   "metadata": {},
   "source": [
    "<font size=\"3.5\"> Sie erhalten ein N-dimensionales Array (eine verschachtelte Liste) und Ihre Aufgabe besteht darin, es in ein 1D-Array umzuwandeln. Das N-dimensionale Array kann eine beliebige Anzahl von verschachtelten Listen haben und jede verschachtelte Liste kann eine beliebige Anzahl von Elementen enthalten. Die Elemente in den verschachtelten Listen sind ganze Zahlen. Schreiben Sie eine Funktion, die ein N-dimensionales Array als Eingabe nimmt und ein 1D-Array zurückgibt. </font>"
   ]
  },
  {
   "cell_type": "markdown",
   "metadata": {},
   "source": [
    "<font size = \"3.5\">\n",
    "\n",
    "Eingabe:\n",
    "\n",
    "array = [[1, 2], [3, 4], [5, 6]]\n",
    "\n",
    "Ausgabe:\n",
    "\n",
    "flatten_array(array) -> [1, 2, 3, 4, 5, 6]\n",
    "\n",
    "</font>\n"
   ]
  },
  {
   "cell_type": "code",
   "execution_count": 6,
   "metadata": {},
   "outputs": [],
   "source": [
    "def flatten_array(array):\n",
    "    result = []\n",
    "    for i in array:\n",
    "        if isinstance(i, list):\n",
    "            result.extend(flatten_array(i))\n",
    "        else:\n",
    "            result.append(i)\n",
    "    return result\n"
   ]
  },
  {
   "cell_type": "markdown",
   "metadata": {},
   "source": [
    "<font size = \"3.5\"> \n",
    "\n",
    "Info: append() and extend() in Python: https://www.geeksforgeeks.org/append-extend-python/ \n",
    "\n",
    "recursion in Python: https://www.codecademy.com/learn/learn-recursion-python/modules/recursion-python/cheatsheet\n",
    "\n",
    "</font>"
   ]
  },
  {
   "cell_type": "code",
   "execution_count": 7,
   "metadata": {},
   "outputs": [
    {
     "data": {
      "text/plain": [
       "[1, 2, 3, 4, 5, 6, 7, 8, 9]"
      ]
     },
     "execution_count": 7,
     "metadata": {},
     "output_type": "execute_result"
    }
   ],
   "source": [
    "input = [1, 2, [3, 4, [5, 6], 7], 8, 9]\n",
    "output = flatten_array(input)\n",
    "output\n"
   ]
  },
  {
   "cell_type": "markdown",
   "metadata": {},
   "source": [
    "<font size=\"3.5\"> Ausführen Sie Pytest im Notebook mit ipytest: https://github.com/chmp/ipytest\n",
    "\n",
    "Um pytest auszuführen, verwenden Sie ipytest magic wie im folgenden Code gezeigt  </font>"
   ]
  },
  {
   "cell_type": "code",
   "execution_count": 8,
   "metadata": {},
   "outputs": [
    {
     "name": "stdout",
     "output_type": "stream",
     "text": [
      "\u001b[32m.\u001b[0m\u001b[32m                                                                                            [100%]\u001b[0m\n",
      "\u001b[32m\u001b[32m\u001b[1m1 passed\u001b[0m\u001b[32m in 0.01s\u001b[0m\u001b[0m\n"
     ]
    }
   ],
   "source": [
    "%%ipytest\n",
    "\n",
    "def test_flatten_array():\n",
    "    # Test empty list\n",
    "    assert flatten_array([]) == []\n",
    "\n",
    "    # Test 1D list\n",
    "    assert flatten_array([1, 2, 3]) == [1, 2, 3]\n",
    "\n",
    "    # Test nested list\n",
    "    assert flatten_array([1, [2, 3], 4]) == [1, 2, 3, 4]\n",
    "\n",
    "    # Test deeply nested list\n",
    "    assert flatten_array([1, [2, [3, [4]]]]) == [1, 2, 3, 4]\n",
    "\n",
    "    # Test list with multiple types\n",
    "    assert flatten_array([1, [2, '3'], {'four': 4}]) == [1, 2, '3', {'four': 4}]\n"
   ]
  },
  {
   "cell_type": "markdown",
   "metadata": {},
   "source": [
    "<font size = \"3.5\">\n",
    "\n",
    "Alternativ können Sie pytest mit der !pytest-Syntax ausführen, aber Sie müssen zuerst eine .py-Datei im Ordner tests mit dem Präfix test_ und dem Namen der Funktion, die Sie testen wollen, erstellen. \n",
    "\n",
    "Auch müssen Sie eine .py-Datei für Ihre flatten_array-Funktion mit dem entsprechenden Namen erstellen. \n",
    "\n",
    "</font>"
   ]
  },
  {
   "cell_type": "code",
   "execution_count": 9,
   "metadata": {},
   "outputs": [
    {
     "name": "stdout",
     "output_type": "stream",
     "text": [
      "\u001b[1m============================= test session starts ==============================\u001b[0m\n",
      "platform linux -- Python 3.10.6, pytest-7.4.3, pluggy-1.3.0\n",
      "rootdir: /home/aygul_unix/Projects/HSLU_VScode_Git_PyTest_Vorlesung\n",
      "plugins: anyio-3.7.1\n",
      "collected 1 item                                                               \u001b[0m\n",
      "\n",
      "tests/test_flatten_array.py \u001b[32m.\u001b[0m\u001b[32m                                            [100%]\u001b[0m\n",
      "\n",
      "\u001b[32m============================== \u001b[32m\u001b[1m1 passed\u001b[0m\u001b[32m in 0.01s\u001b[0m\u001b[32m ===============================\u001b[0m\n"
     ]
    }
   ],
   "source": [
    "!pytest tests/test_flatten_array.py\n"
   ]
  },
  {
   "cell_type": "markdown",
   "metadata": {},
   "source": [
    "<font size=\"3.5\">\n",
    "\n",
    "Sobald wir eine .py Datei für unsere flatten_array Funktion haben, können wir pylint mit ! Syntax.\n",
    "\n",
    "</font>"
   ]
  },
  {
   "cell_type": "code",
   "execution_count": 10,
   "metadata": {},
   "outputs": [
    {
     "name": "stdout",
     "output_type": "stream",
     "text": [
      "************* Module flatten_array\n",
      "flatten_array.py:1:0: C0114: Missing module docstring (missing-module-docstring)\n",
      "flatten_array.py:2:0: C0116: Missing function or method docstring (missing-function-docstring)\n",
      "\n",
      "------------------------------------------------------------------\n",
      "Your code has been rated at 7.14/10 (previous run: 7.14/10, +0.00)\n",
      "\n"
     ]
    }
   ],
   "source": [
    "!pylint flatten_array.py\n"
   ]
  },
  {
   "cell_type": "markdown",
   "metadata": {},
   "source": [
    "<font size=\"3.5\"> Versuchen Sie, fehlende docstrings hinzuzufügen und pylint erneut auszuführen. </font>"
   ]
  },
  {
   "cell_type": "code",
   "execution_count": 11,
   "metadata": {},
   "outputs": [],
   "source": [
    "# Hier !pylint flatten_array.py erneut ausführen\n"
   ]
  },
  {
   "cell_type": "markdown",
   "metadata": {},
   "source": [
    "<font size=\"5\"> Übung Tuple </font>"
   ]
  },
  {
   "cell_type": "markdown",
   "metadata": {},
   "source": [
    "You are given a list of tuples, each containing two integers. Your task is to implement a Python function that performs the following operations:\n",
    "\n",
    "Sort the list of tuples based on the first element of each tuple in ascending order.\n",
    "\n",
    "Then, sort the list based on the second element of each tuple in descending order.\n",
    "\n",
    "Finally, return the sorted list."
   ]
  },
  {
   "cell_type": "markdown",
   "metadata": {},
   "source": [
    "<font size=\"3.5\">\n",
    "\n",
    "Sie erhalten eine Liste von Tupeln, die jeweils zwei ganze Zahlen enthalten. Ihre Aufgabe ist es, eine Python-Funktion zu implementieren, die die folgenden Operationen ausführt:\n",
    "\n",
    "Sortieren Sie die Liste der Tupel nach dem ersten Element eines jeden Tupels in aufsteigender Reihenfolge.\n",
    "\n",
    "Dann sortieren Sie die Liste nach dem zweiten Element jedes Tupels in absteigender Reihenfolge.\n",
    "\n",
    "Schließlich wird die sortierte Liste zurückgegeben.\n",
    "\n",
    "</font>"
   ]
  },
  {
   "cell_type": "code",
   "execution_count": 12,
   "metadata": {},
   "outputs": [],
   "source": [
    "def sort_tuples(lst):\n",
    "    # Sort based on first element in ascending order\n",
    "    lst.sort(key=lambda x: x[0])\n",
    "\n",
    "    # Sort based on second element in descending order\n",
    "    lst.sort(key=lambda x: x[1], reverse=True)\n",
    "\n",
    "    return lst\n"
   ]
  },
  {
   "cell_type": "markdown",
   "metadata": {},
   "source": [
    "<font size=\"3.5\"> Lambda functions in Python: \n",
    "Buch P.Deitel & H.Deitel Abschnitt 5.14 \"Filter, Map and Reduce\" </font>"
   ]
  },
  {
   "cell_type": "code",
   "execution_count": 13,
   "metadata": {},
   "outputs": [
    {
     "data": {
      "text/plain": [
       "[(5, 5), (1, 4), (2, 3), (3, 2)]"
      ]
     },
     "execution_count": 13,
     "metadata": {},
     "output_type": "execute_result"
    }
   ],
   "source": [
    "tuples = [(3, 2), (1, 4), (5, 5), (2, 3)]\n",
    "result = sort_tuples(tuples)\n",
    "# The result should be [(5, 5), (1, 4), (2, 3), (3, 2)]\n",
    "result\n"
   ]
  },
  {
   "cell_type": "markdown",
   "metadata": {},
   "source": [
    "<font size=\"3.5\">\n",
    "Schreiben Sie pytest mit parametrization. \n",
    "</font>"
   ]
  },
  {
   "cell_type": "code",
   "execution_count": 14,
   "metadata": {},
   "outputs": [
    {
     "name": "stdout",
     "output_type": "stream",
     "text": [
      "\u001b[32m.\u001b[0m\u001b[32m.\u001b[0m\u001b[31mF\u001b[0m\u001b[31mF\u001b[0m\u001b[31mF\u001b[0m\u001b[31m                                                                                        [100%]\u001b[0m\n",
      "============================================= FAILURES =============================================\n",
      "\u001b[31m\u001b[1m__________________________ test_sort_tuples[input_list2-expected_output2] __________________________\u001b[0m\n",
      "\n",
      "input_list = [(3, 4), (1, 2), (2, 1)], expected_output = [(2, 1), (3, 4), (1, 2)]\n",
      "\n",
      "    \u001b[37m@pytest\u001b[39;49;00m.mark.parametrize(\u001b[33m\"\u001b[39;49;00m\u001b[33minput_list, expected_output\u001b[39;49;00m\u001b[33m\"\u001b[39;49;00m, [\u001b[90m\u001b[39;49;00m\n",
      "        ([], []),\u001b[90m\u001b[39;49;00m\n",
      "        ([(\u001b[94m1\u001b[39;49;00m, \u001b[94m2\u001b[39;49;00m)], [(\u001b[94m1\u001b[39;49;00m, \u001b[94m2\u001b[39;49;00m)]),\u001b[90m\u001b[39;49;00m\n",
      "        ([(\u001b[94m1\u001b[39;49;00m, \u001b[94m2\u001b[39;49;00m), (\u001b[94m3\u001b[39;49;00m, \u001b[94m4\u001b[39;49;00m), (\u001b[94m2\u001b[39;49;00m, \u001b[94m1\u001b[39;49;00m)], [(\u001b[94m2\u001b[39;49;00m, \u001b[94m1\u001b[39;49;00m), (\u001b[94m3\u001b[39;49;00m, \u001b[94m4\u001b[39;49;00m), (\u001b[94m1\u001b[39;49;00m, \u001b[94m2\u001b[39;49;00m)]),\u001b[90m\u001b[39;49;00m\n",
      "        ([(\u001b[94m1\u001b[39;49;00m, \u001b[94m2\u001b[39;49;00m), (\u001b[94m3\u001b[39;49;00m, \u001b[94m4\u001b[39;49;00m), (\u001b[94m1\u001b[39;49;00m, \u001b[94m1\u001b[39;49;00m)], [(\u001b[94m1\u001b[39;49;00m, \u001b[94m2\u001b[39;49;00m), (\u001b[94m3\u001b[39;49;00m, \u001b[94m4\u001b[39;49;00m), (\u001b[94m1\u001b[39;49;00m, \u001b[94m1\u001b[39;49;00m)]),\u001b[90m\u001b[39;49;00m\n",
      "        ([(\u001b[94m1\u001b[39;49;00m, \u001b[94m2\u001b[39;49;00m), (\u001b[94m3\u001b[39;49;00m, \u001b[94m4\u001b[39;49;00m), (\u001b[94m2\u001b[39;49;00m, \u001b[94m2\u001b[39;49;00m)], [(\u001b[94m3\u001b[39;49;00m, \u001b[94m4\u001b[39;49;00m), (\u001b[94m2\u001b[39;49;00m, \u001b[94m2\u001b[39;49;00m), (\u001b[94m1\u001b[39;49;00m, \u001b[94m2\u001b[39;49;00m)])\u001b[90m\u001b[39;49;00m\n",
      "    ])\u001b[90m\u001b[39;49;00m\n",
      "    \u001b[94mdef\u001b[39;49;00m \u001b[92mtest_sort_tuples\u001b[39;49;00m(input_list, expected_output):\u001b[90m\u001b[39;49;00m\n",
      ">       \u001b[94massert\u001b[39;49;00m sort_tuples(input_list) == expected_output\u001b[90m\u001b[39;49;00m\n",
      "\u001b[1m\u001b[31mE       assert [(3, 4), (1, 2), (2, 1)] == [(2, 1), (3, 4), (1, 2)]\u001b[0m\n",
      "\u001b[1m\u001b[31mE         At index 0 diff: (3, 4) != (2, 1)\u001b[0m\n",
      "\u001b[1m\u001b[31mE         Use -v to get more diff\u001b[0m\n",
      "\n",
      "\u001b[1m\u001b[31m/tmp/ipykernel_27520/1407591663.py\u001b[0m:9: AssertionError\n",
      "\u001b[31m\u001b[1m__________________________ test_sort_tuples[input_list3-expected_output3] __________________________\u001b[0m\n",
      "\n",
      "input_list = [(3, 4), (1, 2), (1, 1)], expected_output = [(1, 2), (3, 4), (1, 1)]\n",
      "\n",
      "    \u001b[37m@pytest\u001b[39;49;00m.mark.parametrize(\u001b[33m\"\u001b[39;49;00m\u001b[33minput_list, expected_output\u001b[39;49;00m\u001b[33m\"\u001b[39;49;00m, [\u001b[90m\u001b[39;49;00m\n",
      "        ([], []),\u001b[90m\u001b[39;49;00m\n",
      "        ([(\u001b[94m1\u001b[39;49;00m, \u001b[94m2\u001b[39;49;00m)], [(\u001b[94m1\u001b[39;49;00m, \u001b[94m2\u001b[39;49;00m)]),\u001b[90m\u001b[39;49;00m\n",
      "        ([(\u001b[94m1\u001b[39;49;00m, \u001b[94m2\u001b[39;49;00m), (\u001b[94m3\u001b[39;49;00m, \u001b[94m4\u001b[39;49;00m), (\u001b[94m2\u001b[39;49;00m, \u001b[94m1\u001b[39;49;00m)], [(\u001b[94m2\u001b[39;49;00m, \u001b[94m1\u001b[39;49;00m), (\u001b[94m3\u001b[39;49;00m, \u001b[94m4\u001b[39;49;00m), (\u001b[94m1\u001b[39;49;00m, \u001b[94m2\u001b[39;49;00m)]),\u001b[90m\u001b[39;49;00m\n",
      "        ([(\u001b[94m1\u001b[39;49;00m, \u001b[94m2\u001b[39;49;00m), (\u001b[94m3\u001b[39;49;00m, \u001b[94m4\u001b[39;49;00m), (\u001b[94m1\u001b[39;49;00m, \u001b[94m1\u001b[39;49;00m)], [(\u001b[94m1\u001b[39;49;00m, \u001b[94m2\u001b[39;49;00m), (\u001b[94m3\u001b[39;49;00m, \u001b[94m4\u001b[39;49;00m), (\u001b[94m1\u001b[39;49;00m, \u001b[94m1\u001b[39;49;00m)]),\u001b[90m\u001b[39;49;00m\n",
      "        ([(\u001b[94m1\u001b[39;49;00m, \u001b[94m2\u001b[39;49;00m), (\u001b[94m3\u001b[39;49;00m, \u001b[94m4\u001b[39;49;00m), (\u001b[94m2\u001b[39;49;00m, \u001b[94m2\u001b[39;49;00m)], [(\u001b[94m3\u001b[39;49;00m, \u001b[94m4\u001b[39;49;00m), (\u001b[94m2\u001b[39;49;00m, \u001b[94m2\u001b[39;49;00m), (\u001b[94m1\u001b[39;49;00m, \u001b[94m2\u001b[39;49;00m)])\u001b[90m\u001b[39;49;00m\n",
      "    ])\u001b[90m\u001b[39;49;00m\n",
      "    \u001b[94mdef\u001b[39;49;00m \u001b[92mtest_sort_tuples\u001b[39;49;00m(input_list, expected_output):\u001b[90m\u001b[39;49;00m\n",
      ">       \u001b[94massert\u001b[39;49;00m sort_tuples(input_list) == expected_output\u001b[90m\u001b[39;49;00m\n",
      "\u001b[1m\u001b[31mE       assert [(3, 4), (1, 2), (1, 1)] == [(1, 2), (3, 4), (1, 1)]\u001b[0m\n",
      "\u001b[1m\u001b[31mE         At index 0 diff: (3, 4) != (1, 2)\u001b[0m\n",
      "\u001b[1m\u001b[31mE         Use -v to get more diff\u001b[0m\n",
      "\n",
      "\u001b[1m\u001b[31m/tmp/ipykernel_27520/1407591663.py\u001b[0m:9: AssertionError\n",
      "\u001b[31m\u001b[1m__________________________ test_sort_tuples[input_list4-expected_output4] __________________________\u001b[0m\n",
      "\n",
      "input_list = [(3, 4), (1, 2), (2, 2)], expected_output = [(3, 4), (2, 2), (1, 2)]\n",
      "\n",
      "    \u001b[37m@pytest\u001b[39;49;00m.mark.parametrize(\u001b[33m\"\u001b[39;49;00m\u001b[33minput_list, expected_output\u001b[39;49;00m\u001b[33m\"\u001b[39;49;00m, [\u001b[90m\u001b[39;49;00m\n",
      "        ([], []),\u001b[90m\u001b[39;49;00m\n",
      "        ([(\u001b[94m1\u001b[39;49;00m, \u001b[94m2\u001b[39;49;00m)], [(\u001b[94m1\u001b[39;49;00m, \u001b[94m2\u001b[39;49;00m)]),\u001b[90m\u001b[39;49;00m\n",
      "        ([(\u001b[94m1\u001b[39;49;00m, \u001b[94m2\u001b[39;49;00m), (\u001b[94m3\u001b[39;49;00m, \u001b[94m4\u001b[39;49;00m), (\u001b[94m2\u001b[39;49;00m, \u001b[94m1\u001b[39;49;00m)], [(\u001b[94m2\u001b[39;49;00m, \u001b[94m1\u001b[39;49;00m), (\u001b[94m3\u001b[39;49;00m, \u001b[94m4\u001b[39;49;00m), (\u001b[94m1\u001b[39;49;00m, \u001b[94m2\u001b[39;49;00m)]),\u001b[90m\u001b[39;49;00m\n",
      "        ([(\u001b[94m1\u001b[39;49;00m, \u001b[94m2\u001b[39;49;00m), (\u001b[94m3\u001b[39;49;00m, \u001b[94m4\u001b[39;49;00m), (\u001b[94m1\u001b[39;49;00m, \u001b[94m1\u001b[39;49;00m)], [(\u001b[94m1\u001b[39;49;00m, \u001b[94m2\u001b[39;49;00m), (\u001b[94m3\u001b[39;49;00m, \u001b[94m4\u001b[39;49;00m), (\u001b[94m1\u001b[39;49;00m, \u001b[94m1\u001b[39;49;00m)]),\u001b[90m\u001b[39;49;00m\n",
      "        ([(\u001b[94m1\u001b[39;49;00m, \u001b[94m2\u001b[39;49;00m), (\u001b[94m3\u001b[39;49;00m, \u001b[94m4\u001b[39;49;00m), (\u001b[94m2\u001b[39;49;00m, \u001b[94m2\u001b[39;49;00m)], [(\u001b[94m3\u001b[39;49;00m, \u001b[94m4\u001b[39;49;00m), (\u001b[94m2\u001b[39;49;00m, \u001b[94m2\u001b[39;49;00m), (\u001b[94m1\u001b[39;49;00m, \u001b[94m2\u001b[39;49;00m)])\u001b[90m\u001b[39;49;00m\n",
      "    ])\u001b[90m\u001b[39;49;00m\n",
      "    \u001b[94mdef\u001b[39;49;00m \u001b[92mtest_sort_tuples\u001b[39;49;00m(input_list, expected_output):\u001b[90m\u001b[39;49;00m\n",
      ">       \u001b[94massert\u001b[39;49;00m sort_tuples(input_list) == expected_output\u001b[90m\u001b[39;49;00m\n",
      "\u001b[1m\u001b[31mE       assert [(3, 4), (1, 2), (2, 2)] == [(3, 4), (2, 2), (1, 2)]\u001b[0m\n",
      "\u001b[1m\u001b[31mE         At index 1 diff: (1, 2) != (2, 2)\u001b[0m\n",
      "\u001b[1m\u001b[31mE         Use -v to get more diff\u001b[0m\n",
      "\n",
      "\u001b[1m\u001b[31m/tmp/ipykernel_27520/1407591663.py\u001b[0m:9: AssertionError\n",
      "\u001b[36m\u001b[1m===================================== short test summary info ======================================\u001b[0m\n",
      "\u001b[31mFAILED\u001b[0m t_0c2b853c38b54994bb32486934ebd5c1.py::\u001b[1mtest_sort_tuples[input_list2-expected_output2]\u001b[0m - assert [(3, 4), (1, 2), (2, 1)] == [(2, 1), (3, 4), (1, 2)]\n",
      "\u001b[31mFAILED\u001b[0m t_0c2b853c38b54994bb32486934ebd5c1.py::\u001b[1mtest_sort_tuples[input_list3-expected_output3]\u001b[0m - assert [(3, 4), (1, 2), (1, 1)] == [(1, 2), (3, 4), (1, 1)]\n",
      "\u001b[31mFAILED\u001b[0m t_0c2b853c38b54994bb32486934ebd5c1.py::\u001b[1mtest_sort_tuples[input_list4-expected_output4]\u001b[0m - assert [(3, 4), (1, 2), (2, 2)] == [(3, 4), (2, 2), (1, 2)]\n",
      "\u001b[31m\u001b[31m\u001b[1m3 failed\u001b[0m, \u001b[32m2 passed\u001b[0m\u001b[31m in 0.06s\u001b[0m\u001b[0m\n"
     ]
    }
   ],
   "source": [
    "%%ipytest\n",
    "\n",
    "@pytest.mark.parametrize(\"input_list, expected_output\", [\n",
    "    ([], []),\n",
    "    ([(1, 2)], [(1, 2)]),\n",
    "    ([(1, 2), (3, 4), (2, 1)], [(2, 1), (3, 4), (1, 2)]),\n",
    "    ([(1, 2), (3, 4), (1, 1)], [(1, 2), (3, 4), (1, 1)]),\n",
    "    ([(1, 2), (3, 4), (2, 2)], [(3, 4), (2, 2), (1, 2)])\n",
    "])\n",
    "def test_sort_tuples(input_list, expected_output):\n",
    "    assert sort_tuples(input_list) == expected_output\n"
   ]
  },
  {
   "cell_type": "markdown",
   "metadata": {},
   "source": [
    "<font size=\"3.5\"> \n",
    "Korrigieren Sie die Testfälle und führen Sie pytest erneut aus. \n",
    "</font> "
   ]
  },
  {
   "cell_type": "markdown",
   "metadata": {},
   "source": [
    "<font size=\"3.5\">\n",
    "\n",
    "Versuchen Sie !pylint auszuführen.\n",
    "\n",
    "</font>"
   ]
  },
  {
   "cell_type": "code",
   "execution_count": 15,
   "metadata": {},
   "outputs": [
    {
     "name": "stdout",
     "output_type": "stream",
     "text": [
      "************* Module sort_tuples\n",
      "sort_tuples.py:1:0: C0114: Missing module docstring (missing-module-docstring)\n",
      "sort_tuples.py:1:0: C0116: Missing function or method docstring (missing-function-docstring)\n",
      "\n",
      "------------------------------------------------------------------\n",
      "Your code has been rated at 5.00/10 (previous run: 5.00/10, +0.00)\n",
      "\n"
     ]
    }
   ],
   "source": [
    "!pylint sort_tuples.py\n"
   ]
  },
  {
   "cell_type": "markdown",
   "metadata": {},
   "source": [
    "# 8.7.3 Dictionary und Set"
   ]
  },
  {
   "cell_type": "markdown",
   "metadata": {},
   "source": [
    "There are two lists of dictionaries representing friendship beginnings and endings: friends_added and friends_removed. Each dictionary contains the user_ids and created_at time of the friendship beginning /ending.\n",
    "\n",
    "Write a function friendship_timeline to generate an output that lists the pairs of friends with their corresponding timestamps of the friendship beginning and then the timestamp of the friendship ending.\n",
    "\n",
    "Note: There can be multiple instances over time when two people became friends and unfriended; only output lists when a corresponding friendship was removed."
   ]
  },
  {
   "cell_type": "markdown",
   "metadata": {},
   "source": [
    "<font size=\"3.5\">\n",
    "\n",
    "Es gibt zwei Listen von Wörterbüchern, die den Beginn und das Ende von Freundschaften darstellen: friends_added und friends_removed. Jedes Wörterbuch enthält die user_ids und created_at Zeit des Freundschaftsbeginns/-endes.\n",
    "\n",
    "Schreiben Sie eine Funktion friendship_timeline, um eine Ausgabe zu erzeugen, die die Freundschaftspaare mit den entsprechenden Zeitstempeln des Freundschaftsbeginns und dann den Zeitstempel des Freundschaftsendes auflistet.\n",
    "\n",
    "Eingabe:\n",
    "\n",
    "friends_added = \n",
    "[\n",
    "\n",
    "    {'user_ids': [1, 2], 'created_at': '2020-01-01'},\n",
    "\n",
    "    {'user_ids': [3, 2], 'created_at': '2020-01-02'},\n",
    "\n",
    "    {'user_ids': [2, 1], 'created_at': '2020-02-02'},\n",
    "\n",
    "    {'user_ids': [4, 1], 'created_at': '2020-02-02'}\n",
    "]\n",
    "\n",
    "friends_removed = \n",
    "[\n",
    "\n",
    "    {'user_ids': [2, 1], 'created_at': '2020-01-03'},\n",
    "\n",
    "    {'user_ids': [2, 3], 'created_at': '2020-01-05'},\n",
    "    \n",
    "    {'user_ids': [1, 2], 'created_at': '2020-02-05'}\n",
    "]\n",
    "\n",
    "Ausgabe:\n",
    "\n",
    "friendships = \n",
    "[\n",
    "  \n",
    "    { 'user_ids': [1, 2],\n",
    "\n",
    "    'start_date': '2020-01-01',\n",
    "\n",
    "    'end_date': '2020-01-03'\n",
    "    },\n",
    "\n",
    "    { 'user_ids': [1, 2],\n",
    "\n",
    "    'start_date': '2020-02-02',\n",
    "\n",
    "    'end_date': '2020-02-05'\n",
    "    },\n",
    "\n",
    "    { 'user_ids': [2, 3],\n",
    "\n",
    "    'start_date': '2020-01-02',\n",
    "    \n",
    "    'end_date': '2020-01-05'\n",
    "    },\n",
    "]\n",
    "\n",
    "</font>"
   ]
  },
  {
   "cell_type": "code",
   "execution_count": 4,
   "metadata": {},
   "outputs": [],
   "source": [
    "def friendship_timeline(friends_added, friends_removed):\n",
    "    # Sort the lists by 'created_at'\n",
    "    friends_added.sort(key=lambda x: x['created_at'])\n",
    "    friends_removed.sort(key=lambda x: x['created_at'])\n",
    "\n",
    "    friendships = []\n",
    "\n",
    "    for removed in friends_removed:\n",
    "        for added in friends_added:\n",
    "            # Check if the 'user_ids' match\n",
    "            if set(removed['user_ids']) == set(added['user_ids']):\n",
    "                # Create a new dictionary and add it to the 'friendships' list\n",
    "                friendships.append({\n",
    "                    'user_ids': sorted(removed['user_ids']),\n",
    "                    'start_date': added['created_at'],\n",
    "                    'end_date': removed['created_at']\n",
    "                })\n",
    "                # Remove the item from 'friends_added'\n",
    "                friends_added.remove(added)\n",
    "                break\n",
    "\n",
    "    return friendships\n"
   ]
  },
  {
   "cell_type": "markdown",
   "metadata": {},
   "source": [
    "<font size=\"3.5\">\n",
    "\n",
    "Schreiben Sie Testfälle und ausführen Sie pylint.\n",
    "\n",
    "</font>"
   ]
  },
  {
   "cell_type": "code",
   "execution_count": 5,
   "metadata": {},
   "outputs": [
    {
     "name": "stdout",
     "output_type": "stream",
     "text": [
      "\u001b[1m============================= test session starts ==============================\u001b[0m\n",
      "platform linux -- Python 3.10.6, pytest-7.4.3, pluggy-1.3.0\n",
      "rootdir: /home/aygul_unix/Projects/HSLU_VScode_Git_PyTest_Vorlesung\n",
      "plugins: anyio-3.7.1\n",
      "collected 1 item                                                               \u001b[0m\n",
      "\n",
      "tests/test_friendship_timeline.py \u001b[32m.\u001b[0m\u001b[32m                                      [100%]\u001b[0m\n",
      "\n",
      "\u001b[32m============================== \u001b[32m\u001b[1m1 passed\u001b[0m\u001b[32m in 0.01s\u001b[0m\u001b[32m ===============================\u001b[0m\n"
     ]
    }
   ],
   "source": [
    "!pytest tests/test_friendship_timeline.py\n"
   ]
  },
  {
   "cell_type": "code",
   "execution_count": 6,
   "metadata": {},
   "outputs": [
    {
     "name": "stdout",
     "output_type": "stream",
     "text": [
      "\n",
      "--------------------------------------------------------------------\n",
      "Your code has been rated at 10.00/10 (previous run: 10.00/10, +0.00)\n",
      "\n"
     ]
    }
   ],
   "source": [
    "!pylint friendship_timeline.py\n"
   ]
  },
  {
   "cell_type": "markdown",
   "metadata": {},
   "source": [
    "# 8.7.4 Strings und Regular Expressions"
   ]
  },
  {
   "cell_type": "markdown",
   "metadata": {},
   "source": [
    "<font size=\"5\">\n",
    "Übung Strings\n",
    "</font>"
   ]
  },
  {
   "cell_type": "markdown",
   "metadata": {},
   "source": [
    "Given a string, write a function to determine if it is palindrome or not.\n",
    "\n",
    "Note: A palindrome is a word/string that is read the same way forward as it is backward, e.g. 'reviver', 'madam', 'deified' and 'civic' are all palindromes, while 'tree', 'music' and 'person' are not palindromes."
   ]
  },
  {
   "cell_type": "markdown",
   "metadata": {},
   "source": [
    "<font size=\"3.5\">\n",
    "\n",
    "Schreiben Sie eine Funktion, die feststellt, ob eine Zeichenkette ein Palindrom ist oder nicht.\n",
    "\n",
    "Hinweis: Ein Palindrom ist ein Wort/eine Zeichenkette, das/die vorwärts genauso gelesen wird wie rückwärts, z. B. sind \"reviver\", \"madam\", \"deified\" und \"civic\" alles Palindrome, während \"tree\", \"music\" und \"person\" keine Palindrome sind.\n",
    "\n",
    "Eingabe:\n",
    "\n",
    "word1 = \"tree\"\n",
    "\n",
    "word2 = \"radar\"\n",
    "\n",
    "Ausgabe:\n",
    "\n",
    "def is_palindrome(word1) -> False\n",
    "\n",
    "def is_palindrome(word2) -> True\n",
    "\n",
    "</font>"
   ]
  },
  {
   "cell_type": "code",
   "execution_count": 8,
   "metadata": {},
   "outputs": [
    {
     "name": "stdout",
     "output_type": "stream",
     "text": [
      "False\n",
      "True\n"
     ]
    }
   ],
   "source": [
    "def is_palindrome(word):\n",
    "    return word == word[::-1]\n",
    "\n",
    "word1 = \"tree\"\n",
    "word2 = \"radar\"\n",
    "\n",
    "print(is_palindrome(word1))  # Output: False\n",
    "print(is_palindrome(word2))  # Output: True\n"
   ]
  },
  {
   "cell_type": "markdown",
   "metadata": {},
   "source": [
    "<font size=\"5\">\n",
    "Übung Regex\n",
    "</font>"
   ]
  },
  {
   "cell_type": "markdown",
   "metadata": {},
   "source": [
    "<font size=\"3.5\">\n",
    "Schreiben Sie ein Python-Programm, um mehrere Leerzeichen aus einer Zeichenkette zu entfernen.\n",
    "</font>"
   ]
  },
  {
   "cell_type": "code",
   "execution_count": 9,
   "metadata": {},
   "outputs": [
    {
     "name": "stdout",
     "output_type": "stream",
     "text": [
      "Original string: Python      Exercises\n",
      "Without extra spaces: Python Exercises\n"
     ]
    }
   ],
   "source": [
    "import re\n",
    "text1 = 'Python      Exercises'\n",
    "print(\"Original string:\", text1)\n",
    "print(\"Without extra spaces:\", re.sub(' +',' ', text1))\n"
   ]
  },
  {
   "cell_type": "markdown",
   "metadata": {},
   "source": [
    "# 8.7.5 Files und Exceptions"
   ]
  },
  {
   "cell_type": "markdown",
   "metadata": {},
   "source": [
    "<font size=\"3.5\">\n",
    "Schreiben Sie ein Python-Programm, um die längsten Wörter in test.txt zu finden.\n",
    "</font>"
   ]
  },
  {
   "cell_type": "code",
   "execution_count": 10,
   "metadata": {},
   "outputs": [
    {
     "name": "stdout",
     "output_type": "stream",
     "text": [
      "['general-purpose,', 'object-oriented,']\n"
     ]
    }
   ],
   "source": [
    "def longest_word(filename):\n",
    "    with open(filename, 'r') as infile:\n",
    "        words = infile.read().split()\n",
    "    max_len = len(max(words, key=len))\n",
    "    return [word for word in words if len(word) == max_len]\n",
    "\n",
    "print(longest_word('test.txt'))\n"
   ]
  }
 ],
 "metadata": {
  "kernelspec": {
   "display_name": "Python 3",
   "language": "python",
   "name": "python3"
  },
  "language_info": {
   "codemirror_mode": {
    "name": "ipython",
    "version": 3
   },
   "file_extension": ".py",
   "mimetype": "text/x-python",
   "name": "python",
   "nbconvert_exporter": "python",
   "pygments_lexer": "ipython3",
   "version": "3.10.6"
  }
 },
 "nbformat": 4,
 "nbformat_minor": 2
}
