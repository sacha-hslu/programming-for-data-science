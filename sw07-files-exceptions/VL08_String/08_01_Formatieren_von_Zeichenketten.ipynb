{
 "cells": [
  {
   "cell_type": "markdown",
   "metadata": {
    "pycharm": {
     "name": "#%% md\n"
    }
   },
   "source": [
    "## 8.1 Formatieren von Zeichenketten\n",
    "\n",
    "Format-Strings sind Zeichenketten, denen ein '`f`' vorangestellt wird. Innerhalb eines Format-Strings können mit geschweiften Klammern Variablen und Funktionsresultate aufgenommen und so ausgegeben werden. Eine übersicht über die vielfältigen Format-Möglichkeiten gibt die [_Python-Format-Specification-Mini-Language_](https://docs.python.org/3/library/string.html#formatspec)."
   ]
  },
  {
   "cell_type": "markdown",
   "metadata": {},
   "source": [
    "## 8.1.1 Präsentationstypen\n"
   ]
  },
  {
   "cell_type": "markdown",
   "metadata": {},
   "source": [
    "### Float"
   ]
  },
  {
   "cell_type": "markdown",
   "metadata": {
    "pycharm": {
     "name": "#%% md\n"
    }
   },
   "source": [
    "Eine Ganzzahl kann mittels `f`-Formatspezifizierer in eine Fliesskommazahl umgewandelt werden. Es werden 6 Nachkommastellen angezeigt, da Python **`float`**-Werte mit **sechs Stellen Genauigkeit** formatiert."
   ]
  },
  {
   "cell_type": "code",
   "execution_count": 1,
   "metadata": {
    "pycharm": {
     "name": "#%%\n"
    },
    "ExecuteTime": {
     "end_time": "2023-12-26T14:10:37.753811Z",
     "start_time": "2023-12-26T14:10:37.582411Z"
    }
   },
   "outputs": [
    {
     "data": {
      "text/plain": "'17.000000'"
     },
     "execution_count": 1,
     "metadata": {},
     "output_type": "execute_result"
    }
   ],
   "source": [
    "f'{17:f}'"
   ]
  },
  {
   "cell_type": "code",
   "execution_count": 2,
   "metadata": {
    "pycharm": {
     "name": "#%%\n"
    },
    "ExecuteTime": {
     "end_time": "2023-12-26T14:10:37.756323Z",
     "start_time": "2023-12-26T14:10:37.584912Z"
    }
   },
   "outputs": [
    {
     "data": {
      "text/plain": "'17.489000'"
     },
     "execution_count": 2,
     "metadata": {},
     "output_type": "execute_result"
    }
   ],
   "source": [
    "f'{17.489:f}'"
   ]
  },
  {
   "cell_type": "markdown",
   "metadata": {},
   "source": [
    "### Integer"
   ]
  },
  {
   "cell_type": "code",
   "execution_count": 3,
   "metadata": {
    "pycharm": {
     "name": "#%%\n"
    },
    "ExecuteTime": {
     "end_time": "2023-12-26T14:10:37.756455Z",
     "start_time": "2023-12-26T14:10:37.587781Z"
    }
   },
   "outputs": [
    {
     "data": {
      "text/plain": "'10'"
     },
     "execution_count": 3,
     "metadata": {},
     "output_type": "execute_result"
    }
   ],
   "source": [
    "f'{10:d}' # optional"
   ]
  },
  {
   "cell_type": "markdown",
   "metadata": {
    "pycharm": {
     "name": "#%% md\n"
    }
   },
   "source": [
    "Der `d`-Formatspezifizierer kann nicht auf eine Fliesskommazahl angewendet werden."
   ]
  },
  {
   "cell_type": "code",
   "execution_count": 4,
   "metadata": {
    "pycharm": {
     "name": "#%%\n"
    },
    "ExecuteTime": {
     "end_time": "2023-12-26T14:10:37.833985Z",
     "start_time": "2023-12-26T14:10:37.591454Z"
    }
   },
   "outputs": [
    {
     "ename": "ValueError",
     "evalue": "Unknown format code 'd' for object of type 'float'",
     "output_type": "error",
     "traceback": [
      "\u001B[0;31m---------------------------------------------------------------------------\u001B[0m",
      "\u001B[0;31mValueError\u001B[0m                                Traceback (most recent call last)",
      "Cell \u001B[0;32mIn[4], line 1\u001B[0m\n\u001B[0;32m----> 1\u001B[0m \u001B[38;5;124mf\u001B[39m\u001B[38;5;124m'\u001B[39m\u001B[38;5;132;01m{\u001B[39;00m\u001B[38;5;241m10.1\u001B[39m\u001B[38;5;132;01m:\u001B[39;00m\u001B[38;5;124md\u001B[39m\u001B[38;5;132;01m}\u001B[39;00m\u001B[38;5;124m'\u001B[39m\n",
      "\u001B[0;31mValueError\u001B[0m: Unknown format code 'd' for object of type 'float'"
     ]
    }
   ],
   "source": [
    "f'{10.1:d}'"
   ]
  },
  {
   "cell_type": "markdown",
   "metadata": {},
   "source": [
    "### Binär"
   ]
  },
  {
   "cell_type": "markdown",
   "metadata": {
    "pycharm": {
     "name": "#%% md\n"
    }
   },
   "source": [
    "Umwandlung einer Dezimalzahl in eine Binärzahl:"
   ]
  },
  {
   "cell_type": "code",
   "execution_count": null,
   "metadata": {
    "pycharm": {
     "name": "#%%\n"
    },
    "ExecuteTime": {
     "start_time": "2023-12-26T14:10:37.677052Z"
    }
   },
   "outputs": [],
   "source": [
    "f'{10:b}'"
   ]
  },
  {
   "cell_type": "markdown",
   "metadata": {},
   "source": [
    "### Oktal"
   ]
  },
  {
   "cell_type": "markdown",
   "metadata": {},
   "source": [
    "Umwandlung einer Dezimalzahl in eine Oktalzahl:"
   ]
  },
  {
   "cell_type": "code",
   "execution_count": null,
   "metadata": {
    "pycharm": {
     "name": "#%%\n"
    },
    "ExecuteTime": {
     "start_time": "2023-12-26T14:10:37.678415Z"
    }
   },
   "outputs": [],
   "source": [
    "f'{10:o}'"
   ]
  },
  {
   "cell_type": "markdown",
   "metadata": {},
   "source": [
    "### Hexadezimal"
   ]
  },
  {
   "cell_type": "markdown",
   "metadata": {},
   "source": [
    "Umwandlung einer Dezimalzahl in eine Hexadezimalzahl:"
   ]
  },
  {
   "cell_type": "code",
   "execution_count": null,
   "metadata": {
    "pycharm": {
     "name": "#%%\n"
    },
    "ExecuteTime": {
     "start_time": "2023-12-26T14:10:37.679576Z"
    }
   },
   "outputs": [],
   "source": [
    "f'{10:X}'"
   ]
  },
  {
   "cell_type": "code",
   "execution_count": null,
   "metadata": {
    "pycharm": {
     "name": "#%%\n"
    },
    "ExecuteTime": {
     "start_time": "2023-12-26T14:10:37.680914Z"
    }
   },
   "outputs": [],
   "source": [
    "f'{26:x}'"
   ]
  },
  {
   "cell_type": "markdown",
   "metadata": {},
   "source": [
    "Umwandlung einer Ordnungszahl (Dezimalzahl) in das entsprechende Zeichen:"
   ]
  },
  {
   "cell_type": "code",
   "execution_count": null,
   "metadata": {
    "pycharm": {
     "name": "#%%\n"
    },
    "ExecuteTime": {
     "start_time": "2023-12-26T14:10:37.682337Z"
    }
   },
   "outputs": [],
   "source": [
    "f'{65:c} {97:c}'"
   ]
  },
  {
   "cell_type": "markdown",
   "metadata": {},
   "source": [
    "ASCII Tabelle\n",
    "<img src=\"images/ascii-table-overcoded-scaled.jpg\" width=\"800\"/>"
   ]
  },
  {
   "cell_type": "markdown",
   "metadata": {},
   "source": [
    "\n",
    "### Exponentielle (wissenschafliche) Notation\n",
    "Für grosse und kleine Fliesskomma- und Ganzzahlen kann die **Exponentielle (wissenschaftliche) Notation** verwendet werden, um die Werte kompakter zu formatieren.\n",
    "> Das Modul `decimal` bietet Unterstützung für schnelle, korrekt gerundete dezimale Gleitkommaarithmetik. Es \"basiert auf einem Fließkommamodell, das mit Blick auf den Menschen entwickelt wurde und notwendigerweise ein übergeordnetes Leitprinzip hat - Computer müssen eine Arithmetik bereitstellen, die auf die gleiche Weise funktioniert wie die Arithmetik, die Menschen in der Schule lernen.\" - Auszug aus der Spezifikation des Moduls `decimal`."
   ]
  },
  {
   "cell_type": "code",
   "execution_count": null,
   "metadata": {
    "ExecuteTime": {
     "start_time": "2023-12-26T14:10:37.683517Z"
    }
   },
   "outputs": [],
   "source": [
    "f'{10000000000000000000000000.0:.3e}'"
   ]
  },
  {
   "cell_type": "code",
   "execution_count": null,
   "metadata": {
    "pycharm": {
     "name": "#%%\n"
    },
    "ExecuteTime": {
     "start_time": "2023-12-26T14:10:37.684800Z"
    }
   },
   "outputs": [],
   "source": [
    "from decimal import Decimal"
   ]
  },
  {
   "cell_type": "code",
   "execution_count": null,
   "metadata": {
    "pycharm": {
     "name": "#%%\n"
    },
    "ExecuteTime": {
     "start_time": "2023-12-26T14:10:37.685933Z"
    }
   },
   "outputs": [],
   "source": [
    "f'{Decimal(\"10000000000000000000000000.0\"):.3e}'"
   ]
  },
  {
   "cell_type": "markdown",
   "metadata": {},
   "source": [
    "Der formatierte Wert `1.000e+25` ist äquivalent zu\n",
    "\n",
    "> 1.000 x 10<sup>25</sup>\n",
    "\n",
    "&nbsp;\n",
    "&nbsp;\n",
    "Wenn Sie ein grosses `E` für den Exponenten bevorzugen, verwenden Sie die Darstellungsart **`E`** statt `e`."
   ]
  },
  {
   "cell_type": "code",
   "execution_count": null,
   "metadata": {
    "pycharm": {
     "name": "#%%\n"
    },
    "ExecuteTime": {
     "start_time": "2023-12-26T14:10:37.687103Z"
    }
   },
   "outputs": [],
   "source": [
    "f'{12.546:.2E}'"
   ]
  },
  {
   "cell_type": "markdown",
   "metadata": {},
   "source": [
    "## 8.1.2 Feldbreite und -ausrichtung\n",
    "Python richtet Zahlen **rechtsbündig** aus und Zeichenketten **linksbündig**"
   ]
  },
  {
   "cell_type": "code",
   "execution_count": null,
   "metadata": {
    "pycharm": {
     "name": "#%%\n"
    },
    "ExecuteTime": {
     "start_time": "2023-12-26T14:10:37.688511Z"
    }
   },
   "outputs": [],
   "source": [
    "f'[{27:10d}]'"
   ]
  },
  {
   "cell_type": "code",
   "execution_count": null,
   "metadata": {
    "pycharm": {
     "name": "#%%\n"
    },
    "ExecuteTime": {
     "start_time": "2023-12-26T14:10:37.689914Z"
    }
   },
   "outputs": [],
   "source": [
    "f'[{3.5:10f}]'"
   ]
  },
  {
   "cell_type": "code",
   "execution_count": null,
   "metadata": {
    "pycharm": {
     "name": "#%%\n"
    },
    "ExecuteTime": {
     "start_time": "2023-12-26T14:10:37.691082Z"
    }
   },
   "outputs": [],
   "source": [
    "f'[{3.5:10}]'"
   ]
  },
  {
   "cell_type": "code",
   "execution_count": null,
   "metadata": {
    "pycharm": {
     "name": "#%%\n"
    },
    "ExecuteTime": {
     "start_time": "2023-12-26T14:10:37.692322Z"
    }
   },
   "outputs": [],
   "source": [
    "f'[{\"hello\":10}]'"
   ]
  },
  {
   "cell_type": "markdown",
   "metadata": {},
   "source": [
    "### Explizite Angabe der linken und rechten Ausrichtung in einem Feld\n",
    "Eine linke und rechte Ausrichtung kann mit \"`<`\" und \"`>`\" angeben werden:"
   ]
  },
  {
   "cell_type": "code",
   "execution_count": null,
   "metadata": {
    "pycharm": {
     "name": "#%%\n"
    },
    "ExecuteTime": {
     "start_time": "2023-12-26T14:10:37.693542Z"
    }
   },
   "outputs": [],
   "source": [
    "f'[{27:<15d}]'"
   ]
  },
  {
   "cell_type": "code",
   "execution_count": null,
   "metadata": {
    "pycharm": {
     "name": "#%%\n"
    },
    "ExecuteTime": {
     "start_time": "2023-12-26T14:10:37.694744Z"
    }
   },
   "outputs": [],
   "source": [
    "f'[{3.5:<15f}]'"
   ]
  },
  {
   "cell_type": "code",
   "execution_count": null,
   "metadata": {
    "pycharm": {
     "name": "#%%\n"
    },
    "ExecuteTime": {
     "start_time": "2023-12-26T14:10:37.695799Z"
    }
   },
   "outputs": [],
   "source": [
    "f'[{\"hello\":>15}]'"
   ]
  },
  {
   "cell_type": "markdown",
   "metadata": {},
   "source": [
    "### Zentrieren eines Wertes in einem Feld\n",
    "Die Zentrierung mittels \"`^`\" versucht, die verbleibenden Leerzeichen gleichmässig links und rechts vom formatierten Wert zu verteilen.\n",
    "Bei einer ungeraden Anzahl von übrig bleibenden Leerzeichen wird das zusätzliche Leerzeichen rechts vom formatierten Wert gesetzt."
   ]
  },
  {
   "cell_type": "code",
   "execution_count": null,
   "metadata": {
    "pycharm": {
     "name": "#%%\n"
    },
    "ExecuteTime": {
     "start_time": "2023-12-26T14:10:37.696720Z"
    }
   },
   "outputs": [],
   "source": [
    "f'[{27:^7d}]'"
   ]
  },
  {
   "cell_type": "code",
   "execution_count": null,
   "metadata": {
    "pycharm": {
     "name": "#%%\n"
    },
    "ExecuteTime": {
     "start_time": "2023-12-26T14:10:37.697514Z"
    }
   },
   "outputs": [],
   "source": [
    "f'[{3.5:^10f}]'"
   ]
  },
  {
   "cell_type": "code",
   "execution_count": null,
   "metadata": {
    "pycharm": {
     "name": "#%%\n"
    },
    "ExecuteTime": {
     "start_time": "2023-12-26T14:10:37.698263Z"
    }
   },
   "outputs": [],
   "source": [
    "f'[{\"hello\":^7}]'"
   ]
  },
  {
   "cell_type": "markdown",
   "metadata": {},
   "source": [
    "## 8.1.3 Numerische Formatierung"
   ]
  },
  {
   "cell_type": "markdown",
   "metadata": {},
   "source": [
    "### Formatierung positiver Zahlen mit Vorzeichen\n",
    "Ein \"`+`\" vor der Feldbreite gibt an, dass einer positiven Zahl ein \"`+`\" vorangestellt werden soll."
   ]
  },
  {
   "cell_type": "code",
   "execution_count": null,
   "metadata": {
    "pycharm": {
     "name": "#%%\n"
    },
    "ExecuteTime": {
     "start_time": "2023-12-26T14:10:37.698853Z"
    }
   },
   "outputs": [],
   "source": [
    "f'[{27:+10d}]'"
   ]
  },
  {
   "cell_type": "code",
   "execution_count": null,
   "metadata": {
    "pycharm": {
     "name": "#%%\n"
    },
    "ExecuteTime": {
     "start_time": "2023-12-26T14:10:37.699625Z"
    }
   },
   "outputs": [],
   "source": [
    "f'[{-27:+10d}]'"
   ]
  },
  {
   "cell_type": "markdown",
   "metadata": {},
   "source": [
    "### Auffüllen des Feldes mit Nullen\n",
    "Um die restlichen Zeichen des Feldes mit \"`0`\"en anstelle von Leerzeichen aufzufüllen, setzen Sie eine \"`0`\" vor die Feldbreite (und **nach** dem \"`+`\", falls eins vorhanden sein sollte)."
   ]
  },
  {
   "cell_type": "code",
   "execution_count": null,
   "metadata": {
    "pycharm": {
     "name": "#%%\n"
    },
    "ExecuteTime": {
     "start_time": "2023-12-26T14:10:37.700333Z"
    }
   },
   "outputs": [],
   "source": [
    "f'[{27:010d}]'"
   ]
  },
  {
   "cell_type": "code",
   "execution_count": null,
   "metadata": {
    "pycharm": {
     "name": "#%%\n"
    },
    "ExecuteTime": {
     "start_time": "2023-12-26T14:10:37.701009Z"
    }
   },
   "outputs": [],
   "source": [
    "f'[{27:+010d}]'"
   ]
  },
  {
   "cell_type": "code",
   "execution_count": null,
   "metadata": {
    "pycharm": {
     "name": "#%%\n"
    },
    "ExecuteTime": {
     "start_time": "2023-12-26T14:10:37.701584Z"
    }
   },
   "outputs": [],
   "source": [
    "f'[{27:<010d}]'"
   ]
  },
  {
   "cell_type": "markdown",
   "metadata": {},
   "source": [
    "### Verwendung eines Leerzeichens, wo ein `+` Zeichen in einem positiven Wert erscheinen würde\n",
    "Ein Leerzeichen \"` `\" gibt an, dass positive Zahlen an der Vorzeichenposition ein Leerzeichen aufweisen sollten."
   ]
  },
  {
   "cell_type": "code",
   "execution_count": null,
   "metadata": {
    "pycharm": {
     "name": "#%%\n"
    },
    "ExecuteTime": {
     "start_time": "2023-12-26T14:10:37.702208Z"
    }
   },
   "outputs": [],
   "source": [
    "print(f'{27:d}\\n{27: d}\\n{-27: d}')"
   ]
  },
  {
   "cell_type": "markdown",
   "metadata": {},
   "source": [
    "### Gruppierung von Ziffern\n",
    "Formatieren von Zahlen mit **Tausender-Trennzeichen** durch Verwendung eines **Kommas (`,`)**."
   ]
  },
  {
   "cell_type": "code",
   "execution_count": null,
   "metadata": {
    "pycharm": {
     "name": "#%%\n"
    },
    "ExecuteTime": {
     "start_time": "2023-12-26T14:10:37.702858Z"
    }
   },
   "outputs": [],
   "source": [
    "f'{12345678:,d}'"
   ]
  },
  {
   "cell_type": "code",
   "execution_count": null,
   "metadata": {
    "pycharm": {
     "name": "#%%\n"
    },
    "ExecuteTime": {
     "start_time": "2023-12-26T14:10:37.703465Z"
    }
   },
   "outputs": [],
   "source": [
    "f'{123456.78:,.2f}'"
   ]
  },
  {
   "cell_type": "markdown",
   "metadata": {},
   "source": [
    "## Die _format_-Methode von Strings\n",
    "\"_f-strings_\" wurden zu der _Python_-Version 3.6 hinzugefügt. Davor wurde die Formatierung mit der String-Methode [`format()`](https://docs.python.org/3/library/stdtypes.html#str.format) durchgeführt \"_f-string_\"-Formatierung basiert auf den Fähigkeiten der `format`-Methode.\n",
    "\n",
    "\n",
    "Die [`format()`-Methode](https://docs.python.org/3/library/stdtypes.html#str.format) wird auf einen **format-String** aufgerufen. Die zu formatierenden Werte werden als Argumente an die [`format()`-Methode](https://docs.python.org/3/library/stdtypes.html#str.format) übergeben."
   ]
  },
  {
   "cell_type": "code",
   "execution_count": null,
   "metadata": {
    "pycharm": {
     "name": "#%%\n"
    },
    "ExecuteTime": {
     "start_time": "2023-12-26T14:10:37.704163Z"
    }
   },
   "outputs": [],
   "source": [
    "'{:.2f}'.format(17.489)"
   ]
  },
  {
   "cell_type": "markdown",
   "metadata": {},
   "source": [
    "### Mehrere Platzhalter\n",
    "Ein Format-String kann mehrere Platzhalter enthalten. Die Argumente der [`format()`-Methode](https://docs.python.org/3/library/stdtypes.html#str.format) entsprechen den Platzhaltern von links nach rechts."
   ]
  },
  {
   "cell_type": "code",
   "execution_count": null,
   "metadata": {
    "pycharm": {
     "name": "#%%\n"
    },
    "ExecuteTime": {
     "start_time": "2023-12-26T14:10:37.704769Z"
    }
   },
   "outputs": [],
   "source": [
    "'{} {}'.format('Amanda', 'Cyan')"
   ]
  },
  {
   "cell_type": "markdown",
   "metadata": {},
   "source": [
    "### Referenzierung von Argumenten nach Positionsnummer\n",
    "Ein Format-String kann durch Angabe der Position auf die Argumente der [`format()`-Methode](https://docs.python.org/3/library/stdtypes.html#str.format) verweisen."
   ]
  },
  {
   "cell_type": "code",
   "execution_count": null,
   "metadata": {
    "pycharm": {
     "name": "#%%\n"
    },
    "ExecuteTime": {
     "start_time": "2023-12-26T14:10:37.705537Z"
    }
   },
   "outputs": [],
   "source": [
    "'{0} {0} {1}'.format('Happy', 'Birthday')"
   ]
  },
  {
   "cell_type": "markdown",
   "metadata": {},
   "source": [
    "### Referenzierende Schlüsselwort-Argumente\n",
    "Sie können Schlüsselwortargumente durch ihre Schlüssel in den Platzhaltern referenzieren."
   ]
  },
  {
   "cell_type": "code",
   "execution_count": null,
   "metadata": {
    "pycharm": {
     "name": "#%%\n"
    },
    "ExecuteTime": {
     "start_time": "2023-12-26T14:10:37.706383Z"
    }
   },
   "outputs": [],
   "source": [
    "'{first} {last}'.format(first='Amanda', last='Gray')"
   ]
  },
  {
   "cell_type": "code",
   "execution_count": null,
   "metadata": {
    "pycharm": {
     "name": "#%%\n"
    },
    "ExecuteTime": {
     "start_time": "2023-12-26T14:10:37.707252Z"
    }
   },
   "outputs": [],
   "source": [
    "'{last} {first}'.format(first='Amanda', last='Gray')"
   ]
  },
  {
   "cell_type": "code",
   "execution_count": null,
   "metadata": {
    "ExecuteTime": {
     "start_time": "2023-12-26T14:10:37.707949Z"
    }
   },
   "outputs": [],
   "source": []
  }
 ],
 "metadata": {
  "kernelspec": {
   "display_name": "Python 3 (ipykernel)",
   "language": "python",
   "name": "python3"
  },
  "language_info": {
   "codemirror_mode": {
    "name": "ipython",
    "version": 3
   },
   "file_extension": ".py",
   "mimetype": "text/x-python",
   "name": "python",
   "nbconvert_exporter": "python",
   "pygments_lexer": "ipython3",
   "version": "3.8.16"
  },
  "vscode": {
   "interpreter": {
    "hash": "aee8b7b246df8f9039afb4144a1f6fd8d2ca17a180786b69acc140d282b71a49"
   }
  }
 },
 "nbformat": 4,
 "nbformat_minor": 4
}
