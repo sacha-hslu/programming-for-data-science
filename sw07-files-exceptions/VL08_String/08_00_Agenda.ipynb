{
 "cells": [
  {
   "cell_type": "markdown",
   "metadata": {},
   "source": [
    "# 8. Zeichenketten "
   ]
  },
  {
   "cell_type": "markdown",
   "metadata": {
    "pycharm": {
     "name": "#%% md\n"
    }
   },
   "source": [
    "## Agenda"
   ]
  },
  {
   "cell_type": "markdown",
   "metadata": {
    "jp-MarkdownHeadingCollapsed": true,
    "pycharm": {
     "name": "#%% md\n"
    },
    "tags": []
   },
   "source": [
    "+ [Formatieren von Zeichenketten](08_01_Formatieren_von_Zeichenketten.ipynb)\n",
    "+ [Verkettung und Wiederholung](08_02_Verkettung_und_Wiederholung.ipynb)\n",
    "+ [Entfernen von Leerzeichen](08_03_Entfernen_von_Leerzeichen.ipynb)\n",
    "+ [Ändern der Grossschreibung](08_04_Aendern_der_Grossschreibung.ipynb)\n",
    "+ [Vergleichsoperatoren](08_05_Vergleichsoperatoren.ipynb)\n",
    "+ [Suche nach Substrings](08_06_Suche_nach_Substrings.ipynb)\n",
    "+ [Ersetzen von Substrings](08_07_Ersetzen_von_Substrings.ipynb)\n",
    "+ [Aufspalten und Verbinden](08_08_Aufspalten_und_Verbinden.ipynb)\n",
    "+ [Zeichen und Zeichen-Testmethoden](08_09_Zeichen_und_Zeichen-Testmethoden.ipynb)\n",
    "+ [Raw-Strings](08_10_Raw-Strings.ipynb)"
   ]
  }
 ],
 "metadata": {
  "kernelspec": {
   "display_name": "Python 3 (ipykernel)",
   "language": "python",
   "name": "python3"
  },
  "language_info": {
   "codemirror_mode": {
    "name": "ipython",
    "version": 3
   },
   "file_extension": ".py",
   "mimetype": "text/x-python",
   "name": "python",
   "nbconvert_exporter": "python",
   "pygments_lexer": "ipython3",
   "version": "3.8.16"
  }
 },
 "nbformat": 4,
 "nbformat_minor": 4
}
