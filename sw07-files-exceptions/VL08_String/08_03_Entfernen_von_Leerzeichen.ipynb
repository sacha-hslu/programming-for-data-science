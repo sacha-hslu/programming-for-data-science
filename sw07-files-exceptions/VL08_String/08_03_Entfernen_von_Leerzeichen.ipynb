{
 "cells": [
  {
   "cell_type": "markdown",
   "metadata": {},
   "source": [
    "# 8.3 Entfernen von Leerzeichen am Anfang und Ende von Zeichenketten\n",
    "Die Methoden zum Entfernen von *Whitespace*, e.g. Leerzeichen, Tab, Linefeed, Carriage Return, etc. an den Enden einer Zeichenkette geben jeweils eine neue Zeichenkette zurück."
   ]
  },
  {
   "cell_type": "markdown",
   "metadata": {},
   "source": [
    "## Whitespaces"
   ]
  },
  {
   "cell_type": "code",
   "execution_count": 47,
   "metadata": {
    "scrolled": true
   },
   "outputs": [
    {
     "name": "stdout",
     "output_type": "stream",
     "text": [
      "Whitespace:\n",
      "\n",
      "Escape character | Hex. | Dec.\n",
      "=================+======+=====\n",
      "             ' ' | 0x20 |  32\n",
      "            '\\t' |  0x9 |   9\n",
      "            '\\n' |  0xa |  10\n",
      "            '\\r' |  0xd |  13\n",
      "          '\\x0b' |  0xb |  11\n",
      "          '\\x0c' |  0xc |  12\n"
     ]
    }
   ],
   "source": [
    "\"\"\" Print out whitespaces. \"\"\"\n",
    "\n",
    "import string\n",
    "print('Whitespace:\\n')\n",
    "print(f\"{'Escape character':>16} | {'Hex.':>4} | {'Dec.':>4}\")\n",
    "print(f\"{'':=>16}=+={'':=>4}=+={'':=>4}\")\n",
    "for c in string.whitespace:\n",
    "    print(f\"{str(bytes(c, 'ascii'))[1:]:>16} | {hex(ord(c)):>4} | {ord(c):>3}\")"
   ]
  },
  {
   "cell_type": "code",
   "execution_count": 15,
   "metadata": {},
   "outputs": [
    {
     "data": {
      "text/plain": [
       "' \\t\\n\\r\\x0b\\x0c'"
      ]
     },
     "execution_count": 15,
     "metadata": {},
     "output_type": "execute_result"
    }
   ],
   "source": [
    "string.whitespace"
   ]
  },
  {
   "cell_type": "markdown",
   "metadata": {},
   "source": [
    "## Entfernen von führenden und nachfolgenden *Whitespaces*\n",
    "**[`strip()`](https://docs.python.org/3/library/stdtypes.html#str.strip)** entfernt führende und nachfolgende Leerzeichen."
   ]
  },
  {
   "cell_type": "code",
   "execution_count": 5,
   "metadata": {},
   "outputs": [
    {
     "name": "stdout",
     "output_type": "stream",
     "text": [
      "Help on built-in function strip:\n",
      "\n",
      "strip(chars=None, /) method of builtins.str instance\n",
      "    Return a copy of the string with leading and trailing whitespace removed.\n",
      "    \n",
      "    If chars is given and not None, remove characters in chars instead.\n"
     ]
    }
   ],
   "source": [
    "help(''.strip)"
   ]
  },
  {
   "cell_type": "code",
   "execution_count": 10,
   "metadata": {},
   "outputs": [
    {
     "data": {
      "text/plain": [
       "'\\t  \\n  This is a test string. \\t\\t \\n'"
      ]
     },
     "execution_count": 10,
     "metadata": {},
     "output_type": "execute_result"
    }
   ],
   "source": [
    "sentence = '\\t  \\n  This is a test string. \\t\\t \\n'\n",
    "sentence"
   ]
  },
  {
   "cell_type": "code",
   "execution_count": 11,
   "metadata": {},
   "outputs": [
    {
     "data": {
      "text/plain": [
       "'This is a test string.'"
      ]
     },
     "execution_count": 11,
     "metadata": {},
     "output_type": "execute_result"
    }
   ],
   "source": [
    "sentence.strip()"
   ]
  },
  {
   "cell_type": "markdown",
   "metadata": {},
   "source": [
    "## Führende *Whitespaces* entfernen\n",
    "**[`lstrip()`](https://docs.python.org/3/library/stdtypes.html#str.lstrip)** entfernt nur führende Leerzeichen."
   ]
  },
  {
   "cell_type": "code",
   "execution_count": 6,
   "metadata": {},
   "outputs": [
    {
     "name": "stdout",
     "output_type": "stream",
     "text": [
      "Help on built-in function lstrip:\n",
      "\n",
      "lstrip(chars=None, /) method of builtins.str instance\n",
      "    Return a copy of the string with leading whitespace removed.\n",
      "    \n",
      "    If chars is given and not None, remove characters in chars instead.\n"
     ]
    }
   ],
   "source": [
    "help(''.lstrip)"
   ]
  },
  {
   "cell_type": "code",
   "execution_count": 13,
   "metadata": {},
   "outputs": [
    {
     "data": {
      "text/plain": [
       "'\\t  \\n  This is a test string. \\t\\t \\n'"
      ]
     },
     "execution_count": 13,
     "metadata": {},
     "output_type": "execute_result"
    }
   ],
   "source": [
    "sentence"
   ]
  },
  {
   "cell_type": "code",
   "execution_count": 12,
   "metadata": {},
   "outputs": [
    {
     "data": {
      "text/plain": [
       "'This is a test string. \\t\\t \\n'"
      ]
     },
     "execution_count": 12,
     "metadata": {},
     "output_type": "execute_result"
    }
   ],
   "source": [
    "sentence.lstrip()"
   ]
  },
  {
   "cell_type": "markdown",
   "metadata": {},
   "source": [
    "## Entfernen von nachfolgenden *Whitespaces*\n",
    "**[`rstrip()`](https://docs.python.org/3/library/stdtypes.html#str.rstrip)** entfernt nur nachfolgende Leerzeichen."
   ]
  },
  {
   "cell_type": "code",
   "execution_count": 7,
   "metadata": {},
   "outputs": [
    {
     "name": "stdout",
     "output_type": "stream",
     "text": [
      "Help on built-in function rstrip:\n",
      "\n",
      "rstrip(chars=None, /) method of builtins.str instance\n",
      "    Return a copy of the string with trailing whitespace removed.\n",
      "    \n",
      "    If chars is given and not None, remove characters in chars instead.\n"
     ]
    }
   ],
   "source": [
    "help(''.rstrip)"
   ]
  },
  {
   "cell_type": "code",
   "execution_count": 14,
   "metadata": {},
   "outputs": [
    {
     "data": {
      "text/plain": [
       "'\\t  \\n  This is a test string. \\t\\t \\n'"
      ]
     },
     "execution_count": 14,
     "metadata": {},
     "output_type": "execute_result"
    }
   ],
   "source": [
    "sentence"
   ]
  },
  {
   "cell_type": "code",
   "execution_count": null,
   "metadata": {},
   "outputs": [],
   "source": [
    "sentence.rstrip()"
   ]
  }
 ],
 "metadata": {
  "kernelspec": {
   "display_name": "Python 3 (ipykernel)",
   "language": "python",
   "name": "python3"
  },
  "language_info": {
   "codemirror_mode": {
    "name": "ipython",
    "version": 3
   },
   "file_extension": ".py",
   "mimetype": "text/x-python",
   "name": "python",
   "nbconvert_exporter": "python",
   "pygments_lexer": "ipython3",
   "version": "3.8.16"
  },
  "vscode": {
   "interpreter": {
    "hash": "aee8b7b246df8f9039afb4144a1f6fd8d2ca17a180786b69acc140d282b71a49"
   }
  }
 },
 "nbformat": 4,
 "nbformat_minor": 4
}
