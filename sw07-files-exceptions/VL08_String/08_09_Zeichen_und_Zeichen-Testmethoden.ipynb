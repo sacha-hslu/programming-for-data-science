{
 "cells": [
  {
   "cell_type": "markdown",
   "metadata": {},
   "source": [
    "# 8.9 Zeichen und Zeichen-Testmethoden\n",
    "_Python_ bietet String-Methoden zum Testen, ob eine Zeichenkette bestimmten Merkmalen entspricht.<br>\n",
    "> NB: In _Python_ ist ein Zeichen einfach ein Ein-Zeichen-String.\n"
   ]
  },
  {
   "cell_type": "markdown",
   "metadata": {
    "pycharm": {
     "name": "#%% md\n"
    }
   },
   "source": [
    "Die Methode **[`isdigit()`](https://docs.python.org/3/library/stdtypes.html#str.isdigit)** gibt `True` zurück, wenn die Zeichenkette, auf der Sie die Methode aufrufen, nur die Ziffern-Zeichen (`0`-`9`) enthält."
   ]
  },
  {
   "cell_type": "code",
   "execution_count": 1,
   "metadata": {},
   "outputs": [
    {
     "data": {
      "text/plain": [
       "False"
      ]
     },
     "execution_count": 1,
     "metadata": {},
     "output_type": "execute_result"
    }
   ],
   "source": [
    "'-27'.isdigit()"
   ]
  },
  {
   "cell_type": "code",
   "execution_count": 2,
   "metadata": {},
   "outputs": [
    {
     "data": {
      "text/plain": [
       "True"
      ]
     },
     "execution_count": 2,
     "metadata": {},
     "output_type": "execute_result"
    }
   ],
   "source": [
    "'27'.isdigit()"
   ]
  },
  {
   "cell_type": "markdown",
   "metadata": {},
   "source": [
    "Die Methode **[`isalnum()`](https://docs.python.org/3/library/stdtypes.html#str.isalnum)** gibt `True` zurück, wenn die Zeichenkette, auf der Sie die Methode aufrufen, alphanumerisch ist (nur Ziffern und Buchstaben)"
   ]
  },
  {
   "cell_type": "code",
   "execution_count": 3,
   "metadata": {},
   "outputs": [
    {
     "data": {
      "text/plain": [
       "True"
      ]
     },
     "execution_count": 3,
     "metadata": {},
     "output_type": "execute_result"
    }
   ],
   "source": [
    "'A9876'.isalnum()"
   ]
  },
  {
   "cell_type": "code",
   "execution_count": 4,
   "metadata": {},
   "outputs": [
    {
     "data": {
      "text/plain": [
       "False"
      ]
     },
     "execution_count": 4,
     "metadata": {},
     "output_type": "execute_result"
    }
   ],
   "source": [
    "'123 Main Street'.isalnum()"
   ]
  },
  {
   "cell_type": "markdown",
   "metadata": {},
   "source": [
    "<br>\n",
    "\n",
    "## Tabelle von Zeichen-Prüfmethoden"
   ]
  },
  {
   "cell_type": "markdown",
   "metadata": {
    "pycharm": {
     "name": "#%% md\n"
    }
   },
   "source": [
    "| String-Methode   | Beschreibung                                                                                                                 |\n",
    "|------------------|-----------------------------------------------------------------------------------------|\n",
    "| `isalnum()`      | Gibt `True` zurück, wenn die Zeichenkette nur _alphanumerische_ Zeichen enthält (d.h. Ziffern und Buchstaben).               |\n",
    "| `isalpha()`      | Gibt `True` zurück, wenn die Zeichenkette nur _alphabetische_ Zeichen (d.h. Buchstaben) enthält.                             |\n",
    "| `isdecimal()`    | Gibt `True` zurück, wenn die Zeichenkette nur _dezimale ganzzahlige_ Zeichen enthält (d.h. zur Basis 10 ) und kein + oder - Zeichen enthält. |\n",
    "| `isdigit()`      | Gibt `True` zurück, wenn die Zeichenkette nur Ziffern enthält (z.B. '0', '1', '2').                                          |\n",
    "| `isidentifier()` | Gibt `True` zurück, wenn die Zeichenkette einen gültigen _Bezeichner_ darstellt.                                             |\n",
    "| `islower()`      | Gibt `True` zurück, wenn alle alphabetischen Zeichen in der Zeichenkette _Kleinbuchstaben_ sind (z.B. `'a'`, `'b'`, `'c'`).  |\n",
    "| `isnumeric()`    | Gibt `True` zurück, wenn die Zeichen in der Zeichenkette einen _numerischen Wert_ ohne ein + oder - Zeichen und ohne Dezimalpunkt darstellen. |\n",
    "| `isspace()`      | Gibt `True` zurück, wenn die Zeichenkette nur _Whitespace_-Zeichen enthält.                                                  |\n",
    "| `istitle()`      | Gibt `True` zurück, wenn das erste Zeichen jedes Wortes in der Zeichenkette das einzige Grossbuchstaben-Zeichen im Wort ist. |\n",
    "| `isupper()`      | Gibt `True` zurück, wenn alle alphabetischen Zeichen in der Zeichenkette _Grossbuchstaben_ sind (z.B. `'A'`, `'B'`, `'C'`).  |"
   ]
  }
 ],
 "metadata": {
  "kernelspec": {
   "display_name": "Python 3 (ipykernel)",
   "language": "python",
   "name": "python3"
  },
  "language_info": {
   "codemirror_mode": {
    "name": "ipython",
    "version": 3
   },
   "file_extension": ".py",
   "mimetype": "text/x-python",
   "name": "python",
   "nbconvert_exporter": "python",
   "pygments_lexer": "ipython3",
   "version": "3.8.16"
  },
  "vscode": {
   "interpreter": {
    "hash": "aee8b7b246df8f9039afb4144a1f6fd8d2ca17a180786b69acc140d282b71a49"
   }
  }
 },
 "nbformat": 4,
 "nbformat_minor": 4
}
