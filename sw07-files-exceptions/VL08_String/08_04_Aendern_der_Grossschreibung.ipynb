{
 "cells": [
  {
   "cell_type": "markdown",
   "metadata": {},
   "source": [
    "# 8.4 Ändern der Grossschreibung"
   ]
  },
  {
   "cell_type": "markdown",
   "metadata": {},
   "source": [
    "## Nur das erste Zeichen einer Zeichenfolge gross schreiben\n",
    "Die Methode **[`capitalize()`](https://docs.python.org/3/library/stdtypes.html#str.capitalize)** gibt eine neue Zeichenkette zurück, bei der nur der erste Buchstabe grossgeschrieben wird. Dies wird manchmal als **Satzgrossschreibung** bezeichnet."
   ]
  },
  {
   "cell_type": "code",
   "execution_count": 1,
   "metadata": {},
   "outputs": [
    {
     "data": {
      "text/plain": [
       "'Happy birthday'"
      ]
     },
     "execution_count": 1,
     "metadata": {},
     "output_type": "execute_result"
    }
   ],
   "source": [
    "'happy birthday'.capitalize()"
   ]
  },
  {
   "cell_type": "markdown",
   "metadata": {},
   "source": [
    "## Grossschreibung des ersten Zeichens jedes Wortes in einer Zeichenfolge\n",
    "Die Methode **[`title()`](https://docs.python.org/3/library/stdtypes.html#str.title)** gibt eine neue Zeichenkette zurück, bei der das erste Zeichen jedes Wortes gross geschrieben ist. Diese wird manchmal auch als **Buchtitel-Grossschreibung** bezeichnet."
   ]
  },
  {
   "cell_type": "code",
   "execution_count": 2,
   "metadata": {},
   "outputs": [
    {
     "data": {
      "text/plain": [
       "'Strings: A Deeper Look'"
      ]
     },
     "execution_count": 2,
     "metadata": {},
     "output_type": "execute_result"
    }
   ],
   "source": [
    "'strings: a deeper look'.title()"
   ]
  }
 ],
 "metadata": {
  "kernelspec": {
   "display_name": "Python 3 (ipykernel)",
   "language": "python",
   "name": "python3"
  },
  "language_info": {
   "codemirror_mode": {
    "name": "ipython",
    "version": 3
   },
   "file_extension": ".py",
   "mimetype": "text/x-python",
   "name": "python",
   "nbconvert_exporter": "python",
   "pygments_lexer": "ipython3",
   "version": "3.8.16"
  },
  "vscode": {
   "interpreter": {
    "hash": "aee8b7b246df8f9039afb4144a1f6fd8d2ca17a180786b69acc140d282b71a49"
   }
  }
 },
 "nbformat": 4,
 "nbformat_minor": 4
}
