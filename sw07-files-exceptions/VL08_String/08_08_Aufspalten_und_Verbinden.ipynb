{
 "cells": [
  {
   "cell_type": "markdown",
   "metadata": {},
   "source": [
    "# 8.8 Aufspalten und Verbinden von Strings\n",
    "**Tokens** werden normalerweise durch Leerstellen wie Leerzeichen, Tabulatoren und Zeilenumbrüche getrennt, obwohl auch andere Zeichen verwendet werden können. Die Trennzeichen werden als **Delimiter** bezeichnet."
   ]
  },
  {
   "cell_type": "markdown",
   "metadata": {},
   "source": [
    "## Aufspalten von Zeichenketten mittels _split_ und _rsplit_\n",
    "Um eine Zeichenkette an einem benutzerdefinierten Delimiter aufzuspalten, geben Sie die **Delimiter-Zeichenkette** an, die [`split()`](https://docs.python.org/3/library/stdtypes.html#str.split) verwenden soll, um die Zeichenkette aufzuteilen"
   ]
  },
  {
   "cell_type": "code",
   "execution_count": 1,
   "metadata": {},
   "outputs": [],
   "source": [
    "letters = 'A, B, C, D'"
   ]
  },
  {
   "cell_type": "code",
   "execution_count": 2,
   "metadata": {},
   "outputs": [
    {
     "data": {
      "text/plain": [
       "['A', 'B', 'C', 'D']"
      ]
     },
     "execution_count": 2,
     "metadata": {},
     "output_type": "execute_result"
    }
   ],
   "source": [
    "letters.split(', ')"
   ]
  },
  {
   "cell_type": "markdown",
   "metadata": {},
   "source": [
    "Geben Sie die **maximale Anzahl von Aufteilungen** mit einer Ganzzahl als **zweites Argument** an.\n",
    "* Es werden **maxsplit + 1** Elemente in einer Liste zurückgegeben;\n",
    "* Das letzte Token entspricht dem Rest der Zeichenkette."
   ]
  },
  {
   "cell_type": "code",
   "execution_count": 3,
   "metadata": {},
   "outputs": [
    {
     "data": {
      "text/plain": [
       "['A', 'B', 'C, D']"
      ]
     },
     "execution_count": 3,
     "metadata": {},
     "output_type": "execute_result"
    }
   ],
   "source": [
    "letters.split(', ', 2)"
   ]
  },
  {
   "cell_type": "markdown",
   "metadata": {},
   "source": [
    "**[`rsplit()`](https://docs.python.org/3/library/stdtypes.html#str.rsplit)** führt die gleiche Aufgabe wie [`split()`](https://docs.python.org/3/library/stdtypes.html#str.split) aus, verarbeitet aber die maximale Anzahl von Splits vom Ende der Zeichenkette zum Anfang"
   ]
  },
  {
   "cell_type": "code",
   "execution_count": 4,
   "metadata": {},
   "outputs": [
    {
     "data": {
      "text/plain": [
       "['A, B', 'C', 'D']"
      ]
     },
     "execution_count": 4,
     "metadata": {},
     "output_type": "execute_result"
    }
   ],
   "source": [
    "letters.rsplit(', ', 2)"
   ]
  },
  {
   "cell_type": "markdown",
   "metadata": {},
   "source": [
    "## Zeichenketten mit _join_ verbinden \n",
    "**[`join()`](https://docs.python.org/3/library/stdtypes.html#str.join)** verbindet die Zeichenketten die im iterierbaren Objekt des Arguments enthalten sind. Das Trennzeichen zwischen den verketteten Elementen ist die Zeichenkette, auf der Sie [`join()`](https://docs.python.org/3/library/stdtypes.html#str.join) aufrufen."
   ]
  },
  {
   "cell_type": "code",
   "execution_count": 5,
   "metadata": {},
   "outputs": [],
   "source": [
    "letters_list = ['A', 'B', 'C', 'D']"
   ]
  },
  {
   "cell_type": "code",
   "execution_count": 6,
   "metadata": {},
   "outputs": [
    {
     "data": {
      "text/plain": [
       "'A_B_C_D'"
      ]
     },
     "execution_count": 6,
     "metadata": {},
     "output_type": "execute_result"
    }
   ],
   "source": [
    "'_'.join(letters_list)"
   ]
  },
  {
   "cell_type": "markdown",
   "metadata": {},
   "source": [
    "> Verbinden Sie die Ergebnisse einer _List-Comprehension_, die eine Liste von Zeichenfolgen erstellt"
   ]
  },
  {
   "cell_type": "code",
   "execution_count": 7,
   "metadata": {
    "tags": []
   },
   "outputs": [
    {
     "data": {
      "text/plain": [
       "'0, 1, 2, 3, 4, 5, 6, 7, 8, 9'"
      ]
     },
     "execution_count": 7,
     "metadata": {},
     "output_type": "execute_result"
    }
   ],
   "source": [
    "', '.join([str(i) for i in range(10)])"
   ]
  },
  {
   "cell_type": "markdown",
   "metadata": {},
   "source": [
    "## String-Methoden _partition_ und _rpartition_\n",
    "String-Methode **[`partition()`](https://docs.python.org/3/library/stdtypes.html#str.partition)** spaltet eine Zeichenkette in ein Tupel von drei Zeichenketten, basierend auf dem _Separator_-Argument der Methode:\n",
    "1. der Teil der Originalzeichenkette vor dem Trennzeichen\n",
    "2. das Trennzeichen selbst\n",
    "3. der Teil der Zeichenkette nach dem Trennzeichen"
   ]
  },
  {
   "cell_type": "code",
   "execution_count": 8,
   "metadata": {},
   "outputs": [
    {
     "data": {
      "text/plain": [
       "('Amanda', ': ', '89, 97, 92')"
      ]
     },
     "execution_count": 8,
     "metadata": {},
     "output_type": "execute_result"
    }
   ],
   "source": [
    "'Amanda: 89, 97, 92'.partition(': ')"
   ]
  },
  {
   "cell_type": "markdown",
   "metadata": {},
   "source": [
    "Um nach dem Trennzeichen vom Ende der Zeichenkette zu suchen, verwenden Sie die Methode **[`rpartition()`](https://docs.python.org/3/library/stdtypes.html#str.rpartition)**."
   ]
  },
  {
   "cell_type": "code",
   "execution_count": 9,
   "metadata": {},
   "outputs": [],
   "source": [
    "url = 'http://www.deitel.com/books/PyCDS/table_of_contents.html'"
   ]
  },
  {
   "cell_type": "code",
   "execution_count": 10,
   "metadata": {},
   "outputs": [],
   "source": [
    "rest_of_url, separator, document = url.rpartition('/')"
   ]
  },
  {
   "cell_type": "code",
   "execution_count": 11,
   "metadata": {},
   "outputs": [
    {
     "data": {
      "text/plain": [
       "'table_of_contents.html'"
      ]
     },
     "execution_count": 11,
     "metadata": {},
     "output_type": "execute_result"
    }
   ],
   "source": [
    "document"
   ]
  },
  {
   "cell_type": "code",
   "execution_count": 12,
   "metadata": {},
   "outputs": [
    {
     "data": {
      "text/plain": [
       "'http://www.deitel.com/books/PyCDS'"
      ]
     },
     "execution_count": 12,
     "metadata": {},
     "output_type": "execute_result"
    }
   ],
   "source": [
    "rest_of_url"
   ]
  },
  {
   "cell_type": "markdown",
   "metadata": {},
   "source": [
    "## String Methode _splitlines_\n",
    "**[`splitlines()`](https://docs.python.org/3/library/stdtypes.html#str.splitlines)** gibt eine Liste neuer Zeichenketten zurück, die Textzeilen darstellen, die bei jedem Zeilenumbruchzeichen in der ursprünglichen Zeichenkette geteilt wurden."
   ]
  },
  {
   "cell_type": "code",
   "execution_count": 13,
   "metadata": {},
   "outputs": [],
   "source": [
    "lines = \"\"\"This is line 1\n",
    "This is line2\n",
    "This is line3\"\"\""
   ]
  },
  {
   "cell_type": "code",
   "execution_count": 14,
   "metadata": {},
   "outputs": [
    {
     "data": {
      "text/plain": [
       "'This is line 1\\nThis is line2\\nThis is line3'"
      ]
     },
     "execution_count": 14,
     "metadata": {},
     "output_type": "execute_result"
    }
   ],
   "source": [
    "lines"
   ]
  },
  {
   "cell_type": "code",
   "execution_count": 15,
   "metadata": {},
   "outputs": [
    {
     "data": {
      "text/plain": [
       "['This is line 1', 'This is line2', 'This is line3']"
      ]
     },
     "execution_count": 15,
     "metadata": {},
     "output_type": "execute_result"
    }
   ],
   "source": [
    "lines.splitlines()"
   ]
  },
  {
   "cell_type": "markdown",
   "metadata": {},
   "source": [
    "Bei der Übergabe von `True` an [`splitlines()`](https://docs.python.org/3/library/stdtypes.html#str.splitlines) bleiben die Zeilenumbrüche erhalten."
   ]
  },
  {
   "cell_type": "code",
   "execution_count": 16,
   "metadata": {},
   "outputs": [
    {
     "data": {
      "text/plain": [
       "['This is line 1\\n', 'This is line2\\n', 'This is line3']"
      ]
     },
     "execution_count": 16,
     "metadata": {},
     "output_type": "execute_result"
    }
   ],
   "source": [
    "lines.splitlines(True)"
   ]
  },
  {
   "cell_type": "code",
   "execution_count": null,
   "metadata": {},
   "outputs": [],
   "source": []
  }
 ],
 "metadata": {
  "kernelspec": {
   "display_name": "Python 3 (ipykernel)",
   "language": "python",
   "name": "python3"
  },
  "language_info": {
   "codemirror_mode": {
    "name": "ipython",
    "version": 3
   },
   "file_extension": ".py",
   "mimetype": "text/x-python",
   "name": "python",
   "nbconvert_exporter": "python",
   "pygments_lexer": "ipython3",
   "version": "3.8.16"
  },
  "vscode": {
   "interpreter": {
    "hash": "aee8b7b246df8f9039afb4144a1f6fd8d2ca17a180786b69acc140d282b71a49"
   }
  }
 },
 "nbformat": 4,
 "nbformat_minor": 4
}
