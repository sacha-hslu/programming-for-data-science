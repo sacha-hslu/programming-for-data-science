{
 "cells": [
  {
   "cell_type": "markdown",
   "id": "b944dc04",
   "metadata": {},
   "source": [
    "# 11.2.1 Schreiben in eine Textdatei\n",
    "Wir erstellen eine einfache Textdatei, die die Datensätze eines Debitorenbuchhaltungssystems enthält.\n",
    "\n",
    "<br>\n",
    "\n",
    "Für jeden Kunden werden folgende Daten gespeichert:\n",
    "   * Kontonummer\n",
    "   * Nachname\n",
    "   * Kontostand"
   ]
  },
  {
   "cell_type": "code",
   "execution_count": 2,
   "id": "7fb5dcf4",
   "metadata": {
    "ExecuteTime": {
     "end_time": "2023-10-31T18:27:12.804870Z",
     "start_time": "2023-10-31T18:27:12.801374Z"
    }
   },
   "outputs": [],
   "source": [
    "with open('accounts.txt', mode='w') as accounts:\n",
    "    # Variant 1: using the write function\n",
    "    accounts.write('100 Jones 24.98\\n')\n",
    "    accounts.write('200 Doe 345.67\\n')\n",
    "    accounts.write('300 White 0.00\\n')\n",
    "    \n",
    "    # Variant 2: using the print function\n",
    "    print('400 Stone -42.16', file=accounts)\n",
    "    print('500 Rich 224.62', file=accounts)"
   ]
  },
  {
   "cell_type": "markdown",
   "id": "6959d5b4",
   "metadata": {},
   "source": [
    "Wir können auch mit der `print`-Funktion in ein File schreiben. In diesem Fall wird automatisch der Zeilenumbruch `'\\n'` eingefügt."
   ]
  },
  {
   "cell_type": "code",
   "execution_count": 3,
   "id": "7512fa30",
   "metadata": {},
   "outputs": [
    {
     "name": "stdout",
     "output_type": "stream",
     "text": [
      "100 Jones 24.98\r\n",
      "200 Doe 345.67\r\n",
      "300 White 0.00\r\n",
      "400 Stone -42.16\r\n",
      "500 Rich 224.62\r\n"
     ]
    }
   ],
   "source": [
    "# macOS/Linux Users: View file contents\n",
    "!cat accounts.txt"
   ]
  },
  {
   "cell_type": "code",
   "execution_count": 4,
   "id": "781b26e4",
   "metadata": {},
   "outputs": [
    {
     "name": "stdout",
     "output_type": "stream",
     "text": [
      "100 Jones 24.98\n",
      "200 Doe 345.67\n",
      "300 White 0.00\n",
      "400 Stone -42.16\n",
      "500 Rich 224.62\n",
      "\u001b[K\u001b[?1l\u001b>ts.txt (END)\u001b[m\u001b[K\u0007"
     ]
    }
   ],
   "source": [
    "# Windows Users: View file contents\n",
    "!more accounts.txt"
   ]
  },
  {
   "cell_type": "markdown",
   "id": "19459972",
   "metadata": {},
   "source": [
    "Viele Anwendungen nutzen Ressourcen, z. B. Dateien, Netzwerkverbindungen, Datenbankverbindungen, etc. Diese Ressourcen sollten wieder _freigeben_ werden, sobald sie nicht mehr benötigt werden. So können andere Anwendungen die Ressourcen danach auch wieder nutzen.\n",
    "\n",
    "### Die *with*-Anweisung \n",
    " * Bezieht eine Ressource und weist das Resourcenobjekt mittels `as` einer Variablen zu;\n",
    " * Erlaubt der Anwendung, die Ressource über diese Variable zu verwenden;\n",
    " * Ruft die **`close`-Methode** des Ressourcenobjekts implizit auf, um die Ressource freizugeben, wenn die *with-suite* verlassen wird."
   ]
  },
  {
   "cell_type": "markdown",
   "id": "e38571ca",
   "metadata": {},
   "source": [
    "### Die Funktion: *open*\n",
    "* Öffnet die Datei `accounts.txt` und ordnet sie einem Dateiobjekt zu;\n",
    "* Das Argument `mode` spezifiziert die Art, wie eine Datei geöffnet wird, also den **file-open mode**, d.h. ob eine Datei zum Lesen aus der Datei, zum Schreiben in die Datei oder für beides geöffnet werden soll; \n",
    "* Modus `'w'` öffnet die Datei zum _Schreiben_ und erzeugt die Datei, wenn sie nicht existiert;\n",
    "* Wird kein Pfad zu der Datei angeben, legt Python sie einfach im aktuellen Ordner an;\n",
    "* Gemäss Konvention bezeichnet die Dateierweiterung **`.txt`** eine reine Textdatei.\n",
    "> * **Achtung!** - Öffnen einer Datei zum Schreiben mit `'w'` **_löscht_** alle vorhandenen Daten in der Datei;\n"
   ]
  },
  {
   "cell_type": "markdown",
   "id": "e143a4f0",
   "metadata": {},
   "source": [
    "### Schreiben in eine Datei \n",
    "* Die `with`- Anweisung weist das von `open` zurückgegebene Objekt der Variablen `accounts` zu;\n",
    "* Die Suite der `with`- Anweisungen benutzt die Variable `accounts`, um mit der Datei zu interagieren;\n",
    "* Die **`write`- Methode** des Dateiobjekts schreibt einen Datensatz nach dem anderen in die Datei;\n",
    "* Am Ende der Suite der `with`-Anweisung ruft die `with`-Anweisung _implizit_ die **`close`**-Methode des Dateiobjekts auf, um die Datei zu schliessen."
   ]
  }
 ],
 "metadata": {
  "kernelspec": {
   "display_name": "Python 3 (ipykernel)",
   "language": "python",
   "name": "python3"
  },
  "language_info": {
   "codemirror_mode": {
    "name": "ipython",
    "version": 3
   },
   "file_extension": ".py",
   "mimetype": "text/x-python",
   "name": "python",
   "nbconvert_exporter": "python",
   "pygments_lexer": "ipython3",
   "version": "3.11.5"
  },
  "vscode": {
   "interpreter": {
    "hash": "aee8b7b246df8f9039afb4144a1f6fd8d2ca17a180786b69acc140d282b71a49"
   }
  }
 },
 "nbformat": 4,
 "nbformat_minor": 5
}
