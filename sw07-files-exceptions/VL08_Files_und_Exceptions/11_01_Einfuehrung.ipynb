{
 "cells": [
  {
   "cell_type": "markdown",
   "id": "recorded-hunter",
   "metadata": {},
   "source": [
    "# 11.1 Einführung"
   ]
  },
  {
   "cell_type": "markdown",
   "id": "subjective-facility",
   "metadata": {},
   "source": [
    "## Dateien\n",
    "Variablen, Listen, Tupel, Dictionary, Sets, Arrays, etc. bieten nur eine **_temporäre_** Datenspeicherung. Die Daten gehen verloren, wenn das Programm beendet wird.\n",
    "\n",
    "Daten, die in **Dateien** gespeichert sind, sind **persistent**. Computer speichern Dateien auf sekundären Speichergeräten (Solid-State-Laufwerke, Festplatten und weitere).\n",
    "\n",
    "<br>\n",
    "\n",
    "Wir betrachten Textdateien in mehreren gängigen Formaten:\n",
    "* einfacher Text (plain text)\n",
    "* [JSON](https://www.json.org/json-en.html) (JavaScript Object Notation)\n",
    "* [CSV](https://en.wikipedia.org/wiki/Comma-separated_values) (comma-separated values)\n",
    "\n",
    "<br>\n",
    "\n",
    "**[JSON](https://www.json.org/json-en.html)** wird verwendet, um Objekte zu **serialisieren** und zu **deserialisieren**, um sie \n",
    "* Python Standard Library [`json`](https://docs.python.org/3/library/json.html)-Modul\n",
    "* auf einem Sekundärspeicher zu speichern, oder \n",
    "* über das Internet zu übertragen.\n",
    "\n",
    "<br>\n",
    "\n",
    "**[CSV](https://en.wikipedia.org/wiki/Comma-separated_values)** Dateien werden sehr oft in Data Science verwendet\n",
    "* Python Standard Library [`csv`](https://docs.python.org/3/library/csv.html)-Modul\n",
    "* pandas Library"
   ]
  },
  {
   "cell_type": "markdown",
   "id": "chronic-integrity",
   "metadata": {},
   "source": [
    "## Freigabe von Resourcen\n",
    "Programme fordern normalerweise während der Programmausführung Ressourcen, wie den Zugriff auf Dateien (*filehandle*) an. Oft sind diese nur begrenzt verfügbar oder können jeweils nur von einem Programm genutzt werden. Daher müssen Sie nach der Benutzung wieder frei geben werden.\n",
    "\n",
    "Mit der **`with`-Anweisung** können wir sicherstellen, dass Resourcen nach Gebrauch, oder beim Auftreten einer *Exception*, automatisch immer frei gegeben werden."
   ]
  },
  {
   "cell_type": "markdown",
   "id": "leading-broadcast",
   "metadata": {},
   "source": [
    "## Exception handling\n",
    "Eine Exception entsteht aufgrund eines Ausführungszeitproblems, Zum Beispiel: `ZeroDivisionError`, `NameError`, `ValueError`, `StatisticsError`, `TypeError`, `IndexError`, `KeyError` und `RuntimeError`.\n",
    "\n",
    "Exceptions können beim Auftreten durch Verwendung von `try`-Anweisungen und `except`-Klauseln behandelt werden. Das stellt sicher, dass Programme _robust_ und _fehlertolerant_ sind und in der Folge trotz Auftreten eines Fehlers weiter ausgeführt, oder anständig beendet werden können."
   ]
  }
 ],
 "metadata": {
  "kernelspec": {
   "display_name": "Python 3 (ipykernel)",
   "language": "python",
   "name": "python3"
  },
  "language_info": {
   "codemirror_mode": {
    "name": "ipython",
    "version": 3
   },
   "file_extension": ".py",
   "mimetype": "text/x-python",
   "name": "python",
   "nbconvert_exporter": "python",
   "pygments_lexer": "ipython3",
   "version": "3.8.16"
  },
  "vscode": {
   "interpreter": {
    "hash": "aee8b7b246df8f9039afb4144a1f6fd8d2ca17a180786b69acc140d282b71a49"
   }
  }
 },
 "nbformat": 4,
 "nbformat_minor": 5
}
