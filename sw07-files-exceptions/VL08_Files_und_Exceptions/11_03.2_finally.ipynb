{
 "cells": [
  {
   "cell_type": "markdown",
   "id": "136d30cc",
   "metadata": {},
   "source": [
    "# 11.3.2 *finally* Klausel\n",
    "* Eine `try`-Anweisung kann als letzte Klausel eine `finally`-Klausel haben;\n",
    "* Die `finally` Klausel **wird in jedem Fall ausgeführt**."
   ]
  },
  {
   "cell_type": "markdown",
   "id": "afab881f",
   "metadata": {},
   "source": [
    "### Beispiel 1: keine Exception"
   ]
  },
  {
   "cell_type": "code",
   "execution_count": 1,
   "id": "6f9a000a",
   "metadata": {},
   "outputs": [
    {
     "name": "stdout",
     "output_type": "stream",
     "text": [
      "try suite with no exceptions raised\n",
      "else executes because no exceptions in the try suite\n",
      "finally always executes\n"
     ]
    }
   ],
   "source": [
    "try:\n",
    "    print('try suite with no exceptions raised')\n",
    "except:\n",
    "    print('this will not execute')\n",
    "else:\n",
    "    print('else executes because no exceptions in the try suite')\n",
    "finally:  \n",
    "    print('finally always executes')"
   ]
  },
  {
   "cell_type": "markdown",
   "id": "aab41acc",
   "metadata": {},
   "source": [
    "### Beispiel 2: Exception "
   ]
  },
  {
   "cell_type": "code",
   "execution_count": 2,
   "id": "b46a267b",
   "metadata": {},
   "outputs": [
    {
     "name": "stdout",
     "output_type": "stream",
     "text": [
      "try suite that raises an exception\n",
      "a ValueError occurred\n",
      "finally always executes\n"
     ]
    }
   ],
   "source": [
    "try:\n",
    "    print('try suite that raises an exception')\n",
    "    int('hello')\n",
    "    print('this will not execute')\n",
    "except ValueError:\n",
    "    print('a ValueError occurred')\n",
    "else:\n",
    "    print('else will not execute because an exception occurred')\n",
    "finally:  \n",
    "    print('finally always executes')"
   ]
  },
  {
   "cell_type": "markdown",
   "id": "268ebe38",
   "metadata": {},
   "source": [
    "### Anwendungsbeispiel\n",
    "\n",
    "Dateizugriff ohne Kontextmanager (`with`) und Schliessen der Datei mittels `finally`-Suite."
   ]
  },
  {
   "cell_type": "code",
   "execution_count": null,
   "id": "6b66befe",
   "metadata": {},
   "outputs": [],
   "source": [
    "try:\n",
    "    file = open(\"hello.txt\", mode=\"w\")\n",
    "    file.write(\"Hello, World!\")\n",
    "finally:\n",
    "    file.close()"
   ]
  }
 ],
 "metadata": {
  "kernelspec": {
   "display_name": "Python 3 (ipykernel)",
   "language": "python",
   "name": "python3"
  },
  "language_info": {
   "codemirror_mode": {
    "name": "ipython",
    "version": 3
   },
   "file_extension": ".py",
   "mimetype": "text/x-python",
   "name": "python",
   "nbconvert_exporter": "python",
   "pygments_lexer": "ipython3",
   "version": "3.8.16"
  }
 },
 "nbformat": 4,
 "nbformat_minor": 5
}
