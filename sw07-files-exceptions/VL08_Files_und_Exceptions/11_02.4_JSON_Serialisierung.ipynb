{
 "cells": [
  {
   "cell_type": "markdown",
   "id": "0e56bc6d",
   "metadata": {},
   "source": [
    "# 11.2.4 Serialisierung mit JSON\n",
    "* **[JSON](https://www.json.org/json-en.html) (JavaScript Object Notation)** ist ein textbasiertes, von Menschen und Computern lesbares Datenaustauschformat, das zur Darstellung von Objekten als Sammlungen von Name-Wert-Paaren verwendet wird. \n",
    "* Es wird durch das Python-Modul [`json`](https://docs.python.org/3/library/json.html) unterstützt.\n",
    "* Das ist das bevorzugte Datenformat für die plattformübergreifende Übertragung von Objekten.\n"
   ]
  },
  {
   "cell_type": "markdown",
   "id": "9b09bd72",
   "metadata": {},
   "source": [
    "### JSON Datenformat \n",
    "* Jedes JSON-Objekt enthält eine durch Kommas getrennte Liste von **Eigenschaftsnamen** und **Werten**, in geschweiften Klammern: \n",
    "    > ```Python\n",
    "    {\"account\": 100, \"name\": \"Jones\", \"balance\": 24.98}\n",
    "    ```\n",
    "* Ähnlich wie Python-Dictionaries\n",
    "* JSON-Arrays sind, wie Python-Listen, kommagetrennte Werte in eckigen Klammern: \n",
    "    > ```Python\n",
    "    [100, 200, 300]\n",
    "    ```\n",
    "* JSON-Objekten und -Arrays können folgende Werte enthalten: \n",
    "    * **Strings** in **Anführungszeichen** (**\"**);\n",
    "    * **Zahlen**;\n",
    "    * Boolesche JSON-Werte **`true`** oder **`false`**;\n",
    "    * **`null`** (wie `None` in Python);\n",
    "    * **arrays**  (wie Listen in Python); \n",
    "    * andere **JSON-Objekte**."
   ]
  },
  {
   "cell_type": "markdown",
   "id": "a461de26",
   "metadata": {},
   "source": [
    "### Python Standard Library Modul *json* \n",
    "Mit dem Modul [`json`](https://docs.python.org/3/library/json.html) können Sie Objekte in das Textformat JSON konvertieren. Dieser Vorgang wird auch **Serialisierung** der Daten genannt."
   ]
  },
  {
   "cell_type": "markdown",
   "id": "41d11816",
   "metadata": {},
   "source": [
    "### Serialisierung eines Objekts zu JSON\n",
    "Gegeben das folgende Dictionary:"
   ]
  },
  {
   "cell_type": "code",
   "execution_count": 1,
   "id": "1a6052cc",
   "metadata": {},
   "outputs": [],
   "source": [
    "accounts_dict = {'accounts': [\n",
    "    {'account': 100, 'name': 'Jones', 'balance': 24.98},\n",
    "    {'account': 200, 'name': 'Doe', 'balance': 345.67}]}"
   ]
  },
  {
   "cell_type": "markdown",
   "id": "5045352d",
   "metadata": {},
   "source": [
    "> Man beachte das Zeichenketten hier mit Hochkommas geschrieben wurden."
   ]
  },
  {
   "cell_type": "markdown",
   "id": "2b79b111",
   "metadata": {},
   "source": [
    "Das Dictionary wird nun serialisiert, d.h. in eine JSON Datei geschrieben:"
   ]
  },
  {
   "cell_type": "code",
   "execution_count": 9,
   "id": "b96c254a",
   "metadata": {},
   "outputs": [],
   "source": [
    "import json"
   ]
  },
  {
   "cell_type": "code",
   "execution_count": 13,
   "id": "484a541c",
   "metadata": {},
   "outputs": [],
   "source": [
    "with open('accounts.json', 'w') as accounts:\n",
    "    json.dump(accounts_dict, accounts, sort_keys=True)"
   ]
  },
  {
   "cell_type": "code",
   "execution_count": 11,
   "id": "761bbec5",
   "metadata": {},
   "outputs": [
    {
     "name": "stdout",
     "output_type": "stream",
     "text": [
      "Help on function dump in module json:\n",
      "\n",
      "dump(obj, fp, *, skipkeys=False, ensure_ascii=True, check_circular=True, allow_nan=True, cls=None, indent=None, separators=None, default=None, sort_keys=False, **kw)\n",
      "    Serialize ``obj`` as a JSON formatted stream to ``fp`` (a\n",
      "    ``.write()``-supporting file-like object).\n",
      "    \n",
      "    If ``skipkeys`` is true then ``dict`` keys that are not basic types\n",
      "    (``str``, ``int``, ``float``, ``bool``, ``None``) will be skipped\n",
      "    instead of raising a ``TypeError``.\n",
      "    \n",
      "    If ``ensure_ascii`` is false, then the strings written to ``fp`` can\n",
      "    contain non-ASCII characters if they appear in strings contained in\n",
      "    ``obj``. Otherwise, all such characters are escaped in JSON strings.\n",
      "    \n",
      "    If ``check_circular`` is false, then the circular reference check\n",
      "    for container types will be skipped and a circular reference will\n",
      "    result in an ``OverflowError`` (or worse).\n",
      "    \n",
      "    If ``allow_nan`` is false, then it will be a ``ValueError`` to\n",
      "    serialize out of range ``float`` values (``nan``, ``inf``, ``-inf``)\n",
      "    in strict compliance of the JSON specification, instead of using the\n",
      "    JavaScript equivalents (``NaN``, ``Infinity``, ``-Infinity``).\n",
      "    \n",
      "    If ``indent`` is a non-negative integer, then JSON array elements and\n",
      "    object members will be pretty-printed with that indent level. An indent\n",
      "    level of 0 will only insert newlines. ``None`` is the most compact\n",
      "    representation.\n",
      "    \n",
      "    If specified, ``separators`` should be an ``(item_separator, key_separator)``\n",
      "    tuple.  The default is ``(', ', ': ')`` if *indent* is ``None`` and\n",
      "    ``(',', ': ')`` otherwise.  To get the most compact JSON representation,\n",
      "    you should specify ``(',', ':')`` to eliminate whitespace.\n",
      "    \n",
      "    ``default(obj)`` is a function that should return a serializable version\n",
      "    of obj or raise TypeError. The default simply raises TypeError.\n",
      "    \n",
      "    If *sort_keys* is true (default: ``False``), then the output of\n",
      "    dictionaries will be sorted by key.\n",
      "    \n",
      "    To use a custom ``JSONEncoder`` subclass (e.g. one that overrides the\n",
      "    ``.default()`` method to serialize additional types), specify it with\n",
      "    the ``cls`` kwarg; otherwise ``JSONEncoder`` is used.\n",
      "\n"
     ]
    }
   ],
   "source": [
    "help(json.dump)"
   ]
  },
  {
   "cell_type": "markdown",
   "id": "3766df6d",
   "metadata": {},
   "source": [
    "Die Funktion **`dump`** des Moduls **`json`** serialisiert das Dictionary `accounts_dict` in die Datei `accounts` (i.e., accounts.json)"
   ]
  },
  {
   "cell_type": "code",
   "execution_count": 12,
   "id": "c5f8b2ed",
   "metadata": {},
   "outputs": [
    {
     "name": "stdout",
     "output_type": "stream",
     "text": [
      "{\"accounts\": [{\"account\": 100, \"name\": \"Jones\", \"balance\": 24.98}, {\"account\": 200, \"name\": \"Doe\", \"balance\": 345.67}]}"
     ]
    }
   ],
   "source": [
    "# macOS/Linux Users: View file contents\n",
    "!cat accounts.json"
   ]
  },
  {
   "cell_type": "code",
   "execution_count": null,
   "id": "affbb18d",
   "metadata": {},
   "outputs": [],
   "source": [
    "# Windows Users: View file contents\n",
    "!more accounts.json"
   ]
  },
  {
   "cell_type": "markdown",
   "id": "c63ae7e4",
   "metadata": {},
   "source": [
    "Die resultierende Datei enthält den folgenden Text, der hier zwecks besserer Lesbarkeit leicht formatiert wurde: \n",
    "\n",
    "  ```python\n",
    "  {\"accounts\": \n",
    "    [{\"account\": 100, \"name\": \"Jones\", \"balance\": 24.98}, \n",
    "    {\"account\": 200, \"name\": \"Doe\", \"balance\": 345.67}]}\n",
    "  ```\n",
    "\n",
    "> JSON grenzt Strings mit Anführungszeichen (**\"**) ab. Das *dictionary* (`accounts_dict`) oben verwendete Hochkommas."
   ]
  }
 ],
 "metadata": {
  "kernelspec": {
   "display_name": "Python 3 (ipykernel)",
   "language": "python",
   "name": "python3"
  },
  "language_info": {
   "codemirror_mode": {
    "name": "ipython",
    "version": 3
   },
   "file_extension": ".py",
   "mimetype": "text/x-python",
   "name": "python",
   "nbconvert_exporter": "python",
   "pygments_lexer": "ipython3",
   "version": "3.8.16"
  },
  "vscode": {
   "interpreter": {
    "hash": "aee8b7b246df8f9039afb4144a1f6fd8d2ca17a180786b69acc140d282b71a49"
   }
  }
 },
 "nbformat": 4,
 "nbformat_minor": 5
}
