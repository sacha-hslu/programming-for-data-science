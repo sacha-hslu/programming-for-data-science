{
 "cells": [
  {
   "cell_type": "markdown",
   "id": "299e8b7c",
   "metadata": {},
   "source": [
    "# 11.2.3 Aktualisieren einer Textdatei\n",
    "* Formatierte Daten, die in eine Textdatei geschrieben wurden, können nicht ohne das Risiko der Überschreibung anderer Daten geändert werden.\n",
    "* Wenn der Name `'White'` in `accounts.txt` in `'Williams'` geändert werden muss, kann der alte Name nicht einfach überschrieben werden."
   ]
  },
  {
   "cell_type": "code",
   "execution_count": 1,
   "id": "27c88141",
   "metadata": {
    "ExecuteTime": {
     "end_time": "2023-10-31T18:34:58.355314Z",
     "start_time": "2023-10-31T18:34:58.233350Z"
    }
   },
   "outputs": [
    {
     "name": "stdout",
     "output_type": "stream",
     "text": [
      "00000000: 3130 3020 4a6f 6e65 7320 3234 2e39 380a  100 Jones 24.98.\r\n",
      "00000010: 3230 3020 446f 6520 3334 352e 3637 0a33  200 Doe 345.67.3\r\n",
      "00000020: 3030 2057 6869 7465 2030 2e30 300a 3430  00 White 0.00.40\r\n",
      "00000030: 3020 5374 6f6e 6520 2d34 322e 3136 0a35  0 Stone -42.16.5\r\n",
      "00000040: 3030 2052 6963 6820 3232 342e 3632 0a    00 Rich 224.62.\r\n"
     ]
    }
   ],
   "source": [
    "!xxd accounts.txt | head"
   ]
  },
  {
   "cell_type": "markdown",
   "id": "668cc976",
   "metadata": {},
   "source": [
    "* Der Originaldatensatz für `White` wurde in `accounts.txt` gespeichert als\n",
    "    >```Python\n",
    "    300 White 0.00\n",
    "    ```\n",
    "* Wenn Sie den Namen `'White'` mit dem Namen `'Williams'` überschreiben, wird der Datensatz zu\n",
    "    >```Python\n",
    "    300 Williams00\n",
    "    ```\n",
    "* Die Zeichen hinter dem zweiten \"i\" in \"Williams\" überschreiben andere Zeichen in der Zeile.\n",
    "* Das Problem ist, dass Datensätze und ihre Felder in der Grösse variieren können."
   ]
  },
  {
   "cell_type": "markdown",
   "id": "27e97926",
   "metadata": {},
   "source": [
    "### Vorgehen\n",
    "\n",
    "Um den vorhergehenden Namen zu ändern, können wir:\n",
    "1. die Datensätze vor `300 White 0.00` in eine temporäre Datei kopieren; \n",
    "2. den aktualisierten und korrekt formatierten Datensatz für Konto 300 in die temporäre Datei schreiben;\n",
    "3. die Datensätze nach `300 White 0.00` kopieren und in die temporäre Datei einfügen;\n",
    "4. die alte Datei löschen und \n",
    "5. die temporäre Datei umbenennen, um den Namen der Originaldatei zu verwenden.\n",
    "\n",
    "\n",
    "* Das erfordert die Verarbeitung _jedes_ Datensatzes in der Datei, auch wenn Sie nur einen Datensatz aktualisieren müssen.\n",
    "* Es ist effizienter, wenn eine Anwendung viele Datensätze in einem Durchgang der Datei aktualisiert."
   ]
  },
  {
   "cell_type": "markdown",
   "id": "c76bb631",
   "metadata": {},
   "source": [
    "### Aktualisierung der Datei *accounts.txt* \n",
    "Aktualisierung des Namens im Datensatz `'300'` von `'White'` zu `'Williams'`:"
   ]
  },
  {
   "cell_type": "code",
   "execution_count": 3,
   "id": "21a7b12f",
   "metadata": {
    "ExecuteTime": {
     "end_time": "2023-10-31T18:43:04.263438Z",
     "start_time": "2023-10-31T18:43:04.244780Z"
    }
   },
   "outputs": [
    {
     "name": "stdout",
     "output_type": "stream",
     "text": [
      "copying record: 100 Jones 24.98\n",
      "copying record: 200 Doe 345.67\n",
      "modifying record: 300 White 0.00\n",
      "\t-> 300 Williams 0.00\n",
      "copying record: 400 Stone -42.16\n",
      "copying record: 500 Rich 224.62\n"
     ]
    }
   ],
   "source": [
    "with open('accounts.txt', 'r') as accounts, \\\n",
    "open('tempfile.txt', 'w') as tempfile:\n",
    "    for record in accounts:\n",
    "        account, name, balance = record.split()\n",
    "        if account != '300':\n",
    "            print('copying record:', record, end='')\n",
    "            tempfile.write(record)\n",
    "        else:\n",
    "            print('modifying record:', record, end='')\n",
    "            new_record = ' '.join([account, 'Williams', balance])\n",
    "            print('\\t->', new_record)\n",
    "            tempfile.write(new_record + '\\n')"
   ]
  },
  {
   "cell_type": "markdown",
   "id": "188599bd",
   "metadata": {},
   "source": [
    "\n",
    "Die `with`-Anweisung verwaltet zwei Ressourcenobjekte, die in einer durch Kommas getrennten Liste nach `with` angegeben werden:\n",
    "* Wenn das Konto (*account*) nicht `'300'` ist, wird der eingelesene `record` (der einen Zeilenumbruch enthält) einfach in `tempfile` geschrieben;\n",
    "* Andernfalls stellen wird ein neuer Datensatz zusammengestellt, der `'Williams'` anstelle von `'White'` enthält, und danach in das `temp_file` geschrieben."
   ]
  },
  {
   "cell_type": "code",
   "execution_count": 23,
   "id": "987cc5dc",
   "metadata": {},
   "outputs": [
    {
     "name": "stdout",
     "output_type": "stream",
     "text": [
      "100 Jones 24.98\r\n",
      "200 Doe 345.67\r\n",
      "300 Williams 0.00\r\n",
      "400 Stone -42.16\r\n",
      "500 Rich 224.62\r\n"
     ]
    }
   ],
   "source": [
    "# macOS/Linux Users: View file contents\n",
    "!cat tempfile.txt"
   ]
  },
  {
   "cell_type": "code",
   "execution_count": null,
   "id": "2be5646c",
   "metadata": {},
   "outputs": [],
   "source": [
    "# Windows Users: View file contents\n",
    "!more tempfile.txt"
   ]
  },
  {
   "cell_type": "markdown",
   "id": "71957bef",
   "metadata": {},
   "source": [
    "### *os*-Modul Dateiverarbeitungsfunktionen\n",
    "Um die Aktualisierung der Daten vollständig abzuschliessen, muss die alte Datei `accounts.txt` gelöscht und die temporäre Datei `tempfile.txt` in `accounts.txt` umbenannt werden."
   ]
  },
  {
   "cell_type": "code",
   "execution_count": 25,
   "id": "cfb638bb",
   "metadata": {},
   "outputs": [],
   "source": [
    "import os"
   ]
  },
  {
   "cell_type": "code",
   "execution_count": 26,
   "id": "a070a87f",
   "metadata": {},
   "outputs": [],
   "source": [
    "os.remove('accounts.txt')"
   ]
  },
  {
   "cell_type": "markdown",
   "id": "cfb16cd3",
   "metadata": {},
   "source": [
    "Benutzen Sie die Funktion **`rename`**, um die temporäre Datei in `'accounts.txt'` umzubenennen."
   ]
  },
  {
   "cell_type": "code",
   "execution_count": 27,
   "id": "ca5ee727",
   "metadata": {},
   "outputs": [],
   "source": [
    "os.rename('tempfile.txt', 'accounts.txt')"
   ]
  },
  {
   "cell_type": "code",
   "execution_count": 28,
   "id": "58a23b6b",
   "metadata": {},
   "outputs": [
    {
     "name": "stdout",
     "output_type": "stream",
     "text": [
      "100 Jones 24.98\r\n",
      "200 Doe 345.67\r\n",
      "300 Williams 0.00\r\n",
      "400 Stone -42.16\r\n",
      "500 Rich 224.62\r\n"
     ]
    }
   ],
   "source": [
    "# macOS/Linux Users: View file contents\n",
    "!cat accounts.txt"
   ]
  },
  {
   "cell_type": "code",
   "execution_count": null,
   "id": "c3e6ac0e",
   "metadata": {
    "tags": []
   },
   "outputs": [],
   "source": [
    "# Windows Users: View file contents\n",
    "!more accounts.txt"
   ]
  }
 ],
 "metadata": {
  "kernelspec": {
   "display_name": "Python 3 (ipykernel)",
   "language": "python",
   "name": "python3"
  },
  "language_info": {
   "codemirror_mode": {
    "name": "ipython",
    "version": 3
   },
   "file_extension": ".py",
   "mimetype": "text/x-python",
   "name": "python",
   "nbconvert_exporter": "python",
   "pygments_lexer": "ipython3",
   "version": "3.11.5"
  },
  "vscode": {
   "interpreter": {
    "hash": "aee8b7b246df8f9039afb4144a1f6fd8d2ca17a180786b69acc140d282b71a49"
   }
  }
 },
 "nbformat": 4,
 "nbformat_minor": 5
}
