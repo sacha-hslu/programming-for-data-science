{
 "cells": [
  {
   "cell_type": "markdown",
   "id": "b0f21dec",
   "metadata": {},
   "source": [
    "# 11.3.4 Explizites Auslösen einer Exception: Die *raise*-Anweisung\n",
    "Manchmal müssen Sie  Funktionen schreiben, die Ausnahmen auslösen, um Anrufer über auftretende Fehler zu informieren.\n",
    "\n",
    "Die  **`raise`**-Anweisung löst eine Exception aus: \n",
    "```python\n",
    "raise ExceptionClassName\n",
    "```\n",
    "\n",
    "\n",
    "* `raise` _ExceptonClassName_ erzeugt ein Objekt der angegebenen Exception-Klasse.\n",
    "* Der Name der Exception-Klasse  kann von Klammern gefolgt werden, die Argumente zur Initialisierung des Ausnahmeobjekts enthalten (typischerweise eine benutzerdefinierte Fehlermeldung).\n",
    "* Code, der eine *Exception* auslöst, sollte zuerst alle Ressourcen freigeben, die vor dem Auftreten der Exception geöffnet wurden."
   ]
  },
  {
   "cell_type": "code",
   "execution_count": 1,
   "id": "b8d23594",
   "metadata": {},
   "outputs": [
    {
     "name": "stdout",
     "output_type": "stream",
     "text": [
      "test\n",
      "ValueException was raised\n"
     ]
    }
   ],
   "source": [
    "try:\n",
    "    raise ValueError(\"test\")\n",
    "except ValueError as ex:\n",
    "    print(ex)\n",
    "    print('ValueException was raised')"
   ]
  },
  {
   "cell_type": "markdown",
   "id": "a735f906",
   "metadata": {},
   "source": [
    "Es wird empfohlen eine der vielen integrierten *Exception*-Typen (https://docs.python.org/3/library/exceptions.html) von Python zu verwenden oder davon abzuleiten:"
   ]
  },
  {
   "cell_type": "raw",
   "id": "21596d30",
   "metadata": {},
   "source": [
    "BaseException\n",
    " ├── BaseExceptionGroup\n",
    " ├── GeneratorExit\n",
    " ├── KeyboardInterrupt\n",
    " ├── SystemExit\n",
    " └── Exception\n",
    "      ├── ArithmeticError\n",
    "      │    ├── FloatingPointError\n",
    "      │    ├── OverflowError\n",
    "      │    └── ZeroDivisionError\n",
    "      ├── AssertionError\n",
    "      ├── AttributeError\n",
    "      ├── BufferError\n",
    "      ├── EOFError\n",
    "      ├── ExceptionGroup [BaseExceptionGroup]\n",
    "      ├── ImportError\n",
    "      │    └── ModuleNotFoundError\n",
    "      ├── LookupError\n",
    "      │    ├── IndexError\n",
    "      │    └── KeyError\n",
    "      ├── MemoryError\n",
    "      ├── NameError\n",
    "      │    └── UnboundLocalError\n",
    "      ├── OSError\n",
    "      │    ├── BlockingIOError\n",
    "      │    ├── ChildProcessError\n",
    "      │    ├── ConnectionError\n",
    "      │    │    ├── BrokenPipeError\n",
    "      │    │    ├── ConnectionAbortedError\n",
    "      │    │    ├── ConnectionRefusedError\n",
    "      │    │    └── ConnectionResetError\n",
    "      │    ├── FileExistsError\n",
    "      │    ├── FileNotFoundError\n",
    "      │    ├── InterruptedError\n",
    "      │    ├── IsADirectoryError\n",
    "      │    ├── NotADirectoryError\n",
    "      │    ├── PermissionError\n",
    "      │    ├── ProcessLookupError\n",
    "      │    └── TimeoutError\n",
    "      ├── ReferenceError\n",
    "      ├── RuntimeError\n",
    "      │    ├── NotImplementedError\n",
    "      │    └── RecursionError\n",
    "      ├── StopAsyncIteration\n",
    "      ├── StopIteration\n",
    "      ├── SyntaxError\n",
    "      │    └── IndentationError\n",
    "      │         └── TabError\n",
    "      ├── SystemError\n",
    "      ├── TypeError\n",
    "      ├── ValueError\n",
    "      │    └── UnicodeError\n",
    "      │         ├── UnicodeDecodeError\n",
    "      │         ├── UnicodeEncodeError\n",
    "      │         └── UnicodeTranslateError\n",
    "      └── Warning\n",
    "           ├── BytesWarning\n",
    "           ├── DeprecationWarning\n",
    "           ├── EncodingWarning\n",
    "           ├── FutureWarning\n",
    "           ├── ImportWarning\n",
    "           ├── PendingDeprecationWarning\n",
    "           ├── ResourceWarning\n",
    "           ├── RuntimeWarning\n",
    "           ├── SyntaxWarning\n",
    "           ├── UnicodeWarning\n",
    "           └── UserWarning"
   ]
  }
 ],
 "metadata": {
  "kernelspec": {
   "display_name": "Python 3 (ipykernel)",
   "language": "python",
   "name": "python3"
  },
  "language_info": {
   "codemirror_mode": {
    "name": "ipython",
    "version": 3
   },
   "file_extension": ".py",
   "mimetype": "text/x-python",
   "name": "python",
   "nbconvert_exporter": "python",
   "pygments_lexer": "ipython3",
   "version": "3.8.16"
  }
 },
 "nbformat": 4,
 "nbformat_minor": 5
}
