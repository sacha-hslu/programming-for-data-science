{
 "cells": [
  {
   "cell_type": "markdown",
   "id": "03904a66",
   "metadata": {},
   "source": [
    "# 11.2 Dateien \n",
    "\n",
    "Wir unterscheiden prinzipiell zwei Arten von Dateien:\n",
    "* **Textdateien** sind eine **Folge von Zeichen**.\n",
    "* **Binärdateien** (für Bilder, Videos und mehr) sind eine **Folge von Bytes**.\n",
    "\n",
    "Für jede Datei, die **geöffnet** wird, erzeugt Python ein **Dateiobjekt**, das zur Interaktion mit der Datei verwendet wird.\n",
    "\n",
    "Das erste Zeichen oder Byte in einer Datei befindet sich an Position **0**. In einer Datei mit **_n_** Zeichen oder Bytes, liegt daher das letzte Zeichen bzw. Byte an Position **_n_ - 1**.\n"
   ]
  },
  {
   "cell_type": "markdown",
   "id": "9532bc23",
   "metadata": {},
   "source": [
    "### Textdatei\n",
    "<img src=\"img/text_file.png\" alt=\"Conceptual view of a file\" width=\"550\">"
   ]
  },
  {
   "cell_type": "markdown",
   "id": "6462682f",
   "metadata": {},
   "source": [
    "Ausgabe der Datei mittels `head` als Text und in byte-weise in hexadezimaler Form mittels `xxd`."
   ]
  },
  {
   "cell_type": "code",
   "execution_count": 11,
   "id": "c6680c46",
   "metadata": {},
   "outputs": [
    {
     "name": "stdout",
     "output_type": "stream",
     "text": [
      "﻿The Project Gutenberg eBook of The Memoirs of Sherlock Holmes, by Arthur Conan Doyle\r",
      "\r\n",
      "\r",
      "\r\n",
      "This eBook is for the use of anyone anywhere in the United States and\r",
      "\r\n",
      "most other parts of the world at no cost and with almost no restrictions\r",
      "\r\n",
      "whatsoever. You may copy it, give it away or re-use it under the terms\r",
      "\r\n",
      "of the Project Gutenberg License included with this eBook or online at\r",
      "\r\n",
      "www.gutenberg.org. If you are not located in the United States, you\r",
      "\r\n",
      "will have to check the laws of the country where you are located before\r",
      "\r\n",
      "using this eBook.\r",
      "\r\n",
      "\r",
      "\r\n"
     ]
    }
   ],
   "source": [
    "# macOS/Linux Users: View file contents\n",
    "!head the_memoirs_of_sherlock_holmes.txt "
   ]
  },
  {
   "cell_type": "code",
   "execution_count": 2,
   "id": "61813d3f",
   "metadata": {
    "scrolled": true
   },
   "outputs": [
    {
     "name": "stdout",
     "output_type": "stream",
     "text": [
      "00000000: efbb bf54 6865 2050 726f 6a65 6374 2047  ...The Project G\r\n",
      "00000010: 7574 656e 6265 7267 2065 426f 6f6b 206f  utenberg eBook o\r\n",
      "00000020: 6620 5468 6520 4d65 6d6f 6972 7320 6f66  f The Memoirs of\r\n",
      "00000030: 2053 6865 726c 6f63 6b20 486f 6c6d 6573   Sherlock Holmes\r\n",
      "00000040: 2c20 6279 2041 7274 6875 7220 436f 6e61  , by Arthur Cona\r\n",
      "00000050: 6e20 446f 796c 650d 0a0d 0a54 6869 7320  n Doyle....This \r\n",
      "00000060: 6542 6f6f 6b20 6973 2066 6f72 2074 6865  eBook is for the\r\n",
      "00000070: 2075 7365 206f 6620 616e 796f 6e65 2061   use of anyone a\r\n",
      "00000080: 6e79 7768 6572 6520 696e 2074 6865 2055  nywhere in the U\r\n",
      "00000090: 6e69 7465 6420 5374 6174 6573 2061 6e64  nited States and\r\n",
      "xxd: Broken pipe\r\n"
     ]
    }
   ],
   "source": [
    "# macOS/Linux Users: View file contents\n",
    "!xxd the_memoirs_of_sherlock_holmes.txt | head"
   ]
  },
  {
   "cell_type": "markdown",
   "id": "ec614d5b",
   "metadata": {},
   "source": [
    "> Byte-Order-Marker (BOM): The UTF-8 representation of the BOM is the (hexadecimal) byte sequence EF BB BF."
   ]
  },
  {
   "cell_type": "markdown",
   "id": "bbda1f7b",
   "metadata": {},
   "source": [
    "### Binärdatei\n",
    "<img src=\"img/binary_file.png\" alt=\"Conceptual view of a file\" width=\"550\">"
   ]
  },
  {
   "cell_type": "markdown",
   "id": "e3fb57b9",
   "metadata": {},
   "source": [
    "Ausgabe der hier gezeigten Bilddatei byte-weise in hexadezimaler Form mittels xxd."
   ]
  },
  {
   "cell_type": "code",
   "execution_count": 3,
   "id": "ee19b725",
   "metadata": {},
   "outputs": [
    {
     "name": "stdout",
     "output_type": "stream",
     "text": [
      "00000000: 8950 4e47 0d0a 1a0a 0000 000d 4948 4452  .PNG........IHDR\r\n",
      "00000010: 0000 0bc0 0000 0352 0806 0000 0010 bb46  .......R.......F\r\n",
      "00000020: 9600 0001 2769 4343 506b 4347 436f 6c6f  ....'iCCPkCGColo\r\n",
      "00000030: 7253 7061 6365 4164 6f62 6552 4742 3139  rSpaceAdobeRGB19\r\n",
      "00000040: 3938 0000 2891 6360 6052 482c 28c8 6112  98..(.c``RH,(.a.\r\n",
      "00000050: 6060 c8cd 2b29 0a72 7752 8888 8c52 607f  ``..+).rwR...R`.\r\n",
      "00000060: ccc0 c220 cac0 c360 c160 9898 5c5c e018  ... ...`.`..\\\\..\r\n",
      "00000070: 10e0 c300 0430 1a15 7cbb c6c0 08a2 2feb  .....0..|...../.\r\n",
      "00000080: 82cc c294 c70b b852 528b 9381 f41f 20ce  .......RR..... .\r\n",
      "00000090: 4e2e 282a 6160 60cc 00b2 95cb 4b0a 40ec  N.(*a``.....K.@.\r\n",
      "xxd: Broken pipe\r\n"
     ]
    }
   ],
   "source": [
    "!xxd img/binary_file.png | head"
   ]
  },
  {
   "cell_type": "markdown",
   "id": "85ce51f2",
   "metadata": {},
   "source": [
    "### Dateiende (*end-of-file*)\n",
    "Jedes Betriebssystem stellt einen Mechanismus zur Verfügung, um das Ende einer Datei zu kennzeichnen:\n",
    "* Einige verwenden eine Dateiende-Markierung (`EOF`: *end-of-file*);\n",
    "* Andere verwenden eine Zählung der gesamten Zeichen oder Bytes in der Datei.\n",
    "\n",
    "Programmiersprachen kapseln diese Details der Betriebsysteme."
   ]
  },
  {
   "cell_type": "markdown",
   "id": "75639ecb",
   "metadata": {},
   "source": [
    "### Standard-Dateiobjekte\n",
    "Wenn ein Python-Programm die Ausführung beginnt, erzeugt es drei **Standard-Dateiobjekte**:\n",
    "* **`sys.stdin`** — das **Standardeingabe-Dateiobjekt**\n",
    "* **`sys.stdout`** — das **Standardausgabe-Dateiobjekt**, und \n",
    "* **`sys.stderr`** — das **Standardfehler-Dateiobjekt**. \n",
    "\n",
    "<br>\n",
    "\n",
    "Die Funktion **`input`** benutzt **implizit** **`sys.stdin`**, um Benutzereingaben von der Tastatur zu erhalten.\n",
    "\n",
    "Die Funktion **`print`** gibt **implizit** an **`sys.stdout`** aus, das in der Kommandozeile erscheint.\n",
    "\n",
    "Python gibt **Programmfehler** und den Traceback **implizit** an **`sys.stderr`** aus.\n",
    "\n",
    "Importieren Sie das **[`sys`](https://docs.python.org/3/library/sys.html)**-Modul, wenn Sie in Ihrem Code **explizit** auf diese Objekte verweisen müssen. Dies ist jedoch selten der Fall."
   ]
  },
  {
   "cell_type": "code",
   "execution_count": null,
   "id": "fff67ba6",
   "metadata": {},
   "outputs": [],
   "source": [
    "help(print)"
   ]
  }
 ],
 "metadata": {
  "kernelspec": {
   "display_name": "Python 3 (ipykernel)",
   "language": "python",
   "name": "python3"
  },
  "language_info": {
   "codemirror_mode": {
    "name": "ipython",
    "version": 3
   },
   "file_extension": ".py",
   "mimetype": "text/x-python",
   "name": "python",
   "nbconvert_exporter": "python",
   "pygments_lexer": "ipython3",
   "version": "3.8.16"
  },
  "vscode": {
   "interpreter": {
    "hash": "aee8b7b246df8f9039afb4144a1f6fd8d2ca17a180786b69acc140d282b71a49"
   }
  }
 },
 "nbformat": 4,
 "nbformat_minor": 5
}
