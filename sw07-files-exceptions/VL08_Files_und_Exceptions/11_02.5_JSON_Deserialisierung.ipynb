{
 "cells": [
  {
   "cell_type": "markdown",
   "id": "92e71f8f",
   "metadata": {},
   "source": [
    "# 11.2.5 Deserialisierung einer JSON Datei\n",
    "Die **`load`-Funktion** des `json`-Moduls liest den gesamten JSON-Inhalt seines Dateiobjekt-Arguments und wandelt  JSON in ein Python-Objekt um. Das ist bekannt als **Deserialisierung** der Daten."
   ]
  },
  {
   "cell_type": "code",
   "execution_count": 1,
   "id": "77911209",
   "metadata": {},
   "outputs": [],
   "source": [
    "import json"
   ]
  },
  {
   "cell_type": "code",
   "execution_count": 2,
   "id": "ed87174d",
   "metadata": {},
   "outputs": [
    {
     "name": "stdout",
     "output_type": "stream",
     "text": [
      "Help on function load in module json:\n",
      "\n",
      "load(fp, *, cls=None, object_hook=None, parse_float=None, parse_int=None, parse_constant=None, object_pairs_hook=None, **kw)\n",
      "    Deserialize ``fp`` (a ``.read()``-supporting file-like object containing\n",
      "    a JSON document) to a Python object.\n",
      "    \n",
      "    ``object_hook`` is an optional function that will be called with the\n",
      "    result of any object literal decode (a ``dict``). The return value of\n",
      "    ``object_hook`` will be used instead of the ``dict``. This feature\n",
      "    can be used to implement custom decoders (e.g. JSON-RPC class hinting).\n",
      "    \n",
      "    ``object_pairs_hook`` is an optional function that will be called with the\n",
      "    result of any object literal decoded with an ordered list of pairs.  The\n",
      "    return value of ``object_pairs_hook`` will be used instead of the ``dict``.\n",
      "    This feature can be used to implement custom decoders.  If ``object_hook``\n",
      "    is also defined, the ``object_pairs_hook`` takes priority.\n",
      "    \n",
      "    To use a custom ``JSONDecoder`` subclass, specify it with the ``cls``\n",
      "    kwarg; otherwise ``JSONDecoder`` is used.\n",
      "\n"
     ]
    }
   ],
   "source": [
    "help(json.load)"
   ]
  },
  {
   "cell_type": "code",
   "execution_count": 3,
   "id": "bef29844",
   "metadata": {},
   "outputs": [],
   "source": [
    "with open('accounts.json', 'r') as accounts:\n",
    "    accounts_json = json.load(accounts)"
   ]
  },
  {
   "cell_type": "code",
   "execution_count": 4,
   "id": "e205c9ea",
   "metadata": {},
   "outputs": [
    {
     "data": {
      "text/plain": [
       "{'accounts': [{'account': 100, 'balance': 24.98, 'name': 'Jones'},\n",
       "  {'account': 200, 'balance': 345.67, 'name': 'Doe'}]}"
      ]
     },
     "execution_count": 4,
     "metadata": {},
     "output_type": "execute_result"
    }
   ],
   "source": [
    "accounts_json"
   ]
  },
  {
   "cell_type": "code",
   "execution_count": 5,
   "id": "4b5c0241",
   "metadata": {},
   "outputs": [
    {
     "data": {
      "text/plain": [
       "dict"
      ]
     },
     "execution_count": 5,
     "metadata": {},
     "output_type": "execute_result"
    }
   ],
   "source": [
    "type(accounts_json)"
   ]
  },
  {
   "cell_type": "code",
   "execution_count": 6,
   "id": "cc2d13bc",
   "metadata": {},
   "outputs": [
    {
     "data": {
      "text/plain": [
       "[{'account': 100, 'balance': 24.98, 'name': 'Jones'},\n",
       " {'account': 200, 'balance': 345.67, 'name': 'Doe'}]"
      ]
     },
     "execution_count": 6,
     "metadata": {},
     "output_type": "execute_result"
    }
   ],
   "source": [
    "accounts_json['accounts']"
   ]
  },
  {
   "cell_type": "code",
   "execution_count": 7,
   "id": "dd180ad5",
   "metadata": {},
   "outputs": [
    {
     "data": {
      "text/plain": [
       "{'account': 100, 'balance': 24.98, 'name': 'Jones'}"
      ]
     },
     "execution_count": 7,
     "metadata": {},
     "output_type": "execute_result"
    }
   ],
   "source": [
    "accounts_json['accounts'][0]"
   ]
  },
  {
   "cell_type": "code",
   "execution_count": 8,
   "id": "28ed49ea",
   "metadata": {},
   "outputs": [
    {
     "data": {
      "text/plain": [
       "{'account': 200, 'balance': 345.67, 'name': 'Doe'}"
      ]
     },
     "execution_count": 8,
     "metadata": {},
     "output_type": "execute_result"
    }
   ],
   "source": [
    "accounts_json['accounts'][1]"
   ]
  },
  {
   "cell_type": "markdown",
   "id": "2393feab",
   "metadata": {},
   "source": [
    "### Anzeigen eines Python Strings im JSON Format "
   ]
  },
  {
   "cell_type": "markdown",
   "id": "3088dab9",
   "metadata": {},
   "source": [
    "Die Funktion **`dumps`** des `json`-Moduls gibt eine Python-String-Repräsentation eines Objekts im JSON-Format zurück. `dumps` ist die Abkürzung für \"**dump string**\"."
   ]
  },
  {
   "cell_type": "code",
   "execution_count": 9,
   "id": "dee6da75",
   "metadata": {},
   "outputs": [
    {
     "data": {
      "text/plain": [
       "'{\"accounts\": [{\"account\": 100, \"balance\": 24.98, \"name\": \"Jones\"}, {\"account\": 200, \"balance\": 345.67, \"name\": \"Doe\"}]}'"
      ]
     },
     "execution_count": 9,
     "metadata": {},
     "output_type": "execute_result"
    }
   ],
   "source": [
    "json.dumps(accounts_json)"
   ]
  },
  {
   "cell_type": "markdown",
   "id": "ba1f1a8c",
   "metadata": {},
   "source": [
    "#### Pretty Printing\n",
    "Mit dem Aufruf des `indent`-Schlüsselwortarguments werden Zeilenumbrüche und Einrückungen für eine schöne Druckausgabe im resultierenden String erzeugt."
   ]
  },
  {
   "cell_type": "code",
   "execution_count": 10,
   "id": "e1f2964e",
   "metadata": {},
   "outputs": [
    {
     "name": "stdout",
     "output_type": "stream",
     "text": [
      "{\n",
      "    \"accounts\": [\n",
      "        {\n",
      "            \"account\": 100,\n",
      "            \"balance\": 24.98,\n",
      "            \"name\": \"Jones\"\n",
      "        },\n",
      "        {\n",
      "            \"account\": 200,\n",
      "            \"balance\": 345.67,\n",
      "            \"name\": \"Doe\"\n",
      "        }\n",
      "    ]\n",
      "}\n"
     ]
    }
   ],
   "source": [
    "print(json.dumps(accounts_json, indent=4))"
   ]
  },
  {
   "cell_type": "markdown",
   "id": "90fc846e",
   "metadata": {},
   "source": [
    "\n",
    "`indent` kann direkt beim Lesen der Datei verwendet werden:"
   ]
  },
  {
   "cell_type": "code",
   "execution_count": 11,
   "id": "e33e91d1",
   "metadata": {},
   "outputs": [
    {
     "name": "stdout",
     "output_type": "stream",
     "text": [
      "{\n",
      "    \"accounts\": [\n",
      "        {\n",
      "            \"account\": 100,\n",
      "            \"balance\": 24.98,\n",
      "            \"name\": \"Jones\"\n",
      "        },\n",
      "        {\n",
      "            \"account\": 200,\n",
      "            \"balance\": 345.67,\n",
      "            \"name\": \"Doe\"\n",
      "        }\n",
      "    ]\n",
      "}\n"
     ]
    }
   ],
   "source": [
    "with open('accounts.json', mode='r') as accounts:\n",
    "    print(json.dumps(json.load(accounts), indent=4))"
   ]
  },
  {
   "cell_type": "markdown",
   "id": "1c48b1f7",
   "metadata": {},
   "source": [
    "\n",
    "`indent` kann auch mit der `dump`-Funktion verwenden, wenn in eine Datei geschrieben wird."
   ]
  },
  {
   "cell_type": "code",
   "execution_count": 12,
   "id": "bd67b48e",
   "metadata": {},
   "outputs": [],
   "source": [
    "with open('accounts_formatted.json', mode='w') as af:\n",
    "    json.dump(accounts_json, af, indent=4)"
   ]
  },
  {
   "cell_type": "code",
   "execution_count": 13,
   "id": "47f52657",
   "metadata": {},
   "outputs": [
    {
     "name": "stdout",
     "output_type": "stream",
     "text": [
      "{\r\n",
      "    \"accounts\": [\r\n",
      "        {\r\n",
      "            \"account\": 100,\r\n",
      "            \"balance\": 24.98,\r\n",
      "            \"name\": \"Jones\"\r\n",
      "        },\r\n",
      "        {\r\n",
      "            \"account\": 200,\r\n",
      "            \"balance\": 345.67,\r\n",
      "            \"name\": \"Doe\"\r\n",
      "        }\r\n",
      "    ]\r\n",
      "}"
     ]
    }
   ],
   "source": [
    "# macOS/Linux Users: View file contents\n",
    "!cat accounts_formatted.json"
   ]
  },
  {
   "cell_type": "code",
   "execution_count": null,
   "id": "c6087b42",
   "metadata": {},
   "outputs": [],
   "source": [
    "# Windows Users: View file contents\n",
    "!more accounts_formatted.json"
   ]
  }
 ],
 "metadata": {
  "kernelspec": {
   "display_name": "Python 3 (ipykernel)",
   "language": "python",
   "name": "python3"
  },
  "language_info": {
   "codemirror_mode": {
    "name": "ipython",
    "version": 3
   },
   "file_extension": ".py",
   "mimetype": "text/x-python",
   "name": "python",
   "nbconvert_exporter": "python",
   "pygments_lexer": "ipython3",
   "version": "3.8.16"
  },
  "vscode": {
   "interpreter": {
    "hash": "aee8b7b246df8f9039afb4144a1f6fd8d2ca17a180786b69acc140d282b71a49"
   }
  }
 },
 "nbformat": 4,
 "nbformat_minor": 5
}
