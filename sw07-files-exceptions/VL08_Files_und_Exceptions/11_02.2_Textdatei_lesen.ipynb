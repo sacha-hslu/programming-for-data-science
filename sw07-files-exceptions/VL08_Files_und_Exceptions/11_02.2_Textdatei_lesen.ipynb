{
 "cells": [
  {
   "cell_type": "markdown",
   "id": "f3830887",
   "metadata": {},
   "source": [
    "# 11.2.2 Lesen von Daten aus einer Textdatei\n",
    "Sequentielles lesen die Datei `accounts.txt`, also Lesen von Anfang bis Ende."
   ]
  },
  {
   "cell_type": "code",
   "execution_count": 2,
   "id": "4228d0f6",
   "metadata": {},
   "outputs": [
    {
     "name": "stdout",
     "output_type": "stream",
     "text": [
      "Account   Name         Balance\n",
      "100       Jones          24.98\n",
      "200       Doe           345.67\n",
      "300       White           0.00\n",
      "400       Stone         -42.16\n",
      "500       Rich          224.62\n"
     ]
    }
   ],
   "source": [
    "with open('accounts.txt', mode='r') as accounts:\n",
    "    print(f'{\"Account\":<10}{\"Name\":<10}{\"Balance\":>10}')\n",
    "    for record in accounts:\n",
    "        account, name, balance = record.split()\n",
    "        print(f'{account:<10}{name:<10}{balance:>10}')"
   ]
  },
  {
   "cell_type": "markdown",
   "id": "7100f6b8",
   "metadata": {},
   "source": [
    "* Wenn der Inhalt einer Datei nicht geändert werden soll, öffnen Sie die Datei nur zum Lesen (`'r'`). Dadurch wird verhindert, dass das Programm die Datei versehentlich verändert.\n",
    "* Wir iterieren durch das Dateiobjekt, lesen Zeile für Zeile aus der Datei und geben sie als Zeichenkette zurück.\n",
    "* Für jede Zeile (*record*, oder Eintrag) in der Datei gibt die String-Methode `split` die Tokens als Liste zurück.\n",
    "* Die Token jeder Zeile werden für die weitere Verwendung in die Variablen `account`, `name` und `balance` entpackt."
   ]
  },
  {
   "cell_type": "markdown",
   "id": "bd063a78",
   "metadata": {},
   "source": [
    "### Datei-Methode: *read*"
   ]
  },
  {
   "cell_type": "code",
   "execution_count": 8,
   "id": "fbf13546",
   "metadata": {
    "scrolled": true
   },
   "outputs": [
    {
     "name": "stdout",
     "output_type": "stream",
     "text": [
      "100 Jones 24.98\n",
      "200 Doe 345.67\n",
      "300 White 0.00\n",
      "400 Stone -42.16\n",
      "500 Rich 224.62\n",
      "\n"
     ]
    }
   ],
   "source": [
    "with open('accounts.txt', mode='r') as accounts:\n",
    "    str = accounts.read()\n",
    "print(str)"
   ]
  },
  {
   "cell_type": "code",
   "execution_count": 7,
   "id": "b14f0c2b",
   "metadata": {},
   "outputs": [
    {
     "data": {
      "text/plain": [
       "'100 Jones 24.98\\n200 Doe 345.67\\n300 White 0.00\\n400 Stone -42.16\\n500 Rich 224.62\\n'"
      ]
     },
     "execution_count": 7,
     "metadata": {},
     "output_type": "execute_result"
    }
   ],
   "source": [
    "str"
   ]
  },
  {
   "cell_type": "markdown",
   "id": "1f9695c3",
   "metadata": {},
   "source": [
    "* Die Methode **`read`** list die _gesamte_ Textdatei und gibt einen String zurück.\n",
    "* Dies funktioniert bei kleinen Dateien gut, sollte aber bei grossen Dateien vermieden werden. Dann ist es effizienter Zeile für Zeile einzulesen, wie oben gezeigt."
   ]
  },
  {
   "cell_type": "markdown",
   "id": "8b1258bf",
   "metadata": {},
   "source": [
    "### Datei-Methode *readlines* "
   ]
  },
  {
   "cell_type": "code",
   "execution_count": 17,
   "id": "4b644f22",
   "metadata": {
    "scrolled": true
   },
   "outputs": [
    {
     "data": {
      "text/plain": [
       "['100 Jones 24.98\\n',\n",
       " '200 Doe 345.67\\n',\n",
       " '300 White 0.00\\n',\n",
       " '400 Stone -42.16\\n',\n",
       " '500 Rich 224.62\\n']"
      ]
     },
     "execution_count": 17,
     "metadata": {},
     "output_type": "execute_result"
    }
   ],
   "source": [
    "with open('accounts.txt', 'r') as accounts:\n",
    "    content = accounts.readlines()\n",
    "\n",
    "content"
   ]
  },
  {
   "cell_type": "code",
   "execution_count": 18,
   "id": "b939d8c0",
   "metadata": {},
   "outputs": [
    {
     "data": {
      "text/plain": [
       "'100 Jones 24.98\\n'"
      ]
     },
     "execution_count": 18,
     "metadata": {},
     "output_type": "execute_result"
    }
   ],
   "source": [
    "content[0]"
   ]
  },
  {
   "cell_type": "markdown",
   "id": "518e6061",
   "metadata": {},
   "source": [
    "* Die Methode **`readlines`** kann zum **Lesen einer _gesamten_ Textdatei** verwendet werden. Sie gibt jede Zeile in einer **Liste von Strings** zurück.\n",
    "* `readlines` sollte nur für kleine Dateien angewendet werden. Für grosse Dateien ist die Iteration über die Zeilen in einem Dateiobjekt vorzuziehen."
   ]
  },
  {
   "cell_type": "markdown",
   "id": "47fca8d5",
   "metadata": {},
   "source": [
    "### Datei-Methode *seek* "
   ]
  },
  {
   "cell_type": "markdown",
   "id": "581f96eb",
   "metadata": {},
   "source": [
    "> Statt 0, 1, 2 bietet das `os`-Model die Konstanten `os.SEEK_SET` (0, *absolute file positioning*), `os.SEEK_CUR` (1, *seek relative to the current position*) und `os.SEEK_END` (2, *relative to the file’s end*) an."
   ]
  },
  {
   "cell_type": "code",
   "execution_count": 23,
   "id": "8830dcec",
   "metadata": {},
   "outputs": [
    {
     "name": "stdout",
     "output_type": "stream",
     "text": [
      "['100 Jones 24.98\\n', '200 Doe 345.67\\n', '300 White 0.00\\n', '400 Stone -42.16\\n', '500 Rich 224.62\\n']\n",
      "\n",
      "100 Jones 24.98\n",
      "['100', 'Jones', '24.98']\n",
      "\n",
      "200 Doe 345.67\n",
      "['200', 'Doe', '345.67']\n",
      "\n",
      "300 White 0.00\n",
      "['300', 'White', '0.00']\n",
      "\n",
      "400 Stone -42.16\n",
      "['400', 'Stone', '-42.16']\n",
      "\n",
      "500 Rich 224.62\n",
      "['500', 'Rich', '224.62']\n",
      "\n"
     ]
    }
   ],
   "source": [
    "with open('accounts.txt') as accounts:\n",
    "    print(accounts.readlines())\n",
    "    print()\n",
    "    \n",
    "    # To process the content again, set the\n",
    "    # file position pointer to the beginning of the file\n",
    "    accounts.seek(0)\n",
    "    \n",
    "    for record in accounts:\n",
    "        print(record, end='')\n",
    "        print(record.split())\n",
    "        print()"
   ]
  },
  {
   "cell_type": "code",
   "execution_count": 19,
   "id": "c5e0a556",
   "metadata": {},
   "outputs": [
    {
     "data": {
      "text/plain": [
       "'500 Rich 224.62\\n'"
      ]
     },
     "execution_count": 19,
     "metadata": {},
     "output_type": "execute_result"
    }
   ],
   "source": [
    "record"
   ]
  },
  {
   "cell_type": "markdown",
   "id": "74fb707c",
   "metadata": {},
   "source": [
    "* Beim Durchlesen einer Datei verwaltet das System einen **Datei-Positionszeiger**, der die Position des nächsten zu lesenden Zeichens angibt.\n",
    "* Um eine Datei während der Ausführung eines Programms _mehrmals_ von Anfang an sequentiell zu verarbeiten, müssen Sie den Datei-Positionszeiger an den Anfang der Datei setzen.\n",
    "    * Das kann durch Schliessen und erneutes Öffnen der Datei geschehen, oder \n",
    "    * durch Aufruf der **`seek`**-Methode des Dateiobjekts, wie in \n",
    "        >```Python\n",
    "        file_object.seek(0)\n",
    "        ```\n",
    "* Der letztere Ansatz ist schneller."
   ]
  }
 ],
 "metadata": {
  "kernelspec": {
   "display_name": "Python 3 (ipykernel)",
   "language": "python",
   "name": "python3"
  },
  "language_info": {
   "codemirror_mode": {
    "name": "ipython",
    "version": 3
   },
   "file_extension": ".py",
   "mimetype": "text/x-python",
   "name": "python",
   "nbconvert_exporter": "python",
   "pygments_lexer": "ipython3",
   "version": "3.11.5"
  },
  "vscode": {
   "interpreter": {
    "hash": "aee8b7b246df8f9039afb4144a1f6fd8d2ca17a180786b69acc140d282b71a49"
   }
  }
 },
 "nbformat": 4,
 "nbformat_minor": 5
}
