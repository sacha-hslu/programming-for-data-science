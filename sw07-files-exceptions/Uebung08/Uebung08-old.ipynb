{
 "cells": [
  {
   "cell_type": "markdown",
   "metadata": {},
   "source": [
    "# Übung 8"
   ]
  },
  {
   "cell_type": "markdown",
   "metadata": {},
   "source": [
    "## Aufgabe 1\n",
    "Schreiben Sie ein Skript, das eine Textzeile liest, die Leerzeichen als Delimiter verwendet um die Wörter zu tokenisieren und anschliessend nur diejenigen Wörter ausgibt, die mit dem Buchstaben 'B' oder 'b' beginnen."
   ]
  },
  {
   "cell_type": "code",
   "execution_count": 35,
   "metadata": {
    "ExecuteTime": {
     "end_time": "2023-10-31T18:22:09.255432Z",
     "start_time": "2023-10-31T18:22:09.226252Z"
    }
   },
   "outputs": [
    {
     "name": "stdout",
     "output_type": "stream",
     "text": [
      "['Bald', 'B', 'b', 'beginnen']\n"
     ]
    }
   ],
   "source": [
    "text = 'Bald werden hier nur die Wörter welche mit B oder b beginnen ausgegeben'\n",
    "\n",
    "b_words = [word for word in text.split() if word.startswith('B') or word.startswith('b')]\n",
    "\n",
    "print(b_words)"
   ]
  },
  {
   "cell_type": "markdown",
   "metadata": {},
   "source": [
    "## Aufgabe 2\n",
    "Verwenden Sie den Präsentationstyp `c`, um eine Tabelle mit den Zeichencodes im Bereich von 0 bis 255 und den entsprechenden Zeichen anzuzeigen."
   ]
  },
  {
   "cell_type": "code",
   "execution_count": 36,
   "metadata": {
    "ExecuteTime": {
     "end_time": "2023-10-31T18:22:09.262746Z",
     "start_time": "2023-10-31T18:22:09.230952Z"
    }
   },
   "outputs": [
    {
     "name": "stdout",
     "output_type": "stream",
     "text": [
      "dec | char\n",
      "0   |   \u0000\n",
      "1   |   \u0001\n",
      "2   |   \u0002\n",
      "3   |   \u0003\n",
      "4   |   \u0004\n",
      "5   |   \u0005\n",
      "6   |   \u0006\n",
      "7   |   \u0007\n",
      "8   |  \n",
      "9   |   \t\n",
      "10  |   \n",
      "\n",
      "11  |   \u000B\n",
      "12  |   \f\n",
      "13  |   \r\n",
      "14  |   \u000E\n",
      "15  |   \u000F\n",
      "16  |   \u0010\n",
      "17  |   \u0011\n",
      "18  |   \u0012\n",
      "19  |   \u0013\n",
      "20  |   \u0014\n",
      "21  |   \u0015\n",
      "22  |   \u0016\n",
      "23  |   \u0017\n",
      "24  |   \u0018\n",
      "25  |   \u0019\n",
      "26  |   \u001A\n",
      "27  |   \u001B\n",
      "28  |   \u001C\n",
      "29  |   \u001D\n",
      "30  |   \u001E\n",
      "31  |   \u001F\n",
      "32  |    \n",
      "33  |   !\n",
      "34  |   \"\n",
      "35  |   #\n",
      "36  |   $\n",
      "37  |   %\n",
      "38  |   &\n",
      "39  |   '\n",
      "40  |   (\n",
      "41  |   )\n",
      "42  |   *\n",
      "43  |   +\n",
      "44  |   ,\n",
      "45  |   -\n",
      "46  |   .\n",
      "47  |   /\n",
      "48  |   0\n",
      "49  |   1\n",
      "50  |   2\n",
      "51  |   3\n",
      "52  |   4\n",
      "53  |   5\n",
      "54  |   6\n",
      "55  |   7\n",
      "56  |   8\n",
      "57  |   9\n",
      "58  |   :\n",
      "59  |   ;\n",
      "60  |   <\n",
      "61  |   =\n",
      "62  |   >\n",
      "63  |   ?\n",
      "64  |   @\n",
      "65  |   A\n",
      "66  |   B\n",
      "67  |   C\n",
      "68  |   D\n",
      "69  |   E\n",
      "70  |   F\n",
      "71  |   G\n",
      "72  |   H\n",
      "73  |   I\n",
      "74  |   J\n",
      "75  |   K\n",
      "76  |   L\n",
      "77  |   M\n",
      "78  |   N\n",
      "79  |   O\n",
      "80  |   P\n",
      "81  |   Q\n",
      "82  |   R\n",
      "83  |   S\n",
      "84  |   T\n",
      "85  |   U\n",
      "86  |   V\n",
      "87  |   W\n",
      "88  |   X\n",
      "89  |   Y\n",
      "90  |   Z\n",
      "91  |   [\n",
      "92  |   \\\n",
      "93  |   ]\n",
      "94  |   ^\n",
      "95  |   _\n",
      "96  |   `\n",
      "97  |   a\n",
      "98  |   b\n",
      "99  |   c\n",
      "100 |   d\n",
      "101 |   e\n",
      "102 |   f\n",
      "103 |   g\n",
      "104 |   h\n",
      "105 |   i\n",
      "106 |   j\n",
      "107 |   k\n",
      "108 |   l\n",
      "109 |   m\n",
      "110 |   n\n",
      "111 |   o\n",
      "112 |   p\n",
      "113 |   q\n",
      "114 |   r\n",
      "115 |   s\n",
      "116 |   t\n",
      "117 |   u\n",
      "118 |   v\n",
      "119 |   w\n",
      "120 |   x\n",
      "121 |   y\n",
      "122 |   z\n",
      "123 |   {\n",
      "124 |   |\n",
      "125 |   }\n",
      "126 |   ~\n",
      "127 |   \n",
      "128 |   \n",
      "129 |   \n",
      "130 |   \n",
      "131 |   \n",
      "132 |   \n",
      "133 |   \n",
      "134 |   \n",
      "135 |   \n",
      "136 |   \n",
      "137 |   \n",
      "138 |   \n",
      "139 |   \n",
      "140 |   \n",
      "141 |   \n",
      "142 |   \n",
      "143 |   \n",
      "144 |   \n",
      "145 |   \n",
      "146 |   \n",
      "147 |   \n",
      "148 |   \n",
      "149 |   \n",
      "150 |   \n",
      "151 |   \n",
      "152 |   \n",
      "153 |   \n",
      "154 |   \n",
      "155 |   \n",
      "156 |   \n",
      "157 |   \n",
      "158 |   \n",
      "159 |   \n",
      "160 |    \n",
      "161 |   ¡\n",
      "162 |   ¢\n",
      "163 |   £\n",
      "164 |   ¤\n",
      "165 |   ¥\n",
      "166 |   ¦\n",
      "167 |   §\n",
      "168 |   ¨\n",
      "169 |   ©\n",
      "170 |   ª\n",
      "171 |   «\n",
      "172 |   ¬\n",
      "173 |   ­\n",
      "174 |   ®\n",
      "175 |   ¯\n",
      "176 |   °\n",
      "177 |   ±\n",
      "178 |   ²\n",
      "179 |   ³\n",
      "180 |   ´\n",
      "181 |   µ\n",
      "182 |   ¶\n",
      "183 |   ·\n",
      "184 |   ¸\n",
      "185 |   ¹\n",
      "186 |   º\n",
      "187 |   »\n",
      "188 |   ¼\n",
      "189 |   ½\n",
      "190 |   ¾\n",
      "191 |   ¿\n",
      "192 |   À\n",
      "193 |   Á\n",
      "194 |   Â\n",
      "195 |   Ã\n",
      "196 |   Ä\n",
      "197 |   Å\n",
      "198 |   Æ\n",
      "199 |   Ç\n",
      "200 |   È\n",
      "201 |   É\n",
      "202 |   Ê\n",
      "203 |   Ë\n",
      "204 |   Ì\n",
      "205 |   Í\n",
      "206 |   Î\n",
      "207 |   Ï\n",
      "208 |   Ð\n",
      "209 |   Ñ\n",
      "210 |   Ò\n",
      "211 |   Ó\n",
      "212 |   Ô\n",
      "213 |   Õ\n",
      "214 |   Ö\n",
      "215 |   ×\n",
      "216 |   Ø\n",
      "217 |   Ù\n",
      "218 |   Ú\n",
      "219 |   Û\n",
      "220 |   Ü\n",
      "221 |   Ý\n",
      "222 |   Þ\n",
      "223 |   ß\n",
      "224 |   à\n",
      "225 |   á\n",
      "226 |   â\n",
      "227 |   ã\n",
      "228 |   ä\n",
      "229 |   å\n",
      "230 |   æ\n",
      "231 |   ç\n",
      "232 |   è\n",
      "233 |   é\n",
      "234 |   ê\n",
      "235 |   ë\n",
      "236 |   ì\n",
      "237 |   í\n",
      "238 |   î\n",
      "239 |   ï\n",
      "240 |   ð\n",
      "241 |   ñ\n",
      "242 |   ò\n",
      "243 |   ó\n",
      "244 |   ô\n",
      "245 |   õ\n",
      "246 |   ö\n",
      "247 |   ÷\n",
      "248 |   ø\n",
      "249 |   ù\n",
      "250 |   ú\n",
      "251 |   û\n",
      "252 |   ü\n",
      "253 |   ý\n",
      "254 |   þ\n",
      "255 |   ÿ\n"
     ]
    }
   ],
   "source": [
    "print('dec | char')\n",
    "\n",
    "for i in range(256):\n",
    "    print(f'{i:<3} | {i:>3c}')"
   ]
  },
  {
   "cell_type": "markdown",
   "metadata": {},
   "source": [
    "## Aufgabe 3"
   ]
  },
  {
   "cell_type": "markdown",
   "metadata": {},
   "source": [
    "Verwenden Sie reguläre Ausdrücke und die `findall`-Funktion, um die Anzahl der Ziffern, Anzahl der Nicht-Ziffern, die Anzahl Leerzeichen, sowie die Anzahl Wörter in einer Zeichenkette zu zählen. Geben Sie die gefundenen Resulate am Bildschirm aus. "
   ]
  },
  {
   "cell_type": "code",
   "execution_count": 37,
   "metadata": {
    "ExecuteTime": {
     "end_time": "2023-10-31T18:22:09.269996Z",
     "start_time": "2023-10-31T18:22:09.235744Z"
    }
   },
   "outputs": [
    {
     "name": "stdout",
     "output_type": "stream",
     "text": [
      "['1', '534435', '1', '43']\n",
      "[' ', ' Bald werden hier nur die ', ' Wörter welche mit B oder b beginnen ausgegeben ', ' ', ' ']\n",
      "[' ', ' ', ' ', ' ', ' ', ' ', ' ', ' ', ' ', ' ', ' ', ' ', ' ', ' ', ' ', ' ', ' ', ' ']\n",
      "['1', 'Bald', 'werden', 'hier', 'nur', 'die', '534435', 'Wörter', 'welche', 'mit', 'B', 'oder', 'b', 'beginnen', 'ausgegeben', '1', '43']\n",
      "['1', 'B', 'a', 'l', 'd', 'w', 'e', 'r', 'd', 'e', 'n', 'h', 'i', 'e', 'r', 'n', 'u', 'r', 'd', 'i', 'e', '5', '3', '4', '4', '3', '5', 'W', 'ö', 'r', 't', 'e', 'r', 'w', 'e', 'l', 'c', 'h', 'e', 'm', 'i', 't', 'B', 'o', 'd', 'e', 'r', 'b', 'b', 'e', 'g', 'i', 'n', 'n', 'e', 'n', 'a', 'u', 's', 'g', 'e', 'g', 'e', 'b', 'e', 'n', '1', '4', '3']\n"
     ]
    }
   ],
   "source": [
    "from re import findall\n",
    "\n",
    "text = ' 1 Bald werden hier nur die 534435 Wörter welche mit B oder b beginnen ausgegeben 1 43 '\n",
    "\n",
    "print(findall(r'\\d+', text)) # + steht für nur ganze zahlen\n",
    "print(findall(r'\\D+', text)) # gross bedeutet einfach negiert\n",
    "print(findall(r' ', text))\n",
    "print(findall(r'\\w+', text)) # + steht für ganze wörter \n",
    "print(findall(r'\\w', text)) "
   ]
  },
  {
   "cell_type": "markdown",
   "metadata": {},
   "source": [
    "## Aufgabe 4\n",
    "Prüfen Sie, ob ein Satz mehr als ein Leerzeichen zwischen den Wörtern enthält. Wenn ja, entfernen Sie die zusätzlichen Leerzeichen und zeigen Sie das Resultat an. Zum Beispiel sollte `'Hello` &nbsp;&nbsp;&nbsp;&nbsp;&nbsp;    `World'` zu ```'Hello World'``` umgeformt werden."
   ]
  },
  {
   "cell_type": "code",
   "execution_count": 38,
   "metadata": {
    "ExecuteTime": {
     "end_time": "2023-10-31T18:22:09.302929Z",
     "start_time": "2023-10-31T18:22:09.239800Z"
    }
   },
   "outputs": [
    {
     "name": "stdout",
     "output_type": "stream",
     "text": [
      "1 Bald werden hier nur die 534435 Wörter welche mit B ok oder b beginnen ausgegeben 1 43\n"
     ]
    }
   ],
   "source": [
    "text = ' 1 Bald werden hier \\t nur die    534435    Wörter welche    \\t \\t mit B     ok\\noder b beginnen ausgegeben 1 43 '\n",
    "\n",
    "print(' '.join(text.split()))"
   ]
  },
  {
   "cell_type": "markdown",
   "metadata": {},
   "source": [
    "## Aufgabe 5\n",
    "Implementieren Sie die Aufgabe 1 noch einmal unter Verwendung von regulären Ausdrücken, um die Wörter, die mit 'b' oder 'B' beginnen zu erfassen und anzuzeigen.\n",
    "\n",
    "Tipp: Verwenden Sie `\\b` in der RE um den Beginn eines Wortes zu kennzeichnen."
   ]
  },
  {
   "cell_type": "code",
   "execution_count": 38,
   "metadata": {
    "ExecuteTime": {
     "end_time": "2023-10-31T18:22:09.304584Z",
     "start_time": "2023-10-31T18:22:09.242920Z"
    }
   },
   "outputs": [],
   "source": []
  },
  {
   "cell_type": "markdown",
   "metadata": {},
   "source": [
    "## Aufgabe 6\n",
    "Verwenden Sie einen regulären Ausdruck, um eine Zeichenfolge zu durchsuchen und alle gültigen URLs zu finden. Nehmen Sie für diese Übung an, dass eine gültige URL die Form https://www.domain_name.extension hat, wobei die Extension zwei oder mehr Zeichen betragen muss."
   ]
  },
  {
   "cell_type": "code",
   "execution_count": 38,
   "metadata": {
    "ExecuteTime": {
     "end_time": "2023-10-31T18:22:09.305189Z",
     "start_time": "2023-10-31T18:22:09.245133Z"
    }
   },
   "outputs": [],
   "source": []
  }
 ],
 "metadata": {
  "kernelspec": {
   "display_name": "Python 3 (ipykernel)",
   "language": "python",
   "name": "python3"
  },
  "language_info": {
   "codemirror_mode": {
    "name": "ipython",
    "version": 3
   },
   "file_extension": ".py",
   "mimetype": "text/x-python",
   "name": "python",
   "nbconvert_exporter": "python",
   "pygments_lexer": "ipython3",
   "version": "3.9.6"
  }
 },
 "nbformat": 4,
 "nbformat_minor": 4
}
