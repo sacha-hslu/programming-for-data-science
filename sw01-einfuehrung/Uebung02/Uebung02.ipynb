{
 "cells": [
  {
   "cell_type": "markdown",
   "metadata": {},
   "source": [
    "# Übung 2"
   ]
  },
  {
   "cell_type": "markdown",
   "metadata": {},
   "source": [
    "## Aufgabe 1\n",
    "a) Sind `score_4`, `3g` und `x` gültige Variablennamen? Begründen Sie."
   ]
  },
  {
   "cell_type": "markdown",
   "metadata": {},
   "source": [
    "score_4: Ja, Ziffern möglich (Nur am Anfang nicht), Wörter mit _ trennen & am Anfang klein schreiben\n",
    "3g: Nein, keine Ziffern zu Beginn\n",
    "x: Ja, kurze Namen sind immer möglich, jedoch nicht so sprechend"
   ]
  },
  {
   "cell_type": "markdown",
   "metadata": {},
   "source": [
    "b) Stimmt die Aussage, dass in verschachtelten Klammern der innerste Ausdruck zuletzt ausgewertet wird?"
   ]
  },
  {
   "cell_type": "markdown",
   "metadata": {},
   "source": [
    "Nein, der innerste zuerst."
   ]
  },
  {
   "cell_type": "markdown",
   "metadata": {},
   "source": [
    "c) Welchen Typ gibt die Anweisung `type(7.5 * 3)` zurück?"
   ]
  },
  {
   "cell_type": "markdown",
   "metadata": {},
   "source": [
    "float"
   ]
  },
  {
   "cell_type": "markdown",
   "metadata": {},
   "source": [
    "d) Werden alle Vergleichsoperatoren in der gleichen Priorität ausgewertet?"
   ]
  },
  {
   "cell_type": "markdown",
   "metadata": {},
   "source": [
    "Nein"
   ]
  },
  {
   "cell_type": "markdown",
   "metadata": {},
   "source": [
    "## Aufgabe 2\n",
    "Welcher der folgenden Ausdrücke entspricht nicht der Gleichung y = a * x^3 + 7?\n",
    "\n",
    "```\n",
    "a) y = a * x * x * x + 7\n",
    "\n",
    "b) y = a * x ** 3 + 7\n",
    "\n",
    "c) y = a * (x * x * x) + 7\n",
    "\n",
    "d) y = a * x * (x * x + 7)\n",
    "```"
   ]
  },
  {
   "cell_type": "markdown",
   "metadata": {},
   "source": [
    "d"
   ]
  },
  {
   "cell_type": "markdown",
   "metadata": {},
   "source": [
    "## Aufgabe 3 \n",
    "Erhalten Sie bei der Berechung der folgenden Ausdrücke dasselbe Resulat? Sind einige der Klammern überflüssig?\n",
    "```\n",
    "a) 4 ** 3 ** 2\n",
    "b) (4 ** 3) ** 2\n",
    "c) 4 ** (3 ** 2)\n",
    "```"
   ]
  },
  {
   "cell_type": "code",
   "execution_count": 1,
   "outputs": [
    {
     "data": {
      "text/plain": "262144"
     },
     "execution_count": 1,
     "metadata": {},
     "output_type": "execute_result"
    }
   ],
   "source": [
    "4 ** 3 ** 2"
   ],
   "metadata": {
    "collapsed": false,
    "ExecuteTime": {
     "end_time": "2023-09-19T16:43:27.673112Z",
     "start_time": "2023-09-19T16:43:27.669213Z"
    }
   }
  },
  {
   "cell_type": "code",
   "execution_count": 2,
   "outputs": [
    {
     "data": {
      "text/plain": "4096"
     },
     "execution_count": 2,
     "metadata": {},
     "output_type": "execute_result"
    }
   ],
   "source": [
    "(4 ** 3) ** 2"
   ],
   "metadata": {
    "collapsed": false,
    "ExecuteTime": {
     "end_time": "2023-09-19T16:43:28.545551Z",
     "start_time": "2023-09-19T16:43:28.542809Z"
    }
   }
  },
  {
   "cell_type": "code",
   "execution_count": 3,
   "outputs": [
    {
     "data": {
      "text/plain": "262144"
     },
     "execution_count": 3,
     "metadata": {},
     "output_type": "execute_result"
    }
   ],
   "source": [
    "4 ** (3 ** 2)"
   ],
   "metadata": {
    "collapsed": false,
    "ExecuteTime": {
     "end_time": "2023-09-19T16:43:29.210682Z",
     "start_time": "2023-09-19T16:43:29.208168Z"
    }
   }
  },
  {
   "cell_type": "markdown",
   "metadata": {},
   "source": [
    "b ergibt ein anderes Resultat"
   ]
  },
  {
   "cell_type": "markdown",
   "metadata": {},
   "source": [
    "## Aufgabe 4\n",
    "Was wird mit folgendem Ausdruck ausgegeben?\n",
    "\n",
    "```\n",
    "print('int(5.2)', 'truncates 5.2 to', int(5.2))\n",
    "```\n"
   ]
  },
  {
   "cell_type": "code",
   "execution_count": 4,
   "outputs": [
    {
     "name": "stdout",
     "output_type": "stream",
     "text": [
      "int(5.2) truncates 5.2 to 5\n"
     ]
    }
   ],
   "source": [
    "print('int(5.2)', 'truncates 5.2 to', int(5.2))"
   ],
   "metadata": {
    "collapsed": false,
    "ExecuteTime": {
     "end_time": "2023-09-19T16:44:43.640606Z",
     "start_time": "2023-09-19T16:44:43.629343Z"
    }
   }
  },
  {
   "cell_type": "markdown",
   "metadata": {},
   "source": [
    "int(5.2) truncates 5.2 to 5\n",
    "\n",
    "hochkomma verwandelt es zu string\n",
    "argumente werden mit \"abstand\" zusammengehängt"
   ]
  },
  {
   "cell_type": "markdown",
   "metadata": {},
   "source": [
    "## Aufgabe 5 \n",
    "Was wird mit folgendem Ausdruck ausgegeben?\n",
    "```\n",
    "print(\"\"\"This is a lengthy\n",
    "  multiline string containing\n",
    "a few lines \\\n",
    "of text\"\"\")\n",
    "```"
   ]
  },
  {
   "cell_type": "code",
   "execution_count": 5,
   "outputs": [
    {
     "name": "stdout",
     "output_type": "stream",
     "text": [
      "This is a lengthy\n",
      "  multiline string containing\n",
      "a few lines of text\n"
     ]
    }
   ],
   "source": [
    "print(\"\"\"This is a lengthy\n",
    "  multiline string containing\n",
    "a few lines \\\n",
    "of text\"\"\")"
   ],
   "metadata": {
    "collapsed": false,
    "ExecuteTime": {
     "end_time": "2023-09-19T16:45:45.153822Z",
     "start_time": "2023-09-19T16:45:45.141573Z"
    }
   }
  },
  {
   "cell_type": "markdown",
   "metadata": {},
   "source": [
    "This is a lengthy\n",
    "    multiline string containing\n",
    "a few lines of text\n",
    "\n",
    "\"backslash\" verhindert new line\n",
    "text in \"\"\" wird mit new line geprintet"
   ]
  },
  {
   "cell_type": "markdown",
   "metadata": {},
   "source": [
    "## Aufgabe 6\n",
    "Geben Sie für die Werte 47, 95, 73, 88 und 84 das Minimum, das Maximum und den Range am Bildschirm aus."
   ]
  },
  {
   "cell_type": "code",
   "execution_count": 10,
   "metadata": {
    "ExecuteTime": {
     "end_time": "2023-09-19T16:58:50.715034Z",
     "start_time": "2023-09-19T16:58:50.703053Z"
    }
   },
   "outputs": [
    {
     "name": "stdout",
     "output_type": "stream",
     "text": [
      "47 95\n",
      "1\n",
      "2\n",
      "3\n",
      "4\n",
      "5\n",
      "6\n",
      "7\n",
      "8\n",
      "9\n",
      "10\n",
      "11\n",
      "12\n",
      "13\n",
      "14\n",
      "15\n",
      "16\n",
      "17\n",
      "18\n",
      "19\n",
      "20\n",
      "21\n",
      "22\n",
      "23\n",
      "24\n",
      "25\n",
      "26\n",
      "27\n",
      "28\n",
      "29\n",
      "30\n",
      "31\n",
      "32\n",
      "33\n",
      "34\n",
      "35\n",
      "36\n",
      "37\n",
      "38\n",
      "39\n",
      "40\n",
      "41\n",
      "42\n",
      "43\n",
      "44\n",
      "45\n",
      "46\n",
      "47\n",
      "48\n"
     ]
    }
   ],
   "source": [
    "numbers = [47, 95, 73, 88, 84]\n",
    "print(min(numbers), max(numbers))\n",
    "difference = max(numbers) - min(numbers)\n",
    "for n in range(difference):\n",
    "    print(n+1)"
   ]
  },
  {
   "cell_type": "markdown",
   "metadata": {},
   "source": [
    "# Aufgabe 7\n",
    "Der folgende Code sollte eine ganze Zahl einlesen und der Variable `rating` zuweisen. Ist der Code korrekt?\n",
    "```\n",
    "rating = input('Enter an integer rating between 1 and 10: ')\n",
    "```"
   ]
  },
  {
   "cell_type": "code",
   "execution_count": 20,
   "outputs": [
    {
     "data": {
      "text/plain": "4"
     },
     "execution_count": 20,
     "metadata": {},
     "output_type": "execute_result"
    }
   ],
   "source": [
    "rating = int(input('Enter an integer rating between 1 and 10: '))\n",
    "rating"
   ],
   "metadata": {
    "collapsed": false,
    "ExecuteTime": {
     "end_time": "2023-09-19T17:05:14.287951Z",
     "start_time": "2023-09-19T17:05:12.034986Z"
    }
   }
  },
  {
   "cell_type": "markdown",
   "metadata": {},
   "source": [
    "Nein, die Methode input gibt den String, der eingegeben wurde zurück. \n",
    "Dieser ist nicht auf Ziffern von 1-10 eingeschränkt. \n",
    "Wenn man aber von richtigen Eingabe Daten ausgeht fehlt lediglich die int Methode."
   ]
  },
  {
   "cell_type": "markdown",
   "metadata": {},
   "source": [
    "## Aufgabe 8\n",
    "Ersetzten Sie den Kommentar im folgenden Code mit einer Anweisung, welche eine Meldung in der Form \"Congratulation! Your score of 91 earns you a grade 6\" auf dem Bildschirm ausgibt.\n"
   ]
  },
  {
   "cell_type": "code",
   "execution_count": 21,
   "metadata": {
    "ExecuteTime": {
     "end_time": "2023-09-19T17:06:50.432265Z",
     "start_time": "2023-09-19T17:06:50.422022Z"
    }
   },
   "outputs": [
    {
     "name": "stdout",
     "output_type": "stream",
     "text": [
      "Congratulation! Your score of 91 earns you a grade 6\n"
     ]
    }
   ],
   "source": [
    "points = 91\n",
    "if points >= 90:\n",
    "    print('Congratulation! Your score of', points, 'earns you a grade 6')"
   ]
  },
  {
   "cell_type": "markdown",
   "metadata": {},
   "source": [
    "## Aufgabe 9\n",
    "Geben Sie den Durchmesser, Umfang und Fläche eines Kreises mit Radius 2 auf dem Bildschirm aus. Verwenden Sie für diese Berechnung 3.14159 für Pi. Verwenden Sie folgende Formeln für die Berechnung der Ausgaben:\n",
    "\n",
    "diameter = 2 * r (r: radius)\n",
    "\n",
    "circumference = 2 * pi * r\n",
    "\n",
    "area = pi*r^2"
   ]
  },
  {
   "cell_type": "code",
   "execution_count": 24,
   "metadata": {
    "ExecuteTime": {
     "end_time": "2023-09-19T17:10:46.488486Z",
     "start_time": "2023-09-19T17:10:46.485915Z"
    }
   },
   "outputs": [
    {
     "name": "stdout",
     "output_type": "stream",
     "text": [
      "Durchmesser: 4\n",
      "Umfang: 12.566\n",
      "Flaeche: 12.566\n"
     ]
    }
   ],
   "source": [
    "pi = 3.1415\n",
    "radius = 2\n",
    "\n",
    "diameter = 2 * radius\n",
    "circumference = 2 * pi * radius\n",
    "area = pi * radius ** 2\n",
    "\n",
    "print('Durchmesser:', diameter)\n",
    "print('Umfang:', circumference)\n",
    "print('Flaeche:', area)"
   ]
  },
  {
   "cell_type": "markdown",
   "metadata": {},
   "source": [
    "## Aufgabe 10 \n",
    "Schreiben Sie ein Program, welches eine ganze Zahl einliest und Ihnen dann mitteilt, ob die eingegebene Zahl gerade oder ungerade ist."
   ]
  },
  {
   "cell_type": "code",
   "execution_count": 29,
   "metadata": {
    "ExecuteTime": {
     "end_time": "2023-09-19T17:13:59.859065Z",
     "start_time": "2023-09-19T17:13:55.645654Z"
    }
   },
   "outputs": [
    {
     "name": "stdout",
     "output_type": "stream",
     "text": [
      "3 ist ungerade\n"
     ]
    }
   ],
   "source": [
    "x = int(input('Geben Sie eine ganze Zahl ein'))\n",
    "\n",
    "if x % 2 == 1:\n",
    "    print(x, 'ist ungerade')\n",
    "else:\n",
    "    print(x, 'ist gerade')"
   ]
  },
  {
   "cell_type": "markdown",
   "metadata": {},
   "source": [
    "## Aufgabe 11 \n",
    "Schreiben Sie ein Programm, welches drei ganze Zahlen vom Benutzer einliest und dann die Summe, den Durchschnitt, das Produkt, die kleinste und grösste der Zahlen ausgibt."
   ]
  },
  {
   "cell_type": "code",
   "execution_count": 31,
   "metadata": {
    "ExecuteTime": {
     "end_time": "2023-09-19T17:19:51.204065Z",
     "start_time": "2023-09-19T17:19:43.331736Z"
    }
   },
   "outputs": [
    {
     "name": "stdout",
     "output_type": "stream",
     "text": [
      "12\n",
      "48\n",
      "4.0\n",
      "2\n",
      "6\n"
     ]
    }
   ],
   "source": [
    "x = int(input(\"Geben Sie eine ganze Zahl ein\"))\n",
    "y = int(input(\"Geben Sie eine ganze Zahl ein\"))\n",
    "z = int(input(\"Geben Sie eine ganze Zahl ein\"))\n",
    "\n",
    "sum = x+y+z\n",
    "print(sum)\n",
    "print(x*y*z)\n",
    "numbers = [x, y, z]\n",
    "print(sum/len(numbers))\n",
    "print(min(numbers))\n",
    "print(max(numbers))"
   ]
  },
  {
   "cell_type": "markdown",
   "metadata": {},
   "source": [
    "##  Aufgabe 12\n",
    "Schreiben Sie ein Programm, welches drei Fliesskomma-Zahlen einliest und diese dann in aufsteigender Reihenfolge am Bildschirm ausgibt."
   ]
  },
  {
   "cell_type": "code",
   "execution_count": 35,
   "metadata": {
    "ExecuteTime": {
     "end_time": "2023-09-19T17:39:32.275205Z",
     "start_time": "2023-09-19T17:39:26.863072Z"
    }
   },
   "outputs": [
    {
     "name": "stdout",
     "output_type": "stream",
     "text": [
      "[0.5 1.  1.5]\n",
      "[0.5 1.  1.5]\n"
     ]
    }
   ],
   "source": [
    "import numpy as np\n",
    "\n",
    "x = float(input(\"Geben Sie eine Zahl ein\"))\n",
    "y = float(input(\"Geben Sie eine Zahl ein\"))\n",
    "z = float(input(\"Geben Sie eine Zahl ein\"))\n",
    "\n",
    "print(np.sort([x, y, z]))"
   ]
  },
  {
   "cell_type": "code",
   "execution_count": null,
   "outputs": [],
   "source": [],
   "metadata": {
    "collapsed": false
   }
  }
 ],
 "metadata": {
  "kernelspec": {
   "display_name": "Python 3 (ipykernel)",
   "language": "python",
   "name": "python3"
  },
  "language_info": {
   "codemirror_mode": {
    "name": "ipython",
    "version": 3
   },
   "file_extension": ".py",
   "mimetype": "text/x-python",
   "name": "python",
   "nbconvert_exporter": "python",
   "pygments_lexer": "ipython3",
   "version": "3.10.5"
  }
 },
 "nbformat": 4,
 "nbformat_minor": 4
}
