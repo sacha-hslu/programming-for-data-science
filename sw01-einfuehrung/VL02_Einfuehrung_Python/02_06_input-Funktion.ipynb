{
 "cells": [
  {
   "cell_type": "markdown",
   "metadata": {},
   "source": [
    "# 2.6 Eingaben vom Benutzer erhalten \n",
    "Die `input`-Funktion fordert Benutzereingaben an und erhält sie:"
   ]
  },
  {
   "cell_type": "code",
   "execution_count": 1,
   "metadata": {
    "ExecuteTime": {
     "end_time": "2023-09-19T14:59:07.168741Z",
     "start_time": "2023-09-19T14:59:00.362011Z"
    }
   },
   "outputs": [],
   "source": [
    "name = input(\"What's your name? \")"
   ]
  },
  {
   "cell_type": "code",
   "execution_count": 2,
   "metadata": {
    "ExecuteTime": {
     "end_time": "2023-09-19T14:59:10.102151Z",
     "start_time": "2023-09-19T14:59:10.099595Z"
    }
   },
   "outputs": [
    {
     "data": {
      "text/plain": "'sacha'"
     },
     "execution_count": 2,
     "metadata": {},
     "output_type": "execute_result"
    }
   ],
   "source": [
    "name"
   ]
  },
  {
   "cell_type": "code",
   "execution_count": 3,
   "metadata": {
    "ExecuteTime": {
     "end_time": "2023-09-19T14:59:11.482353Z",
     "start_time": "2023-09-19T14:59:11.474545Z"
    }
   },
   "outputs": [
    {
     "name": "stdout",
     "output_type": "stream",
     "text": [
      "sacha\n"
     ]
    }
   ],
   "source": [
    "print(name)"
   ]
  },
  {
   "cell_type": "code",
   "execution_count": 4,
   "metadata": {
    "ExecuteTime": {
     "end_time": "2023-09-19T14:59:15.124Z",
     "start_time": "2023-09-19T14:59:12.481503Z"
    }
   },
   "outputs": [],
   "source": [
    "value1 = input('Enter first number: ')"
   ]
  },
  {
   "cell_type": "code",
   "execution_count": 5,
   "metadata": {
    "ExecuteTime": {
     "end_time": "2023-09-19T14:59:20.761246Z",
     "start_time": "2023-09-19T14:59:17.032792Z"
    }
   },
   "outputs": [],
   "source": [
    "value2 = input('Enter second number: ')"
   ]
  },
  {
   "cell_type": "code",
   "execution_count": 6,
   "metadata": {
    "ExecuteTime": {
     "end_time": "2023-09-19T14:59:21.889012Z",
     "start_time": "2023-09-19T14:59:21.886171Z"
    }
   },
   "outputs": [
    {
     "data": {
      "text/plain": "'37'"
     },
     "execution_count": 6,
     "metadata": {},
     "output_type": "execute_result"
    }
   ],
   "source": [
    "value1 + value2"
   ]
  },
  {
   "cell_type": "code",
   "execution_count": 7,
   "metadata": {
    "ExecuteTime": {
     "end_time": "2023-09-19T14:59:22.544001Z",
     "start_time": "2023-09-19T14:59:22.541329Z"
    }
   },
   "outputs": [
    {
     "data": {
      "text/plain": "'3'"
     },
     "execution_count": 7,
     "metadata": {},
     "output_type": "execute_result"
    }
   ],
   "source": [
    "value1"
   ]
  },
  {
   "cell_type": "code",
   "execution_count": 8,
   "metadata": {
    "ExecuteTime": {
     "end_time": "2023-09-19T14:59:23.683033Z",
     "start_time": "2023-09-19T14:59:23.680768Z"
    }
   },
   "outputs": [
    {
     "data": {
      "text/plain": "str"
     },
     "execution_count": 8,
     "metadata": {},
     "output_type": "execute_result"
    }
   ],
   "source": [
    "type(value1)"
   ]
  },
  {
   "cell_type": "code",
   "execution_count": 9,
   "metadata": {
    "ExecuteTime": {
     "end_time": "2023-09-19T14:59:25.023810Z",
     "start_time": "2023-09-19T14:59:25.020742Z"
    }
   },
   "outputs": [
    {
     "data": {
      "text/plain": "'7'"
     },
     "execution_count": 9,
     "metadata": {},
     "output_type": "execute_result"
    }
   ],
   "source": [
    "value2"
   ]
  },
  {
   "cell_type": "code",
   "execution_count": 10,
   "metadata": {
    "ExecuteTime": {
     "end_time": "2023-09-19T14:59:25.452806Z",
     "start_time": "2023-09-19T14:59:25.451043Z"
    }
   },
   "outputs": [
    {
     "data": {
      "text/plain": "str"
     },
     "execution_count": 10,
     "metadata": {},
     "output_type": "execute_result"
    }
   ],
   "source": [
    "type(value2)"
   ]
  },
  {
   "cell_type": "markdown",
   "metadata": {},
   "source": [
    "**Hinweis: Die Funktion `input` gibt immer einen String zurück.**\n",
    "\n",
    "Daher gibt _value1 + value2_ nicht die Summe zurück, sondern verkettete die beiden Zeichenketten miteinander. Dies ist als _**String-Concatenation**_ bekannt."
   ]
  },
  {
   "cell_type": "markdown",
   "metadata": {},
   "source": [
    "## Erhalten einer Ganzzahl vom Benutzer \n",
    "Wenn Sie eine Ganzzahl benötigen, wandeln Sie die Zeichenkette mit der `int`-Funktion in eine Ganzzahl um:"
   ]
  },
  {
   "cell_type": "code",
   "execution_count": 14,
   "metadata": {
    "ExecuteTime": {
     "end_time": "2023-09-19T15:00:20.501705Z",
     "start_time": "2023-09-19T15:00:15.774881Z"
    }
   },
   "outputs": [],
   "source": [
    "value = input('Enter an integer: ')"
   ]
  },
  {
   "cell_type": "code",
   "execution_count": 15,
   "metadata": {
    "ExecuteTime": {
     "end_time": "2023-09-19T15:00:21.910987Z",
     "start_time": "2023-09-19T15:00:21.907670Z"
    }
   },
   "outputs": [
    {
     "data": {
      "text/plain": "'99'"
     },
     "execution_count": 15,
     "metadata": {},
     "output_type": "execute_result"
    }
   ],
   "source": [
    "value"
   ]
  },
  {
   "cell_type": "code",
   "execution_count": 17,
   "metadata": {
    "ExecuteTime": {
     "end_time": "2023-09-19T15:00:28.003649Z",
     "start_time": "2023-09-19T15:00:27.996047Z"
    }
   },
   "outputs": [],
   "source": [
    "try:\n",
    "    value = int(value)\n",
    "except ValueError:\n",
    "    print('only int allowed')"
   ]
  },
  {
   "cell_type": "code",
   "execution_count": 18,
   "metadata": {
    "ExecuteTime": {
     "end_time": "2023-09-19T15:00:28.657129Z",
     "start_time": "2023-09-19T15:00:28.655037Z"
    }
   },
   "outputs": [
    {
     "data": {
      "text/plain": "99"
     },
     "execution_count": 18,
     "metadata": {},
     "output_type": "execute_result"
    }
   ],
   "source": [
    "value"
   ]
  },
  {
   "cell_type": "code",
   "execution_count": 19,
   "metadata": {
    "ExecuteTime": {
     "end_time": "2023-09-19T15:00:33.422877Z",
     "start_time": "2023-09-19T15:00:29.376830Z"
    }
   },
   "outputs": [],
   "source": [
    "another_value = int(input('Enter another integer: '))"
   ]
  },
  {
   "cell_type": "code",
   "execution_count": 20,
   "metadata": {
    "ExecuteTime": {
     "end_time": "2023-09-19T15:00:34.628723Z",
     "start_time": "2023-09-19T15:00:34.626854Z"
    }
   },
   "outputs": [
    {
     "data": {
      "text/plain": "189"
     },
     "execution_count": 20,
     "metadata": {},
     "output_type": "execute_result"
    }
   ],
   "source": [
    "value + another_value"
   ]
  },
  {
   "cell_type": "markdown",
   "metadata": {},
   "source": [
    "Wenn die an die Funktion `int` übergebene Zeichenkette nicht in eine Ganzzahl umgewandelt werden kann, tritt ein **ValueError** auf:"
   ]
  },
  {
   "cell_type": "code",
   "execution_count": 21,
   "metadata": {
    "ExecuteTime": {
     "end_time": "2023-09-19T15:00:42.022204Z",
     "start_time": "2023-09-19T15:00:38.636027Z"
    }
   },
   "outputs": [],
   "source": [
    "bad_value = int(input('Enter another integer: '))   # here we enter for example \"Hello\""
   ]
  },
  {
   "cell_type": "code",
   "execution_count": 22,
   "metadata": {
    "ExecuteTime": {
     "end_time": "2023-09-19T15:00:45.207767Z",
     "start_time": "2023-09-19T15:00:45.206165Z"
    }
   },
   "outputs": [
    {
     "data": {
      "text/plain": "1"
     },
     "execution_count": 22,
     "metadata": {},
     "output_type": "execute_result"
    }
   ],
   "source": [
    "int('1')"
   ]
  },
  {
   "cell_type": "code",
   "execution_count": 23,
   "metadata": {
    "ExecuteTime": {
     "end_time": "2023-09-19T15:00:46.549238Z",
     "start_time": "2023-09-19T15:00:46.540994Z"
    }
   },
   "outputs": [
    {
     "ename": "ValueError",
     "evalue": "invalid literal for int() with base 10: 'one'",
     "output_type": "error",
     "traceback": [
      "\u001B[0;31m---------------------------------------------------------------------------\u001B[0m",
      "\u001B[0;31mValueError\u001B[0m                                Traceback (most recent call last)",
      "Cell \u001B[0;32mIn[23], line 1\u001B[0m\n\u001B[0;32m----> 1\u001B[0m \u001B[38;5;28;43mint\u001B[39;49m\u001B[43m(\u001B[49m\u001B[38;5;124;43m'\u001B[39;49m\u001B[38;5;124;43mone\u001B[39;49m\u001B[38;5;124;43m'\u001B[39;49m\u001B[43m)\u001B[49m\n",
      "\u001B[0;31mValueError\u001B[0m: invalid literal for int() with base 10: 'one'"
     ]
    }
   ],
   "source": [
    "int('one')"
   ]
  },
  {
   "cell_type": "markdown",
   "metadata": {},
   "source": [
    "Die Funktion `int` kann auch einen Fliesskommawert in eine ganze Zahl umwandeln:"
   ]
  },
  {
   "cell_type": "code",
   "execution_count": 24,
   "metadata": {
    "ExecuteTime": {
     "end_time": "2023-09-19T15:00:50.668967Z",
     "start_time": "2023-09-19T15:00:50.665882Z"
    }
   },
   "outputs": [
    {
     "data": {
      "text/plain": "10"
     },
     "execution_count": 24,
     "metadata": {},
     "output_type": "execute_result"
    }
   ],
   "source": [
    "int(10.5)"
   ]
  },
  {
   "cell_type": "markdown",
   "metadata": {},
   "source": [
    "Um Zeichenketten in Fließkommazahlen umzuwandeln, verwenden Sie die eingebaute `float`-Funktion:"
   ]
  },
  {
   "cell_type": "code",
   "execution_count": 25,
   "metadata": {
    "ExecuteTime": {
     "end_time": "2023-09-19T15:00:53.261349Z",
     "start_time": "2023-09-19T15:00:53.236313Z"
    }
   },
   "outputs": [
    {
     "data": {
      "text/plain": "10.0"
     },
     "execution_count": 25,
     "metadata": {},
     "output_type": "execute_result"
    }
   ],
   "source": [
    "float(10)"
   ]
  },
  {
   "cell_type": "code",
   "execution_count": 25,
   "outputs": [],
   "source": [],
   "metadata": {
    "collapsed": false,
    "ExecuteTime": {
     "end_time": "2023-09-19T15:00:54.249835Z",
     "start_time": "2023-09-19T15:00:54.239350Z"
    }
   }
  },
  {
   "cell_type": "code",
   "execution_count": 25,
   "outputs": [],
   "source": [],
   "metadata": {
    "collapsed": false,
    "ExecuteTime": {
     "end_time": "2023-09-19T15:00:55.219703Z",
     "start_time": "2023-09-19T15:00:55.199655Z"
    }
   }
  },
  {
   "cell_type": "code",
   "execution_count": null,
   "outputs": [],
   "source": [],
   "metadata": {
    "collapsed": false
   }
  }
 ],
 "metadata": {
  "kernelspec": {
   "display_name": "Python 3",
   "language": "python",
   "name": "python3"
  },
  "language_info": {
   "codemirror_mode": {
    "name": "ipython",
    "version": 3
   },
   "file_extension": ".py",
   "mimetype": "text/x-python",
   "name": "python",
   "nbconvert_exporter": "python",
   "pygments_lexer": "ipython3",
   "version": "3.8.8"
  }
 },
 "nbformat": 4,
 "nbformat_minor": 4
}
