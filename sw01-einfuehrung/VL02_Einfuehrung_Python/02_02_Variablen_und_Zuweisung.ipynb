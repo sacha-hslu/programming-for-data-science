{
 "cells": [
  {
   "cell_type": "markdown",
   "metadata": {},
   "source": [
    "# 2.2 Variablen and Zuweisung\n",
    "Wir können Werte zur späteren Verwendung im Code speichern, indem wir einer Variablen einen Wert zuweisen. Beispielsweise können wir die Variable x erstellen und das Zuweisungssymbol (=) verwenden, um x einen Wert zuzuweisen."
   ]
  },
  {
   "cell_type": "code",
   "execution_count": 17,
   "metadata": {
    "ExecuteTime": {
     "end_time": "2023-09-19T13:56:50.906619Z",
     "start_time": "2023-09-19T13:56:50.885744Z"
    }
   },
   "outputs": [],
   "source": [
    "x = 7   # x is assigned the value 7"
   ]
  },
  {
   "cell_type": "code",
   "execution_count": 18,
   "metadata": {
    "ExecuteTime": {
     "end_time": "2023-09-19T13:56:50.906770Z",
     "start_time": "2023-09-19T13:56:50.889416Z"
    }
   },
   "outputs": [],
   "source": [
    "y = 3"
   ]
  },
  {
   "cell_type": "code",
   "execution_count": 19,
   "outputs": [
    {
     "data": {
      "text/plain": "4315047608"
     },
     "execution_count": 19,
     "metadata": {},
     "output_type": "execute_result"
    }
   ],
   "source": [
    "id(x) # the identify of an object"
   ],
   "metadata": {
    "collapsed": false,
    "ExecuteTime": {
     "end_time": "2023-09-19T13:56:50.907737Z",
     "start_time": "2023-09-19T13:56:50.891923Z"
    }
   }
  },
  {
   "cell_type": "markdown",
   "metadata": {},
   "source": [
    "Sie können jetzt die Werte von x und y in Ausdrücken verwenden:"
   ]
  },
  {
   "cell_type": "code",
   "execution_count": 20,
   "metadata": {
    "ExecuteTime": {
     "end_time": "2023-09-19T13:56:50.908904Z",
     "start_time": "2023-09-19T13:56:50.895268Z"
    }
   },
   "outputs": [
    {
     "data": {
      "text/plain": "10"
     },
     "execution_count": 20,
     "metadata": {},
     "output_type": "execute_result"
    }
   ],
   "source": [
    "x + y"
   ]
  },
  {
   "cell_type": "markdown",
   "metadata": {},
   "source": [
    "Häufig werden Sie Berechnungsergebnisse für eine spätere Verwendung speichern."
   ]
  },
  {
   "cell_type": "code",
   "execution_count": 21,
   "metadata": {
    "ExecuteTime": {
     "end_time": "2023-09-19T13:56:50.909036Z",
     "start_time": "2023-09-19T13:56:50.898642Z"
    }
   },
   "outputs": [],
   "source": [
    "total = x + y"
   ]
  },
  {
   "cell_type": "code",
   "execution_count": 22,
   "metadata": {
    "ExecuteTime": {
     "end_time": "2023-09-19T13:56:50.929967Z",
     "start_time": "2023-09-19T13:56:50.901253Z"
    }
   },
   "outputs": [
    {
     "data": {
      "text/plain": "10"
     },
     "execution_count": 22,
     "metadata": {},
     "output_type": "execute_result"
    }
   ],
   "source": [
    "total"
   ]
  },
  {
   "cell_type": "markdown",
   "metadata": {},
   "source": [
    "# Python Style\n",
    "Der [_Style Guide for Python Code_](https://peps.python.org/pep-0008/) hilft Ihnen, Code zu schreiben, der den Konventionen von Python entspricht. Der Style Guide empfiehlt, ein Leerzeichen auf jeder Seite des Zuweisungssymbols = und binären Operatoren wie + einzufügen, um Programme lesbarer zu machen."
   ]
  },
  {
   "cell_type": "markdown",
   "metadata": {},
   "source": [
    "# Variablennamen\n",
    "* Variablennamen beginnen immer mit einem Kleinbuchstaben oder einem Unterstrich;\n",
    "* dürfen nicht mit einer Ziffer beginnen;\n",
    "* können Buchstaben, Ziffern und Unterstrich (\\_) enthalten;\n",
    "* Python ist **case-sensitiv**, d.h. **number** und **Number** sind unterschiedliche Varialen;\n",
    "*  Wenn der Variablenname aus mehreren Wörtern besteht, z.B. **speed_kmh**, dann verwenden Sie einen Unterstrich (\\_), um die Lesbarkeit zu verbessern."
   ]
  },
  {
   "cell_type": "markdown",
   "metadata": {},
   "source": [
    "# Typen\n",
    "Jeder Wert in Python hat einen Datentyp, der angibt, welche Art von Daten der Wert darstellt. Sie können den Datentyp eines Wertes wie folgt anzeigen:"
   ]
  },
  {
   "cell_type": "code",
   "execution_count": 23,
   "metadata": {
    "ExecuteTime": {
     "end_time": "2023-09-19T13:56:50.946346Z",
     "start_time": "2023-09-19T13:56:50.904876Z"
    }
   },
   "outputs": [
    {
     "data": {
      "text/plain": "int"
     },
     "execution_count": 23,
     "metadata": {},
     "output_type": "execute_result"
    }
   ],
   "source": [
    "type(x)"
   ]
  },
  {
   "cell_type": "code",
   "execution_count": 24,
   "metadata": {
    "ExecuteTime": {
     "end_time": "2023-09-19T13:56:50.946998Z",
     "start_time": "2023-09-19T13:56:50.907529Z"
    }
   },
   "outputs": [
    {
     "data": {
      "text/plain": "float"
     },
     "execution_count": 24,
     "metadata": {},
     "output_type": "execute_result"
    }
   ],
   "source": [
    "type(10.5)"
   ]
  },
  {
   "cell_type": "markdown",
   "metadata": {},
   "source": [
    "Die Variable x enthält den ganzzahligen Wert 7 (aus Snippet [1]), so dass Python *int* (kurz für integer) anzeigt. Der Wert 10.5 ist eine Fliesskommazahl, d.h. eine Zahl mit einem Dezimalpunkt, so dass Python *float* anzeigt.\n",
    "\n",
    "Die Funktion `type` bestimmt den Typ eines Wertes. Eine Funktion führt eine Aufgabe aus, wenn Sie sie aufrufen, indem Sie ihren Namen, gefolgt von Klammern, schreiben. Die Klammern enthalten das Argument der Funktion - die Daten, die die `type`-Funktion zur Ausführung ihrer Aufgabe benötigt."
   ]
  },
  {
   "cell_type": "code",
   "execution_count": 25,
   "outputs": [
    {
     "name": "stdout",
     "output_type": "stream",
     "text": [
      "Help on built-in function id in module builtins:\n",
      "\n",
      "id(obj, /)\n",
      "    Return the identity of an object.\n",
      "    \n",
      "    This is guaranteed to be unique among simultaneously existing objects.\n",
      "    (CPython uses the object's memory address.)\n"
     ]
    }
   ],
   "source": [
    "help(id)"
   ],
   "metadata": {
    "collapsed": false,
    "ExecuteTime": {
     "end_time": "2023-09-19T13:56:50.947165Z",
     "start_time": "2023-09-19T13:56:50.911136Z"
    }
   }
  },
  {
   "cell_type": "code",
   "execution_count": 26,
   "outputs": [
    {
     "data": {
      "text/plain": "4315047544"
     },
     "execution_count": 26,
     "metadata": {},
     "output_type": "execute_result"
    }
   ],
   "source": [
    "x = 5\n",
    "id(x)\n"
   ],
   "metadata": {
    "collapsed": false,
    "ExecuteTime": {
     "end_time": "2023-09-19T13:56:50.947535Z",
     "start_time": "2023-09-19T13:56:50.914163Z"
    }
   }
  },
  {
   "cell_type": "code",
   "execution_count": 27,
   "outputs": [
    {
     "data": {
      "text/plain": "4315050584"
     },
     "execution_count": 27,
     "metadata": {},
     "output_type": "execute_result"
    }
   ],
   "source": [
    "x = 100\n",
    "id(x)"
   ],
   "metadata": {
    "collapsed": false,
    "ExecuteTime": {
     "end_time": "2023-09-19T13:56:50.947744Z",
     "start_time": "2023-09-19T13:56:50.916638Z"
    }
   }
  },
  {
   "cell_type": "code",
   "execution_count": 27,
   "outputs": [],
   "source": [],
   "metadata": {
    "collapsed": false,
    "ExecuteTime": {
     "end_time": "2023-09-19T13:56:50.947994Z",
     "start_time": "2023-09-19T13:56:50.918553Z"
    }
   }
  }
 ],
 "metadata": {
  "kernelspec": {
   "display_name": "Python 3",
   "language": "python",
   "name": "python3"
  },
  "language_info": {
   "codemirror_mode": {
    "name": "ipython",
    "version": 3
   },
   "file_extension": ".py",
   "mimetype": "text/x-python",
   "name": "python",
   "nbconvert_exporter": "python",
   "pygments_lexer": "ipython3",
   "version": "3.8.8"
  }
 },
 "nbformat": 4,
 "nbformat_minor": 4
}
