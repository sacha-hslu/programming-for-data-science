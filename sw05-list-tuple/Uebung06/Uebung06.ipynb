{
 "cells": [
  {
   "cell_type": "markdown",
   "metadata": {},
   "source": [
    "# Übung 6"
   ]
  },
  {
   "cell_type": "markdown",
   "metadata": {},
   "source": [
    "## Aufgabe 1\n",
    "Ersetzen Sie die *** in der folgenden List Comprehension, sowie dem Map Funktionsaufruf, so dass Sie für die gegebenen Inch-Werte in der Originalliste eine neue Liste erzeugen, die Tupel mit dem Originalwert in Inch und dem zugehörigen Wert in Meter enthalten.\n",
    "\n",
    "```\n",
    "[*** for x in [69, 77, 54]]\n",
    "\n",
    "list(map(lambda ***, [69, 77, 54]))\n",
    "```\n",
    "\n",
    "Zum Beispiel soll für das Element in der Originalliste, welches den Wert 69 hat, in der neu zu bildenden Liste das Tupel (69, 1.7526) eingefügt werden.\n",
    "\n",
    "Umrechnung `1 Inch =  0.0254 Meter`.\n"
   ]
  },
  {
   "cell_type": "code",
   "execution_count": 4,
   "metadata": {
    "ExecuteTime": {
     "end_time": "2023-10-10T15:41:40.563330Z",
     "start_time": "2023-10-10T15:41:40.555610Z"
    }
   },
   "outputs": [
    {
     "name": "stdout",
     "output_type": "stream",
     "text": [
      "[(69, 1.7526), (77, 1.9558), (54, 1.3716)]\n",
      "[(69, 1.7526), (77, 1.9558), (54, 1.3716)]\n"
     ]
    }
   ],
   "source": [
    "print([(x, x * 0.0254) for x in [69, 77, 54]])\n",
    "\n",
    "print(list(map(lambda x: (x, x * 0.0254), [69, 77, 54])))"
   ]
  },
  {
   "cell_type": "markdown",
   "metadata": {},
   "source": [
    "## Aufgabe 2\n",
    "Erstellen Sie eine 2-mal-3-Liste, welche nur Nullen (0) enthält.\n",
    "Verwenden Sie dann eine verschachtelte Schleife, um jedem Element in der 2 x 3 Liste diejenige ganze Zahl zuzuweisen, welche die Reihenfolge angibt, in der es von der geschachtelten Schlaufe verarbeitet wurde.\n",
    "Zeigen Sie anschliessend die Elemente der 2 x 3 Liste in tabellarischer Form an. Verwenden Sie die Spaltenindizes als Überschriften oben und die Zeilenindizes links von jeder Zeile.\n"
   ]
  },
  {
   "cell_type": "code",
   "execution_count": 4,
   "metadata": {
    "ExecuteTime": {
     "end_time": "2023-10-17T14:45:31.329391Z",
     "start_time": "2023-10-17T14:45:31.321328Z"
    }
   },
   "outputs": [
    {
     "name": "stdout",
     "output_type": "stream",
     "text": [
      "|2|3|4|\n",
      "|5|6|7|\n",
      "[[1, 2, 3], [4, 5, 6]]\n"
     ]
    }
   ],
   "source": [
    "list = [[0, 0, 0], [0, 0, 0]]\n",
    "counter = 1\n",
    "\n",
    "for i in range(len(list)):\n",
    "    for j in range(len(list[i])):\n",
    "        list[i][j] = counter\n",
    "        counter += 1\n",
    "        print(f'|{counter}', end='')\n",
    "    print(f'|')\n",
    "        \n",
    "print(list)"
   ]
  },
  {
   "cell_type": "markdown",
   "metadata": {},
   "source": [
    "## Aufgabe 3\n",
    "Eine Primzahl ist eine ganze Zahl grösser als 1, die nur durch sich selbst und 1 teilbar ist. Das Sieb der Eratosthenes ist eine elegante, einfache Methode, um Primzahlen zu finden. Das Verfahren zum Auffinden aller Primzahlen, z.B. kleiner als 1000, ist wie folgt:\n",
    "\n",
    "1. Erstellen Sie eine 1000-Element-Liste `primes` in der alle Elemente auf `True` initialisiert sind. Listenelemente mit Primindizes (wie 2, 3, 5, 7, 11, ...) bleiben `True`. Alle anderen Listenelemente werden schliesslich auf `False` gesetzt.\n",
    "\n",
    "2. Beginnend mit Index 2, wenn ein gegebenes Element `True` ist, iterieren Sie durch den Rest der Liste und setzen Sie jedes Element, dessen Index ein Vielfaches des Index für das Element ist, das wir gerade verarbeiten, auf `False`. D.h., für den Listenindex 2 werden alle Elemente jenseits von Element 2 in der Liste, deren Index ein Vielfaches von 2 ist (d.h. 4, 6, 8, 10, ..., 998) auf `False` gesetzt.\n",
    "\n",
    "3. Wiederholen Sie Schritt 2 für das nächste wahre Element. D.h., für Listenindex 3 (der auf `True` initialisiert wurde) werden alle Elemente jenseits von Element 3 in der Liste, die Indizes haben, die Vielfache von 3 sind (d.h. 6, 9, 12, 15, ..., 999), auf False gesetzt; und so weiter. \n",
    "\n",
    "Wenn dieser Prozess abgeschlossen ist, zeigen die Listenelemente, die immer noch `True` sind, an, dass der Index eine Primzahl ist. Zeigen Sie die Primzahlen an. Sie können dabei die Listenelemente 0 und 1 ignorieren.\n",
    "\n",
    "\n",
    "Bitte beachten Sie folgendes:\n",
    "Die Quadratwurzel von 999 ist 31,6. Sie müssen nur alle Vielfachen von 2, 3, 5, 7, 9, 11, 13, 17, 19, 23, 29 und 31 testen und auf False setzen. Dies wird die Leistung Ihres Algorithmus erheblich verbessern, insbesondere wenn Sie sich entscheiden, nach grossen Primzahlen zu suchen."
   ]
  },
  {
   "cell_type": "code",
   "execution_count": 5,
   "metadata": {
    "ExecuteTime": {
     "end_time": "2023-10-17T14:47:27.857283Z",
     "start_time": "2023-10-17T14:47:27.852092Z"
    }
   },
   "outputs": [
    {
     "name": "stdout",
     "output_type": "stream",
     "text": [
      "2: False - 3: False - 5: False - 7: False - 11: False - 13: False - 17: False - 19: False - 23: False - 29: False - 31: False - 37: False - 41: False - 43: False - 47: False - 53: False - 59: False - 61: False - 67: False - 71: False - 73: False - 79: False - 83: False - 89: False - 97: False - 101: False - 103: False - 107: False - 109: False - 113: False - 127: False - 131: False - 137: False - 139: False - 149: False - 151: False - 157: False - 163: False - 167: False - 173: False - 179: False - 181: False - 191: False - 193: False - 197: False - 199: False - 211: False - 223: False - 227: False - 229: False - 233: False - 239: False - 241: False - 251: False - 257: False - 263: False - 269: False - 271: False - 277: False - 281: False - 283: False - 293: False - 307: False - 311: False - 313: False - 317: False - 331: False - 337: False - 347: False - 349: False - 353: False - 359: False - 367: False - 373: False - 379: False - 383: False - 389: False - 397: False - 401: False - 409: False - 419: False - 421: False - 431: False - 433: False - 439: False - 443: False - 449: False - 457: False - 461: False - 463: False - 467: False - 479: False - 487: False - 491: False - 499: False - 503: False - 509: False - 521: False - 523: False - 541: False - 547: False - 557: False - 563: False - 569: False - 571: False - 577: False - 587: False - 593: False - 599: False - 601: False - 607: False - 613: False - 617: False - 619: False - 631: False - 641: False - 643: False - 647: False - 653: False - 659: False - 661: False - 673: False - 677: False - 683: False - 691: False - 701: False - 709: False - 719: False - 727: False - 733: False - 739: False - 743: False - 751: False - 757: False - 761: False - 769: False - 773: False - 787: False - 797: False - 809: False - 811: False - 821: False - 823: False - 827: False - 829: False - 839: False - 853: False - 857: False - 859: False - 863: False - 877: False - 881: False - 883: False - 887: False - 907: False - 911: False - 919: False - 929: False - 937: False - 941: False - 947: False - 953: False - 967: False - 971: False - 977: False - 983: False - 991: False - 997: False - \n",
      "-----------------------------------\n",
      "4: True - 6: True - 8: True - 10: True - 12: True - 14: True - 16: True - 18: True - 20: True - 22: True - 24: True - 26: True - 28: True - 30: True - 32: True - 34: True - 36: True - 38: True - 40: True - 42: True - 44: True - 46: True - 48: True - 50: True - 52: True - 54: True - 56: True - 58: True - 60: True - 62: True - 64: True - 66: True - 68: True - 70: True - 72: True - 74: True - 76: True - 78: True - 80: True - 82: True - 84: True - 86: True - 88: True - 90: True - 92: True - 94: True - 96: True - 98: True - 100: True - 102: True - 104: True - 106: True - 108: True - 110: True - 112: True - 114: True - 116: True - 118: True - 120: True - 122: True - 124: True - 126: True - 128: True - 130: True - 132: True - 134: True - 136: True - 138: True - 140: True - 142: True - 144: True - 146: True - 148: True - 150: True - 152: True - 154: True - 156: True - 158: True - 160: True - 162: True - 164: True - 166: True - 168: True - 170: True - 172: True - 174: True - 176: True - 178: True - 180: True - 182: True - 184: True - 186: True - 188: True - 190: True - 192: True - 194: True - 196: True - 198: True - 200: True - 202: True - 204: True - 206: True - 208: True - 210: True - 212: True - 214: True - 216: True - 218: True - 220: True - 222: True - 224: True - 226: True - 228: True - 230: True - 232: True - 234: True - 236: True - 238: True - 240: True - 242: True - 244: True - 246: True - 248: True - 250: True - 252: True - 254: True - 256: True - 258: True - 260: True - 262: True - 264: True - 266: True - 268: True - 270: True - 272: True - 274: True - 276: True - 278: True - 280: True - 282: True - 284: True - 286: True - 288: True - 290: True - 292: True - 294: True - 296: True - 298: True - 300: True - 302: True - 304: True - 306: True - 308: True - 310: True - 312: True - 314: True - 316: True - 318: True - 320: True - 322: True - 324: True - 326: True - 328: True - 330: True - 332: True - 334: True - 336: True - 338: True - 340: True - 342: True - 344: True - 346: True - 348: True - 350: True - 352: True - 354: True - 356: True - 358: True - 360: True - 362: True - 364: True - 366: True - 368: True - 370: True - 372: True - 374: True - 376: True - 378: True - 380: True - 382: True - 384: True - 386: True - 388: True - 390: True - 392: True - 394: True - 396: True - 398: True - 400: True - 402: True - 404: True - 406: True - 408: True - 410: True - 412: True - 414: True - 416: True - 418: True - 420: True - 422: True - 424: True - 426: True - 428: True - 430: True - 432: True - 434: True - 436: True - 438: True - 440: True - 442: True - 444: True - 446: True - 448: True - 450: True - 452: True - 454: True - 456: True - 458: True - 460: True - 462: True - 464: True - 466: True - 468: True - 470: True - 472: True - 474: True - 476: True - 478: True - 480: True - 482: True - 484: True - 486: True - 488: True - 490: True - 492: True - 494: True - 496: True - 498: True - 500: True - 502: True - 504: True - 506: True - 508: True - 510: True - 512: True - 514: True - 516: True - 518: True - 520: True - 522: True - 524: True - 526: True - 528: True - 530: True - 532: True - 534: True - 536: True - 538: True - 540: True - 542: True - 544: True - 546: True - 548: True - 550: True - 552: True - 554: True - 556: True - 558: True - 560: True - 562: True - 564: True - 566: True - 568: True - 570: True - 572: True - 574: True - 576: True - 578: True - 580: True - 582: True - 584: True - 586: True - 588: True - 590: True - 592: True - 594: True - 596: True - 598: True - 600: True - 602: True - 604: True - 606: True - 608: True - 610: True - 612: True - 614: True - 616: True - 618: True - 620: True - 622: True - 624: True - 626: True - 628: True - 630: True - 632: True - 634: True - 636: True - 638: True - 640: True - 642: True - 644: True - 646: True - 648: True - 650: True - 652: True - 654: True - 656: True - 658: True - 660: True - 662: True - 664: True - 666: True - 668: True - 670: True - 672: True - 674: True - 676: True - 678: True - 680: True - 682: True - 684: True - 686: True - 688: True - 690: True - 692: True - 694: True - 696: True - 698: True - 700: True - 702: True - 704: True - 706: True - 708: True - 710: True - 712: True - 714: True - 716: True - 718: True - 720: True - 722: True - 724: True - 726: True - 728: True - 730: True - 732: True - 734: True - 736: True - 738: True - 740: True - 742: True - 744: True - 746: True - 748: True - 750: True - 752: True - 754: True - 756: True - 758: True - 760: True - 762: True - 764: True - 766: True - 768: True - 770: True - 772: True - 774: True - 776: True - 778: True - 780: True - 782: True - 784: True - 786: True - 788: True - 790: True - 792: True - 794: True - 796: True - 798: True - 800: True - 802: True - 804: True - 806: True - 808: True - 810: True - 812: True - 814: True - 816: True - 818: True - 820: True - 822: True - 824: True - 826: True - 828: True - 830: True - 832: True - 834: True - 836: True - 838: True - 840: True - 842: True - 844: True - 846: True - 848: True - 850: True - 852: True - 854: True - 856: True - 858: True - 860: True - 862: True - 864: True - 866: True - 868: True - 870: True - 872: True - 874: True - 876: True - 878: True - 880: True - 882: True - 884: True - 886: True - 888: True - 890: True - 892: True - 894: True - 896: True - 898: True - 900: True - 902: True - 904: True - 906: True - 908: True - 910: True - 912: True - 914: True - 916: True - 918: True - 920: True - 922: True - 924: True - 926: True - 928: True - 930: True - 932: True - 934: True - 936: True - 938: True - 940: True - 942: True - 944: True - 946: True - 948: True - 950: True - 952: True - 954: True - 956: True - 958: True - 960: True - 962: True - 964: True - 966: True - 968: True - 970: True - 972: True - 974: True - 976: True - 978: True - 980: True - 982: True - 984: True - 986: True - 988: True - 990: True - 992: True - 994: True - 996: True - 998: True - \n",
      "-----------------------------------\n",
      "6: True - 9: True - 12: True - 15: True - 18: True - 21: True - 24: True - 27: True - 30: True - 33: True - 36: True - 39: True - 42: True - 45: True - 48: True - 51: True - 54: True - 57: True - 60: True - 63: True - 66: True - 69: True - 72: True - 75: True - 78: True - 81: True - 84: True - 87: True - 90: True - 93: True - 96: True - 99: True - 102: True - 105: True - 108: True - 111: True - 114: True - 117: True - 120: True - 123: True - 126: True - 129: True - 132: True - 135: True - 138: True - 141: True - 144: True - 147: True - 150: True - 153: True - 156: True - 159: True - 162: True - 165: True - 168: True - 171: True - 174: True - 177: True - 180: True - 183: True - 186: True - 189: True - 192: True - 195: True - 198: True - 201: True - 204: True - 207: True - 210: True - 213: True - 216: True - 219: True - 222: True - 225: True - 228: True - 231: True - 234: True - 237: True - 240: True - 243: True - 246: True - 249: True - 252: True - 255: True - 258: True - 261: True - 264: True - 267: True - 270: True - 273: True - 276: True - 279: True - 282: True - 285: True - 288: True - 291: True - 294: True - 297: True - 300: True - 303: True - 306: True - 309: True - 312: True - 315: True - 318: True - 321: True - 324: True - 327: True - 330: True - 333: True - 336: True - 339: True - 342: True - 345: True - 348: True - 351: True - 354: True - 357: True - 360: True - 363: True - 366: True - 369: True - 372: True - 375: True - 378: True - 381: True - 384: True - 387: True - 390: True - 393: True - 396: True - 399: True - 402: True - 405: True - 408: True - 411: True - 414: True - 417: True - 420: True - 423: True - 426: True - 429: True - 432: True - 435: True - 438: True - 441: True - 444: True - 447: True - 450: True - 453: True - 456: True - 459: True - 462: True - 465: True - 468: True - 471: True - 474: True - 477: True - 480: True - 483: True - 486: True - 489: True - 492: True - 495: True - 498: True - 501: True - 504: True - 507: True - 510: True - 513: True - 516: True - 519: True - 522: True - 525: True - 528: True - 531: True - 534: True - 537: True - 540: True - 543: True - 546: True - 549: True - 552: True - 555: True - 558: True - 561: True - 564: True - 567: True - 570: True - 573: True - 576: True - 579: True - 582: True - 585: True - 588: True - 591: True - 594: True - 597: True - 600: True - 603: True - 606: True - 609: True - 612: True - 615: True - 618: True - 621: True - 624: True - 627: True - 630: True - 633: True - 636: True - 639: True - 642: True - 645: True - 648: True - 651: True - 654: True - 657: True - 660: True - 663: True - 666: True - 669: True - 672: True - 675: True - 678: True - 681: True - 684: True - 687: True - 690: True - 693: True - 696: True - 699: True - 702: True - 705: True - 708: True - 711: True - 714: True - 717: True - 720: True - 723: True - 726: True - 729: True - 732: True - 735: True - 738: True - 741: True - 744: True - 747: True - 750: True - 753: True - 756: True - 759: True - 762: True - 765: True - 768: True - 771: True - 774: True - 777: True - 780: True - 783: True - 786: True - 789: True - 792: True - 795: True - 798: True - 801: True - 804: True - 807: True - 810: True - 813: True - 816: True - 819: True - 822: True - 825: True - 828: True - 831: True - 834: True - 837: True - 840: True - 843: True - 846: True - 849: True - 852: True - 855: True - 858: True - 861: True - 864: True - 867: True - 870: True - 873: True - 876: True - 879: True - 882: True - 885: True - 888: True - 891: True - 894: True - 897: True - 900: True - 903: True - 906: True - 909: True - 912: True - 915: True - 918: True - 921: True - 924: True - 927: True - 930: True - 933: True - 936: True - 939: True - 942: True - 945: True - 948: True - 951: True - 954: True - 957: True - 960: True - 963: True - 966: True - 969: True - 972: True - 975: True - 978: True - 981: True - 984: True - 987: True - 990: True - 993: True - 996: True - 999: True - "
     ]
    }
   ],
   "source": [
    "primes = [True] * 1000\n",
    "\n",
    "def is_prime(number):\n",
    "    if number <= 1:\n",
    "        return False\n",
    "    elif number <= 3:\n",
    "        return True\n",
    "    elif number % 2 == 0 or number % 3 == 0:\n",
    "        return False\n",
    "    i = 5\n",
    "    while i * i <= number:\n",
    "        if number % i == 0 or number % (i + 2) == 0:\n",
    "            return False\n",
    "        i += 6\n",
    "    return True\n",
    "\n",
    "def exercise_one():\n",
    "    for i in range(1000):\n",
    "        if is_prime(i):\n",
    "            primes[i] = False\n",
    "            print(f'{i}: {primes[i]}', end=' - ')\n",
    "\n",
    "def where_is_dividible(divide_by):\n",
    "    for i in range(divide_by + 1, 1000):\n",
    "        if primes[i] and (i % divide_by) == 0:\n",
    "            primes[i] = True\n",
    "            print(f'{i}: {primes[i]}', end=' - ')\n",
    "\n",
    "exercise_one()\n",
    "print()\n",
    "print('-----------------------------------')\n",
    "where_is_dividible(2)\n",
    "print()\n",
    "print('-----------------------------------')\n",
    "where_is_dividible(3)\n"
   ]
  },
  {
   "cell_type": "markdown",
   "metadata": {},
   "source": [
    "## Aufgabe 4\n",
    "Schreiben Sie eine Funktion `summarize_letters`, die eine Zeichenfolge empfängt und eine Liste von Tupeln zurückgibt, die die eindeutigen Buchstaben und ihre Häufigkeit in der Zeichenfolge enthält.<br>\n",
    "Testen Sie Ihre Funktion und zeigen Sie jeden Buchstaben mit seiner Häufigkeit an. Ihre Funktion sollte die Gross- und Kleinschreibung ignorieren (d.h. 'a' und 'A' sind gleich). Leerzeichen und Interpunktion sollen ebenfalls ignoriert werden.<br>\n",
    "Als Abschluss soll eine Aussage ausgegeben werden, die besagt, ob die Zeichenfolge alle Buchstaben des Alphabets enthält."
   ]
  },
  {
   "cell_type": "code",
   "execution_count": 18,
   "metadata": {
    "ExecuteTime": {
     "end_time": "2023-10-14T07:12:02.086421Z",
     "start_time": "2023-10-14T07:12:02.082628Z"
    }
   },
   "outputs": [
    {
     "name": "stdout",
     "output_type": "stream",
     "text": [
      "not every letter of the alphabet\n",
      "[('B', 1), ('C', 1), ('Z', 1), ('T', 1), ('E', 2), ('R', 1), ('A', 5), ('D', 1)]\n",
      "every letter of the alphabet\n",
      "[('A', 1), ('B', 1), ('C', 1), ('D', 1), ('E', 1), ('F', 1), ('G', 1), ('H', 1), ('I', 1), ('J', 1), ('K', 1), ('L', 1), ('M', 1), ('N', 1), ('O', 1), ('P', 1), ('Q', 1), ('R', 1), ('S', 1), ('T', 1), ('U', 1), ('V', 1), ('W', 1), ('X', 1), ('Y', 1), ('Z', 1)]\n"
     ]
    }
   ],
   "source": [
    "import re\n",
    "\n",
    "def summarzie_letters(text):\n",
    "    letters = []\n",
    "    text = re.sub(r'[^A-Z]', '', text.upper())\n",
    "    for char in text:\n",
    "        caching_list = []\n",
    "        if len(letters) == 0:\n",
    "            caching_list.append((char, 1))\n",
    "        else:\n",
    "            is_value_set = False\n",
    "            for tuple in letters:\n",
    "                for value in tuple:\n",
    "                    if char == value:\n",
    "                        caching_list = letters.copy()\n",
    "                        caching_list.append((tuple[0], tuple[1] + 1))\n",
    "                        caching_list.remove(tuple)\n",
    "                        is_value_set = True\n",
    "                        break\n",
    "            if not is_value_set:\n",
    "                caching_list = letters.copy()\n",
    "                caching_list.append((char, 1))\n",
    "        letters = caching_list\n",
    "        \n",
    "    if len(letters) >= 26:\n",
    "        print('every letter of the alphabet')\n",
    "    else:\n",
    "        print('not every letter of the alphabet')\n",
    "        \n",
    "    return letters\n",
    "\n",
    "print(summarzie_letters(\"aAa    Abc --- ...  zeterad\"))\n",
    "print(summarzie_letters(\"abcdefghijklmnopqrstuvwxyz\"))\n"
   ]
  },
  {
   "cell_type": "code",
   "execution_count": 9,
   "outputs": [
    {
     "name": "stdout",
     "output_type": "stream",
     "text": [
      "[('A', 1), ('B', 1), ('C', 1), ('D', 1), ('E', 1), ('F', 1), ('G', 1), ('H', 1), ('I', 1), ('J', 1), ('K', 1), ('L', 1), ('M', 1), ('N', 1), ('O', 1), ('P', 1), ('Q', 1), ('R', 1), ('S', 1), ('T', 1), ('U', 1), ('V', 1), ('W', 1), ('X', 1), ('Y', 1), ('Z', 1)]\n",
      "every letter of the alphabet 26\n"
     ]
    }
   ],
   "source": [
    "from collections import Counter\n",
    "import re\n",
    "\n",
    "text = \"This is a sample text to demonstrate letter counting in Python.\"\n",
    "abc = \"abcdefghijklmnopqrstuvwxyz\"\n",
    "letter_counts = Counter(re.sub(r'[^A-Z]', '', abc.upper()))\n",
    "letter_counts_list = list(letter_counts.items())\n",
    "\n",
    "print(letter_counts_list)\n",
    "\n",
    "size_of_list = len(letter_counts_list)\n",
    "\n",
    "if size_of_list >= 26:\n",
    "    print(f'every letter of the alphabet {size_of_list}')\n",
    "else:\n",
    "    print(f'not every letter of the alphabet {size_of_list}')"
   ],
   "metadata": {
    "collapsed": false,
    "ExecuteTime": {
     "end_time": "2023-10-13T16:18:59.857876Z",
     "start_time": "2023-10-13T16:18:59.854390Z"
    }
   }
  },
  {
   "cell_type": "markdown",
   "metadata": {},
   "source": [
    "## Aufgabe 5\n",
    "Erstellen Sie eine beliebige Liste von Tupeln mit Vor- und Nachnamen. Stellen Sie dabei sicher, dass mehrere Tupel in Ihrer Liste den Nachnamen 'Jones' enthalten.<br>\n",
    "Verwenden Sie die Funktion `filter`, um die Tupel zu finden, die den Nachnamen Jones enthalten. "
   ]
  },
  {
   "cell_type": "code",
   "execution_count": 4,
   "metadata": {
    "ExecuteTime": {
     "end_time": "2023-10-24T14:11:13.083015Z",
     "start_time": "2023-10-24T14:11:13.074119Z"
    }
   },
   "outputs": [
    {
     "name": "stdout",
     "output_type": "stream",
     "text": [
      "[('Jon', 'Jones'), ('Mike', 'Jones'), ('Adam', 'Jones')]\n",
      "[('Leo', 'Miller'), ('Peter', 'Miller')]\n",
      "[('Jeff', 'Biden')]\n",
      "[('Jon', 'Jones'), ('Mike', 'Jones'), ('Adam', 'Jones')]\n"
     ]
    }
   ],
   "source": [
    "tuple_names = [('Jon', 'Jones'), ('Mike', 'Jones'), ('Daniel', 'Damner'), ('Jeff', 'Biden'), ('Leo', 'Miller'), ('Peter', 'Miller'), ('Adam', 'Jones')]\n",
    "\n",
    "def filter_name(criteria, list):\n",
    "    result = []\n",
    "    for name in tuple_names:\n",
    "        for value in name:\n",
    "            if value == criteria:\n",
    "                result.append(name)\n",
    "                break\n",
    "    return result\n",
    "\n",
    "print(filter_name('Jones', tuple_names))\n",
    "print(filter_name('Miller', tuple_names))\n",
    "print(filter_name('Biden', tuple_names))\n",
    "\n",
    "print(list(filter(lambda name_tuple: name_tuple[1] == 'Jones', tuple_names)))"
   ]
  },
  {
   "cell_type": "markdown",
   "metadata": {},
   "source": [
    "## Aufgabe 6\n",
    "Analysiseren Sie den folgenden Code:\n",
    "\n",
    "```\n",
    "numbers = [10, 3, 7, 1, 9, 4, 2, 8, 5, 6]\n",
    "\n",
    "list(map(lambda x: x ** 2,\n",
    "    filter(lambda x: x % 2 != 0, numbers)))\n",
    "```\n",
    "1. Wie oft ruft die Filteroperation ihr Lambda-Argument auf?\n",
    "\n",
    "2. Wie oft ruft die Map-Operation ihr Lambda-Argument auf?\n",
    "\n",
    "3. Wenn Sie die Filter- und Map-Operationen umkehren, wie oft ruft dann die Map-Operation ihr Lambda-Argument auf?\n",
    "\n",
    "\n",
    "Um die Beantwortung der Fragen von oben zu überprüfen, können Sie Funktionen implementieren, welche die gleichen Aufgaben wie die Lambdas erfüllen. Fügen Sie in diesen Funktionen eine `print` Anweisung ein, damit Sie jeden Aufruf der Funktion sehen können.\n",
    "Ersetzen Sie schliesslich die Lambdas im vorhergehenden Code durch die Namen Ihrer Funktionen."
   ]
  },
  {
   "cell_type": "code",
   "execution_count": 29,
   "metadata": {
    "ExecuteTime": {
     "end_time": "2023-10-14T09:57:05.720169Z",
     "start_time": "2023-10-14T09:57:05.709527Z"
    }
   },
   "outputs": [
    {
     "data": {
      "text/plain": "[9, 49, 1, 81, 25]"
     },
     "execution_count": 29,
     "metadata": {},
     "output_type": "execute_result"
    }
   ],
   "source": [
    "numbers = [10, 3, 7, 1, 9, 4, 2, 8, 5, 6]\n",
    "\n",
    "list(map(lambda x: x ** 2,\n",
    "    filter(lambda x: x % 2 != 0, numbers)))\n",
    "\n",
    "list(filter(lambda x: x % 2 != 0, \n",
    "    map(lambda x: x ** 2, numbers)))"
   ]
  },
  {
   "cell_type": "markdown",
   "source": [
    "1. für jedes element der liste numbers - 10x\n",
    "2. für jedes element, wo die filter funktion zutrifft - alle ungeraden zahlen - 5\n",
    "3. map: 10x filter: 10x"
   ],
   "metadata": {
    "collapsed": false
   }
  },
  {
   "cell_type": "code",
   "execution_count": 31,
   "outputs": [
    {
     "name": "stdout",
     "output_type": "stream",
     "text": [
      "filter: 10\n",
      "filter: 3\n",
      "map: 3\n",
      "filter: 7\n",
      "map: 7\n",
      "filter: 1\n",
      "map: 1\n",
      "filter: 9\n",
      "map: 9\n",
      "filter: 4\n",
      "filter: 2\n",
      "filter: 8\n",
      "filter: 5\n",
      "map: 5\n",
      "filter: 6\n",
      "[9, 49, 1, 81, 25]\n",
      "exercise 3 ---------------------------------------\n",
      "map: 10\n",
      "filter: 100\n",
      "map: 3\n",
      "filter: 9\n",
      "map: 7\n",
      "filter: 49\n",
      "map: 1\n",
      "filter: 1\n",
      "map: 9\n",
      "filter: 81\n",
      "map: 4\n",
      "filter: 16\n",
      "map: 2\n",
      "filter: 4\n",
      "map: 8\n",
      "filter: 64\n",
      "map: 5\n",
      "filter: 25\n",
      "map: 6\n",
      "filter: 36\n",
      "[9, 49, 1, 81, 25]\n"
     ]
    }
   ],
   "source": [
    "def map_function(x):\n",
    "    print(f'map: {x}')\n",
    "    return x ** 2\n",
    "\n",
    "def filter_function(x):\n",
    "    print(f'filter: {x}')\n",
    "    return x % 2 != 0\n",
    "\n",
    "print(list(map(lambda x: map_function(x),\n",
    "    filter(lambda x: filter_function(x), numbers))))\n",
    "\n",
    "print('exercise 3 ---------------------------------------')\n",
    "\n",
    "print(list(filter(lambda x: filter_function(x), \n",
    "    map(lambda x: map_function(x), numbers))))"
   ],
   "metadata": {
    "collapsed": false,
    "ExecuteTime": {
     "end_time": "2023-10-14T10:02:42.193541Z",
     "start_time": "2023-10-14T10:02:42.191713Z"
    }
   }
  }
 ],
 "metadata": {
  "kernelspec": {
   "display_name": "Python 3 (ipykernel)",
   "language": "python",
   "name": "python3"
  },
  "language_info": {
   "codemirror_mode": {
    "name": "ipython",
    "version": 3
   },
   "file_extension": ".py",
   "mimetype": "text/x-python",
   "name": "python",
   "nbconvert_exporter": "python",
   "pygments_lexer": "ipython3",
   "version": "3.10.5"
  }
 },
 "nbformat": 4,
 "nbformat_minor": 4
}
