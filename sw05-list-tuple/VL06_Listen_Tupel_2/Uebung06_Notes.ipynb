{
 "cells": [
  {
   "cell_type": "markdown",
   "metadata": {},
   "source": [
    "# Übung 6"
   ]
  },
  {
   "cell_type": "code",
   "execution_count": null,
   "metadata": {},
   "outputs": [],
   "source": [
    "# correction for functions as variables:\n",
    "\n",
    "def example_function():\n",
    "    print(\"Hello World!\")\n",
    "    return 1\n",
    "\n",
    "variable = example_function # variable is now a function --- careful: no brackets!\n",
    "print(variable)\n",
    "print(example_function(), variable())\n"
   ]
  },
  {
   "cell_type": "markdown",
   "metadata": {},
   "source": [
    "## Aufgabe 1\n",
    "Ersetzen Sie die *** in der folgenden List Comprehension, sowie dem Map Funktionsaufruf, so dass Sie für die gegebenen Inch-Werte in der Originalliste eine neue Liste erzeugen, die Tupel mit dem Originalwert in Inch und dem zugehörigen Wert in Meter enthalten.\n",
    "\n",
    "```\n",
    "[*** for x in [69, 77, 54]]\n",
    "\n",
    "list(map(lambda ***, [69, 77, 54]))\n",
    "```\n",
    "\n",
    "Zum Beispiel soll für das Element in der Originalliste, welches den Wert 69 hat, in der neu zu bildenden Liste das Tupel (69, 1.7526) eingefügt werden.\n",
    "\n",
    "Umrechnung `1 Inch =  0.0254 Meter`.\n"
   ]
  },
  {
   "cell_type": "code",
   "execution_count": null,
   "metadata": {},
   "outputs": [],
   "source": [
    "#Musterlösung\n",
    "[(x, x * 0.0254) for x in [69, 77, 54]]"
   ]
  },
  {
   "cell_type": "code",
   "execution_count": null,
   "metadata": {},
   "outputs": [],
   "source": [
    "#Musterlösung\n",
    "list(map(lambda x: (x, x * 0.0254), [69, 77, 54]))"
   ]
  },
  {
   "cell_type": "markdown",
   "metadata": {},
   "source": [
    "## Aufgabe 2\n",
    "Erstellen Sie eine 2-mal-3-Liste, welche nur Nullen (0) enthält.\n",
    "Verwenden Sie dann eine verschachtelte Schleife, um jedem Element in der 2 x 3 Liste diejenige ganze Zahl zuzuweisen, welche die Reihenfolge angibt, in der es von der geschachtelten Schlaufe verarbeitet wurde.\n",
    "Zeigen Sie anschliessend die Elemente der 2 x 3 Liste in tabellarischer Form an. Verwenden Sie die Spaltenindizes als Überschriften oben und die Zeilenindizes links von jeder Zeile.\n"
   ]
  },
  {
   "cell_type": "code",
   "execution_count": null,
   "metadata": {},
   "outputs": [],
   "source": [
    "#Musterlösung\n",
    "values = [[0, 0, 0],\n",
    "          [0, 0, 0]]\n",
    "\n",
    "count = 1\n",
    "\n",
    "# Override the values according to the sequence, starting with 1\n",
    "for row in range(len(values)):\n",
    "    for col in range(len(values[row])):\n",
    "        values[row][col] = count\n",
    "        count += 1\n",
    "\n",
    "\n",
    "# Print the result\n",
    "print(f'{\"\":3}', end='')\n",
    "\n",
    "for col in range(len(values[0])):\n",
    "    print(f'[{col}] ', end='')\n",
    "    \n",
    "print()\n",
    "\n",
    "for i, row in enumerate(values):\n",
    "    print(f'[{i}]', end='')\n",
    "    \n",
    "    for value in row:\n",
    "        print(f'{value:3d} ', end='')\n",
    "        \n",
    "    print()"
   ]
  },
  {
   "cell_type": "code",
   "execution_count": null,
   "metadata": {},
   "outputs": [],
   "source": [
    "# power of constants - but where's the problem?\n",
    "ROWS = 2\n",
    "COLS = 3\n",
    "list = [[0]*COLS for _ in range(ROWS)]\n",
    "\n",
    "for i in range(ROWS):\n",
    "    for j in range(COLS):\n",
    "        list[i][j] = i * COLS + j + 1\n",
    "\n",
    "print(f\"{'':>3}\", end=\"\")\n",
    "for i in range(COLS):\n",
    "    print(f\"{i:>3}\", end=\"\")\n",
    "print()\n",
    "for i in range(ROWS):\n",
    "    print(f\"{i:>3}\", end=\"\")\n",
    "    for j in range(COLS):\n",
    "        print(f\"{list[i][j]:>3}\", end=\"\")\n",
    "    print()"
   ]
  },
  {
   "cell_type": "code",
   "execution_count": null,
   "metadata": {},
   "outputs": [],
   "source": [
    "import numpy as np\n",
    "\n",
    "m = np.zeros((2,3))\n",
    "print(m)\n",
    "print(m.shape)"
   ]
  },
  {
   "cell_type": "code",
   "execution_count": null,
   "metadata": {},
   "outputs": [],
   "source": [
    "count = 0\n",
    "for i in range(m.shape[0]):\n",
    "    for j in range(m.shape[1]):\n",
    "        count += 1\n",
    "        #print(type(count))\n",
    "        m[i,j] = count #does still get added as a float)\n",
    "print(m)\n",
    "print()\n",
    "print(m.astype(\"int32\"))"
   ]
  },
  {
   "cell_type": "code",
   "execution_count": null,
   "metadata": {},
   "outputs": [],
   "source": [
    "np.arange(1,7)"
   ]
  },
  {
   "cell_type": "code",
   "execution_count": null,
   "metadata": {},
   "outputs": [],
   "source": [
    "array_matrix = np.arange(1,7).reshape(2,3)\n",
    "\n",
    "print(array_matrix, type(array_matrix), sep=\"\\n\")\n",
    "print(\"-\"*20)\n",
    "print(array_matrix.tolist(), type(array_matrix.tolist()), sep=\"\\n\")"
   ]
  },
  {
   "cell_type": "code",
   "execution_count": null,
   "metadata": {},
   "outputs": [],
   "source": [
    "# anders als andere one liner - leserlich da nur mit methoden garbeitet wird\n",
    "# power of methods\n",
    "np.arange(1,7).reshape(2,3).tolist()"
   ]
  },
  {
   "cell_type": "markdown",
   "metadata": {},
   "source": [
    "## Aufgabe 3\n",
    "Eine Primzahl ist eine ganze Zahl grösser als 1, die nur durch sich selbst und 1 teilbar ist. Das Sieb der Eratosthenes ist eine elegante, einfache Methode, um Primzahlen zu finden. Das Verfahren zum Auffinden aller Primzahlen, z.B. kleiner als 1000, ist wie folgt:\n",
    "\n",
    "1. Erstellen Sie eine 1000-Element-Liste `primes` in der alle Elemente auf `True` initialisiert sind. Listenelemente mit Primindizes (wie 2, 3, 5, 7, 11, ...) bleiben `True`. Alle anderen Listenelemente werden schliesslich auf `False` gesetzt.\n",
    "\n",
    "2. Beginnend mit Index 2, wenn ein gegebenes Element `True` ist, iterieren Sie durch den Rest der Liste und setzen Sie jedes Element, dessen Index ein Vielfaches des Index für das Element ist, das wir gerade verarbeiten, auf `False`. D.h., für den Listenindex 2 werden alle Elemente jenseits von Element 2 in der Liste, deren Index ein Vielfaches von 2 ist (d.h. 4, 6, 8, 10, ..., 998) auf `False` gesetzt.\n",
    "\n",
    "3. Wiederholen Sie Schritt 2 für das nächste wahre Element. D.h., für Listenindex 3 (der auf `True` initialisiert wurde) werden alle Elemente jenseits von Element 3 in der Liste, die Indizes haben, die Vielfache von 3 sind (d.h. 6, 9, 12, 15, ..., 999), auf False gesetzt; und so weiter. \n",
    "\n",
    "Wenn dieser Prozess abgeschlossen ist, zeigen die Listenelemente, die immer noch `True` sind, an, dass der Index eine Primzahl ist. Zeigen Sie die Primzahlen an. Sie können dabei die Listenelemente 0 und 1 ignorieren.\n",
    "\n",
    "\n",
    "Bitte beachten Sie folgendes:\n",
    "Die Quadratwurzel von 999 ist 31,6. Sie müssen nur alle Vielfachen von 2, 3, 5, 7, 9, 11, 13, 17, 19, 23, 29 und 31 testen und auf False setzen. Dies wird die Leistung Ihres Algorithmus erheblich verbessern, insbesondere wenn Sie sich entscheiden, nach grossen Primzahlen zu suchen."
   ]
  },
  {
   "cell_type": "code",
   "execution_count": null,
   "metadata": {},
   "outputs": [],
   "source": [
    "list = [True] * 1000\n",
    "for i in range(2, int(len(list) ** (1/2))): # is this loop correct?\n",
    "    if list[i]:\n",
    "        for j in range(i * 2, len(list), i):\n",
    "            list[j] = False\n",
    "\n",
    "c = 0\n",
    "for i in range(2, len(list)):\n",
    "    if list[i]:\n",
    "        print(i, end=\", \")\n",
    "        c += 1\n",
    "\n",
    "print(f\"\\n{c} primes found\")"
   ]
  },
  {
   "cell_type": "code",
   "execution_count": null,
   "metadata": {},
   "outputs": [],
   "source": [
    "int(len(list) ** (1/2))"
   ]
  },
  {
   "cell_type": "code",
   "execution_count": null,
   "metadata": {},
   "outputs": [],
   "source": [
    "#Musterlösung\n",
    "\n",
    "\"\"\"Sieve of Eratosthenes.\"\"\"\n",
    "primes = [True for _ in range(1000)]\n",
    "\n",
    "# starting at index 2, cycle through the list and set all elements\n",
    "# that are at the positions which are multiples of the current index \n",
    "# to False \n",
    "for i in range(2, int(len(primes) ** 0.5) + 1):\n",
    "    if primes[i]:\n",
    "        for j in range(i + i, len(primes), i):\n",
    "            primes[j] = False\n",
    "            \n",
    "# print all primes, 10 in a row\n",
    "primes_found = 0  \n",
    "\n",
    "for i in range(2, len(primes)):\n",
    "    if primes[i]:\n",
    "        print(f'{i:4d} ', end='')\n",
    "        primes_found += 1\n",
    "        \n",
    "        if primes_found % 10 == 0:\n",
    "            print()\n",
    "\n",
    "print(f'\\nFound {primes_found} primes')"
   ]
  },
  {
   "cell_type": "markdown",
   "metadata": {},
   "source": [
    "## Aufgabe 4\n",
    "Schreiben Sie eine Funktion `summarize_letters`, die eine Zeichenfolge empfängt und eine Liste von Tupeln zurückgibt, die die eindeutigen Buchstaben und ihre Häufigkeit in der Zeichenfolge enthält.<br>\n",
    "Testen Sie Ihre Funktion und zeigen Sie jeden Buchstaben mit seiner Häufigkeit an. Ihre Funktion sollte die Gross- und Kleinschreibung ignorieren (d.h. 'a' und 'A' sind gleich). Leerzeichen und Interpunktion sollen ebenfalls ignoriert werden.<br>\n",
    "Als Abschluss soll eine Aussage ausgegeben werden, die besagt, ob die Zeichenfolge alle Buchstaben des Alphabets enthält."
   ]
  },
  {
   "cell_type": "code",
   "execution_count": null,
   "metadata": {},
   "outputs": [],
   "source": [
    "#Musterlösung\n",
    "from string import ascii_lowercase\n",
    "\n",
    "def summarize_letters(string):\n",
    "    letters = []\n",
    "    counts = []\n",
    "    \n",
    "    for letter in string.lower():\n",
    "        if letter in ascii_lowercase:\n",
    "            if letter in letters:\n",
    "                index = letters.index(letter)\n",
    "                counts[index] += 1\n",
    "            else:\n",
    "                letters.append(letter)\n",
    "                counts.append(1)\n",
    "           \n",
    "    tuples = list(zip(letters, counts))\n",
    "    tuples.sort()\n",
    "    return tuples\n",
    "\n",
    "panagram = 'The Quick Brown Fox Jumps Over The Lazy Dog.'\n",
    "summary = summarize_letters(panagram)\n",
    "\n",
    "# display counts\n",
    "for char, count in summary:\n",
    "    print(f'{char}: {count}')\n",
    "\n",
    "    \n",
    "# check if all letters of the alphabet were found in the string\n",
    "if len(summary) == len(ascii_lowercase):\n",
    "    print(f'\"{panagram}\" contains all the letters in the alphabet')\n",
    "else:\n",
    "    print(f'\"{panagram}\" does not contain all the letters in the alphabet')"
   ]
  },
  {
   "cell_type": "code",
   "execution_count": null,
   "metadata": {},
   "outputs": [],
   "source": [
    "panagram = 'The Quick Brown Fox Jumps Over The Lazy Dog.'\n",
    "\n",
    "panagram.count('T')"
   ]
  },
  {
   "cell_type": "code",
   "execution_count": null,
   "metadata": {},
   "outputs": [],
   "source": [
    "#how could we improve this?\n",
    "import string\n",
    "\n",
    "liste = 'Programming for Data Science'\n",
    "alphabet = 'abcdefghijklmnopqrstuvwxyzklaswfoinjavwnonvnownvoinawiovnksghwoifan'\n",
    "\n",
    "def summarize_letters(liste):\n",
    "    unique_liste = []\n",
    "    tuple_liste = []\n",
    "    for i in liste:\n",
    "        if i.lower() not in unique_liste and i.lower() not in ' ,.;_-$':\n",
    "            unique_liste.append(i.lower())\n",
    "    for i in unique_liste:\n",
    "        tuple_liste.append((i, liste.lower().count(i)))\n",
    "    if ''.join(sorted(unique_liste)) == string.ascii_lowercase:\n",
    "        return True\n",
    "    else:\n",
    "        return False\n",
    "\n",
    "print(summarize_letters(liste))\n",
    "print(summarize_letters(alphabet))"
   ]
  },
  {
   "cell_type": "code",
   "execution_count": null,
   "metadata": {},
   "outputs": [],
   "source": [
    "import string\n",
    "\n",
    "liste = 'Programming for Data Science'\n",
    "alphabet = 'abcdefghijklmnopqrstuvwxyzklaswfoinjavwnonvnownvoinawiovnksghwoifan'\n",
    "\n",
    "def summarize_letters(liste):\n",
    "    liste = liste.lower()\n",
    "    unique_liste = set([i for i in liste if i in string.ascii_lowercase])\n",
    "    tuple_liste = []\n",
    "    \n",
    "    for i in unique_liste:\n",
    "        tuple_liste.append((i, liste.count(i)))\n",
    "    if ''.join(sorted(unique_liste)) == string.ascii_lowercase:\n",
    "        return True\n",
    "    else:\n",
    "        return False\n",
    "\n",
    "print(summarize_letters(liste))\n",
    "print(summarize_letters(alphabet))\n",
    "print(summarize_letters('The Quick Brown Fox Jumps Over The Lazy Dog.'))"
   ]
  },
  {
   "cell_type": "code",
   "execution_count": null,
   "metadata": {},
   "outputs": [],
   "source": [
    "def summarize_letters(letters):\n",
    "    letters = [char.lower() for char in letters if char.isalpha()]\n",
    "\n",
    "    letters_list = [(char, letters.count(char)) for char in set(letters)] # what happens if we remove set()?\n",
    "    \n",
    "    # fixed number usually bad, but here we know it's 26 and will never change\n",
    "    return len(letters_list) == 26, sorted(letters_list, key=lambda x: x[1], reverse=True)\n",
    "    \n",
    "\n",
    "print(summarize_letters('The Quick Brown Fox Jumps Over The Lazy Dog.'))\n",
    "print(summarize_letters('Programming for Data Science'))"
   ]
  },
  {
   "cell_type": "code",
   "execution_count": null,
   "metadata": {},
   "outputs": [],
   "source": [
    "import string\n",
    "\n",
    "def summarize_letters(letters):\n",
    "    letters = ''.join([char for char in letters if char.isalpha()]).lower()\n",
    "    \n",
    "    letters_dict = {char: letters.count(char) for char in set(letters)}\n",
    "    retval = ''.join(sorted(letters_dict.keys())) == string.ascii_lowercase\n",
    "\n",
    "    return retval, sorted(letters_dict.items(), key=lambda x: x[1], reverse=True)\n",
    "\n",
    "print(summarize_letters(string.ascii_lowercase))\n",
    "print(summarize_letters('The Quick Brown Fox Jumps Over The Lazy Dog.'))\n",
    "print(summarize_letters('Programming for Data Science'))\n"
   ]
  },
  {
   "cell_type": "code",
   "execution_count": null,
   "metadata": {},
   "outputs": [],
   "source": [
    "def summarize_letters(letters):\n",
    "    summary_letters = {}\n",
    "    letters = ''.join(s for s in letters if s.isalnum()).lower()\n",
    "\n",
    "    for l in letters:\n",
    "        if l in summary_letters:\n",
    "            summary_letters[l] +=1\n",
    "        else:\n",
    "            summary_letters[l] = 1\n",
    "\n",
    "    # what happens here - how to improve?\n",
    "    tmp = sorted(''.join([i[0] for i in summary_letters.items()]))\n",
    "    print(tmp)\n",
    "    tuple_letters = ''.join([i[0] for i in tmp])\n",
    "\n",
    "    if 'abcdefghijklmnopqrstuvwxyz' in tuple_letters:\n",
    "        print('Die Zeichenfolge enthält alle Buchstaben des Alphabets.')\n",
    "    else:\n",
    "        print('Enthält nicht alle Buchstaben des Alphabets.')\n",
    "        \n",
    "    return [(l, n) for l, n in summary_letters.items()]\n",
    "\n",
    "\n",
    "print(summarize_letters('cdefghijklmnopqrstuvwxyzab'))\n",
    "#print(summarize_letters('Aber, ich kann das alles nicht mehr?!.'))"
   ]
  },
  {
   "cell_type": "code",
   "execution_count": null,
   "metadata": {},
   "outputs": [],
   "source": [
    "def summarize_letters(letters):\n",
    "    summary_letters = {}\n",
    "    letters = ''.join(s for s in letters if s.isalnum()).lower()\n",
    "\n",
    "    for l in letters:\n",
    "        if l in summary_letters:\n",
    "            summary_letters[l] +=1\n",
    "        else:\n",
    "            summary_letters[l] = 1\n",
    "\n",
    "    tuple_letters = ''.join(sorted(summary_letters.keys()))\n",
    "\n",
    "\n",
    "    if 'abcdefghijklmnopqrstuvwxyz' in tuple_letters:\n",
    "        print('Die Zeichenfolge enthält alle Buchstaben des Alphabets.')\n",
    "    else:\n",
    "        print('Enthält nicht alle Buchstaben des Alphabets.')\n",
    "        \n",
    "    return [(l, n) for l, n in summary_letters.items()]\n",
    "\n",
    "\n",
    "print(summarize_letters('cdefghijklmnopqrstuvwxyzab'))\n",
    "print(summarize_letters('Aber, ich kann das alles nicht mehr?!.'))"
   ]
  },
  {
   "cell_type": "markdown",
   "metadata": {},
   "source": [
    "## Aufgabe 5\n",
    "Erstellen Sie eine beliebige Liste von Tupeln mit Vor- und Nachnamen. Stellen Sie dabei sicher, dass mehrere Tupel in Ihrer Liste den Nachnamen 'Jones' enthalten.<br>\n",
    "Verwenden Sie die Funktion `filter`, um die Tupel zu finden, die den Nachnamen Jones enthalten. "
   ]
  },
  {
   "cell_type": "code",
   "execution_count": null,
   "metadata": {},
   "outputs": [],
   "source": [
    "#Musterlösung\n",
    "names = [('Sue', 'Green'), ('Bob', 'Jones'), ('Amanda', 'Jones'), ('Marissa', 'Baxter')]\n",
    "\n",
    "list(filter(lambda name_tuple: name_tuple[1] == 'Jones', names))"
   ]
  },
  {
   "cell_type": "markdown",
   "metadata": {},
   "source": [
    "## Aufgabe 6\n",
    "Analysiseren Sie den folgenden Code:\n",
    "\n",
    "```\n",
    "numbers = [10, 3, 7, 1, 9, 4, 2, 8, 5, 6]\n",
    "\n",
    "list(map(lambda x: x ** 2,\n",
    "    filter(lambda x: x % 2 != 0, numbers)))\n",
    "```\n",
    "1. Wie oft ruft die Filteroperation ihr Lambda-Argument auf?\n",
    "\n",
    "2. Wie oft ruft die Map-Operation ihr Lambda-Argument auf?\n",
    "\n",
    "3. Wenn Sie die Filter- und Map-Operationen umkehren, wie oft ruft dann die Map-Operation ihr Lambda-Argument auf?\n",
    "\n",
    "\n",
    "Um die Beantwortung der Fragen von oben zu überprüfen, können Sie Funktionen implementieren, welche die gleichen Aufgaben wie die Lambdas erfüllen. Fügen Sie in diesen Funktionen eine `print` Anweisung ein, damit Sie jeden Aufruf der Funktion sehen können.\n",
    "Ersetzen Sie schliesslich die Lambdas im vorhergehenden Code durch die Namen Ihrer Funktionen."
   ]
  },
  {
   "cell_type": "code",
   "execution_count": null,
   "metadata": {},
   "outputs": [],
   "source": [
    "#Musterlösung\n",
    "#1. 10x\n",
    "#2. 5x\n",
    "#3. 10x, 10x"
   ]
  },
  {
   "cell_type": "code",
   "execution_count": null,
   "metadata": {},
   "outputs": [],
   "source": [
    "numbers = [10, 3, 7, 1, 9, 4, 2, 8, 5, 6]\n",
    "list(map(lambda x: x ** 2, filter(lambda x: x % 2 != 0, numbers)))"
   ]
  },
  {
   "cell_type": "code",
   "execution_count": null,
   "metadata": {},
   "outputs": [],
   "source": [
    "counter_odd = 0\n",
    "counter_square = 0\n",
    "def is_odd(x):\n",
    "    global counter_odd\n",
    "    counter_odd += 1\n",
    "    print(f'is_odd({x})')\n",
    "    return x % 2 != 0\n",
    "\n",
    "def square(x):\n",
    "    global counter_square\n",
    "    counter_square += 1\n",
    "    print(f'square({x})')\n",
    "    return x ** 2\n",
    "\n",
    "numbers = [10, 3, 7, 1, 9, 4, 2, 8, 5, 6]"
   ]
  },
  {
   "cell_type": "code",
   "execution_count": null,
   "metadata": {},
   "outputs": [],
   "source": [
    "print(list(filter(is_odd, numbers)))"
   ]
  },
  {
   "cell_type": "code",
   "execution_count": null,
   "metadata": {},
   "outputs": [],
   "source": [
    "counter_odd = counter_square = 0\n",
    "\n",
    "list(map(square, filter(is_odd, numbers)))\n",
    "\n",
    "print(f'is_odd() called {counter_odd} times')\n",
    "print(f'square() called {counter_square} times')"
   ]
  },
  {
   "cell_type": "code",
   "execution_count": null,
   "metadata": {},
   "outputs": [],
   "source": [
    "counter_odd = counter_square = 0\n",
    "\n",
    "list(filter(is_odd, map(square, numbers)))\n",
    "\n",
    "print(f'is_odd() called {counter_odd} times')\n",
    "print(f'square() called {counter_square} times')"
   ]
  },
  {
   "cell_type": "code",
   "execution_count": null,
   "metadata": {},
   "outputs": [],
   "source": []
  }
 ],
 "metadata": {
  "kernelspec": {
   "display_name": "Python 3 (ipykernel)",
   "language": "python",
   "name": "python3"
  },
  "language_info": {
   "codemirror_mode": {
    "name": "ipython",
    "version": 3
   },
   "file_extension": ".py",
   "mimetype": "text/x-python",
   "name": "python",
   "nbconvert_exporter": "python",
   "pygments_lexer": "ipython3",
   "version": "3.9.13"
  }
 },
 "nbformat": 4,
 "nbformat_minor": 4
}
