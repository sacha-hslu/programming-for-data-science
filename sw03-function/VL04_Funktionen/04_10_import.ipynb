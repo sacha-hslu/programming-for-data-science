{
 "cells": [
  {
   "cell_type": "markdown",
   "metadata": {
    "pycharm": {
     "name": "#%% md\n"
    }
   },
   "source": [
    "# 4.10 Import: Ein tieferer Blick\n",
    "In _Python_ werden häufig verwandte Funktionen, Daten und Klassen in **Modulen** zusammengefasst. Durch importieren (`import`) werden diese alle im Programm verfügbar."
   ]
  },
  {
   "cell_type": "markdown",
   "metadata": {
    "pycharm": {
     "name": "#%% md\n"
    }
   },
   "source": [
    "## Import eines Moduls\n",
    "Ein beliebiges Modul mit dem Namen `modul_name` kann wie folgt importiert werden.\n",
    "\n",
    "`import module_name`\n",
    "\n",
    "Danach kann auf alle Funktionen des Moduls zugegriffen werden, in dem `module_name`, gefolgt von einem Punkt (`.`) und dann der Funktionsname geschrieben wird.\n",
    "\n",
    "Zum Beispiel mit Hilde der [`math`-Bibliothek](https://docs.python.org/3/library/math.html):"
   ]
  },
  {
   "cell_type": "code",
   "execution_count": 1,
   "metadata": {
    "jupyter": {
     "outputs_hidden": false
    },
    "pycharm": {
     "is_executing": true,
     "name": "#%%\n"
    }
   },
   "outputs": [],
   "source": [
    "import math"
   ]
  },
  {
   "cell_type": "code",
   "execution_count": 2,
   "metadata": {},
   "outputs": [
    {
     "data": {
      "text/plain": [
       "0.49999999999999994"
      ]
     },
     "execution_count": 2,
     "metadata": {},
     "output_type": "execute_result"
    }
   ],
   "source": [
    "math.sin(math.radians(30))"
   ]
  },
  {
   "cell_type": "code",
   "execution_count": 3,
   "metadata": {},
   "outputs": [
    {
     "data": {
      "text/plain": [
       "0.8660254037844387"
      ]
     },
     "execution_count": 3,
     "metadata": {},
     "output_type": "execute_result"
    }
   ],
   "source": [
    "math.cos(math.radians(30))"
   ]
  },
  {
   "cell_type": "markdown",
   "metadata": {},
   "source": [
    "## Import eines Moduls mit Alias"
   ]
  },
  {
   "cell_type": "code",
   "execution_count": 4,
   "metadata": {},
   "outputs": [],
   "source": [
    "import numpy as np"
   ]
  },
  {
   "cell_type": "code",
   "execution_count": 5,
   "metadata": {},
   "outputs": [],
   "source": [
    "m = np.asarray([1,2,3])"
   ]
  },
  {
   "cell_type": "markdown",
   "metadata": {
    "pycharm": {
     "name": "#%% md\n"
    }
   },
   "source": [
    "## Einen Bezeichner von einem Modul importieren\n",
    "Soll nicht das gesamte Modul, sondern nur ein bestimmter Bezeichner importiert werden, wird dies wie folgt spezifiziert:\n",
    "\n",
    "`from module_name import identifier`\n",
    "\n",
    "Danach kann der Bezeichner direkt im Code verwendet werden. Hier ist kein Voranstellen des Modulnamens notewendig.\n",
    "\n",
    "Zum Beispiel verwenden wir wieder die [`ceil()`-Funktion](https://docs.python.org/3/library/math.html#math.ceil), importieren aber sonst nichts aus dem Modul [`math`](https://docs.python.org/3/library/math.html):"
   ]
  },
  {
   "cell_type": "code",
   "execution_count": 6,
   "metadata": {
    "jupyter": {
     "outputs_hidden": false
    },
    "pycharm": {
     "is_executing": true,
     "name": "#%%\n"
    }
   },
   "outputs": [],
   "source": [
    "from math import ceil"
   ]
  },
  {
   "cell_type": "code",
   "execution_count": 7,
   "metadata": {},
   "outputs": [
    {
     "data": {
      "text/plain": [
       "11"
      ]
     },
     "execution_count": 7,
     "metadata": {},
     "output_type": "execute_result"
    }
   ],
   "source": [
    "ceil(10.3)"
   ]
  },
  {
   "cell_type": "code",
   "execution_count": 11,
   "metadata": {},
   "outputs": [],
   "source": [
    "from math import sin, cos, radians"
   ]
  },
  {
   "cell_type": "code",
   "execution_count": 12,
   "metadata": {},
   "outputs": [
    {
     "data": {
      "text/plain": [
       "0.8660254037844387"
      ]
     },
     "execution_count": 12,
     "metadata": {},
     "output_type": "execute_result"
    }
   ],
   "source": [
    "#math.sin(math.radians(30))\n",
    "cos(radians(30))"
   ]
  },
  {
   "cell_type": "markdown",
   "metadata": {
    "pycharm": {
     "name": "#%% md\n"
    }
   },
   "source": [
    "## Mehrere Bezeichner von einem Modul importieren\n",
    "Mit der `from...import`-Anweisung können Sie mehrere durch Komma getrennte Bezeichner aus einem Modul importieren und diese dann in Ihrem Code direkt verwenden, ohne ihnen den Modulnamen und einen Punkt (`.`) voranstellen zu müssen. Hier beispielsweise die [`ceil()`](https://docs.python.org/3/library/math.html#math.ceil) und die [`floor()`-Funktion](https://docs.python.org/3/library/math.html#math.floor)."
   ]
  },
  {
   "cell_type": "code",
   "execution_count": 19,
   "metadata": {
    "jupyter": {
     "outputs_hidden": false
    },
    "pycharm": {
     "name": "#%%\n"
    }
   },
   "outputs": [
    {
     "name": "stdout",
     "output_type": "stream",
     "text": [
      "email\n",
      "2.718281828459045\n"
     ]
    },
    {
     "data": {
      "text/plain": [
       "float"
      ]
     },
     "execution_count": 19,
     "metadata": {},
     "output_type": "execute_result"
    }
   ],
   "source": [
    "e = 'email'\n",
    "print(e)\n",
    "\n",
    "from math import *\n",
    "print(e)\n",
    "type(e)"
   ]
  },
  {
   "cell_type": "markdown",
   "metadata": {
    "pycharm": {
     "name": "#%% md\n"
    }
   },
   "source": [
    "Der Versuch, eine Funktion zu verwenden, die nicht importiert wurde, verursacht einen [`NameError`](https://docs.python.org/3/library/exceptions.html#NameError), der anzeigt, dass der Name nicht definiert ist."
   ]
  },
  {
   "cell_type": "markdown",
   "metadata": {
    "pycharm": {
     "name": "#%% md\n"
    }
   },
   "source": [
    "## Vorsicht: Vermeiden Sie Wildcard-Importe\n",
    "Sie können _alle_ in einem Modul definierten Bezeichner mit einem Wildcard-Import der folgenden Form importieren:\n",
    "\n",
    "`from modulename import *`\n",
    "\n",
    "Dies kann zu schwer zu findenden Fehlern führen, wenn die Variablen im Programm per Zufall den gleich Namen haben, wie die direkt importierten Funktionsnamen (_Shadowing_).\n",
    "\n",
    "Hier Beispiel bei dem die globale Variable `e` durch die gleichlautende mathematische Konstante `e` (https://de.wikipedia.org/wiki/Eulersche_Zahl) überdeckt wird:"
   ]
  },
  {
   "cell_type": "code",
   "execution_count": null,
   "metadata": {
    "jupyter": {
     "outputs_hidden": false
    },
    "pycharm": {
     "name": "#%%\n"
    }
   },
   "outputs": [],
   "source": []
  },
  {
   "cell_type": "markdown",
   "metadata": {
    "pycharm": {
     "name": "#%% md\n"
    }
   },
   "source": [
    "## Alias für Module oder Bezeichner\n",
    "Manchmal ist es hilfreich einen Alias für Module oder Bezeichner zu verwenden. Es gibt häufig verwendete Module für die sich quasi Konventionen für den Alias ergeben haben, bspw. `numpy` `np`."
   ]
  },
  {
   "cell_type": "code",
   "execution_count": 20,
   "metadata": {
    "jupyter": {
     "outputs_hidden": false
    },
    "pycharm": {
     "name": "#%%\n"
    }
   },
   "outputs": [],
   "source": [
    "import statistics as stats\n",
    "\n",
    "grades = [85, 93, 45, 87, 93]"
   ]
  },
  {
   "cell_type": "code",
   "execution_count": 21,
   "metadata": {
    "jupyter": {
     "outputs_hidden": false
    },
    "pycharm": {
     "name": "#%%\n"
    }
   },
   "outputs": [
    {
     "data": {
      "text/plain": [
       "80.6"
      ]
     },
     "execution_count": 21,
     "metadata": {},
     "output_type": "execute_result"
    }
   ],
   "source": [
    "stats.mean(grades)"
   ]
  }
 ],
 "metadata": {
  "kernelspec": {
   "display_name": "Python 3",
   "language": "python",
   "name": "python3"
  },
  "language_info": {
   "codemirror_mode": {
    "name": "ipython",
    "version": 3
   },
   "file_extension": ".py",
   "mimetype": "text/x-python",
   "name": "python",
   "nbconvert_exporter": "python",
   "pygments_lexer": "ipython3",
   "version": "3.8.8"
  }
 },
 "nbformat": 4,
 "nbformat_minor": 4
}
