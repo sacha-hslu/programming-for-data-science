{
 "cells": [
  {
   "cell_type": "markdown",
   "metadata": {
    "pycharm": {
     "name": "#%% md\n"
    }
   },
   "source": [
    "# 4.8 Fallstudie \"Craps\"\n",
    "\n",
    "\"Craps\" ist ein populäres Glücksspiel. Wir wollen es mit einem Programm simulieren."
   ]
  },
  {
   "cell_type": "markdown",
   "metadata": {
    "pycharm": {
     "name": "#%% md\n"
    }
   },
   "source": [
    "## Exkurs: Zufallszahlen\n",
    "\n",
    "Das integrierte Modul [`random`](https://docs.python.org/3/library/random.html) bietet Funktionalität, um mit Zufallszahlen umzugehen.\n",
    "* Um es zu nutzen, muss es importiert werden.\n",
    "* Die Funktion[`randrange`](https://docs.python.org/3/library/random.html#random.randrange) generiert eine ganzzahligr (`int`) Zufallszahl im Bereich des ersten Argumentwerts bis zum zweiten Argumentwert (nicht eingeschossen).\n",
    "\n",
    "&nbsp;\n",
    "### Simulation eines Würfels:"
   ]
  },
  {
   "cell_type": "code",
   "execution_count": null,
   "metadata": {
    "jupyter": {
     "outputs_hidden": false
    },
    "pycharm": {
     "is_executing": true,
     "name": "#%%\n"
    }
   },
   "outputs": [],
   "source": []
  },
  {
   "cell_type": "markdown",
   "metadata": {
    "pycharm": {
     "name": "#%% md\n"
    }
   },
   "source": [
    "&nbsp;\n",
    "### Reproduzierbare \"Zufallszahlen\", mittels `seed` Funktion\n",
    "Die Funktion [`randrange`](https://docs.python.org/3/library/random.html#random.randrange) erzeugt in Wirklichkeit Pseudozufallszahlen, die auf einer internen Berechnung basieren. Diese beginnt mit einem numerischen Wert, der als [**Seed** (Keim)](https://docs.python.org/3/library/random.html#random.seed) bezeichnet wird.\n",
    "\n",
    "Der wiederholte Aufruf von [`randrange`](https://docs.python.org/3/library/random.html#random.randrange) erzeugt eine Folge von Zahlen, die zufällig zu sein scheinen. Jedes Mal, wenn Sie Zufallszahlen generieren, verwendet Python intern einen anderen Startwert (Seed).\n",
    "\n",
    "Beim Debuggen von Logikfehlern in Programmen, die zufällig generierte Daten verwenden, kann es hilfreich sein, die gleiche Folge von Zufallszahlen zu verwenden, bis Sie die Logikfehler beseitigt haben. Dazu können Sie die [**`seed`-Funktion**](https://docs.python.org/3/library/random.html#random.seed) des Random-Moduls verwenden, um den Zufallszahlengenerator selbst mit einem Seed-Wert zu versehen. Dadurch wird [`randrange`](https://docs.python.org/3/library/random.html#random.randrange) gezwungen, seine Pseudozufallszahlenfolge aus dem von Ihnen angegebenen _Seed_-Wert zu berechnen und liefert immer dieselbe Sequenz von Zahlen."
   ]
  },
  {
   "cell_type": "code",
   "execution_count": null,
   "metadata": {
    "jupyter": {
     "outputs_hidden": false
    },
    "pycharm": {
     "is_executing": true,
     "name": "#%%\n"
    }
   },
   "outputs": [],
   "source": []
  },
  {
   "cell_type": "code",
   "execution_count": null,
   "metadata": {
    "jupyter": {
     "outputs_hidden": false
    },
    "pycharm": {
     "is_executing": true,
     "name": "#%%\n"
    }
   },
   "outputs": [],
   "source": []
  },
  {
   "cell_type": "markdown",
   "metadata": {
    "pycharm": {
     "name": "#%% md\n"
    }
   },
   "source": [
    "&nbsp;\n",
    "## Das Glückspiel \"Craps\"\n",
    "Spielregeln:\n",
    "\n",
    "Zwei Würfel werden gleichzeitig geworfen. Wenn die Würfel zur Ruhe kommen, wird die Summe der Augenzahlen auf den beiden nach oben gerichteten Seiten berechnet.\n",
    "\n",
    "* **Sie gewinnen**, wenn die Summe beim ersten Wurf **7 oder 11** beträgt;\n",
    "* **Sie verlieren**, wenn die Summe beim ersten Wurf **2, 3, oder 12** beträgt (aka 'Craps')\n",
    "* **In den anderen Fällen** wird die **Punktzahl** aufgeschrieben und es muss solange weiter gewürfelt werden, bis feststeht, ob Sie das Spiel gewinnen oder verlieren:\n",
    "    * **Sie gewinnen**, wenn Sie die **gleiche Punktzahl nochmals werfen**;\n",
    "    * **Sie verlieren**, wenn Sie eine **7** werfen, bevor Sie Ihre Punktzahl erreichen."
   ]
  },
  {
   "cell_type": "code",
   "execution_count": null,
   "metadata": {
    "jupyter": {
     "outputs_hidden": false
    },
    "pycharm": {
     "is_executing": true,
     "name": "#%%\n"
    }
   },
   "outputs": [],
   "source": []
  }
 ],
 "metadata": {
  "kernelspec": {
   "display_name": "Python 3",
   "language": "python",
   "name": "python3"
  },
  "language_info": {
   "codemirror_mode": {
    "name": "ipython",
    "version": 3
   },
   "file_extension": ".py",
   "mimetype": "text/x-python",
   "name": "python",
   "nbconvert_exporter": "python",
   "pygments_lexer": "ipython3",
   "version": "3.8.8"
  }
 },
 "nbformat": 4,
 "nbformat_minor": 4
}
