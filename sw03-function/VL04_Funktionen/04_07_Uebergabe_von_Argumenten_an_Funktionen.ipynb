{
 "cells": [
  {
   "cell_type": "markdown",
   "metadata": {
    "pycharm": {
     "name": "#%% md\n"
    }
   },
   "source": [
    "# 4.7 Übergabe von Argumenten an Funktionen\n",
    "* _Python_-Argumente werden immer als Zuweisung übergeben (\"_pass-by-assignment_\")\n",
    "* Bei einem Funktionsaufruf wird das Argumentobjekt dem entsprechenden Parameter zugewiesen."
   ]
  },
  {
   "cell_type": "markdown",
   "metadata": {
    "pycharm": {
     "name": "#%% md\n"
    }
   },
   "source": [
    "## 4.7.1 Speicheradressen und Referenzen\n",
    "&nbsp;\n",
    "<img src=\"img/reference.png\" width='250'>"
   ]
  },
  {
   "cell_type": "markdown",
   "metadata": {
    "pycharm": {
     "name": "#%% md\n"
    }
   },
   "source": [
    "## 4.7.2. Die _id()_ Funktion\n",
    "Gibt eine eindeutige Ganzzahl zurück, die das referenzierte Objekts im Speicher identifiziert.\n"
   ]
  },
  {
   "cell_type": "code",
   "execution_count": 1,
   "metadata": {},
   "outputs": [],
   "source": [
    "id?"
   ]
  },
  {
   "cell_type": "code",
   "execution_count": 5,
   "metadata": {
    "jupyter": {
     "outputs_hidden": false
    },
    "pycharm": {
     "is_executing": true,
     "name": "#%%\n"
    }
   },
   "outputs": [
    {
     "data": {
      "text/plain": [
       "4357405216"
      ]
     },
     "execution_count": 5,
     "metadata": {},
     "output_type": "execute_result"
    }
   ],
   "source": [
    "x = 7\n",
    "id(x)"
   ]
  },
  {
   "cell_type": "markdown",
   "metadata": {
    "pycharm": {
     "name": "#%% md\n"
    }
   },
   "source": [
    "&nbsp;\n",
    "\n",
    "## 4.7.3. Übergabe eines Objekts an eine Funktion"
   ]
  },
  {
   "cell_type": "code",
   "execution_count": 4,
   "metadata": {
    "jupyter": {
     "outputs_hidden": false
    },
    "pycharm": {
     "name": "#%%\n"
    }
   },
   "outputs": [],
   "source": [
    "def cube(number):\n",
    "    print('id(number):', id(number), number)\n",
    "    return number ** 3"
   ]
  },
  {
   "cell_type": "code",
   "execution_count": 6,
   "metadata": {
    "jupyter": {
     "outputs_hidden": false
    },
    "pycharm": {
     "is_executing": true,
     "name": "#%%\n"
    }
   },
   "outputs": [
    {
     "name": "stdout",
     "output_type": "stream",
     "text": [
      "id(number): 4357405216 7\n"
     ]
    },
    {
     "data": {
      "text/plain": [
       "343"
      ]
     },
     "execution_count": 6,
     "metadata": {},
     "output_type": "execute_result"
    }
   ],
   "source": [
    "cube(x)"
   ]
  },
  {
   "cell_type": "markdown",
   "metadata": {
    "pycharm": {
     "name": "#%% md\n"
    }
   },
   "source": [
    "Die Identität, die für den Parameter `number` angezeigt wird, ist dieselbe, wie zuvor für x. Das heisst, dass das Argument `x` und der Parameter `number` sich auf dasselbe Objekt beziehen, während `cube` ausgeführt wird.\n",
    "In anderen Worten: `x` und `number` referenzieren dasselbe Objekt."
   ]
  },
  {
   "cell_type": "markdown",
   "metadata": {
    "pycharm": {
     "name": "#%% md\n"
    }
   },
   "source": [
    "&nbsp;\n",
    "\n",
    "## 4.7.4. Testen von Objekt-Identitäten mit dem _is_ Operator\n",
    "Der `is` Operator gibt genau dann `True` zurück, wenn beide Operanden für das selbe Objekt stehen (die gleiche Identität haben)."
   ]
  },
  {
   "cell_type": "code",
   "execution_count": 7,
   "metadata": {
    "jupyter": {
     "outputs_hidden": false
    },
    "pycharm": {
     "is_executing": true,
     "name": "#%%\n"
    }
   },
   "outputs": [
    {
     "data": {
      "text/plain": [
       "4357405216"
      ]
     },
     "execution_count": 7,
     "metadata": {},
     "output_type": "execute_result"
    }
   ],
   "source": [
    "x = 7\n",
    "id(x)"
   ]
  },
  {
   "cell_type": "code",
   "execution_count": 8,
   "metadata": {
    "jupyter": {
     "outputs_hidden": false
    },
    "pycharm": {
     "is_executing": true,
     "name": "#%%\n"
    }
   },
   "outputs": [],
   "source": [
    "def cube(number):\n",
    "    print('id(number):', id(number), number, number is x)\n",
    "    return number ** 3"
   ]
  },
  {
   "cell_type": "code",
   "execution_count": 9,
   "metadata": {},
   "outputs": [
    {
     "name": "stdout",
     "output_type": "stream",
     "text": [
      "id(number): 4357405216 7 True\n"
     ]
    },
    {
     "data": {
      "text/plain": [
       "343"
      ]
     },
     "execution_count": 9,
     "metadata": {},
     "output_type": "execute_result"
    }
   ],
   "source": [
    "cube(x)"
   ]
  },
  {
   "cell_type": "markdown",
   "metadata": {
    "pycharm": {
     "name": "#%% md\n"
    }
   },
   "source": [
    "&nbsp;\n",
    "\n",
    "## 4.7.5. Unveränderliche Objekte als Argumente\n",
    "* Objekte vom Typ `str`, `int`, `float`, u.a. sind unveränderlich (_not mutable_).\n",
    "* Wird beim Aufruf einer Funktion ein unveränderlichen Objekt übergeben, dann wird eine Kopie erzeugt."
   ]
  },
  {
   "cell_type": "code",
   "execution_count": null,
   "metadata": {
    "jupyter": {
     "outputs_hidden": false
    },
    "pycharm": {
     "is_executing": true,
     "name": "#%%\n"
    }
   },
   "outputs": [],
   "source": [
    "def cube(number):\n",
    "    print('id(number):', id(number), number, number is x)\n",
    "    number **= 3\n",
    "    print('id(number):', id(number), number, number is x)\n",
    "    return number"
   ]
  },
  {
   "cell_type": "code",
   "execution_count": 13,
   "metadata": {
    "jupyter": {
     "outputs_hidden": false
    },
    "pycharm": {
     "name": "#%%\n"
    }
   },
   "outputs": [
    {
     "name": "stdout",
     "output_type": "stream",
     "text": [
      "id(number): 4357405216 7 True\n",
      "id(number): 140363170265904 343 False\n"
     ]
    },
    {
     "data": {
      "text/plain": [
       "343"
      ]
     },
     "execution_count": 13,
     "metadata": {},
     "output_type": "execute_result"
    }
   ],
   "source": [
    "cube(x)"
   ]
  },
  {
   "cell_type": "code",
   "execution_count": 14,
   "metadata": {
    "jupyter": {
     "outputs_hidden": false
    },
    "pycharm": {
     "is_executing": true,
     "name": "#%%\n"
    }
   },
   "outputs": [
    {
     "data": {
      "text/plain": [
       "4357405216"
      ]
     },
     "execution_count": 14,
     "metadata": {},
     "output_type": "execute_result"
    }
   ],
   "source": [
    "id(x)"
   ]
  },
  {
   "cell_type": "markdown",
   "metadata": {
    "pycharm": {
     "name": "#%% md\n"
    }
   },
   "source": [
    "&nbsp;\n",
    "\n",
    "## 4.7.6. Veränderliche Objekte als Argumente\n",
    "* Listen sind veränderliche (*mutable*) Objekte\n",
    "* Wird beim Aufruf einer Funktion ein veränderliches Objekt übergeben, finden Veränderungen im Urpsrungsobjekt, also dem beim Aufruf verwendeten Objekt statt."
   ]
  },
  {
   "cell_type": "code",
   "execution_count": 17,
   "metadata": {
    "jupyter": {
     "outputs_hidden": false
    },
    "pycharm": {
     "is_executing": true,
     "name": "#%%\n"
    }
   },
   "outputs": [
    {
     "name": "stdout",
     "output_type": "stream",
     "text": [
      "my_list before function call: [1, 2, 3]\n",
      "my_list is param_list: True\n",
      "my_list is param_list: True\n",
      "param_list: [1, 2, 3, 4]\n",
      "my_list after function call: [1, 2, 3, 4]\n"
     ]
    }
   ],
   "source": [
    "my_list = [1, 2, 3]\n",
    "print(f'my_list before function call: {my_list}')\n",
    "\n",
    "def list_mutation_demo(param_list):\n",
    "    print(f'my_list is param_list: {my_list is param_list}')\n",
    "    param_list.append(4)\n",
    "    print(f'my_list is param_list: {my_list is param_list}')\n",
    "    print(f'param_list: {param_list}')\n",
    "    \n",
    "list_mutation_demo(my_list)\n",
    "print(f'my_list after function call: {my_list}')"
   ]
  },
  {
   "cell_type": "markdown",
   "metadata": {},
   "source": [
    "# Rekursion"
   ]
  },
  {
   "cell_type": "code",
   "execution_count": 20,
   "metadata": {},
   "outputs": [],
   "source": [
    "def f_rek(number):\n",
    "    \"\"\"Beispiel einer rekursiven Funktion ( also einer, die sich selbst aufruft)\"\"\"\n",
    "    print( number )\n",
    "    if number > 0:\n",
    "        # Abbruchbedingung, damit keine endlose Rekursion entsteht\n",
    "        f_rek(number - 1)"
   ]
  },
  {
   "cell_type": "code",
   "execution_count": 21,
   "metadata": {},
   "outputs": [
    {
     "name": "stdout",
     "output_type": "stream",
     "text": [
      "10\n",
      "9\n",
      "8\n",
      "7\n",
      "6\n",
      "5\n",
      "4\n",
      "3\n",
      "2\n",
      "1\n",
      "0\n"
     ]
    }
   ],
   "source": [
    "f_rek(10)"
   ]
  },
  {
   "cell_type": "markdown",
   "metadata": {},
   "source": [
    "### Beispiel: Bestimme Max-Wert mit einer rekursiven Funktion aus einer Liste von Werten \n",
    "\n",
    "Siehe auch [Wiki Rekursion](https://de.wikipedia.org/wiki/Rekursion#Rekursion_in_der_Programmierung)."
   ]
  },
  {
   "cell_type": "code",
   "execution_count": 34,
   "metadata": {},
   "outputs": [],
   "source": [
    "def max_rek(max_val, *arg):\n",
    "    \"\"\"Bestimme Max-Wert mit einer rekursiven Funktion aus einer Liste von Werten\"\"\"\n",
    "    # Abbruchbedingung: nur noch ein Wert ist da (max_val), *arg ist leer.\n",
    "    if len(arg) == 0:\n",
    "        # Wenn nur ein Wert, dann ist das das Maximum\n",
    "        return max_val \n",
    "    \n",
    "    # Vergleiche aktuelle max Wert mit erstem Wert in der Liste\n",
    "    if arg[0] > max_val:\n",
    "        # übernehme neues Maximum\n",
    "        max_val = arg[0]\n",
    "    \n",
    "    # Basteln einer neuen Liste\n",
    "    tmp = [ max_val ]\n",
    "    tmp.extend( arg[1:] )\n",
    "    \n",
    "    # Rekursion\n",
    "    max_val = max_rek(*tmp)\n",
    "    \n",
    "    return max_val"
   ]
  },
  {
   "cell_type": "code",
   "execution_count": 37,
   "metadata": {},
   "outputs": [
    {
     "name": "stdout",
     "output_type": "stream",
     "text": [
      "20\n",
      "30\n",
      "40\n",
      "50\n",
      "Max. val der Liste ist 50\n"
     ]
    }
   ],
   "source": [
    "grade = [10, 20, 30, 40, 50]\n",
    "print(f'Max. val der Liste ist {max_rek(*grade)}')"
   ]
  },
  {
   "cell_type": "code",
   "execution_count": null,
   "metadata": {},
   "outputs": [],
   "source": []
  }
 ],
 "metadata": {
  "kernelspec": {
   "display_name": "Python 3",
   "language": "python",
   "name": "python3"
  },
  "language_info": {
   "codemirror_mode": {
    "name": "ipython",
    "version": 3
   },
   "file_extension": ".py",
   "mimetype": "text/x-python",
   "name": "python",
   "nbconvert_exporter": "python",
   "pygments_lexer": "ipython3",
   "version": "3.8.8"
  }
 },
 "nbformat": 4,
 "nbformat_minor": 4
}
