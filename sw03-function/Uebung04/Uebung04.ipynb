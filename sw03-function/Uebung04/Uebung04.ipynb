{
 "cells": [
  {
   "cell_type": "markdown",
   "metadata": {},
   "source": [
    "# Übung 4"
   ]
  },
  {
   "cell_type": "markdown",
   "metadata": {},
   "source": [
    "## Aufgabe 1\n",
    "Was stimmt mit der Definition der folgenden Würfelfunktion nicht?\n",
    "\n",
    "```\n",
    "def cube(x):\n",
    "    \"\"\"Calculate the cube of x.\"\"\"\n",
    "    x ** 3\n",
    "```"
   ]
  },
  {
   "cell_type": "markdown",
   "metadata": {},
   "source": [
    "return statement fehlt, methoden beschreibung könnte mehrzeilig gemacht werden"
   ]
  },
  {
   "cell_type": "markdown",
   "metadata": {},
   "source": [
    "## Aufgabe 2\n",
    "Was bewirkt die folgende Rätselfunktion? Angenommen, Sie übergeben die Liste [1, 2, 3, 4, 5] als Argument.\n",
    "\n",
    "```\n",
    "def mystery(x):\n",
    "    y = 0\n",
    "    for value in x:\n",
    "        y += value ** 2\n",
    "    return y\n",
    "```"
   ]
  },
  {
   "cell_type": "markdown",
   "source": [],
   "metadata": {
    "collapsed": false
   }
  },
  {
   "cell_type": "markdown",
   "metadata": {},
   "source": [
    "diese würde 55 zurück geben\n",
    "es gibt die summe aller 2er potenzen von den mitgegebenen zahlen zurück"
   ]
  },
  {
   "cell_type": "markdown",
   "metadata": {},
   "source": [
    "## Aufgabe 3\n",
    "Ersetzen Sie die `***` in der Funktion `seconds_since_midnight`, so dass sie die Anzahl der Sekunden seit Mitternacht zurückgibt. Die Funktion sollte drei ganze Zahlen erhalten, die die aktuelle Tageszeit repräsentieren. Nehmen Sie an, dass die Stunde ein Wert von 0 (Mitternacht) bis 23 (23 Uhr) ist und dass die Minute und die Sekunde Werte von 0 bis 59 sind. Testen Sie Ihre Funktion mit tatsächlichen Zeiten. Wenn Sie die Funktion z. B. für 13:30:45 Uhr aufrufen, indem Sie 13, 30 und 45 übergeben, sollte die Funktion 48645 zurückgeben.\n",
    "\n",
    "```\n",
    "def seconds_since_midnight(***):\n",
    "    hour_in_seconds = ***\n",
    "    minute_in_seconds = ***\n",
    "    return ***\n",
    "```"
   ]
  },
  {
   "cell_type": "code",
   "execution_count": 32,
   "metadata": {
    "ExecuteTime": {
     "end_time": "2023-10-03T17:16:12.601789Z",
     "start_time": "2023-10-03T17:16:12.578944Z"
    }
   },
   "outputs": [],
   "source": [
    "def seconds_since_midnight(hour, minute, second):\n",
    "    hour_in_seconds = hour * 3600\n",
    "    minute_in_seconds = minute * 60\n",
    "    return hour_in_seconds + minute_in_seconds + second"
   ]
  },
  {
   "cell_type": "code",
   "execution_count": 33,
   "outputs": [
    {
     "data": {
      "text/plain": "48645"
     },
     "execution_count": 33,
     "metadata": {},
     "output_type": "execute_result"
    }
   ],
   "source": [
    "seconds_since_midnight(13, 30, 45)"
   ],
   "metadata": {
    "collapsed": false,
    "ExecuteTime": {
     "end_time": "2023-10-03T17:16:12.602977Z",
     "start_time": "2023-10-03T17:16:12.582618Z"
    }
   }
  },
  {
   "cell_type": "markdown",
   "metadata": {},
   "source": [
    "## Aufgabe 4\n",
    "Die untenstehende Durchschnittsfunktion kann eine beliebige Anzahl von Argumenten erhalten. Wenn Sie sie jedoch ohne Argumente aufrufen, verursacht die Funktion einen [_ZeroDivisionError_](https://docs.python.org/3/library/exceptions.html#ZeroDivisionError). \n",
    "Korrigieren Sie die Funktion so, dass immer mindestens ein Argument benötigt wird.\n",
    "\n",
    "```\n",
    "def average(*args):\n",
    "    return sum(args) / len(args)\n",
    "```"
   ]
  },
  {
   "cell_type": "code",
   "execution_count": 34,
   "metadata": {
    "ExecuteTime": {
     "end_time": "2023-10-03T17:16:12.603566Z",
     "start_time": "2023-10-03T17:16:12.585719Z"
    }
   },
   "outputs": [],
   "source": [
    "def average(args):\n",
    "    return sum(args) / len(args)"
   ]
  },
  {
   "cell_type": "code",
   "execution_count": 35,
   "outputs": [
    {
     "ename": "TypeError",
     "evalue": "'int' object is not iterable",
     "output_type": "error",
     "traceback": [
      "\u001B[0;31m---------------------------------------------------------------------------\u001B[0m",
      "\u001B[0;31mTypeError\u001B[0m                                 Traceback (most recent call last)",
      "Cell \u001B[0;32mIn[35], line 1\u001B[0m\n\u001B[0;32m----> 1\u001B[0m \u001B[43maverage\u001B[49m\u001B[43m(\u001B[49m\u001B[38;5;241;43m1\u001B[39;49m\u001B[43m)\u001B[49m\n",
      "Cell \u001B[0;32mIn[34], line 2\u001B[0m, in \u001B[0;36maverage\u001B[0;34m(args)\u001B[0m\n\u001B[1;32m      1\u001B[0m \u001B[38;5;28;01mdef\u001B[39;00m \u001B[38;5;21maverage\u001B[39m(args):\n\u001B[0;32m----> 2\u001B[0m     \u001B[38;5;28;01mreturn\u001B[39;00m \u001B[38;5;28;43msum\u001B[39;49m\u001B[43m(\u001B[49m\u001B[43margs\u001B[49m\u001B[43m)\u001B[49m \u001B[38;5;241m/\u001B[39m \u001B[38;5;28mlen\u001B[39m(args)\n",
      "\u001B[0;31mTypeError\u001B[0m: 'int' object is not iterable"
     ]
    }
   ],
   "source": [
    "average(1)"
   ],
   "metadata": {
    "collapsed": false,
    "ExecuteTime": {
     "end_time": "2023-10-03T17:16:12.617932Z",
     "start_time": "2023-10-03T17:16:12.590205Z"
    }
   }
  },
  {
   "cell_type": "markdown",
   "metadata": {},
   "source": [
    "## Aufgabe 5\n",
    "Das [`datetime`-Modul](https://docs.python.org/3/library/datetime.html) von _Python_ enthält einen [`datetime`-Typ](https://docs.python.org/3/library/datetime.html#datetime-objects) mit einer Methode `today`, die das aktuelle Datum und die aktuelle Uhrzeit als [`datetime`-Objekt](https://docs.python.org/3/library/datetime.html#datetime-objects) zurückgibt. Schreiben Sie eine parameterlose [`date_and_time`](https://docs.python.org/3/library/datetime.html#datetime-objects)-Funktion, die die folgende Anweisung enthält, und rufen Sie dann diese Funktion auf, um das aktuelle Datum und die aktuelle Zeit anzuzeigen:\n",
    "```\n",
    "print(datetime.datetime.today())\n",
    "```"
   ]
  },
  {
   "cell_type": "code",
   "execution_count": null,
   "metadata": {
    "ExecuteTime": {
     "start_time": "2023-10-03T17:16:12.599967Z"
    }
   },
   "outputs": [],
   "source": [
    "import datetime as dt\n",
    "\n",
    "def date_and_time():\n",
    "    return dt.datetime.today()\n",
    "\n",
    "print(date_and_time())"
   ]
  },
  {
   "cell_type": "markdown",
   "metadata": {},
   "source": [
    "## Aufgabe 6\n",
    "Recherchieren Sie die Funktion [`round`](https://docs.python.org/3/library/functions.html#round) in der [_Python Standard Library_](https://docs.python.org/3/library/).\n",
    "\n",
    "https://docs.python.org/3/library/functions.html#round\n",
    "\n",
    "Schreiben Sie ein kurzes Script, welches die Funktion [`round`](https://docs.python.org/3/library/functions.html#round) verwendet, um die Fliesskommazahl 13.56449 auf die nächste Ganzzahl,  sowie Zehntel-, Hundertstel- und Tausendstel-Position zu runden."
   ]
  },
  {
   "cell_type": "code",
   "execution_count": null,
   "metadata": {
    "ExecuteTime": {
     "start_time": "2023-10-03T17:16:12.600877Z"
    }
   },
   "outputs": [],
   "source": [
    "print(round(13.56449))\n",
    "print(round(13.56449, 1))\n",
    "print(round(13.56449, 2))\n",
    "print(round(13.56449, 3))"
   ]
  },
  {
   "cell_type": "markdown",
   "metadata": {},
   "source": [
    "## Aufgabe 7\n",
    "Implementieren Sie eine Funktion `fahrenheit()`, die als Argument die Temperatur in Celsius nimmt und als Fahrenheit-Temperatur zurückgibt. Verwenden Sie die folgende Formel:\n",
    "\n",
    "$F = \\frac{9}{5} \\cdot C + 32$\n",
    "\n",
    "Verwenden Sie dann diese Funktion, um eine Tabelle auszugeben, welche die Fahrenheit-Äquivalente aller Celsius-Temperaturen im Bereich von 0-100 Grad Celsius anzeigt. Die Ergebnisse sollen auf eine Ziffer nach dem Komma gerundet sein.\n"
   ]
  },
  {
   "cell_type": "code",
   "execution_count": null,
   "metadata": {
    "ExecuteTime": {
     "start_time": "2023-10-03T17:16:12.601986Z"
    }
   },
   "outputs": [],
   "source": [
    "def fahrenheit(celcius):\n",
    "    return (9/5) * celcius + 32\n",
    "\n",
    "print('celsius | fahrenheit')\n",
    "for i in range(101):\n",
    "    print(f'{round(i, 1):>7} | {round(fahrenheit(i), 1):>10}')"
   ]
  },
  {
   "cell_type": "markdown",
   "metadata": {
    "tags": []
   },
   "source": [
    "## Aufgabe 8\n",
    "Schreiben Sie ein Script, das _\"Errate die Zahl\"_ spielt. \n",
    "\n",
    "Wählen Sie die zu erratende Zahl, indem Sie eine zufällige ganze Zahl im Bereich von 1 bis 1000 wählen. Geben Sie diese Zahl der Spielerin oder dem Spieler nicht preis. Zeigen Sie die Eingabeaufforderung \"Erraten Sie meine Zahl zwischen 1 bis 1000\" an. \n",
    "\n",
    "Die Spielerin oder der Spieler gibt nun eine erste Schätzung ein. Wenn die Schätzung falsch ist, zeigen Sie entweder _\"Zu hoch. Versuchen Sie es noch einmal.\"_, oder _\"Zu tief. Versuchen Sie es noch einmal.\"_ an und fordern zur nächsten Schätzung auf. \n",
    "\n",
    "Wenn die Spielerin oder der Spieler die richtige Antwort eingibt, zeigen Sie _\"Gratulation, Sie haben meine Zahl erraten!\"_ an und lassen Sie die Spielerin oder den Spieler wählen, ob sie oder er erneut spielen möchte."
   ]
  },
  {
   "cell_type": "code",
   "execution_count": null,
   "metadata": {
    "ExecuteTime": {
     "start_time": "2023-10-03T17:16:12.602831Z"
    }
   },
   "outputs": [],
   "source": [
    "import random as random\n",
    "\n",
    "play_again = 1\n",
    "\n",
    "def game(): \n",
    "    random_nr = random.randint(1, 1000)\n",
    "    guessed_nr = int(input(\"put a number between 1 and 1000\"))\n",
    "    \n",
    "    def has_won(nr):\n",
    "        if nr == random_nr:\n",
    "            global play_again\n",
    "            play_again = int(input(\"you have guessed the number correct, press 1 if you want to play again\"))\n",
    "            return True\n",
    "        return False\n",
    "    \n",
    "    while not has_won(guessed_nr):\n",
    "        if guessed_nr < random_nr:\n",
    "            guessed_nr = int(input(\"to low, guess again\"))\n",
    "        else: \n",
    "            guessed_nr = int(input(\"to high, guess again\"))\n",
    "            \n",
    "while play_again == 1:\n",
    "    play_again = 0\n",
    "    game()\n"
   ]
  },
  {
   "cell_type": "markdown",
   "metadata": {},
   "source": [
    "## Aufgabe 9\n",
    "Schreiben Sie ein Script, das einen Würfel simuliert, der eine beliebige Anzahl mal gewürfelt wird. Dabei soll gezählt werden, wie oft die jeweiligen Augenzahlen gewürfelt wurden. Das Schlussresultat soll dann ausgegeben werden und könnte z.B. wie folgt aussehen:\n",
    "\n",
    "\n",
    "```\n",
    "Rolling a die 6000000 times.\n",
    "\n",
    "Face    Frequency\n",
    "   1       999764\n",
    "   2       998521\n",
    "   3       999797\n",
    "   4      1000539\n",
    "   5      1001022\n",
    "   6      1000357\n",
    "```\n"
   ]
  },
  {
   "cell_type": "code",
   "execution_count": null,
   "metadata": {
    "ExecuteTime": {
     "start_time": "2023-10-03T17:16:12.603384Z"
    }
   },
   "outputs": [],
   "source": [
    "import random as random\n",
    "\n",
    "x = 999999\n",
    "\n",
    "frequencies = { 1: 0,\n",
    "                2: 0, \n",
    "                3: 0, \n",
    "                4: 0, \n",
    "                5: 0, \n",
    "                6: 0\n",
    "                }\n",
    "\n",
    "def count(face):\n",
    "    global frequencies\n",
    "    frequencies[face] += 1\n",
    "\n",
    "for i in range(x):\n",
    "    count(random.randint(1, 6))\n",
    "    \n",
    "print(f'rolled dice {x} times')\n",
    "print('face | frequencies')\n",
    "\n",
    "for nr in frequencies.keys():\n",
    "    print(f'{nr:>4} | {frequencies[nr]:>11}')\n"
   ]
  }
 ],
 "metadata": {
  "kernelspec": {
   "display_name": "Python 3",
   "language": "python",
   "name": "python3"
  },
  "language_info": {
   "codemirror_mode": {
    "name": "ipython",
    "version": 3
   },
   "file_extension": ".py",
   "mimetype": "text/x-python",
   "name": "python",
   "nbconvert_exporter": "python",
   "pygments_lexer": "ipython3",
   "version": "3.8.8"
  }
 },
 "nbformat": 4,
 "nbformat_minor": 4
}
