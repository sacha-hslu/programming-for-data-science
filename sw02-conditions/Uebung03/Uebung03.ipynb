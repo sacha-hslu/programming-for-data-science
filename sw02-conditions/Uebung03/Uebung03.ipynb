{
 "cells": [
  {
   "cell_type": "markdown",
   "metadata": {},
   "source": [
    "# Übung 3"
   ]
  },
  {
   "cell_type": "markdown",
   "metadata": {},
   "source": [
    "## Aufgabe 1 - Validierung\n",
    "Modifizieren Sie das folgende Skript, um seine Eingaben zu validieren.\n",
    "Falls der Benutzer andere Werte als 1 oder 2 eingibt, soll die Eingabe ignoriert und der Benutzer zu einer neuen Eingabe aufgefordert werden.\n",
    "Verwenden Sie einen Zähler, um die Anzahl der Fehleingaben zu verfolgen.\n",
    "Geben Sie beim Beenden des Programms neben den bisherigen Ausgaben auch die Anzahl\n",
    "Fehleingaben auf dem Bildschirm aus.\n",
    "```\n",
    "passes = 0\n",
    "failures = 0\n",
    "\n",
    "for student in range(10):\n",
    "    result = int(input('Enter the result (1 = passed, 2 = failed): '))\n",
    "    if result == 1:\n",
    "        passes += 1\n",
    "    else:\n",
    "        failures += 1\n",
    "print('passes:', passes)\n",
    "print('failures:', failures)\n",
    "```"
   ]
  },
  {
   "cell_type": "code",
   "execution_count": 61,
   "outputs": [
    {
     "name": "stdout",
     "output_type": "stream",
     "text": [
      "passes: 10\n",
      "failures: 0\n",
      "counter:  0\n"
     ]
    }
   ],
   "source": [
    "passes = 0\n",
    "failures = 0\n",
    "counter = 0\n",
    "\n",
    "for i in range(10):\n",
    "    result = input('Enter the result (1 = passed, 2 = failed): ')\n",
    "    while result != '1' and result != '2':\n",
    "        counter += 1\n",
    "        result = input('Enter the result (1 = passed, 2 = failed): ')\n",
    "    \n",
    "    if result == 1:\n",
    "        failures += 1\n",
    "    else:\n",
    "        passes += 1\n",
    "\n",
    "print('passes:', passes)\n",
    "print('failures:', failures)\n",
    "print('counter: ', counter)"
   ],
   "metadata": {
    "collapsed": false,
    "ExecuteTime": {
     "end_time": "2023-09-26T18:03:19.241099Z",
     "start_time": "2023-09-26T18:03:14.926062Z"
    }
   }
  },
  {
   "cell_type": "markdown",
   "metadata": {},
   "source": [
    "## Aufgabe 2 - Tabellen\n",
    "Erstellen Sie für die Zahlen 0 – 5 eine Tabelle, welche die Zahl, die 2. Potenz und die 3. Potenz der Zahl ausgibt.\n",
    "Verwenden Sie eine for-Schleife und f-Strings, um die folgende Tabelle zu erstellen, wobei die Zahlen in jeder Spalte rechtsbündig angeordnet sind. \n",
    "\n",
    "```\n",
    "number  square  cube\n",
    "     0       0     0\n",
    "     1       1     1\n",
    "     2       4     8\n",
    "     3       9    27\n",
    "     4      16    64\n",
    "     5      25   125\n",
    "```\n",
    "\n",
    "> Tipp: Die Ausgabe kann man wie folgt rechts ausrichten: `print(f'{value:>6}')`\n",
    "> `f'{value:>6}'` bedeutet, dass der Wert, der in der Variable value gespeichert ist, in einem Feld der Breite von 6 Zeichen, rechts ausgerichtet wird. "
   ]
  },
  {
   "cell_type": "code",
   "execution_count": 62,
   "metadata": {
    "ExecuteTime": {
     "end_time": "2023-09-26T18:03:19.241351Z",
     "start_time": "2023-09-26T18:03:19.234928Z"
    }
   },
   "outputs": [
    {
     "name": "stdout",
     "output_type": "stream",
     "text": [
      "number  square   cube\n",
      "      0      0      0\n",
      "      1      1      1\n",
      "      2      4      8\n",
      "      3      9     27\n",
      "      4     16     64\n",
      "      5     25    125\n"
     ]
    }
   ],
   "source": [
    "print(\"number  square   cube\")\n",
    "for number in range(6):\n",
    "    print(f'{number:>7}'f'{number**2:>7}'f'{number**3:>7}')"
   ]
  },
  {
   "cell_type": "markdown",
   "metadata": {},
   "source": [
    "## Aufgabe 3 - Entweder oder\n",
    "Schreiben Sie das folgende Skript so um, dass es drei `if`…`else` Anweisungen verwendet, anstelle der sechs einzelnen `if`-Anweisungen."
   ]
  },
  {
   "cell_type": "raw",
   "source": [
    "print('Enter two integers, and I will tell you',\n",
    "      'the relationships they satisfy.')\n",
    "\n",
    "# read first integer\n",
    "number1 = int(input('Enter first integer: '))\n",
    "\n",
    "# read second integer\n",
    "number2 = int(input('Enter second integer: '))\n",
    "\n",
    "if number1 == number2:\n",
    "    print(number1, 'is equal to', number2)\n",
    "    \n",
    "if number1 != number2:\n",
    "    print(number1, 'is not equal to', number2)\n",
    "    \n",
    "if number1 < number2:\n",
    "    print(number1, 'is less than', number2)\n",
    "\n",
    "if number1 > number2:\n",
    "    print(number1, 'is greater than', number2)\n",
    "\n",
    "if number1 <= number2:\n",
    "    print(number1, 'is less than or equal to', number2)\n",
    "\n",
    "if number1 >= number2:\n",
    "    print(number1, 'is greater than or equal to', number2)"
   ],
   "metadata": {
    "collapsed": false
   }
  },
  {
   "cell_type": "code",
   "execution_count": 63,
   "metadata": {
    "ExecuteTime": {
     "end_time": "2023-09-26T18:03:23.677424Z",
     "start_time": "2023-09-26T18:03:19.240089Z"
    }
   },
   "outputs": [
    {
     "name": "stdout",
     "output_type": "stream",
     "text": [
      "Enter two integers, and I will tell you the relationships they satisfy.\n"
     ]
    },
    {
     "ename": "ValueError",
     "evalue": "invalid literal for int() with base 10: ''",
     "output_type": "error",
     "traceback": [
      "\u001B[0;31m---------------------------------------------------------------------------\u001B[0m",
      "\u001B[0;31mValueError\u001B[0m                                Traceback (most recent call last)",
      "Cell \u001B[0;32mIn[63], line 4\u001B[0m\n\u001B[1;32m      1\u001B[0m \u001B[38;5;28mprint\u001B[39m(\u001B[38;5;124m'\u001B[39m\u001B[38;5;124mEnter two integers, and I will tell you\u001B[39m\u001B[38;5;124m'\u001B[39m,\n\u001B[1;32m      2\u001B[0m       \u001B[38;5;124m'\u001B[39m\u001B[38;5;124mthe relationships they satisfy.\u001B[39m\u001B[38;5;124m'\u001B[39m)\n\u001B[1;32m      3\u001B[0m number1 \u001B[38;5;241m=\u001B[39m \u001B[38;5;28mint\u001B[39m(\u001B[38;5;28minput\u001B[39m(\u001B[38;5;124m'\u001B[39m\u001B[38;5;124mEnter first integer: \u001B[39m\u001B[38;5;124m'\u001B[39m))\n\u001B[0;32m----> 4\u001B[0m number2 \u001B[38;5;241m=\u001B[39m \u001B[38;5;28;43mint\u001B[39;49m\u001B[43m(\u001B[49m\u001B[38;5;28;43minput\u001B[39;49m\u001B[43m(\u001B[49m\u001B[38;5;124;43m'\u001B[39;49m\u001B[38;5;124;43mEnter second integer: \u001B[39;49m\u001B[38;5;124;43m'\u001B[39;49m\u001B[43m)\u001B[49m\u001B[43m)\u001B[49m\n\u001B[1;32m      6\u001B[0m \u001B[38;5;28;01mif\u001B[39;00m number1 \u001B[38;5;241m==\u001B[39m number2:\n\u001B[1;32m      7\u001B[0m     \u001B[38;5;28mprint\u001B[39m(number1, \u001B[38;5;124m'\u001B[39m\u001B[38;5;124mis equal to\u001B[39m\u001B[38;5;124m'\u001B[39m, number2)\n",
      "\u001B[0;31mValueError\u001B[0m: invalid literal for int() with base 10: ''"
     ]
    }
   ],
   "source": [
    "print('Enter two integers, and I will tell you',\n",
    "      'the relationships they satisfy.')\n",
    "number1 = int(input('Enter first integer: '))\n",
    "number2 = int(input('Enter second integer: '))\n",
    "\n",
    "if number1 == number2:\n",
    "    print(number1, 'is equal to', number2)\n",
    "else:\n",
    "    print(number1, 'is not equal to', number2)\n",
    "    \n",
    "if number1 < number2:\n",
    "    print(number1, 'is less than', number2)\n",
    "else:\n",
    "    print(number1, 'is greater than', number2)\n",
    "\n",
    "if number1 <= number2:\n",
    "    print(number1, 'is less than or equal to', number2)\n",
    "else:\n",
    "    print(number1, 'is greater than or equal to', number2)"
   ]
  },
  {
   "cell_type": "markdown",
   "metadata": {},
   "source": [
    "## Aufgabe 4 - Zahlen und Ziffern\n",
    "Schreiben Sie ein Skript, welches eine fünfstellige positive ganze Zahl als Integer einliest und anschliessend jede einzelne Ziffer auf einer eigenen Zeile anzeigt.\n",
    "Zum Beispiel soll die Zahl 54823 wie folgt auf dem Bildschirm ausgegeben werden:\n",
    "```\n",
    "5\n",
    "4\n",
    "8\n",
    "2\n",
    "3\n",
    "```\n",
    "> Achtung! Leiten Sie die einzelnen Ziffern mit Hilfe der Operatoren `//` und `%` her."
   ]
  },
  {
   "cell_type": "code",
   "execution_count": 1,
   "metadata": {
    "ExecuteTime": {
     "end_time": "2023-10-24T17:50:48.857822Z",
     "start_time": "2023-10-24T17:50:43.311880Z"
    }
   },
   "outputs": [
    {
     "name": "stdout",
     "output_type": "stream",
     "text": [
      "1\n",
      "2\n",
      "3\n",
      "4\n",
      "5\n"
     ]
    }
   ],
   "source": [
    "number = int(input(\"input of a 5 digit number\"))\n",
    "\n",
    "print(number // 10000)\n",
    "print(number // 1000 % 10)\n",
    "print(number // 100 % 10)\n",
    "print(number // 10 % 10)\n",
    "print(number % 10)"
   ]
  },
  {
   "cell_type": "markdown",
   "metadata": {},
   "source": [
    "## Aufgabe 5 - Vier Zahlen\n",
    "Schreiben Sie ein Skript, welches 4 ganze Zahlen einliest und anschliessend die Summe, den\n",
    "Durchschnitt, das Produkt, den kleinsten und grössten der Werte auf dem Bildschirm ausgibt.\n",
    "Verwenden Sie eine Schlaufe für das Einlesen der Benutzereingaben."
   ]
  },
  {
   "cell_type": "code",
   "execution_count": 2,
   "metadata": {
    "ExecuteTime": {
     "end_time": "2023-10-24T17:51:00.637722Z",
     "start_time": "2023-10-24T17:50:59.015290Z"
    }
   },
   "outputs": [
    {
     "ename": "ValueError",
     "evalue": "invalid literal for int() with base 10: ''",
     "output_type": "error",
     "traceback": [
      "\u001B[0;31m---------------------------------------------------------------------------\u001B[0m",
      "\u001B[0;31mValueError\u001B[0m                                Traceback (most recent call last)",
      "Cell \u001B[0;32mIn[2], line 5\u001B[0m\n\u001B[1;32m      3\u001B[0m product \u001B[38;5;241m=\u001B[39m \u001B[38;5;241m1\u001B[39m\n\u001B[1;32m      4\u001B[0m \u001B[38;5;28;01mfor\u001B[39;00m x \u001B[38;5;129;01min\u001B[39;00m \u001B[38;5;28mrange\u001B[39m(\u001B[38;5;241m4\u001B[39m):\n\u001B[0;32m----> 5\u001B[0m     number \u001B[38;5;241m=\u001B[39m \u001B[38;5;28;43mint\u001B[39;49m\u001B[43m(\u001B[49m\u001B[38;5;28;43minput\u001B[39;49m\u001B[43m(\u001B[49m\u001B[38;5;124;43m\"\u001B[39;49m\u001B[38;5;124;43m4 integers\u001B[39;49m\u001B[38;5;124;43m\"\u001B[39;49m\u001B[43m)\u001B[49m\u001B[43m)\u001B[49m\n\u001B[1;32m      6\u001B[0m     \u001B[38;5;28mlist\u001B[39m\u001B[38;5;241m.\u001B[39mappend(number)\n\u001B[1;32m      7\u001B[0m     summe \u001B[38;5;241m+\u001B[39m\u001B[38;5;241m=\u001B[39m number\n",
      "\u001B[0;31mValueError\u001B[0m: invalid literal for int() with base 10: ''"
     ]
    }
   ],
   "source": [
    "list = []\n",
    "summe = 0\n",
    "product = 1\n",
    "for x in range(4):\n",
    "    number = int(input(\"4 integers\"))\n",
    "    list.append(number)\n",
    "    summe += number\n",
    "    product *= number\n",
    "\n",
    "average = summe/len(list)\n",
    "print(f'{summe=}')\n",
    "print(f'{average=}')\n",
    "print(f'{product=}')\n",
    "print(f'{min(list)=}')\n",
    "print(f'{max(list)=}')"
   ]
  },
  {
   "cell_type": "markdown",
   "metadata": {},
   "source": [
    "## Aufgabe 6 - Symbolausgabe\n",
    "Schreiben Sie ein Script, welches dynamisch ein Muster wie z.B. das folgende am Bildschirm ausgibt.\n",
    "\n",
    "```\n",
    "@@@@@@@\n",
    "@@@@@@@\n",
    "```\n",
    "\n",
    "Die Anzahl Zeilen, sowie die Anzahl `'@'` Zeichen, welche in jeder Zeile ausgegeben werden, soll von der Benuterin beim Start des Programms eingelesen werden.\n",
    "\n",
    "\n",
    "Tipp: Arbeiten Sie mit verschachtelten Schlaufen"
   ]
  },
  {
   "cell_type": "code",
   "execution_count": null,
   "outputs": [],
   "source": [
    "columns = int(input(\"number of columns\"))\n",
    "rows = int(input(\"number of rows\"))\n",
    "\n",
    "for i in range(rows):\n",
    "    for y in range(columns):\n",
    "        print(\"@\", end=\"\")\n",
    "    print(\"\")"
   ],
   "metadata": {
    "collapsed": false,
    "ExecuteTime": {
     "start_time": "2023-09-26T18:03:23.680700Z"
    }
   }
  },
  {
   "cell_type": "markdown",
   "metadata": {},
   "source": [
    "## Aufgabe 7 - Tankfüllungen\n",
    "Ein Fahrer hat mehrere Tankfüllungen von Benzin im Auge behalten, indem er die gefahrenen\n",
    "Kilometer und die verbrauchten Liter Benzin aufgezeichnet hat.\n",
    "Entwickeln Sie ein Skript, welches den Benutzer auffordert, die gefahrenen Kilometer und die für jede Tankfüllung verbrauchten Liter Benzin einzugeben. Das Skript sollte dann für die jeweilige Tankfüllung den Benzinverbrauch in Liter pro Kilometer berechnen und ausgeben.\n",
    "Das Skript soll Sentinel-gesteuert beendet werden können. Beim Abschluss soll dann zusätzlich der Durchschnittsverbrauch in Liter pro Kilometer über alle erfassten Tankfüllungen ausgegeben werden."
   ]
  },
  {
   "cell_type": "code",
   "execution_count": null,
   "metadata": {
    "ExecuteTime": {
     "start_time": "2023-09-26T18:03:23.681756Z"
    }
   },
   "outputs": [],
   "source": [
    "import statistics\n",
    "\n",
    "x = 0\n",
    "list = []\n",
    "\n",
    "while True:\n",
    "    kilometers = int(input(\"driven kilometers\"))\n",
    "    if kilometers == -1:\n",
    "        break\n",
    "    liters = int(input(\"fueled litres\"))\n",
    "    if liters == -1:\n",
    "        break\n",
    "    lperkm = liters/kilometers\n",
    "    list.append(lperkm)\n",
    "    print(f'{lperkm=}')\n",
    "print(f'{statistics.mean(list)=}')\n"
   ]
  },
  {
   "cell_type": "markdown",
   "metadata": {},
   "source": [
    "##  Aufgabe 8 - Fakultät\n",
    "Die Fakultät einer nicht-negativen Zahl _n_ wird mit _n!_ geschrieben (ausgesprochen: \"n-Fakultät\") und ist wie folgt definiert:\n",
    "```\n",
    "n! = n · (n - 1) · (n - 2) · … · 1\n",
    "```\n",
    "Dabei ist für die Null-Fakultät das Resultat 1 definiert (0! = 1).\n",
    "\n",
    "Schreiben Sie ein Skript, das für eine nicht-negative ganze Zahl deren Fakultät berechnet und anzeigt. Sind Sie sich bewusst, dass die Fakultät sehr schnell sehr grosse Werte annehmen kann."
   ]
  },
  {
   "cell_type": "code",
   "execution_count": null,
   "metadata": {
    "ExecuteTime": {
     "start_time": "2023-09-26T18:03:23.682535Z"
    }
   },
   "outputs": [],
   "source": [
    "n = int(input(\"integer\"))\n",
    "result = 1\n",
    "\n",
    "for x in range(n):\n",
    "    result *= (x + 1)\n",
    "\n",
    "print(f'{n}! = {result}')"
   ]
  },
  {
   "cell_type": "markdown",
   "metadata": {},
   "source": [
    "## Aufgabe 9 - Dreiecksmuster\n",
    "Schreiben Sie ein Skript, das das folgende Dreiecksmuster anzeigt.\n",
    "Verwenden Sie für die Erzeugung der Sterne das folgendes print-Statement:\n",
    "```\n",
    "print('*', end='')\n",
    "\n",
    "*\n",
    "**\n",
    "***\n",
    "****\n",
    "*****\n",
    "******\n",
    "*******\n",
    "********\n",
    "*********\n",
    "**********\n",
    "```"
   ]
  },
  {
   "cell_type": "code",
   "execution_count": null,
   "metadata": {
    "ExecuteTime": {
     "start_time": "2023-09-26T18:03:23.683191Z"
    }
   },
   "outputs": [],
   "source": [
    "for i in range(10):\n",
    "    for j in range(i):\n",
    "        print('*', end='')\n",
    "    print()"
   ]
  }
 ],
 "metadata": {
  "kernelspec": {
   "display_name": "Python 3",
   "language": "python",
   "name": "python3"
  },
  "language_info": {
   "codemirror_mode": {
    "name": "ipython",
    "version": 3
   },
   "file_extension": ".py",
   "mimetype": "text/x-python",
   "name": "python",
   "nbconvert_exporter": "python",
   "pygments_lexer": "ipython3",
   "version": "3.8.8"
  }
 },
 "nbformat": 4,
 "nbformat_minor": 4
}
