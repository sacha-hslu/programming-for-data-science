{
 "cells": [
  {
   "cell_type": "markdown",
   "metadata": {},
   "source": [
    "# Übung 10 Lösung"
   ]
  },
  {
   "cell_type": "markdown",
   "metadata": {},
   "source": [
    "## Aufgabe 1\n",
    "\n",
    "<font size=\"3.5\">\n",
    "\n",
    "Schreiben Sie ein Skript, das eine Textzeile liest, die Leerzeichen als Delimiter verwendet um die Wörter zu tokenisieren und anschliessend nur diejenigen Wörter ausgibt, die mit dem Buchstaben 'B' oder 'b' beginnen.\n",
    "\n",
    "</font>"
   ]
  },
  {
   "cell_type": "code",
   "execution_count": null,
   "metadata": {},
   "outputs": [],
   "source": [
    "sentence = input('Enter a sentence: ')\n"
   ]
  },
  {
   "cell_type": "code",
   "execution_count": null,
   "metadata": {
    "tags": []
   },
   "outputs": [],
   "source": [
    "tokens = [word for word in sentence.split()\n",
    "          if word.startswith('b') or word.startswith('B')]\n"
   ]
  },
  {
   "cell_type": "code",
   "execution_count": null,
   "metadata": {},
   "outputs": [],
   "source": [
    "for word in tokens:\n",
    "    print(word)\n"
   ]
  },
  {
   "cell_type": "markdown",
   "metadata": {},
   "source": [
    "## Aufgabe 2\n",
    "\n",
    "<font size=\"3.5\">\n",
    "\n",
    "Verwenden Sie den Präsentationstyp `c`, um eine Tabelle mit den Zeichencodes im Bereich von 0 bis 255 und den entsprechenden Zeichen anzuzeigen.\n",
    "\n",
    "</font>"
   ]
  },
  {
   "cell_type": "code",
   "execution_count": null,
   "metadata": {},
   "outputs": [],
   "source": [
    "# Note: Most of the characters in the range 0-31 are non-printing\n",
    "# characters\n",
    "for i in range(256):\n",
    "    print(f'{i:3}: {i:c}')\n"
   ]
  },
  {
   "cell_type": "markdown",
   "metadata": {},
   "source": [
    "## Aufgabe 3"
   ]
  },
  {
   "cell_type": "markdown",
   "metadata": {},
   "source": [
    "<font size=\"3.5\">\n",
    "\n",
    "Verwenden Sie reguläre Ausdrücke und die `findall`-Funktion, um die Anzahl der Ziffern, Anzahl der Nicht-Ziffern, die Anzahl Leerzeichen, sowie die Anzahl Wörter in einer Zeichenkette zu zählen. Geben Sie die gefundenen Resulate am Bildschirm aus. \n",
    "\n",
    "</font>"
   ]
  },
  {
   "cell_type": "code",
   "execution_count": null,
   "metadata": {},
   "outputs": [],
   "source": [
    "import re\n"
   ]
  },
  {
   "cell_type": "code",
   "execution_count": null,
   "metadata": {},
   "outputs": [],
   "source": [
    "string = 'this string contains words and \\t 1234567890'\n"
   ]
  },
  {
   "cell_type": "code",
   "execution_count": null,
   "metadata": {},
   "outputs": [],
   "source": [
    "digits = re.findall(r'\\d', string)\n",
    "digits\n"
   ]
  },
  {
   "cell_type": "code",
   "execution_count": null,
   "metadata": {},
   "outputs": [],
   "source": [
    "print('The number of digits is', len(digits))\n"
   ]
  },
  {
   "cell_type": "code",
   "execution_count": null,
   "metadata": {},
   "outputs": [],
   "source": [
    "non_digits = re.findall(r'\\D', string)\n",
    "non_digits\n"
   ]
  },
  {
   "cell_type": "code",
   "execution_count": null,
   "metadata": {},
   "outputs": [],
   "source": [
    "print('The number of non-digit characters is', len(non_digits))\n"
   ]
  },
  {
   "cell_type": "code",
   "execution_count": null,
   "metadata": {},
   "outputs": [],
   "source": [
    "whitespace = re.findall(r'\\s', string)\n",
    "whitespace\n"
   ]
  },
  {
   "cell_type": "code",
   "execution_count": null,
   "metadata": {},
   "outputs": [],
   "source": [
    "print('The number of whitespace characters is', len(whitespace))\n"
   ]
  },
  {
   "cell_type": "code",
   "execution_count": null,
   "metadata": {},
   "outputs": [],
   "source": [
    "words = re.findall(r'\\w+', string)\n",
    "words\n"
   ]
  },
  {
   "cell_type": "code",
   "execution_count": null,
   "metadata": {},
   "outputs": [],
   "source": [
    "print('The number of words is', len(words))\n"
   ]
  },
  {
   "cell_type": "code",
   "execution_count": null,
   "metadata": {},
   "outputs": [],
   "source": [
    "# Number of letters (not part of exercise)\n",
    "letters = re.findall(r'[a-zA-Z]', string)\n",
    "print(letters)\n",
    "len(re.findall(r'[a-zA-Z]', string))\n"
   ]
  },
  {
   "cell_type": "markdown",
   "metadata": {},
   "source": [
    "## Aufgabe 4\n",
    "\n",
    "<font size=\"3.5\">\n",
    "\n",
    "Prüfen Sie, ob ein Satz mehr als ein Leerzeichen zwischen den Wörtern enthält. Wenn ja, entfernen Sie die zusätzlichen Leerzeichen und zeigen Sie das Resultat an. Zum Beispiel sollte `'Hello` &nbsp;&nbsp;&nbsp;&nbsp;&nbsp;    `World'` zu ```'Hello World'``` umgeformt werden.\n",
    "\n",
    "</font>"
   ]
  },
  {
   "cell_type": "code",
   "execution_count": null,
   "metadata": {},
   "outputs": [],
   "source": [
    "import re\n"
   ]
  },
  {
   "cell_type": "code",
   "execution_count": null,
   "metadata": {},
   "outputs": [],
   "source": [
    "sentence = input('Enter a sentence with extra spaces between words: ')\n"
   ]
  },
  {
   "cell_type": "code",
   "execution_count": null,
   "metadata": {},
   "outputs": [],
   "source": [
    "sentence\n"
   ]
  },
  {
   "cell_type": "code",
   "execution_count": null,
   "metadata": {},
   "outputs": [],
   "source": [
    "sentence = re.sub(r'\\s+', ' ', sentence)\n"
   ]
  },
  {
   "cell_type": "code",
   "execution_count": null,
   "metadata": {},
   "outputs": [],
   "source": [
    "sentence\n"
   ]
  },
  {
   "cell_type": "markdown",
   "metadata": {},
   "source": [
    "## Aufgabe 5\n",
    "\n",
    "<font size=\"3.5\">\n",
    "\n",
    "Implementieren Sie die Aufgabe 1 noch einmal unter Verwendung von regulären Ausdrücken, um die Wörter, die mit 'b' oder 'B' beginnen zu erfassen und anzuzeigen.\n",
    "\n",
    "Tipp: Verwenden Sie `\\b` in der RE um den Beginn eines Wortes zu kennzeichnen.\n",
    "\n",
    "</font>"
   ]
  },
  {
   "cell_type": "code",
   "execution_count": null,
   "metadata": {},
   "outputs": [],
   "source": [
    "import re\n"
   ]
  },
  {
   "cell_type": "code",
   "execution_count": null,
   "metadata": {},
   "outputs": [],
   "source": [
    "# sentence = input('Enter a sentence: ')\n",
    "sentence = 'Bertha und Eberhard bereiten das BBQ vor.'\n"
   ]
  },
  {
   "cell_type": "code",
   "execution_count": null,
   "metadata": {},
   "outputs": [],
   "source": [
    "sentence\n"
   ]
  },
  {
   "cell_type": "code",
   "execution_count": null,
   "metadata": {},
   "outputs": [],
   "source": [
    "pattern = r'\\bb\\w*'\n",
    "for match in re.finditer(pattern, sentence, flags=re.IGNORECASE):\n",
    "    print(match.group())\n"
   ]
  },
  {
   "cell_type": "markdown",
   "metadata": {},
   "source": [
    "## Aufgabe 6\n",
    "\n",
    "<font size=\"3.5\">\n",
    "\n",
    "Verwenden Sie einen regulären Ausdruck, um eine Zeichenfolge zu durchsuchen und alle gültigen URLs zu finden. Nehmen Sie für diese Übung an, dass eine gültige URL die Form `https://www.domain_name.extension` hat, wobei die Extension zwei oder mehr Zeichen betragen muss.\n",
    "\n",
    "</font>"
   ]
  },
  {
   "cell_type": "code",
   "execution_count": 1,
   "metadata": {},
   "outputs": [],
   "source": [
    "import re\n"
   ]
  },
  {
   "cell_type": "code",
   "execution_count": 2,
   "metadata": {},
   "outputs": [],
   "source": [
    "text = \"\"\"Our web address is https://www.hslu.ch and\n",
    "Google's is https://www.google.com, but https://www.fake.c or http://www.fake2.org are\n",
    "not a valid URL.\"\"\"\n"
   ]
  },
  {
   "cell_type": "code",
   "execution_count": 3,
   "metadata": {},
   "outputs": [],
   "source": [
    "urls = re.findall(r'https://www\\.\\w+\\.[a-z]{2,}', text)\n"
   ]
  },
  {
   "cell_type": "code",
   "execution_count": 4,
   "metadata": {
    "tags": []
   },
   "outputs": [
    {
     "data": {
      "text/plain": [
       "['https://www.hslu.ch', 'https://www.google.com']"
      ]
     },
     "execution_count": 4,
     "metadata": {},
     "output_type": "execute_result"
    }
   ],
   "source": [
    "urls\n"
   ]
  }
 ],
 "metadata": {
  "kernelspec": {
   "display_name": "Python 3",
   "language": "python",
   "name": "python3"
  },
  "language_info": {
   "codemirror_mode": {
    "name": "ipython",
    "version": 3
   },
   "file_extension": ".py",
   "mimetype": "text/x-python",
   "name": "python",
   "nbconvert_exporter": "python",
   "pygments_lexer": "ipython3",
   "version": "3.10.6"
  }
 },
 "nbformat": 4,
 "nbformat_minor": 4
}
