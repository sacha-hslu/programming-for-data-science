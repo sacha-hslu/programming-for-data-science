{
 "cells": [
  {
   "cell_type": "markdown",
   "metadata": {},
   "source": [
    "# Übung 9"
   ]
  },
  {
   "cell_type": "code",
   "execution_count": 106,
   "outputs": [],
   "source": [
    "import numpy as np"
   ],
   "metadata": {
    "collapsed": false,
    "ExecuteTime": {
     "end_time": "2023-11-17T22:30:08.233977Z",
     "start_time": "2023-11-17T22:30:08.191300Z"
    }
   }
  },
  {
   "cell_type": "markdown",
   "metadata": {},
   "source": [
    "## Aufgabe 1\n",
    "\n",
    "<font size=\"3.5\">\n",
    "\n",
    "Füllen Sie ein 2-mal-3-Array mit Einsen, ein 3-mal-3-Array mit Nullen und ein 2-mal-5-Array mit der Zahl Sieben.\n",
    "\n",
    "</font>"
   ]
  },
  {
   "cell_type": "code",
   "execution_count": 107,
   "metadata": {
    "ExecuteTime": {
     "end_time": "2023-11-17T22:30:08.256366Z",
     "start_time": "2023-11-17T22:30:08.195886Z"
    }
   },
   "outputs": [
    {
     "name": "stdout",
     "output_type": "stream",
     "text": [
      "[[1 1 1]\n",
      " [1 1 1]]\n",
      "[[0. 0. 0.]\n",
      " [0. 0. 0.]\n",
      " [0. 0. 0.]]\n",
      "[[7 7 7 7 7]\n",
      " [7 7 7 7 7]]\n"
     ]
    }
   ],
   "source": [
    "ones_array = np.ones((2, 3), dtype=np.int32)\n",
    "zeros_array = np.zeros((3, 3), dtype=float)\n",
    "full_array = np.full((2, 5), 7)\n",
    "\n",
    "print(ones_array)\n",
    "print(zeros_array)\n",
    "print(full_array)"
   ]
  },
  {
   "cell_type": "markdown",
   "metadata": {},
   "source": [
    "## Aufgabe 2\n",
    "Erstellen Sie ein 2-mal-2-Array mit den Zahlen 0-3. Wenden Sie Broadcasting an, um jede der folgenden Operationen mit dem Original-Array durchzuführen:\n",
    "\n",
    "1. Quadrieren Sie jedes Element des Arrays.\n",
    "\n",
    "2. Fügen Sie 7 zu jedem Element des Arrays hinzu.\n",
    "\n",
    "3. Multiplizieren Sie jedes Element des Arrays mit 2."
   ]
  },
  {
   "cell_type": "code",
   "execution_count": 108,
   "metadata": {
    "ExecuteTime": {
     "end_time": "2023-11-17T22:30:08.273193Z",
     "start_time": "2023-11-17T22:30:08.200106Z"
    }
   },
   "outputs": [
    {
     "name": "stdout",
     "output_type": "stream",
     "text": [
      "[[0 1]\n",
      " [2 3]]\n",
      "[[0 1]\n",
      " [4 9]]\n",
      "[[ 7  8]\n",
      " [ 9 10]]\n",
      "[[0 2]\n",
      " [4 6]]\n"
     ]
    }
   ],
   "source": [
    "reshaped_array = np.arange(0, 4).reshape(2, 2)\n",
    "\n",
    "print(reshaped_array)\n",
    "print(reshaped_array ** 2)\n",
    "print(reshaped_array + 7)\n",
    "print(reshaped_array * 2)"
   ]
  },
  {
   "cell_type": "markdown",
   "metadata": {},
   "source": [
    "## Aufgabe 3\n",
    "Erstellen Sie ein 3-mal-3-Array mit den geraden ganzen Zahlen von 2 bis und mit 18. Erstellen Sie einen zweiten 3-mal-3-Array, der die ganzen Zahlen von 9 bis 1 enthält, und multiplizieren Sie dann den ersten Array mit dem zweiten."
   ]
  },
  {
   "cell_type": "code",
   "execution_count": 109,
   "metadata": {
    "ExecuteTime": {
     "end_time": "2023-11-17T22:30:08.276901Z",
     "start_time": "2023-11-17T22:30:08.203160Z"
    }
   },
   "outputs": [],
   "source": [
    "array_three_one = np.arange(2, 19, 2).reshape(3, 3)"
   ]
  },
  {
   "cell_type": "code",
   "execution_count": 110,
   "outputs": [],
   "source": [
    "array_three_two = np.arange(9, 0, -1).reshape(3, 3)"
   ],
   "metadata": {
    "collapsed": false,
    "ExecuteTime": {
     "end_time": "2023-11-17T22:30:08.283533Z",
     "start_time": "2023-11-17T22:30:08.205623Z"
    }
   }
  },
  {
   "cell_type": "code",
   "execution_count": 111,
   "outputs": [
    {
     "data": {
      "text/plain": "array([[18, 32, 42],\n       [48, 50, 48],\n       [42, 32, 18]])"
     },
     "execution_count": 111,
     "metadata": {},
     "output_type": "execute_result"
    }
   ],
   "source": [
    "array_three_one * array_three_two"
   ],
   "metadata": {
    "collapsed": false,
    "ExecuteTime": {
     "end_time": "2023-11-17T22:30:08.290698Z",
     "start_time": "2023-11-17T22:30:08.208545Z"
    }
   }
  },
  {
   "cell_type": "markdown",
   "metadata": {},
   "source": [
    "## Aufgabe 4 \n",
    "Erstellen Sie ein 2-mal-3-Array mit den ersten sechs Potenzen von 2 (d.h. 2 ** 1, 2 ** 2, 2 ** 3, etc.). Verflachen Sie das Array zuerst mit der Methode `flatten`, dann mit `ravel`. Zeigen Sie in jedem Fall das Ergebnis an und zeigen Sie dann den ursprünglichen Array an, um zu zeigen, dass er nicht geändert wurde."
   ]
  },
  {
   "cell_type": "code",
   "execution_count": 112,
   "metadata": {
    "ExecuteTime": {
     "end_time": "2023-11-17T22:30:08.306372Z",
     "start_time": "2023-11-17T22:30:08.211919Z"
    }
   },
   "outputs": [
    {
     "name": "stdout",
     "output_type": "stream",
     "text": [
      "start [[ 2  4  8]\n",
      " [16 32 64]]\n",
      "flattened [999999      4      8     16     32     64]\n",
      "original [[ 2  4  8]\n",
      " [16 32 64]]\n",
      "raveled [999999      4      8     16     32     64]\n",
      "original [[999999      4      8]\n",
      " [    16     32     64]]\n"
     ]
    }
   ],
   "source": [
    "array_four = 2 ** np.arange(1, 7).reshape(2, 3)\n",
    "print('start', array_four)\n",
    "flattened_array = array_four.flatten()\n",
    "flattened_array[0] = 999999\n",
    "print('flattened', flattened_array)\n",
    "print('original', array_four)\n",
    "raveled_array = array_four.ravel()\n",
    "raveled_array[0] = 999999\n",
    "print('raveled', raveled_array)\n",
    "print('original', array_four)"
   ]
  },
  {
   "cell_type": "markdown",
   "metadata": {},
   "source": [
    "## Aufgabe 5\n",
    "Erforschen Sie in der NumPy-Dokumentation die Array-Methode `astype`, die die Elemente eines Arrays in einen anderen Typ konvertiert. Verwenden Sie `linspace`  und `reshape`, um ein 2-mal-3-Array mit den Werten 1.1, 2.2, ..., 6.6 zu erstellen. Verwenden Sie dann die Methode `astype`, um den Array in ein Array mit ganzen Zahlen zu konvertieren."
   ]
  },
  {
   "cell_type": "code",
   "execution_count": 113,
   "metadata": {
    "ExecuteTime": {
     "end_time": "2023-11-17T22:30:08.306680Z",
     "start_time": "2023-11-17T22:30:08.215599Z"
    }
   },
   "outputs": [
    {
     "name": "stdout",
     "output_type": "stream",
     "text": [
      "[[1.1 2.2 3.3]\n",
      " [4.4 5.5 6.6]]\n"
     ]
    },
    {
     "data": {
      "text/plain": "array([[1, 2, 3],\n       [4, 5, 6]])"
     },
     "execution_count": 113,
     "metadata": {},
     "output_type": "execute_result"
    }
   ],
   "source": [
    "float_array = np.linspace(1.1, 6.6, num=6).reshape(2, 3)\n",
    "print(float_array)\n",
    "float_array.astype(int)"
   ]
  },
  {
   "cell_type": "markdown",
   "metadata": {},
   "source": [
    "## Aufgabe 6\n",
    "Erstellen Sie ein Array mit den Werten 1-15, formen Sie ihn in einen 3-mal-5-Array um und verwenden Sie dann Indexierungs- und Slicing-Techniken, um jede der folgenden Operationen durchzuführen:\n",
    "\n",
    "1. Wählen Sie Zeile mit Index 2.\n",
    "\n",
    "2. Wählen Sie Spalte mit Index 4.\n",
    "\n",
    "3. Wählen Sie die Zeilen mit Index 0 und 1.\n",
    "\n",
    "4. Wählen Sie die Spalten mit Index 2 - 4.\n",
    "\n",
    "5. Wählen Sie das Element aus, das sich in Zeile mit Index 1 und Spalte mit Index 4 befindet.\n",
    "\n",
    "6. Wählen Sie alle Elemente aus den Zeilen mit Index 1 und 2, die sich in den Spalten mit Index 0, 2 und 4 befinden.\n",
    "\n"
   ]
  },
  {
   "cell_type": "code",
   "execution_count": 114,
   "metadata": {
    "ExecuteTime": {
     "end_time": "2023-11-17T22:30:08.307989Z",
     "start_time": "2023-11-17T22:30:08.218592Z"
    }
   },
   "outputs": [
    {
     "name": "stdout",
     "output_type": "stream",
     "text": [
      "[[ 1  2  3  4  5]\n",
      " [ 6  7  8  9 10]\n",
      " [11 12 13 14 15]]\n",
      "[11 12 13 14 15]\n",
      "[ 5 10 15]\n",
      "[[ 1  2  3  4  5]\n",
      " [ 6  7  8  9 10]]\n",
      "[[ 3  4  5]\n",
      " [ 8  9 10]\n",
      " [13 14 15]]\n",
      "10\n",
      "[[ 6  8 10]\n",
      " [11 13 15]]\n"
     ]
    }
   ],
   "source": [
    "array_six = np.arange(1, 16).reshape(3, 5)\n",
    "\n",
    "print(array_six)\n",
    "print(array_six[2])\n",
    "print(array_six[:, 4])\n",
    "print(array_six[[0,1]])\n",
    "print(array_six[:, [2,3,4]])\n",
    "print(array_six[1,4])\n",
    "print(array_six[1:3, [0,2,4]])"
   ]
  },
  {
   "cell_type": "markdown",
   "metadata": {},
   "source": [
    "## Aufgabe 7\n",
    "Erstellen Sie die zweidimensionalen Arrays\n",
    "```\n",
    "array1 = np.array([[0, 1], [2, 3]])\n",
    "array2 = np.array([[4, 5], [6, 7]])\n",
    "```\n",
    "1. Verwenden Sie vertikales Stapeln, um den 4 x 2-Array namens array3 zu erstellen, wobei array1 auf array2 gestapelt wird.\n",
    "\n",
    "2. Verwenden Sie horizontales Stapeln, um den 2 x 4-Array namens array4 zu erstellen, wobei array2 rechts von array1 liegt.\n",
    "\n",
    "3. Verwenden Sie vertikales Stapeln mit zwei Kopien von array4, um ein 4 x 4-Array namens array5 zu erstellen.\n",
    "\n",
    "4. Verwenden Sie horizontales Stapeln mit zwei Kopien von array3, um ein 4 x 4-Array namens array6 zu erstellen.\n",
    "\n"
   ]
  },
  {
   "cell_type": "code",
   "execution_count": 115,
   "metadata": {
    "ExecuteTime": {
     "end_time": "2023-11-17T22:30:08.308401Z",
     "start_time": "2023-11-17T22:30:08.222446Z"
    }
   },
   "outputs": [
    {
     "name": "stdout",
     "output_type": "stream",
     "text": [
      "[[0 1]\n",
      " [2 3]\n",
      " [4 5]\n",
      " [6 7]]\n",
      "[[0 1 4 5]\n",
      " [2 3 6 7]]\n",
      "[[0 1 4 5]\n",
      " [2 3 6 7]\n",
      " [0 1 4 5]\n",
      " [2 3 6 7]]\n",
      "[[0 1 0 1]\n",
      " [2 3 2 3]\n",
      " [4 5 4 5]\n",
      " [6 7 6 7]]\n"
     ]
    }
   ],
   "source": [
    "array1 = np.array([[0, 1], [2, 3]])\n",
    "array2 = np.array([[4, 5], [6, 7]])\n",
    "array3 = np.vstack((array1, array2))\n",
    "print(array3)\n",
    "array4 = np.hstack((array1, array2))\n",
    "print(array4)\n",
    "array5 = np.vstack((np.copy(array4), np.copy(array4)))\n",
    "print(array5)\n",
    "array6 = np.hstack((np.copy(array3), np.copy(array3)))\n",
    "print(array6)"
   ]
  },
  {
   "cell_type": "markdown",
   "metadata": {
    "tags": []
   },
   "source": [
    "## Aufgabe 8\n",
    "Die in Python integrierten Listen- und Dictionary-Typen verfügen über Kopiermethoden, die flache Kopien erstellen. \n",
    "\n",
    "\n",
    "Verwenden Sie das folgende `dictionary`.\n",
    "```\n",
    "dictionary = {'Sophia': [97, 88]}\n",
    "```\n",
    "und zeigen Sie, dass die Kopiermethode eines `dictionary` tatsächlich eine flache Kopie erstellt. Rufen Sie dazu `copy` auf, um die flache Kopie zu erstellen, ändern Sie die im Original-`dictionary` gespeicherte Liste und zeigen Sie dann beide `dictionary`'s an, um zu zeigen, dass Sie den gleichen Inhalt haben.\n",
    "\n",
    "Als nächstes verwenden Sie die `deepcopy`-Funktion des `copy`-Moduls, um eine tiefe Kopie des Wörterbuchs zu erstellen. Ändern Sie die im Original-`dictionary` gespeicherte Liste und zeigen Sie dann beide `dictionary`'s an, um nachzuweisen, dass jedes seine eigenen Daten hat.\n",
    "\n"
   ]
  },
  {
   "cell_type": "code",
   "execution_count": 116,
   "metadata": {
    "ExecuteTime": {
     "end_time": "2023-11-17T22:30:08.308472Z",
     "start_time": "2023-11-17T22:30:08.225739Z"
    }
   },
   "outputs": [
    {
     "name": "stdout",
     "output_type": "stream",
     "text": [
      "{'Sophia': [100, 88]}\n",
      "{'Sophia': [100, 88]}\n",
      "{'Sophia': [100, 88]}\n",
      "{'Sophia': [99, 88]}\n"
     ]
    }
   ],
   "source": [
    "import copy\n",
    "\n",
    "dictionary = {'Sophia': [97, 88]}\n",
    "dict_copy = copy.copy(dictionary)\n",
    "dictionary['Sophia'][0] = 100\n",
    "print(dict_copy)\n",
    "print(dictionary)\n",
    "deep_copy = copy.deepcopy(dictionary)\n",
    "dictionary['Sophia'][0] = 99\n",
    "print(deep_copy)\n",
    "print(dictionary)"
   ]
  },
  {
   "cell_type": "code",
   "execution_count": 116,
   "outputs": [],
   "source": [],
   "metadata": {
    "collapsed": false,
    "ExecuteTime": {
     "end_time": "2023-11-17T22:30:08.308554Z",
     "start_time": "2023-11-17T22:30:08.227131Z"
    }
   }
  }
 ],
 "metadata": {
  "kernelspec": {
   "display_name": "Python 3 (ipykernel)",
   "language": "python",
   "name": "python3"
  },
  "language_info": {
   "codemirror_mode": {
    "name": "ipython",
    "version": 3
   },
   "file_extension": ".py",
   "mimetype": "text/x-python",
   "name": "python",
   "nbconvert_exporter": "python",
   "pygments_lexer": "ipython3",
   "version": "3.10.5"
  }
 },
 "nbformat": 4,
 "nbformat_minor": 4
}
