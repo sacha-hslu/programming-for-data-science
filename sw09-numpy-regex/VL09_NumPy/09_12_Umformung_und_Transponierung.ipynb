{
 "cells": [
  {
   "cell_type": "markdown",
   "metadata": {},
   "source": [
    "# 9.12 Umformung und Transponierung"
   ]
  },
  {
   "cell_type": "markdown",
   "metadata": {},
   "source": [
    "## `reshape` vs. `resize` "
   ]
  },
  {
   "cell_type": "code",
   "execution_count": 2,
   "metadata": {
    "ExecuteTime": {
     "end_time": "2023-11-14T15:49:08.473645Z",
     "start_time": "2023-11-14T15:49:08.400906Z"
    }
   },
   "outputs": [],
   "source": [
    "import numpy as np\n",
    "import random\n"
   ]
  },
  {
   "cell_type": "code",
   "execution_count": null,
   "metadata": {},
   "outputs": [],
   "source": [
    "grades = np.random.randint(60, 101, 6)\n"
   ]
  },
  {
   "cell_type": "code",
   "execution_count": null,
   "metadata": {},
   "outputs": [],
   "source": [
    "grades\n"
   ]
  },
  {
   "cell_type": "markdown",
   "metadata": {},
   "source": [
    "<font size=\"3.5\">\n",
    "\n",
    "* Die Methode `reshape` liefert eine View des Original-Arrays mit neuen Dimensionen. Der ursprüngliche Array wird dabei nicht verändert.\n",
    "\n",
    "</font>"
   ]
  },
  {
   "cell_type": "code",
   "execution_count": null,
   "metadata": {},
   "outputs": [],
   "source": [
    "grades2 = grades.reshape(2, 3)\n",
    "grades2\n"
   ]
  },
  {
   "cell_type": "code",
   "execution_count": null,
   "metadata": {},
   "outputs": [],
   "source": [
    "grades\n"
   ]
  },
  {
   "cell_type": "markdown",
   "metadata": {},
   "source": [
    "<font size=\"3.5\">\n",
    "\n",
    "* Die Methode `resize` modifiziert die Form des ursprünglichen Arrays\n",
    "\n",
    "</font>"
   ]
  },
  {
   "cell_type": "code",
   "execution_count": null,
   "metadata": {},
   "outputs": [],
   "source": [
    "grades.resize(3, 2)\n"
   ]
  },
  {
   "cell_type": "code",
   "execution_count": null,
   "metadata": {},
   "outputs": [],
   "source": [
    "grades\n"
   ]
  },
  {
   "cell_type": "markdown",
   "metadata": {
    "tags": []
   },
   "source": [
    "## `flatten` vs. `ravel` \n",
    "\n",
    "<font size=\"3.5\">\n",
    "\n",
    "* Mit den Methoden **`flatten`** und **`ravel`** kann ein mehrdimensionales Array in eine einzige Dimension geändert werden\n",
    "\n",
    "</font>"
   ]
  },
  {
   "cell_type": "code",
   "execution_count": 3,
   "metadata": {
    "ExecuteTime": {
     "end_time": "2023-11-14T15:49:11.673836Z",
     "start_time": "2023-11-14T15:49:11.659903Z"
    }
   },
   "outputs": [],
   "source": [
    "grades = np.random.randint(60, 101, 6).reshape(2, 3)\n"
   ]
  },
  {
   "cell_type": "code",
   "execution_count": 4,
   "metadata": {
    "ExecuteTime": {
     "end_time": "2023-11-14T15:49:14.294152Z",
     "start_time": "2023-11-14T15:49:14.284059Z"
    }
   },
   "outputs": [
    {
     "data": {
      "text/plain": "array([[ 72,  96,  68],\n       [ 89, 100,  68]])"
     },
     "execution_count": 4,
     "metadata": {},
     "output_type": "execute_result"
    }
   ],
   "source": [
    "grades\n"
   ]
  },
  {
   "cell_type": "markdown",
   "metadata": {},
   "source": [
    "<font size=\"3.5\">\n",
    "\n",
    "* Die Methode `flatten` macht eine flache Kopie (shallow copy) der ursprüglichen Array-Daten.\n",
    "\n",
    "</font>"
   ]
  },
  {
   "cell_type": "code",
   "execution_count": 5,
   "metadata": {
    "ExecuteTime": {
     "end_time": "2023-11-14T15:49:32.037148Z",
     "start_time": "2023-11-14T15:49:32.024246Z"
    }
   },
   "outputs": [],
   "source": [
    "flattened = grades.flatten()\n"
   ]
  },
  {
   "cell_type": "code",
   "execution_count": 6,
   "metadata": {
    "ExecuteTime": {
     "end_time": "2023-11-14T15:49:32.780965Z",
     "start_time": "2023-11-14T15:49:32.766971Z"
    }
   },
   "outputs": [
    {
     "data": {
      "text/plain": "array([ 72,  96,  68,  89, 100,  68])"
     },
     "execution_count": 6,
     "metadata": {},
     "output_type": "execute_result"
    }
   ],
   "source": [
    "flattened\n"
   ]
  },
  {
   "cell_type": "code",
   "execution_count": 7,
   "metadata": {
    "ExecuteTime": {
     "end_time": "2023-11-14T15:49:37.288675Z",
     "start_time": "2023-11-14T15:49:37.284107Z"
    }
   },
   "outputs": [
    {
     "data": {
      "text/plain": "array([[ 72,  96,  68],\n       [ 89, 100,  68]])"
     },
     "execution_count": 7,
     "metadata": {},
     "output_type": "execute_result"
    }
   ],
   "source": [
    "grades\n"
   ]
  },
  {
   "cell_type": "code",
   "execution_count": 8,
   "metadata": {
    "ExecuteTime": {
     "end_time": "2023-11-14T15:49:42.649197Z",
     "start_time": "2023-11-14T15:49:42.637371Z"
    }
   },
   "outputs": [],
   "source": [
    "flattened[0] = 100\n"
   ]
  },
  {
   "cell_type": "code",
   "execution_count": 9,
   "metadata": {
    "ExecuteTime": {
     "end_time": "2023-11-14T15:49:45.129668Z",
     "start_time": "2023-11-14T15:49:45.117417Z"
    }
   },
   "outputs": [
    {
     "data": {
      "text/plain": "array([100,  96,  68,  89, 100,  68])"
     },
     "execution_count": 9,
     "metadata": {},
     "output_type": "execute_result"
    }
   ],
   "source": [
    "flattened\n"
   ]
  },
  {
   "cell_type": "code",
   "execution_count": 10,
   "metadata": {
    "ExecuteTime": {
     "end_time": "2023-11-14T15:49:48.887786Z",
     "start_time": "2023-11-14T15:49:48.878019Z"
    }
   },
   "outputs": [
    {
     "data": {
      "text/plain": "array([[ 72,  96,  68],\n       [ 89, 100,  68]])"
     },
     "execution_count": 10,
     "metadata": {},
     "output_type": "execute_result"
    }
   ],
   "source": [
    "grades\n"
   ]
  },
  {
   "cell_type": "markdown",
   "metadata": {},
   "source": [
    "<font size=\"3.5\">\n",
    "\n",
    "* Die Methode `ravel` erzeugt eine View auf den Original-Array\n",
    "\n",
    "</font>"
   ]
  },
  {
   "cell_type": "code",
   "execution_count": 11,
   "metadata": {
    "ExecuteTime": {
     "end_time": "2023-11-14T15:49:52.260645Z",
     "start_time": "2023-11-14T15:49:52.245616Z"
    }
   },
   "outputs": [],
   "source": [
    "raveled = grades.ravel()\n"
   ]
  },
  {
   "cell_type": "code",
   "execution_count": 12,
   "metadata": {
    "ExecuteTime": {
     "end_time": "2023-11-14T15:49:53.277649Z",
     "start_time": "2023-11-14T15:49:53.264136Z"
    }
   },
   "outputs": [
    {
     "data": {
      "text/plain": "array([ 72,  96,  68,  89, 100,  68])"
     },
     "execution_count": 12,
     "metadata": {},
     "output_type": "execute_result"
    }
   ],
   "source": [
    "raveled\n"
   ]
  },
  {
   "cell_type": "code",
   "execution_count": 13,
   "metadata": {
    "ExecuteTime": {
     "end_time": "2023-11-14T15:49:58.748267Z",
     "start_time": "2023-11-14T15:49:58.736690Z"
    }
   },
   "outputs": [
    {
     "data": {
      "text/plain": "array([[ 72,  96,  68],\n       [ 89, 100,  68]])"
     },
     "execution_count": 13,
     "metadata": {},
     "output_type": "execute_result"
    }
   ],
   "source": [
    "grades\n"
   ]
  },
  {
   "cell_type": "code",
   "execution_count": 14,
   "metadata": {
    "ExecuteTime": {
     "end_time": "2023-11-14T15:50:00.601454Z",
     "start_time": "2023-11-14T15:50:00.597642Z"
    }
   },
   "outputs": [],
   "source": [
    "raveled[0] = 100\n"
   ]
  },
  {
   "cell_type": "code",
   "execution_count": 15,
   "metadata": {
    "ExecuteTime": {
     "end_time": "2023-11-14T15:50:01.416618Z",
     "start_time": "2023-11-14T15:50:01.411951Z"
    }
   },
   "outputs": [
    {
     "data": {
      "text/plain": "array([100,  96,  68,  89, 100,  68])"
     },
     "execution_count": 15,
     "metadata": {},
     "output_type": "execute_result"
    }
   ],
   "source": [
    "raveled\n"
   ]
  },
  {
   "cell_type": "code",
   "execution_count": 16,
   "metadata": {
    "ExecuteTime": {
     "end_time": "2023-11-14T15:50:02.861694Z",
     "start_time": "2023-11-14T15:50:02.850240Z"
    }
   },
   "outputs": [
    {
     "data": {
      "text/plain": "array([[100,  96,  68],\n       [ 89, 100,  68]])"
     },
     "execution_count": 16,
     "metadata": {},
     "output_type": "execute_result"
    }
   ],
   "source": [
    "grades\n"
   ]
  },
  {
   "cell_type": "markdown",
   "metadata": {
    "tags": []
   },
   "source": [
    "## Transponieren, d.h. Vertauschen von Zeilen und Spalten\n",
    "\n",
    "<font size=\"3.5\">\n",
    "\n",
    "Zeilen und Spalten eines Arrays können schnell **transponiert** werden. Der Array wird umgedreht, so dass die Zeilen zu den Spalten und die Spalten zu den Zeilen werden\n",
    "\n",
    "</font>"
   ]
  },
  {
   "cell_type": "markdown",
   "metadata": {},
   "source": [
    "<font size=\"3.5\">\n",
    "\n",
    "* Das **`T` Attribut** gibt eine transponierte View des Arrays zurück\n",
    "\n",
    "</font>"
   ]
  },
  {
   "cell_type": "code",
   "execution_count": null,
   "metadata": {},
   "outputs": [],
   "source": [
    "grades.T\n"
   ]
  },
  {
   "cell_type": "code",
   "execution_count": null,
   "metadata": {},
   "outputs": [],
   "source": [
    "grades\n"
   ]
  },
  {
   "cell_type": "markdown",
   "metadata": {},
   "source": [
    "## Horizontale und vertikale Stapelung (Stacking)\n",
    "\n",
    "<font size=\"3.5\">\n",
    "\n",
    "Arrays können durch Hinzufügen von zusätzlichen Spalten oder Zeilen kombiniert werden. Das ist als **horizontales, bzw. vertikales Stapeln** bekannt.\n",
    "\n",
    "</font>"
   ]
  },
  {
   "cell_type": "code",
   "execution_count": null,
   "metadata": {},
   "outputs": [],
   "source": [
    "grades\n"
   ]
  },
  {
   "cell_type": "code",
   "execution_count": null,
   "metadata": {},
   "outputs": [],
   "source": [
    "grades2 = np.zeros(6, dtype=int).reshape(2, 3)\n"
   ]
  },
  {
   "cell_type": "code",
   "execution_count": null,
   "metadata": {},
   "outputs": [],
   "source": [
    "grades2\n"
   ]
  },
  {
   "cell_type": "markdown",
   "metadata": {},
   "source": [
    "### `hstack`-Funktion\n",
    "\n",
    "<font size=\"3.5\">\n",
    "\n",
    "* Die `hstack` (horizontal stack) Funktion ermöglicht es, Arrays horizontal zu kombinieren, sofern sie dieselbe Anzahl Zeilen haben. Es werden neue Spalten hinzugefügt.\n",
    "* `hstack` erwartet ein Tupel mit den zu kombinierenden Arrays.\n",
    "\n",
    "</font>"
   ]
  },
  {
   "cell_type": "code",
   "execution_count": null,
   "metadata": {},
   "outputs": [],
   "source": [
    "np.hstack((grades, grades2))\n"
   ]
  },
  {
   "cell_type": "markdown",
   "metadata": {},
   "source": [
    "### `vstack`-Funktion\n",
    "\n",
    "<font size=\"3.5\">\n",
    "\n",
    "* Die `vstack` (vertical stack) Funktion ermöglicht es Arrays vertikal zu kombinieren, sofern sie dieselbe Anzahl Spalten haben. Es werden neue Zeilen hinzugefügt. \n",
    "* `vstack` erwartet ein Tupel mit den zu kombinierenden Arrays.\n",
    "\n",
    "</font>"
   ]
  },
  {
   "cell_type": "code",
   "execution_count": null,
   "metadata": {},
   "outputs": [],
   "source": [
    "np.vstack((grades, grades2))\n"
   ]
  },
  {
   "cell_type": "markdown",
   "metadata": {},
   "source": [
    "### Die Dimensionen müssen bei Anwendung der `hstack`, bzw. `vstack` Methode übereinstimmen"
   ]
  },
  {
   "cell_type": "code",
   "execution_count": null,
   "metadata": {},
   "outputs": [],
   "source": [
    "grades\n"
   ]
  },
  {
   "cell_type": "code",
   "execution_count": null,
   "metadata": {},
   "outputs": [],
   "source": [
    "grades3 = np.ones((3, 4), dtype=int)\n"
   ]
  },
  {
   "cell_type": "code",
   "execution_count": null,
   "metadata": {},
   "outputs": [],
   "source": [
    "grades3\n"
   ]
  },
  {
   "cell_type": "code",
   "execution_count": null,
   "metadata": {},
   "outputs": [],
   "source": [
    "np.hstack((grades, grades3))\n"
   ]
  },
  {
   "cell_type": "code",
   "execution_count": null,
   "metadata": {},
   "outputs": [],
   "source": [
    "np.vstack((grades, grades3))\n"
   ]
  }
 ],
 "metadata": {
  "kernelspec": {
   "display_name": "Python 3 (ipykernel)",
   "language": "python",
   "name": "python3"
  },
  "language_info": {
   "codemirror_mode": {
    "name": "ipython",
    "version": 3
   },
   "file_extension": ".py",
   "mimetype": "text/x-python",
   "name": "python",
   "nbconvert_exporter": "python",
   "pygments_lexer": "ipython3",
   "version": "3.10.5"
  },
  "vscode": {
   "interpreter": {
    "hash": "aee8b7b246df8f9039afb4144a1f6fd8d2ca17a180786b69acc140d282b71a49"
   }
  }
 },
 "nbformat": 4,
 "nbformat_minor": 4
}
