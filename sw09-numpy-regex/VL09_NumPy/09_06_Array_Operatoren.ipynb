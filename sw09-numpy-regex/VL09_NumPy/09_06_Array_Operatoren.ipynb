{
 "cells": [
  {
   "cell_type": "markdown",
   "metadata": {},
   "source": [
    "# 9.6 Array-Operatoren\n",
    "\n",
    "<font size=\"3.5\">\n",
    "\n",
    "Mittels Array Operatoren können Sie einfache Anweisungen definieren, die Operationen auf ganzen Arrays durchführen. \n",
    "Sie können Arithmetik \n",
    "1. zwischen **Array-Werten** und **skalaren numerischen Werten**, sowie \n",
    "2. zwischen **Array-Werten derselben Form** durchführen.\n",
    "\n",
    "</font>"
   ]
  },
  {
   "cell_type": "code",
   "execution_count": 1,
   "metadata": {
    "ExecuteTime": {
     "end_time": "2023-11-17T22:16:55.605667Z",
     "start_time": "2023-11-17T22:16:55.311395Z"
    }
   },
   "outputs": [],
   "source": [
    "import numpy as np\n"
   ]
  },
  {
   "cell_type": "code",
   "execution_count": 2,
   "metadata": {
    "ExecuteTime": {
     "end_time": "2023-11-17T22:16:55.605801Z",
     "start_time": "2023-11-17T22:16:55.486346Z"
    }
   },
   "outputs": [],
   "source": [
    "numbers = np.arange(1, 6)\n"
   ]
  },
  {
   "cell_type": "code",
   "execution_count": 3,
   "metadata": {
    "ExecuteTime": {
     "end_time": "2023-11-17T22:16:55.605943Z",
     "start_time": "2023-11-17T22:16:55.490313Z"
    }
   },
   "outputs": [
    {
     "data": {
      "text/plain": "array([1, 2, 3, 4, 5])"
     },
     "execution_count": 3,
     "metadata": {},
     "output_type": "execute_result"
    }
   ],
   "source": [
    "numbers\n"
   ]
  },
  {
   "cell_type": "markdown",
   "metadata": {},
   "source": [
    "## Arithmetik zwischen Arrays und skalaren numerischen Werten"
   ]
  },
  {
   "cell_type": "code",
   "execution_count": 4,
   "metadata": {
    "ExecuteTime": {
     "end_time": "2023-11-17T22:16:55.606029Z",
     "start_time": "2023-11-17T22:16:55.495092Z"
    }
   },
   "outputs": [
    {
     "data": {
      "text/plain": "array([ 2,  4,  6,  8, 10])"
     },
     "execution_count": 4,
     "metadata": {},
     "output_type": "execute_result"
    }
   ],
   "source": [
    "numbers * 2\n"
   ]
  },
  {
   "cell_type": "code",
   "execution_count": 5,
   "metadata": {
    "ExecuteTime": {
     "end_time": "2023-11-17T22:16:55.606100Z",
     "start_time": "2023-11-17T22:16:55.498976Z"
    }
   },
   "outputs": [
    {
     "data": {
      "text/plain": "array([  1,   8,  27,  64, 125])"
     },
     "execution_count": 5,
     "metadata": {},
     "output_type": "execute_result"
    }
   ],
   "source": [
    "numbers ** 3\n"
   ]
  },
  {
   "cell_type": "code",
   "execution_count": 6,
   "metadata": {
    "ExecuteTime": {
     "end_time": "2023-11-17T22:16:55.606386Z",
     "start_time": "2023-11-17T22:16:55.501908Z"
    }
   },
   "outputs": [
    {
     "data": {
      "text/plain": "array([1, 2, 3, 4, 5])"
     },
     "execution_count": 6,
     "metadata": {},
     "output_type": "execute_result"
    }
   ],
   "source": [
    "numbers  # numbers is unchanged by the arithmetic operators\n"
   ]
  },
  {
   "cell_type": "code",
   "execution_count": 7,
   "metadata": {
    "ExecuteTime": {
     "end_time": "2023-11-17T22:16:55.606440Z",
     "start_time": "2023-11-17T22:16:55.503856Z"
    }
   },
   "outputs": [],
   "source": [
    "numbers += 10\n"
   ]
  },
  {
   "cell_type": "code",
   "execution_count": 8,
   "metadata": {
    "ExecuteTime": {
     "end_time": "2023-11-17T22:16:55.606918Z",
     "start_time": "2023-11-17T22:16:55.505726Z"
    }
   },
   "outputs": [
    {
     "data": {
      "text/plain": "array([11, 12, 13, 14, 15])"
     },
     "execution_count": 8,
     "metadata": {},
     "output_type": "execute_result"
    }
   ],
   "source": [
    "numbers\n"
   ]
  },
  {
   "cell_type": "code",
   "execution_count": 9,
   "metadata": {
    "ExecuteTime": {
     "end_time": "2023-11-17T22:16:55.606959Z",
     "start_time": "2023-11-17T22:16:55.508886Z"
    }
   },
   "outputs": [],
   "source": [
    "numbers2 = np.arange(1, 11).reshape(2, 5)\n"
   ]
  },
  {
   "cell_type": "code",
   "execution_count": 10,
   "metadata": {
    "ExecuteTime": {
     "end_time": "2023-11-17T22:16:55.607037Z",
     "start_time": "2023-11-17T22:16:55.510930Z"
    }
   },
   "outputs": [
    {
     "data": {
      "text/plain": "array([[ 1,  2,  3,  4,  5],\n       [ 6,  7,  8,  9, 10]])"
     },
     "execution_count": 10,
     "metadata": {},
     "output_type": "execute_result"
    }
   ],
   "source": [
    "numbers2\n"
   ]
  },
  {
   "cell_type": "code",
   "execution_count": 11,
   "metadata": {
    "ExecuteTime": {
     "end_time": "2023-11-17T22:16:55.607117Z",
     "start_time": "2023-11-17T22:16:55.534809Z"
    }
   },
   "outputs": [
    {
     "data": {
      "text/plain": "array([[ 3,  6,  9, 12, 15],\n       [18, 21, 24, 27, 30]])"
     },
     "execution_count": 11,
     "metadata": {},
     "output_type": "execute_result"
    }
   ],
   "source": [
    "numbers2 * 3\n"
   ]
  },
  {
   "cell_type": "markdown",
   "metadata": {},
   "source": [
    "### Broadcasting\n",
    "\n",
    "<font size=\"3.5\">\n",
    "\n",
    "* Arithmetische Operationen erfordern als Operanden zwei Arrays gleicher Grösse und Form\n",
    "* Wenn ein Operand ein skalarer Wert ist, dann führt NumPy eine Kalkulation auf jedem Element aus, so als ob der Skalar ein Array der gleichen Form wäre, d.h.\n",
    "    * **`numbers * 2`** ist äquivalent zu **`numbers * [2, 2, 2, 2, 2]`** für ein 5-Elemente-Array\n",
    "* Die Anwendung der Operation auf jedes Element wird als **Broadcasting** bezeichnet.\n",
    "* Broadcasting kann für Arrays unterschiedlicher Grösse und Form angewendet werden, was einige leistungsstarke Manipulationen ermöglicht\n",
    "\n",
    "</font>"
   ]
  },
  {
   "cell_type": "markdown",
   "metadata": {},
   "source": [
    "## Arithmetische Operationen zwischen Array's\n",
    "\n",
    "<font size=\"3.5\">\n",
    "\n",
    "* Operationen können zwischen Arrays gleicher Form ausgeführt werden\n",
    "\n",
    "</font>"
   ]
  },
  {
   "cell_type": "code",
   "execution_count": 12,
   "metadata": {
    "ExecuteTime": {
     "end_time": "2023-11-17T22:16:55.607152Z",
     "start_time": "2023-11-17T22:16:55.536980Z"
    }
   },
   "outputs": [],
   "source": [
    "numbers3 = np.linspace(1.1, 5.5, 5)\n"
   ]
  },
  {
   "cell_type": "code",
   "execution_count": 13,
   "metadata": {
    "ExecuteTime": {
     "end_time": "2023-11-17T22:16:55.607224Z",
     "start_time": "2023-11-17T22:16:55.541723Z"
    }
   },
   "outputs": [
    {
     "data": {
      "text/plain": "array([1.1, 2.2, 3.3, 4.4, 5.5])"
     },
     "execution_count": 13,
     "metadata": {},
     "output_type": "execute_result"
    }
   ],
   "source": [
    "numbers3\n"
   ]
  },
  {
   "cell_type": "code",
   "execution_count": 14,
   "metadata": {
    "ExecuteTime": {
     "end_time": "2023-11-17T22:16:55.607299Z",
     "start_time": "2023-11-17T22:16:55.550653Z"
    }
   },
   "outputs": [
    {
     "data": {
      "text/plain": "array([11, 12, 13, 14, 15])"
     },
     "execution_count": 14,
     "metadata": {},
     "output_type": "execute_result"
    }
   ],
   "source": [
    "numbers\n"
   ]
  },
  {
   "cell_type": "code",
   "execution_count": 15,
   "metadata": {
    "ExecuteTime": {
     "end_time": "2023-11-17T22:16:55.607384Z",
     "start_time": "2023-11-17T22:16:55.555300Z"
    }
   },
   "outputs": [
    {
     "data": {
      "text/plain": "array([12.1, 26.4, 42.9, 61.6, 82.5])"
     },
     "execution_count": 15,
     "metadata": {},
     "output_type": "execute_result"
    }
   ],
   "source": [
    "numbers * numbers3\n"
   ]
  },
  {
   "cell_type": "markdown",
   "metadata": {},
   "source": [
    "## Vergleichen von Arrays\n",
    "\n",
    "<font size=\"3.5\">\n",
    "\n",
    "* Die einzelnen Werte zwischen zwei Arrays können mittels Vergleichsoperatoren verglichen werden\n",
    "* Die Vergleiche werden elementweise durchgeführt\n",
    "* Als Resultat wird ein Array mit Booleschen Werten `True` und `False` erzeugt, die dem Vergleichsergebnis jedes Elements entsprechen\n",
    "\n",
    "</font>"
   ]
  },
  {
   "cell_type": "code",
   "execution_count": 16,
   "metadata": {
    "ExecuteTime": {
     "end_time": "2023-11-17T22:16:55.607452Z",
     "start_time": "2023-11-17T22:16:55.560132Z"
    }
   },
   "outputs": [
    {
     "data": {
      "text/plain": "array([11, 12, 13, 14, 15])"
     },
     "execution_count": 16,
     "metadata": {},
     "output_type": "execute_result"
    }
   ],
   "source": [
    "numbers\n"
   ]
  },
  {
   "cell_type": "code",
   "execution_count": 17,
   "metadata": {
    "ExecuteTime": {
     "end_time": "2023-11-17T22:16:55.607520Z",
     "start_time": "2023-11-17T22:16:55.563460Z"
    }
   },
   "outputs": [
    {
     "data": {
      "text/plain": "array([False, False,  True,  True,  True])"
     },
     "execution_count": 17,
     "metadata": {},
     "output_type": "execute_result"
    }
   ],
   "source": [
    "numbers >= 13\n"
   ]
  },
  {
   "cell_type": "markdown",
   "metadata": {},
   "source": [
    "-----"
   ]
  },
  {
   "cell_type": "code",
   "execution_count": 18,
   "metadata": {
    "ExecuteTime": {
     "end_time": "2023-11-17T22:16:55.607789Z",
     "start_time": "2023-11-17T22:16:55.568529Z"
    }
   },
   "outputs": [
    {
     "data": {
      "text/plain": "array([11, 12, 13, 14, 15])"
     },
     "execution_count": 18,
     "metadata": {},
     "output_type": "execute_result"
    }
   ],
   "source": [
    "numbers\n"
   ]
  },
  {
   "cell_type": "code",
   "execution_count": 19,
   "metadata": {
    "ExecuteTime": {
     "end_time": "2023-11-17T22:16:55.607867Z",
     "start_time": "2023-11-17T22:16:55.576512Z"
    }
   },
   "outputs": [
    {
     "data": {
      "text/plain": "array([1.1, 2.2, 3.3, 4.4, 5.5])"
     },
     "execution_count": 19,
     "metadata": {},
     "output_type": "execute_result"
    }
   ],
   "source": [
    "numbers3\n"
   ]
  },
  {
   "cell_type": "code",
   "execution_count": 20,
   "metadata": {
    "ExecuteTime": {
     "end_time": "2023-11-17T22:16:55.607948Z",
     "start_time": "2023-11-17T22:16:55.583199Z"
    }
   },
   "outputs": [
    {
     "data": {
      "text/plain": "array([ True,  True,  True,  True,  True])"
     },
     "execution_count": 20,
     "metadata": {},
     "output_type": "execute_result"
    }
   ],
   "source": [
    "numbers3 < numbers\n"
   ]
  },
  {
   "cell_type": "markdown",
   "metadata": {},
   "source": [
    "----"
   ]
  },
  {
   "cell_type": "code",
   "execution_count": 21,
   "metadata": {
    "ExecuteTime": {
     "end_time": "2023-11-17T22:16:55.608109Z",
     "start_time": "2023-11-17T22:16:55.589032Z"
    }
   },
   "outputs": [],
   "source": [
    "numbers4 = np.array([11, 10, 13, 10, 15])\n"
   ]
  },
  {
   "cell_type": "code",
   "execution_count": 22,
   "metadata": {
    "ExecuteTime": {
     "end_time": "2023-11-17T22:16:55.608189Z",
     "start_time": "2023-11-17T22:16:55.594053Z"
    }
   },
   "outputs": [
    {
     "data": {
      "text/plain": "array([11, 10, 13, 10, 15])"
     },
     "execution_count": 22,
     "metadata": {},
     "output_type": "execute_result"
    }
   ],
   "source": [
    "numbers4\n"
   ]
  },
  {
   "cell_type": "code",
   "execution_count": 23,
   "metadata": {
    "ExecuteTime": {
     "end_time": "2023-11-17T22:16:55.608257Z",
     "start_time": "2023-11-17T22:16:55.596157Z"
    }
   },
   "outputs": [
    {
     "data": {
      "text/plain": "array([11, 12, 13, 14, 15])"
     },
     "execution_count": 23,
     "metadata": {},
     "output_type": "execute_result"
    }
   ],
   "source": [
    "numbers\n"
   ]
  },
  {
   "cell_type": "code",
   "execution_count": 24,
   "metadata": {
    "ExecuteTime": {
     "end_time": "2023-11-17T22:16:55.608336Z",
     "start_time": "2023-11-17T22:16:55.598597Z"
    }
   },
   "outputs": [
    {
     "data": {
      "text/plain": "array([ True, False,  True, False,  True])"
     },
     "execution_count": 24,
     "metadata": {},
     "output_type": "execute_result"
    }
   ],
   "source": [
    "numbers4 == numbers\n"
   ]
  },
  {
   "cell_type": "code",
   "execution_count": 25,
   "metadata": {
    "ExecuteTime": {
     "end_time": "2023-11-17T22:16:55.608404Z",
     "start_time": "2023-11-17T22:16:55.601016Z"
    }
   },
   "outputs": [
    {
     "data": {
      "text/plain": "array([False,  True, False,  True, False])"
     },
     "execution_count": 25,
     "metadata": {},
     "output_type": "execute_result"
    }
   ],
   "source": [
    "numbers4 < numbers\n"
   ]
  },
  {
   "cell_type": "markdown",
   "metadata": {},
   "source": [
    "---"
   ]
  },
  {
   "cell_type": "code",
   "execution_count": 26,
   "metadata": {
    "ExecuteTime": {
     "end_time": "2023-11-17T22:16:55.608449Z",
     "start_time": "2023-11-17T22:16:55.602986Z"
    }
   },
   "outputs": [],
   "source": [
    "numbers5 = np.arange(9, 19).reshape(2, 5)\n"
   ]
  },
  {
   "cell_type": "code",
   "execution_count": 27,
   "metadata": {
    "ExecuteTime": {
     "end_time": "2023-11-17T22:16:55.615320Z",
     "start_time": "2023-11-17T22:16:55.604724Z"
    }
   },
   "outputs": [],
   "source": [
    "numbers6 = np.full(5, 10)\n"
   ]
  },
  {
   "cell_type": "code",
   "execution_count": 28,
   "metadata": {
    "ExecuteTime": {
     "end_time": "2023-11-17T22:16:55.654305Z",
     "start_time": "2023-11-17T22:16:55.607092Z"
    }
   },
   "outputs": [
    {
     "data": {
      "text/plain": "array([[ 9, 10, 11, 12, 13],\n       [14, 15, 16, 17, 18]])"
     },
     "execution_count": 28,
     "metadata": {},
     "output_type": "execute_result"
    }
   ],
   "source": [
    "numbers5\n"
   ]
  },
  {
   "cell_type": "code",
   "execution_count": 29,
   "metadata": {
    "ExecuteTime": {
     "end_time": "2023-11-17T22:16:55.654492Z",
     "start_time": "2023-11-17T22:16:55.610164Z"
    }
   },
   "outputs": [
    {
     "data": {
      "text/plain": "array([10, 10, 10, 10, 10])"
     },
     "execution_count": 29,
     "metadata": {},
     "output_type": "execute_result"
    }
   ],
   "source": [
    "numbers6\n"
   ]
  },
  {
   "cell_type": "code",
   "execution_count": 30,
   "metadata": {
    "ExecuteTime": {
     "end_time": "2023-11-17T22:16:55.655229Z",
     "start_time": "2023-11-17T22:16:55.613392Z"
    }
   },
   "outputs": [
    {
     "data": {
      "text/plain": "array([[False,  True, False, False, False],\n       [False, False, False, False, False]])"
     },
     "execution_count": 30,
     "metadata": {},
     "output_type": "execute_result"
    }
   ],
   "source": [
    "numbers6 == numbers5\n"
   ]
  },
  {
   "cell_type": "code",
   "execution_count": 31,
   "metadata": {
    "ExecuteTime": {
     "end_time": "2023-11-17T22:16:55.655730Z",
     "start_time": "2023-11-17T22:16:55.616153Z"
    }
   },
   "outputs": [
    {
     "data": {
      "text/plain": "array([[ True,  True, False, False, False],\n       [False, False, False, False, False]])"
     },
     "execution_count": 31,
     "metadata": {},
     "output_type": "execute_result"
    }
   ],
   "source": [
    "numbers6 >= numbers5"
   ]
  }
 ],
 "metadata": {
  "kernelspec": {
   "display_name": "Python 3 (ipykernel)",
   "language": "python",
   "name": "python3"
  },
  "language_info": {
   "codemirror_mode": {
    "name": "ipython",
    "version": 3
   },
   "file_extension": ".py",
   "mimetype": "text/x-python",
   "name": "python",
   "nbconvert_exporter": "python",
   "pygments_lexer": "ipython3",
   "version": "3.10.5"
  },
  "vscode": {
   "interpreter": {
    "hash": "aee8b7b246df8f9039afb4144a1f6fd8d2ca17a180786b69acc140d282b71a49"
   }
  }
 },
 "nbformat": 4,
 "nbformat_minor": 4
}
