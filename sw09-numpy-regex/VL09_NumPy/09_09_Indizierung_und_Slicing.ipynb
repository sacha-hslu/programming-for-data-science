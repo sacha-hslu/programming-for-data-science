{
 "cells": [
  {
   "cell_type": "markdown",
   "metadata": {},
   "source": [
    "# 9.9 Indizierung und Slicing "
   ]
  },
  {
   "cell_type": "markdown",
   "metadata": {},
   "source": [
    "## Indizierung und Slicing in eindimensionalen Array's\n",
    "\n",
    "<font size=\"3.5\">\n",
    "\n",
    "* Eindimensionale Array's können wie Listen **indiziert** und in Bereiche **geschnitten** werden\n",
    "\n",
    "</font>"
   ]
  },
  {
   "cell_type": "code",
   "execution_count": 1,
   "metadata": {
    "ExecuteTime": {
     "end_time": "2023-11-14T16:12:07.333521Z",
     "start_time": "2023-11-14T16:12:07.277374Z"
    }
   },
   "outputs": [],
   "source": [
    "import numpy as np\n"
   ]
  },
  {
   "cell_type": "code",
   "execution_count": 2,
   "metadata": {
    "ExecuteTime": {
     "end_time": "2023-11-14T16:12:07.826456Z",
     "start_time": "2023-11-14T16:12:07.817452Z"
    }
   },
   "outputs": [],
   "source": [
    "numbers = np.arange(1, 6)\n"
   ]
  },
  {
   "cell_type": "code",
   "execution_count": 3,
   "metadata": {
    "ExecuteTime": {
     "end_time": "2023-11-14T16:12:08.711321Z",
     "start_time": "2023-11-14T16:12:08.701881Z"
    }
   },
   "outputs": [
    {
     "data": {
      "text/plain": "array([1, 2, 3, 4, 5])"
     },
     "execution_count": 3,
     "metadata": {},
     "output_type": "execute_result"
    }
   ],
   "source": [
    "numbers\n"
   ]
  },
  {
   "cell_type": "code",
   "execution_count": 4,
   "metadata": {
    "ExecuteTime": {
     "end_time": "2023-11-14T16:12:11.321827Z",
     "start_time": "2023-11-14T16:12:11.310434Z"
    }
   },
   "outputs": [
    {
     "data": {
      "text/plain": "2"
     },
     "execution_count": 4,
     "metadata": {},
     "output_type": "execute_result"
    }
   ],
   "source": [
    "numbers[1]\n"
   ]
  },
  {
   "cell_type": "code",
   "execution_count": 5,
   "metadata": {
    "ExecuteTime": {
     "end_time": "2023-11-14T16:12:13.645406Z",
     "start_time": "2023-11-14T16:12:13.641286Z"
    }
   },
   "outputs": [
    {
     "data": {
      "text/plain": "array([3, 4])"
     },
     "execution_count": 5,
     "metadata": {},
     "output_type": "execute_result"
    }
   ],
   "source": [
    "numbers[2:4]\n"
   ]
  },
  {
   "cell_type": "markdown",
   "metadata": {},
   "source": [
    "## Indizierung in zweidimensionalen Array's\n",
    "\n",
    "<font size=\"3.5\">\n",
    "\n",
    "* Um ein Element in einem zweidimensionalen Array auszuwählen, geben Sie ein Tupel an, das die Zeilen- und Spaltenindizes des Elements in eckigen Klammern enthält\n",
    "\n",
    "</font>"
   ]
  },
  {
   "cell_type": "code",
   "execution_count": 6,
   "metadata": {
    "ExecuteTime": {
     "end_time": "2023-11-14T16:13:29.640525Z",
     "start_time": "2023-11-14T16:13:29.637489Z"
    }
   },
   "outputs": [],
   "source": [
    "grades = np.array([[87, 96, 70], [100, 87, 90],\n",
    "                   [94, 77, 90], [100, 81, 82]])\n"
   ]
  },
  {
   "cell_type": "code",
   "execution_count": 7,
   "metadata": {
    "ExecuteTime": {
     "end_time": "2023-11-14T16:13:30.232572Z",
     "start_time": "2023-11-14T16:13:30.220454Z"
    }
   },
   "outputs": [
    {
     "data": {
      "text/plain": "array([[ 87,  96,  70],\n       [100,  87,  90],\n       [ 94,  77,  90],\n       [100,  81,  82]])"
     },
     "execution_count": 7,
     "metadata": {},
     "output_type": "execute_result"
    }
   ],
   "source": [
    "grades\n"
   ]
  },
  {
   "cell_type": "code",
   "execution_count": 8,
   "metadata": {
    "tags": [],
    "ExecuteTime": {
     "end_time": "2023-11-14T16:13:32.019713Z",
     "start_time": "2023-11-14T16:13:32.006149Z"
    }
   },
   "outputs": [
    {
     "data": {
      "text/plain": "96"
     },
     "execution_count": 8,
     "metadata": {},
     "output_type": "execute_result"
    }
   ],
   "source": [
    "grades[0, 1]  # row 0, column 1\n"
   ]
  },
  {
   "cell_type": "markdown",
   "metadata": {},
   "source": [
    "## Auswählen einer Teilmenge von zweidimensionalen Array-Zeilen\n",
    "\n",
    "<font size=\"3.5\">\n",
    "\n",
    "* Um eine einzelne Zeile auszuwählen, geben Sie nur einen Index in eckigen Klammern an\n",
    "\n",
    "</font>"
   ]
  },
  {
   "cell_type": "code",
   "execution_count": null,
   "metadata": {},
   "outputs": [],
   "source": [
    "grades[1]\n"
   ]
  },
  {
   "cell_type": "markdown",
   "metadata": {},
   "source": [
    "\n",
    "<font size=\"3.5\">\n",
    "\n",
    "* Selektieren Sie mehrere aufeinanderfolgende Zeilen mit Slice-Notation\n",
    "\n",
    "</font>"
   ]
  },
  {
   "cell_type": "code",
   "execution_count": null,
   "metadata": {},
   "outputs": [],
   "source": [
    "grades[0:2]\n"
   ]
  },
  {
   "cell_type": "markdown",
   "metadata": {},
   "source": [
    "\n",
    "<font size=\"3.5\">\n",
    "\n",
    "* Selektieren Sie mehrere nicht aufeinanderfolgende Zeilen mit einer **Liste von Zeilenindizes**\n",
    "\n",
    "</font>"
   ]
  },
  {
   "cell_type": "code",
   "execution_count": null,
   "metadata": {},
   "outputs": [],
   "source": [
    "grades[[1, 3]]\n"
   ]
  },
  {
   "cell_type": "markdown",
   "metadata": {},
   "source": [
    "## Auswahl einer Teilmenge der Spalten eines zweidimensionalen Arrays\n",
    "\n",
    "<font size=\"3.5\">\n",
    "\n",
    "* Der **Spaltenindex** kann auch ein spezifischer **Index**, ein **Slice** oder eine **Liste** sein.\n",
    "\n",
    "</font>"
   ]
  },
  {
   "cell_type": "code",
   "execution_count": 9,
   "metadata": {
    "ExecuteTime": {
     "end_time": "2023-11-14T16:16:42.185214Z",
     "start_time": "2023-11-14T16:16:42.172308Z"
    }
   },
   "outputs": [
    {
     "data": {
      "text/plain": "array([[ 87,  96,  70],\n       [100,  87,  90],\n       [ 94,  77,  90],\n       [100,  81,  82]])"
     },
     "execution_count": 9,
     "metadata": {},
     "output_type": "execute_result"
    }
   ],
   "source": [
    "grades\n"
   ]
  },
  {
   "cell_type": "code",
   "execution_count": 10,
   "metadata": {
    "ExecuteTime": {
     "end_time": "2023-11-14T16:16:43.308207Z",
     "start_time": "2023-11-14T16:16:43.295530Z"
    }
   },
   "outputs": [
    {
     "data": {
      "text/plain": "array([ 87, 100,  94, 100])"
     },
     "execution_count": 10,
     "metadata": {},
     "output_type": "execute_result"
    }
   ],
   "source": [
    "grades[:, 0]\n"
   ]
  },
  {
   "cell_type": "code",
   "execution_count": 11,
   "metadata": {
    "ExecuteTime": {
     "end_time": "2023-11-14T16:16:46.991833Z",
     "start_time": "2023-11-14T16:16:46.987736Z"
    }
   },
   "outputs": [
    {
     "data": {
      "text/plain": "array([[96, 70],\n       [87, 90],\n       [77, 90],\n       [81, 82]])"
     },
     "execution_count": 11,
     "metadata": {},
     "output_type": "execute_result"
    }
   ],
   "source": [
    "grades[:, 1:3]\n"
   ]
  },
  {
   "cell_type": "code",
   "execution_count": 12,
   "metadata": {
    "ExecuteTime": {
     "end_time": "2023-11-14T16:17:04.334802Z",
     "start_time": "2023-11-14T16:17:04.323764Z"
    }
   },
   "outputs": [
    {
     "data": {
      "text/plain": "array([[ 87,  70],\n       [100,  90],\n       [ 94,  90],\n       [100,  82]])"
     },
     "execution_count": 12,
     "metadata": {},
     "output_type": "execute_result"
    }
   ],
   "source": [
    "grades[:, [0, 2]]\n"
   ]
  },
  {
   "cell_type": "markdown",
   "metadata": {},
   "source": [
    "## Auswahl von Zeile und Spalte "
   ]
  },
  {
   "cell_type": "code",
   "execution_count": 14,
   "metadata": {
    "ExecuteTime": {
     "end_time": "2023-11-14T16:25:16.832658Z",
     "start_time": "2023-11-14T16:25:16.825566Z"
    }
   },
   "outputs": [
    {
     "data": {
      "text/plain": "array([[ 87,  96,  70],\n       [100,  87,  90],\n       [ 94,  77,  90],\n       [100,  81,  82]])"
     },
     "execution_count": 14,
     "metadata": {},
     "output_type": "execute_result"
    }
   ],
   "source": [
    "grades\n"
   ]
  },
  {
   "cell_type": "code",
   "execution_count": 15,
   "metadata": {
    "ExecuteTime": {
     "end_time": "2023-11-14T16:25:17.822036Z",
     "start_time": "2023-11-14T16:25:17.811772Z"
    }
   },
   "outputs": [
    {
     "data": {
      "text/plain": "array([[96, 70],\n       [87, 90]])"
     },
     "execution_count": 15,
     "metadata": {},
     "output_type": "execute_result"
    }
   ],
   "source": [
    "grades[0:2, 1:3]\n"
   ]
  },
  {
   "cell_type": "code",
   "execution_count": null,
   "metadata": {},
   "outputs": [],
   "source": [
    "grades[1:3, 1:2]\n"
   ]
  },
  {
   "cell_type": "code",
   "execution_count": null,
   "metadata": {},
   "outputs": [],
   "source": [
    "grades[1:3, 1]\n"
   ]
  },
  {
   "cell_type": "markdown",
   "metadata": {},
   "source": [
    "<font size=\"3.5\">\n",
    "\n",
    "* Wir wollen \n",
    "    * von der 2. Zeile (Index 1), das erste Element (Index 0), \n",
    "    * sowie von der 4. Zeile (Index 3) das 3. Element (Index 2)\n",
    "\n",
    "    </font>"
   ]
  },
  {
   "cell_type": "code",
   "execution_count": 13,
   "metadata": {
    "ExecuteTime": {
     "end_time": "2023-11-14T16:21:04.519697Z",
     "start_time": "2023-11-14T16:21:04.509628Z"
    }
   },
   "outputs": [
    {
     "data": {
      "text/plain": "array([100,  82])"
     },
     "execution_count": 13,
     "metadata": {},
     "output_type": "execute_result"
    }
   ],
   "source": [
    "grades[[1, 3], [0, 2]]\n"
   ]
  },
  {
   "cell_type": "code",
   "execution_count": null,
   "outputs": [],
   "source": [],
   "metadata": {
    "collapsed": false
   }
  }
 ],
 "metadata": {
  "kernelspec": {
   "display_name": "Python 3 (ipykernel)",
   "language": "python",
   "name": "python3"
  },
  "language_info": {
   "codemirror_mode": {
    "name": "ipython",
    "version": 3
   },
   "file_extension": ".py",
   "mimetype": "text/x-python",
   "name": "python",
   "nbconvert_exporter": "python",
   "pygments_lexer": "ipython3",
   "version": "3.10.5"
  },
  "vscode": {
   "interpreter": {
    "hash": "aee8b7b246df8f9039afb4144a1f6fd8d2ca17a180786b69acc140d282b71a49"
   }
  }
 },
 "nbformat": 4,
 "nbformat_minor": 4
}
