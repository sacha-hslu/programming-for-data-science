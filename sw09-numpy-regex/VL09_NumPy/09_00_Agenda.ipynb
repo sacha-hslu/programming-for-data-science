{
 "cells": [
  {
   "cell_type": "markdown",
   "metadata": {
    "slideshow": {
     "slide_type": "slide"
    }
   },
   "source": [
    "# 9. Array-orientierte Programmierung mit NumPy"
   ]
  },
  {
   "cell_type": "markdown",
   "metadata": {
    "slideshow": {
     "slide_type": "slide"
    }
   },
   "source": [
    "## Agenda \n",
    "\n",
    "<font size=\"3.5\">\n",
    "\n",
    "* [9.1 NumPy](09_01_NumPy.ipynb)\n",
    "* [9.2 Erstellen von Arrays aus vorhandenen Daten](09_02_Erstellen_von_Arrays_aus_vorhandenen_Daten.ipynb)\n",
    "* [9.3 Array-Attribute](09_03_Array-Attribute.ipynb)\n",
    "* [9.4 Füllen von Arrays mit bestimmten Werten](09_04_Fuellen_von_Arrays_mit_bestimmten_Werten.ipynb)\n",
    "* [9.5 Erstellen von Arrays aus Bereichen](09_05_Erstellen_von_Arrays_aus_Bereichen.ipynb)\n",
    "* [9.6 Array-Operatoren](09_06_Array_Operatoren.ipynb)\n",
    "* [9.7 NumPy Berechnungsmethoden](09_07_NumPy_Berechnungsmethoden.ipynb)\n",
    "* [9.8 Universelle Funktionen](09_08_Universelle_Funktionen.ipynb)\n",
    "* [9.9 Indizierung und Slicing ](09_09_Indizierung_und_Slicing.ipynb)\n",
    "* [9.10 Views](09_10_Views.ipynb)\n",
    "* [9.11 Deep Copies](09_11_Deep_Copies.ipynb)\n",
    "* [9.12 Umformung und Transponierung](09_12_Umformung_und_Transponierung.ipynb)\n",
    "\n",
    "</font>"
   ]
  },
  {
   "cell_type": "markdown",
   "metadata": {},
   "source": []
  }
 ],
 "metadata": {
  "celltoolbar": "Slideshow",
  "kernelspec": {
   "display_name": "Python 3 (ipykernel)",
   "language": "python",
   "name": "python3"
  },
  "language_info": {
   "codemirror_mode": {
    "name": "ipython",
    "version": 3
   },
   "file_extension": ".py",
   "mimetype": "text/x-python",
   "name": "python",
   "nbconvert_exporter": "python",
   "pygments_lexer": "ipython3",
   "version": "3.10.5"
  }
 },
 "nbformat": 4,
 "nbformat_minor": 4
}
