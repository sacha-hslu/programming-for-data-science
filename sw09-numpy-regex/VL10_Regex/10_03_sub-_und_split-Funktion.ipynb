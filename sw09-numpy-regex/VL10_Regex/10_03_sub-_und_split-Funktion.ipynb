{
 "cells": [
  {
   "cell_type": "markdown",
   "metadata": {},
   "source": [
    "# 10.3 Ersetzen von Substrings und Aufteilen von Strings"
   ]
  },
  {
   "cell_type": "markdown",
   "metadata": {},
   "source": [
    "## Funktion `sub`- Ersetzen von Muster \n",
    "\n",
    "<font size=\"3.5\">\n",
    "\n",
    "**`re.sub(pattern, repl, string, count=0, flags=0) --> str`**\n",
    "* Die **`sub`-Funktion** ersetzt **alle** Vorkommen eines Musters `pattern` durch den von Ihnen angegebenen Ersetzungstext `repl`;\n",
    "* Falls es nichts zu ersetzen gibt, wird die Originalzeichenkette zurückgegeben, andernfalls die Zeichenkette mit den Ersetzungen.\n",
    "\n",
    "</font>"
   ]
  },
  {
   "cell_type": "code",
   "execution_count": null,
   "metadata": {},
   "outputs": [],
   "source": [
    "import re\n"
   ]
  },
  {
   "cell_type": "code",
   "execution_count": null,
   "metadata": {},
   "outputs": [],
   "source": [
    "re.sub(r'\\t', ', ', '1\\t2\\t3\\t4')\n"
   ]
  },
  {
   "cell_type": "markdown",
   "metadata": {},
   "source": [
    "\n",
    "<font size=\"3.5\">\n",
    "\n",
    "* Das Schlüsselwort-Argument `count` kann verwendet werden, um die maximale Anzahl von Ersetzungen anzugeben.\n",
    "* `count=0` entspricht dem **default** und beduetet, dass alle Übereinstimmungen ersetzt werden.\n",
    "\n",
    "</font>"
   ]
  },
  {
   "cell_type": "code",
   "execution_count": null,
   "metadata": {},
   "outputs": [],
   "source": [
    "re.sub(r'\\t', ', ', '1\\t2\\t3\\t4', count=2)\n"
   ]
  },
  {
   "cell_type": "markdown",
   "metadata": {},
   "source": [
    "## Funktion `Split` \n",
    "\n",
    "<font size=\"3.5\">\n",
    "\n",
    "**`re.split(pattern, string, maxsplit=0, flags=0) --> list`**\n",
    "* Die **`split` Funktion** _tokenisiert_ eine Zeichenkette, wobei ein regulärer Ausdruck `pattern` zur Angabe des _Delimiters_ verwendet wird;\n",
    "* Es wird eine Liste von Zeichenfolgen zurückgegeben.\n",
    "\n",
    "</font>"
   ]
  },
  {
   "cell_type": "code",
   "execution_count": null,
   "metadata": {},
   "outputs": [],
   "source": [
    "re.split(r',\\s*', '1,  2,  3,4,    5,6,7,8')\n"
   ]
  },
  {
   "cell_type": "code",
   "execution_count": null,
   "metadata": {},
   "outputs": [],
   "source": [
    "re.split(':', '1,  2,  3,4,    5,6,7,8')\n"
   ]
  },
  {
   "cell_type": "markdown",
   "metadata": {},
   "source": [
    "<font size=\"3.5\">\n",
    "\n",
    "* Das Schlüsselwortargument `maxsplit` gibt die maximale Anzahl von Aufteilungen an.\n",
    "\n",
    "</font>"
   ]
  },
  {
   "cell_type": "code",
   "execution_count": null,
   "metadata": {},
   "outputs": [],
   "source": [
    "re.split(r',\\s*', '1,  2,  3,4,    5,6,7,8', maxsplit=3)\n"
   ]
  }
 ],
 "metadata": {
  "kernelspec": {
   "display_name": "Python 3.10.5 64-bit",
   "language": "python",
   "name": "python3"
  },
  "language_info": {
   "codemirror_mode": {
    "name": "ipython",
    "version": 3
   },
   "file_extension": ".py",
   "mimetype": "text/x-python",
   "name": "python",
   "nbconvert_exporter": "python",
   "pygments_lexer": "ipython3",
   "version": "3.10.5"
  },
  "vscode": {
   "interpreter": {
    "hash": "aee8b7b246df8f9039afb4144a1f6fd8d2ca17a180786b69acc140d282b71a49"
   }
  }
 },
 "nbformat": 4,
 "nbformat_minor": 4
}
