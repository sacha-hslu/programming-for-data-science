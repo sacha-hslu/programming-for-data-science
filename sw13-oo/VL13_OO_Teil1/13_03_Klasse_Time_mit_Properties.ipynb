{
 "cells": [
  {
   "cell_type": "markdown",
   "id": "494ede01-9d3e-4957-9c69-defa2d130693",
   "metadata": {},
   "source": [
    "# 13.3 Benutzerdefinierte Klasse `Time` mit Properties für den Datenzugriff"
   ]
  },
  {
   "cell_type": "markdown",
   "id": "3e0e86ce-40ca-4613-b9c8-95ae52d1f439",
   "metadata": {},
   "source": [
    "## Die Spezialmethode `__init__` mit Default-Parameterwerten\n",
    "\n",
    "<font size=\"3.5\">\n",
    "\n",
    "* Sofern keine Werte als Input von Aussen übergeben werden, werden den Attributen die Defaultwerte 0 zugewiesen.\n",
    "\n",
    "* Die Statements `self.hour` und `self.minute` scheinen, die Attribute `hour` und `minute` zu erzeugen ...\n",
    "* ABER: Diese Statements werden in der Tat die Properties `hour`, und `minute` aufrufen, sobald die Properties definiert sind."
   ]
  },
  {
   "cell_type": "code",
   "execution_count": 1,
   "id": "ef613586-fcc6-43e7-90f2-312f23f68cb4",
   "metadata": {},
   "outputs": [],
   "source": [
    "class Time:\n",
    "    \"\"\"Class Time with read-write properties.\"\"\"\n",
    "\n",
    "    def __init__(self, hour=0, minute=0):\n",
    "        \"\"\"Initialize each attribute.\"\"\"\n",
    "        self.hour = hour  # 0-23\n",
    "        self.minute = minute  # 0-59"
   ]
  },
  {
   "cell_type": "code",
   "execution_count": 2,
   "id": "9916b9cc-c61b-49bd-9271-174c818e2629",
   "metadata": {},
   "outputs": [],
   "source": [
    "time = Time()"
   ]
  },
  {
   "cell_type": "code",
   "execution_count": 3,
   "id": "70cd8298-4fe7-418d-9d74-445694603126",
   "metadata": {},
   "outputs": [
    {
     "data": {
      "text/plain": [
       "{'hour': 0, 'minute': 0}"
      ]
     },
     "execution_count": 3,
     "metadata": {},
     "output_type": "execute_result"
    }
   ],
   "source": [
    "vars(time)"
   ]
  },
  {
   "cell_type": "code",
   "execution_count": 4,
   "id": "e11f343d-7202-4160-8453-a95b3ec9152d",
   "metadata": {},
   "outputs": [],
   "source": [
    "time.hour = 25  # Ungültiger Wert"
   ]
  },
  {
   "cell_type": "code",
   "execution_count": 5,
   "id": "791420c6-935e-4688-8a4d-40bed02e86f7",
   "metadata": {},
   "outputs": [
    {
     "data": {
      "text/plain": [
       "25"
      ]
     },
     "execution_count": 5,
     "metadata": {},
     "output_type": "execute_result"
    }
   ],
   "source": [
    "time.hour"
   ]
  },
  {
   "cell_type": "markdown",
   "id": "cf92402b-9f17-4a61-a34d-d7f680ec740a",
   "metadata": {},
   "source": [
    "## `hour` read-write Property\n",
    "\n",
    "<font size=\"3.5\">\n",
    "\n",
    "* Properties mit dem Namen `hour` definieren öffentlich verfügbare **read-write Properties** welche intern das Attribut `_hour` referenzieren\n",
    "\n",
    "* Der **`@property` Decorator** leitet die Property-Definition der **Getter-Methode** ein, welche nur den Parameter `self` erhält.\n",
    "\n",
    "* Der **`@hour.setter` Decorator** leitet die Property-Definition der **Setter-Methode** ein, welche sowohl `self`, als auch den Wert, der gesetzt werden soll, erwartet."
   ]
  },
  {
   "cell_type": "code",
   "execution_count": 6,
   "id": "234aee01-993d-4d4f-9917-048a5795ee06",
   "metadata": {},
   "outputs": [],
   "source": [
    "class Time:\n",
    "    \"\"\"Class Time with read-write properties.\"\"\"\n",
    "\n",
    "    def __init__(self, hour=0, minute=0):\n",
    "        \"\"\"Initialize each attribute.\"\"\"\n",
    "        self.hour = hour  # 0-23\n",
    "        self.minute = minute  # 0-59\n",
    "\n",
    "\n",
    "    @property\n",
    "    def hour(self):\n",
    "        \"\"\"Return the hour.\"\"\"\n",
    "        return self._hour\n",
    "\n",
    "    @hour.setter\n",
    "    def hour(self, hour):\n",
    "        \"\"\"Set the hour.\"\"\"\n",
    "        if not (0 <= hour < 24):\n",
    "            raise ValueError(f'Hour ({hour}) must be 0-23')\n",
    "\n",
    "        self._hour = hour"
   ]
  },
  {
   "cell_type": "code",
   "execution_count": 7,
   "id": "5c1d8ac7-2b60-430b-a4fb-58a7a64d6cae",
   "metadata": {},
   "outputs": [],
   "source": [
    "time = Time()"
   ]
  },
  {
   "cell_type": "code",
   "execution_count": 8,
   "id": "3522b418-a93c-4900-9371-9a57819abc56",
   "metadata": {},
   "outputs": [],
   "source": [
    "time.hour = 4"
   ]
  },
  {
   "cell_type": "code",
   "execution_count": 9,
   "id": "1a1c2360-ca63-4b41-8792-c104ff014f3f",
   "metadata": {},
   "outputs": [
    {
     "data": {
      "text/plain": [
       "4"
      ]
     },
     "execution_count": 9,
     "metadata": {},
     "output_type": "execute_result"
    }
   ],
   "source": [
    "time.hour"
   ]
  },
  {
   "cell_type": "code",
   "execution_count": 10,
   "id": "576e0787-38db-40f2-8ded-05f4171d99ff",
   "metadata": {},
   "outputs": [],
   "source": [
    "time.hour = 23"
   ]
  },
  {
   "cell_type": "code",
   "execution_count": 11,
   "id": "0456700f-7107-4c2a-a28e-df1cb57e2e95",
   "metadata": {},
   "outputs": [
    {
     "data": {
      "text/plain": [
       "23"
      ]
     },
     "execution_count": 11,
     "metadata": {},
     "output_type": "execute_result"
    }
   ],
   "source": [
    "time.hour"
   ]
  },
  {
   "cell_type": "code",
   "execution_count": 12,
   "id": "5db6f0a0-b2cb-4422-b0a2-909b5fe3d2a4",
   "metadata": {},
   "outputs": [
    {
     "ename": "ValueError",
     "evalue": "Hour (24) must be 0-23",
     "output_type": "error",
     "traceback": [
      "\u001b[0;31m---------------------------------------------------------------------------\u001b[0m",
      "\u001b[0;31mValueError\u001b[0m                                Traceback (most recent call last)",
      "Cell \u001b[0;32mIn[12], line 1\u001b[0m\n\u001b[0;32m----> 1\u001b[0m \u001b[43mtime\u001b[49m\u001b[38;5;241;43m.\u001b[39;49m\u001b[43mhour\u001b[49m \u001b[38;5;241m=\u001b[39m \u001b[38;5;241m24\u001b[39m\n",
      "Cell \u001b[0;32mIn[6], line 19\u001b[0m, in \u001b[0;36mTime.hour\u001b[0;34m(self, hour)\u001b[0m\n\u001b[1;32m     17\u001b[0m \u001b[38;5;250m\u001b[39m\u001b[38;5;124;03m\"\"\"Set the hour.\"\"\"\u001b[39;00m\n\u001b[1;32m     18\u001b[0m \u001b[38;5;28;01mif\u001b[39;00m \u001b[38;5;129;01mnot\u001b[39;00m (\u001b[38;5;241m0\u001b[39m \u001b[38;5;241m<\u001b[39m\u001b[38;5;241m=\u001b[39m hour \u001b[38;5;241m<\u001b[39m \u001b[38;5;241m24\u001b[39m):\n\u001b[0;32m---> 19\u001b[0m     \u001b[38;5;28;01mraise\u001b[39;00m \u001b[38;5;167;01mValueError\u001b[39;00m(\u001b[38;5;124mf\u001b[39m\u001b[38;5;124m'\u001b[39m\u001b[38;5;124mHour (\u001b[39m\u001b[38;5;132;01m{\u001b[39;00mhour\u001b[38;5;132;01m}\u001b[39;00m\u001b[38;5;124m) must be 0-23\u001b[39m\u001b[38;5;124m'\u001b[39m)\n\u001b[1;32m     21\u001b[0m \u001b[38;5;28mself\u001b[39m\u001b[38;5;241m.\u001b[39m_hour \u001b[38;5;241m=\u001b[39m hour\n",
      "\u001b[0;31mValueError\u001b[0m: Hour (24) must be 0-23"
     ]
    }
   ],
   "source": [
    "time.hour = 24"
   ]
  },
  {
   "cell_type": "code",
   "execution_count": 13,
   "id": "8b3d377a-273c-4a2b-9a36-6cd00ad164da",
   "metadata": {},
   "outputs": [],
   "source": [
    "time = Time(13, 5)"
   ]
  },
  {
   "cell_type": "code",
   "execution_count": 14,
   "id": "6c739900-12c2-467e-9873-dd4b9e0f9e34",
   "metadata": {},
   "outputs": [
    {
     "data": {
      "text/plain": [
       "<__main__.Time at 0x7f71cdcac280>"
      ]
     },
     "execution_count": 14,
     "metadata": {},
     "output_type": "execute_result"
    }
   ],
   "source": [
    "time"
   ]
  },
  {
   "cell_type": "code",
   "execution_count": 15,
   "id": "46e09b7b-c0ca-4676-bf90-2f371da4c422",
   "metadata": {},
   "outputs": [
    {
     "name": "stdout",
     "output_type": "stream",
     "text": [
      "<__main__.Time object at 0x7f71cdcac280>\n"
     ]
    }
   ],
   "source": [
    "print(time)"
   ]
  },
  {
   "cell_type": "code",
   "execution_count": 16,
   "id": "a27fe5d5-98a8-4725-a958-45c52de1bc77",
   "metadata": {},
   "outputs": [
    {
     "ename": "AttributeError",
     "evalue": "'Time' object has no attribute 'set_time'",
     "output_type": "error",
     "traceback": [
      "\u001b[0;31m---------------------------------------------------------------------------\u001b[0m",
      "\u001b[0;31mAttributeError\u001b[0m                            Traceback (most recent call last)",
      "Cell \u001b[0;32mIn[16], line 1\u001b[0m\n\u001b[0;32m----> 1\u001b[0m \u001b[43mtime\u001b[49m\u001b[38;5;241;43m.\u001b[39;49m\u001b[43mset_time\u001b[49m(\u001b[38;5;241m12\u001b[39m, \u001b[38;5;241m0\u001b[39m)\n",
      "\u001b[0;31mAttributeError\u001b[0m: 'Time' object has no attribute 'set_time'"
     ]
    }
   ],
   "source": [
    "time.set_time(12, 0)"
   ]
  },
  {
   "cell_type": "code",
   "execution_count": 17,
   "id": "d3da8c0a-5195-45c2-9839-1c4f9c3e639b",
   "metadata": {},
   "outputs": [
    {
     "data": {
      "text/plain": [
       "<__main__.Time at 0x7f71cdcac280>"
      ]
     },
     "execution_count": 17,
     "metadata": {},
     "output_type": "execute_result"
    }
   ],
   "source": [
    "time"
   ]
  },
  {
   "cell_type": "code",
   "execution_count": 18,
   "id": "6b3b74ae-ee7f-4a08-8f44-a36ac1d1aef8",
   "metadata": {},
   "outputs": [
    {
     "name": "stdout",
     "output_type": "stream",
     "text": [
      "<__main__.Time object at 0x7f71cdcac280>\n"
     ]
    }
   ],
   "source": [
    "print(time)"
   ]
  },
  {
   "cell_type": "code",
   "execution_count": 19,
   "id": "f9b19dfa-fbd1-46d8-987d-27d98296803d",
   "metadata": {},
   "outputs": [
    {
     "data": {
      "text/plain": [
       "{'_hour': 13, 'minute': 5}"
      ]
     },
     "execution_count": 19,
     "metadata": {},
     "output_type": "execute_result"
    }
   ],
   "source": [
    "vars(time)"
   ]
  },
  {
   "cell_type": "markdown",
   "id": "d159b367-6d9c-4314-a8e7-0a3684b7682c",
   "metadata": {},
   "source": [
    "<font size=\"3.5\">\n",
    "\n",
    "Bemerkung:\n",
    "* Für robuste Funktionen zur Manipulation von Datum und Zeit siehe Python's [**datetime** Modul]( https://docs.python.org/3/library/datetime.html)."
   ]
  },
  {
   "cell_type": "markdown",
   "id": "08750e5a",
   "metadata": {},
   "source": []
  }
 ],
 "metadata": {
  "kernelspec": {
   "display_name": "Python 3 (ipykernel)",
   "language": "python",
   "name": "python3"
  },
  "language_info": {
   "codemirror_mode": {
    "name": "ipython",
    "version": 3
   },
   "file_extension": ".py",
   "mimetype": "text/x-python",
   "name": "python",
   "nbconvert_exporter": "python",
   "pygments_lexer": "ipython3",
   "version": "3.10.6"
  },
  "vscode": {
   "interpreter": {
    "hash": "aee8b7b246df8f9039afb4144a1f6fd8d2ca17a180786b69acc140d282b71a49"
   }
  }
 },
 "nbformat": 4,
 "nbformat_minor": 5
}
