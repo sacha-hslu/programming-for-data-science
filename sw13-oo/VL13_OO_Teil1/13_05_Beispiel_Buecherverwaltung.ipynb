{
 "cells": [
  {
   "cell_type": "markdown",
   "id": "8899ccac",
   "metadata": {},
   "source": [
    "# 13.5 Beispiel Bücherverwaltung\n",
    "\n",
    "<font size=\"3.5\">\n",
    "\n",
    "Wir definieren eine Klasse `Bookshelf`, welche Bücher (`Book`-Instanzen) verwaltet.\n",
    "\n",
    "==> `Bookshelf` hat eine Assoziatiation zu `Book` "
   ]
  },
  {
   "cell_type": "code",
   "execution_count": 1,
   "id": "434f8b94",
   "metadata": {},
   "outputs": [],
   "source": [
    "class Book:\n",
    "    def __init__(self, title, author, price=0):\n",
    "        self.title = title\n",
    "        self.author = author\n",
    "        self.price = price\n",
    "\n",
    "    @property\n",
    "    def price(self):\n",
    "        return self._price\n",
    "\n",
    "    @price.setter\n",
    "    def price(self, price):\n",
    "        if price < 0:\n",
    "            raise ValueError(f'The price must be >=0.')\n",
    "\n",
    "        self._price = price\n",
    "\n",
    "\n",
    "    def author_last_first(self):\n",
    "        return ', '.join(reversed(self.author.split()))\n",
    "\n",
    "\n",
    "    def price_with_tax(self, tax=0.15):\n",
    "        return self.price * (1 + tax)\n",
    "\n",
    "\n",
    "    def __str__(self):\n",
    "        return f'Book with title: \"{self.title}\", from author {self.author}. Price: {self.price}'\n",
    "\n",
    "\n",
    "    def __repr__(self):\n",
    "        return f\"Book(title='{self.title}', author='{self.author}', price={self.price})\""
   ]
  },
  {
   "cell_type": "code",
   "execution_count": 2,
   "id": "00f88766",
   "metadata": {},
   "outputs": [],
   "source": [
    "class Bookshelf:\n",
    "    def __init__(self):\n",
    "        self.books = []\n",
    "\n",
    "\n",
    "    def add_books(self, *args):\n",
    "        self.books += args\n",
    "\n",
    "\n",
    "    def __len__(self):\n",
    "        \"\"\"Return the number books stored in the books list.\n",
    "        This special method will automatically be invoked, when\n",
    "        an instance of Bookshelf is provided as attriubte in the len-Function.\"\"\"\n",
    "        return len(self.books)"
   ]
  },
  {
   "cell_type": "code",
   "execution_count": 3,
   "id": "387e1862",
   "metadata": {},
   "outputs": [],
   "source": [
    "shelf = Bookshelf()\n",
    "b1 = Book('Python ist nicht nur eine Schlange', 'Klara Zimmerli')\n",
    "b2 = Book('Hallo Welt', 'Peter Meier')\n",
    "b3 = Book('Was für eine schöne Welt', 'Peter Meier', 25)\n",
    "shelf.add_books(b1)\n",
    "shelf.add_books(b2)\n",
    "shelf.add_books(b3)"
   ]
  },
  {
   "cell_type": "code",
   "execution_count": 4,
   "id": "91e5173d",
   "metadata": {},
   "outputs": [
    {
     "data": {
      "text/plain": [
       "[Book(title='Python ist nicht nur eine Schlange', author='Klara Zimmerli', price=0),\n",
       " Book(title='Hallo Welt', author='Peter Meier', price=0),\n",
       " Book(title='Was für eine schöne Welt', author='Peter Meier', price=25)]"
      ]
     },
     "execution_count": 4,
     "metadata": {},
     "output_type": "execute_result"
    }
   ],
   "source": [
    "shelf.books"
   ]
  },
  {
   "cell_type": "code",
   "execution_count": 5,
   "id": "5e2333e7",
   "metadata": {},
   "outputs": [
    {
     "data": {
      "text/plain": [
       "'Klara Zimmerli'"
      ]
     },
     "execution_count": 5,
     "metadata": {},
     "output_type": "execute_result"
    }
   ],
   "source": [
    "shelf.books[0].author"
   ]
  },
  {
   "cell_type": "code",
   "execution_count": 6,
   "id": "4e303c9e",
   "metadata": {},
   "outputs": [
    {
     "data": {
      "text/plain": [
       "'Python ist nicht nur eine Schlange'"
      ]
     },
     "execution_count": 6,
     "metadata": {},
     "output_type": "execute_result"
    }
   ],
   "source": [
    "shelf.books[0].title"
   ]
  },
  {
   "cell_type": "code",
   "execution_count": 7,
   "id": "4f40f09c",
   "metadata": {},
   "outputs": [],
   "source": [
    "shelf.books[0].price = 29.20"
   ]
  },
  {
   "cell_type": "code",
   "execution_count": 8,
   "id": "fcf3968b",
   "metadata": {},
   "outputs": [
    {
     "name": "stdout",
     "output_type": "stream",
     "text": [
      "Book with title: \"Python ist nicht nur eine Schlange\", from author Klara Zimmerli. Price: 29.2\n"
     ]
    }
   ],
   "source": [
    "print(shelf.books[0])"
   ]
  },
  {
   "cell_type": "code",
   "execution_count": 9,
   "id": "6270d0a0",
   "metadata": {},
   "outputs": [
    {
     "data": {
      "text/plain": [
       "3"
      ]
     },
     "execution_count": 9,
     "metadata": {},
     "output_type": "execute_result"
    }
   ],
   "source": [
    "len(shelf)"
   ]
  }
 ],
 "metadata": {
  "kernelspec": {
   "display_name": "Python 3 (ipykernel)",
   "language": "python",
   "name": "python3"
  },
  "language_info": {
   "codemirror_mode": {
    "name": "ipython",
    "version": 3
   },
   "file_extension": ".py",
   "mimetype": "text/x-python",
   "name": "python",
   "nbconvert_exporter": "python",
   "pygments_lexer": "ipython3",
   "version": "3.10.6"
  },
  "vscode": {
   "interpreter": {
    "hash": "aee8b7b246df8f9039afb4144a1f6fd8d2ca17a180786b69acc140d282b71a49"
   }
  }
 },
 "nbformat": 4,
 "nbformat_minor": 5
}
