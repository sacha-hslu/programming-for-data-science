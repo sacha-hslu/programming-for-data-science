{
 "cells": [
  {
   "cell_type": "markdown",
   "metadata": {},
   "source": [
    "# Übung 5"
   ]
  },
  {
   "cell_type": "markdown",
   "metadata": {},
   "source": [
    "## Aufgabe 1\n",
    "Was, wenn überhaupt etwas, stimmt mit den folgenden Snippets nicht?"
   ]
  },
  {
   "cell_type": "markdown",
   "metadata": {},
   "source": [
    "a)\n",
    "```\n",
    "day, high_temperature = ('Monday', 87, 65)\n",
    "```"
   ]
  },
  {
   "cell_type": "markdown",
   "metadata": {},
   "source": [
    "65 wird nicht zugewiesen"
   ]
  },
  {
   "cell_type": "markdown",
   "metadata": {},
   "source": [
    "b)\n",
    "```\n",
    "numbers = [1, 2, 3, 4, 5]\n",
    "numbers[10]\n",
    "```"
   ]
  },
  {
   "cell_type": "markdown",
   "metadata": {},
   "source": [
    "index 10 existiert bei einem array von 5 elementen nicht (0-4)"
   ]
  },
  {
   "cell_type": "markdown",
   "metadata": {},
   "source": [
    "c)\n",
    "```\n",
    "name = 'amanda'\n",
    "name[0] = 'A'\n",
    "```"
   ]
  },
  {
   "cell_type": "markdown",
   "metadata": {},
   "source": [
    "mit [] greift man auf einen array zu, hier wurde aber ein string instanziert"
   ]
  },
  {
   "cell_type": "markdown",
   "metadata": {},
   "source": [
    "d)\n",
    "```\n",
    "numbers = [1, 2, 3, 4, 5]\n",
    "numbers[3.4]\n",
    "```"
   ]
  },
  {
   "cell_type": "markdown",
   "metadata": {},
   "source": [
    "um auf diese arrays zu zugreifen müssen immer integer indexes angegeben werden"
   ]
  },
  {
   "cell_type": "markdown",
   "metadata": {},
   "source": [
    "e)\n",
    "```\n",
    "student_tuple = ('Amanda', 'Blue', [98, 75, 87])\n",
    "student_tuple[0] = 'Ariana' \n",
    "```"
   ]
  },
  {
   "cell_type": "markdown",
   "metadata": {},
   "source": [
    "tupels können nicht mutiert werden"
   ]
  },
  {
   "cell_type": "markdown",
   "metadata": {},
   "source": [
    "f)\n",
    "```\n",
    "('Monday', 87, 65) + 'Tuesday'\n",
    "```"
   ]
  },
  {
   "cell_type": "markdown",
   "metadata": {},
   "source": [
    "tupel kann nicht mit string konkateniert werden"
   ]
  },
  {
   "cell_type": "markdown",
   "metadata": {},
   "source": [
    "g)\n",
    "```\n",
    "'A' += ('B', 'C')\n",
    "```"
   ]
  },
  {
   "cell_type": "markdown",
   "metadata": {},
   "source": [
    "operator funktioniert für tupel nicht"
   ]
  },
  {
   "cell_type": "markdown",
   "metadata": {},
   "source": [
    "h)\n",
    "```\n",
    "x = 7\n",
    "del x\n",
    "print(x)\n",
    "```"
   ]
  },
  {
   "cell_type": "markdown",
   "metadata": {},
   "source": [
    "x kann nicht ausgegeben werden nachdem es gelöscht wurde"
   ]
  },
  {
   "cell_type": "markdown",
   "metadata": {},
   "source": [
    "i)\n",
    "```\n",
    "numbers = [1, 2, 3, 4, 5]\n",
    "numbers.index(10)\n",
    "```"
   ]
  },
  {
   "cell_type": "markdown",
   "metadata": {},
   "source": [
    "weil die zahl 10 in der liste nicht vorhanden ist, gibt es ein fehler zurück"
   ]
  },
  {
   "cell_type": "markdown",
   "metadata": {},
   "source": [
    "j)\n",
    "```\n",
    "numbers = [1, 2, 3, 4, 5]\n",
    "numbers.extend(6, 7, 8)\n",
    "```"
   ]
  },
  {
   "cell_type": "markdown",
   "metadata": {},
   "source": [
    "wenn als parameter eine liste übergeben würde, würde es funktionieren, so nicht"
   ]
  },
  {
   "cell_type": "markdown",
   "metadata": {},
   "source": [
    "k)\n",
    "```\n",
    "numbers = [1, 2, 3, 4, 5]\n",
    "numbers.remove(10)\n",
    "```"
   ]
  },
  {
   "cell_type": "markdown",
   "metadata": {},
   "source": [
    "weil 10 nicht in der liste vorhanden ist, gibt es einen error"
   ]
  },
  {
   "cell_type": "markdown",
   "metadata": {},
   "source": [
    "l)\n",
    "```\n",
    "values = []\n",
    "values.pop()\n",
    "```"
   ]
  },
  {
   "cell_type": "markdown",
   "metadata": {},
   "source": [
    "index error weil kein element entfernt werden kann von einer leeren liste"
   ]
  },
  {
   "cell_type": "markdown",
   "metadata": {},
   "source": [
    "\n",
    "\n",
    "## Aufgabe 2\n",
    "Schreiben Sie ein Programm, dass nach einer Zahl fragt. Wenn eine leere Zeichenkette eingegeben wird, wird die Summe und der Mittelwert aller bisher eingegebenen Zahlen ausgeben und das Programm wird beendet.\n",
    "> Hinweis: Das [`statistics`-Modul](https://docs.python.org/3/library/statistics.html) stellt eine Funktion [`mean()`](https://docs.python.org/3/library/statistics.html#statistics.mean) zur Verfügung."
   ]
  },
  {
   "cell_type": "code",
   "execution_count": 15,
   "metadata": {
    "ExecuteTime": {
     "end_time": "2023-10-10T14:34:54.197376Z",
     "start_time": "2023-10-10T14:34:52.724381Z"
    }
   },
   "outputs": [
    {
     "ename": "StatisticsError",
     "evalue": "mean requires at least one data point",
     "output_type": "error",
     "traceback": [
      "\u001B[0;31m---------------------------------------------------------------------------\u001B[0m",
      "\u001B[0;31mStatisticsError\u001B[0m                           Traceback (most recent call last)",
      "Cell \u001B[0;32mIn[15], line 11\u001B[0m\n\u001B[1;32m      8\u001B[0m         \u001B[38;5;28;01mbreak\u001B[39;00m\n\u001B[1;32m      9\u001B[0m     sum_nr\u001B[38;5;241m.\u001B[39mappend(\u001B[38;5;28mint\u001B[39m(input_nr))\n\u001B[0;32m---> 11\u001B[0m \u001B[38;5;28mprint\u001B[39m(\u001B[38;5;124mf\u001B[39m\u001B[38;5;124m'\u001B[39m\u001B[38;5;124mSUM: \u001B[39m\u001B[38;5;132;01m{\u001B[39;00m\u001B[38;5;28msum\u001B[39m(sum_nr)\u001B[38;5;132;01m}\u001B[39;00m\u001B[38;5;124m - AVG: \u001B[39m\u001B[38;5;132;01m{\u001B[39;00m\u001B[43mstatistics\u001B[49m\u001B[38;5;241;43m.\u001B[39;49m\u001B[43mmean\u001B[49m\u001B[43m(\u001B[49m\u001B[43msum_nr\u001B[49m\u001B[43m)\u001B[49m\u001B[38;5;132;01m}\u001B[39;00m\u001B[38;5;124m'\u001B[39m)\n",
      "File \u001B[0;32m/Library/Frameworks/Python.framework/Versions/3.11/lib/python3.11/statistics.py:432\u001B[0m, in \u001B[0;36mmean\u001B[0;34m(data)\u001B[0m\n\u001B[1;32m    430\u001B[0m T, total, n \u001B[38;5;241m=\u001B[39m _sum(data)\n\u001B[1;32m    431\u001B[0m \u001B[38;5;28;01mif\u001B[39;00m n \u001B[38;5;241m<\u001B[39m \u001B[38;5;241m1\u001B[39m:\n\u001B[0;32m--> 432\u001B[0m     \u001B[38;5;28;01mraise\u001B[39;00m StatisticsError(\u001B[38;5;124m'\u001B[39m\u001B[38;5;124mmean requires at least one data point\u001B[39m\u001B[38;5;124m'\u001B[39m)\n\u001B[1;32m    433\u001B[0m \u001B[38;5;28;01mreturn\u001B[39;00m _convert(total \u001B[38;5;241m/\u001B[39m n, T)\n",
      "\u001B[0;31mStatisticsError\u001B[0m: mean requires at least one data point"
     ]
    }
   ],
   "source": [
    "import statistics\n",
    "\n",
    "sum_nr = []\n",
    "\n",
    "while True:\n",
    "    input_nr = input('give a number')\n",
    "    if not input_nr:\n",
    "        break\n",
    "    sum_nr.append(int(input_nr))\n",
    "    \n",
    "print(f'SUM: {sum(sum_nr)} - AVG: {statistics.mean(sum_nr)}')"
   ]
  },
  {
   "cell_type": "markdown",
   "metadata": {},
   "source": [
    "## Aufgabe 3\n",
    "Gegeben ist die folgende Zeichenfolge:\n",
    "> Diese Zeichenfolge ist auch im Modul [`string`](https://docs.python.org/3/library/string.html) als [`asciilowercase`](https://docs.python.org/3/library/string.html#string.ascii_lowercase) verfügbar.\n"
   ]
  },
  {
   "cell_type": "code",
   "execution_count": null,
   "metadata": {
    "tags": [],
    "ExecuteTime": {
     "start_time": "2023-10-10T14:34:54.144412Z"
    }
   },
   "outputs": [],
   "source": [
    "alphabet = 'abcdefghijklmnopqrstuvwxyz'"
   ]
  },
  {
   "cell_type": "markdown",
   "metadata": {},
   "source": [
    "Führen Sie die folgenden _Slice_-Operationen durch:"
   ]
  },
  {
   "cell_type": "markdown",
   "metadata": {},
   "source": [
    "1.\tDie erste Hälfte der Zeichenfolge unter Verwendung von Anfangs- und Endindizes."
   ]
  },
  {
   "cell_type": "code",
   "execution_count": null,
   "metadata": {
    "ExecuteTime": {
     "start_time": "2023-10-10T14:34:54.145818Z"
    }
   },
   "outputs": [],
   "source": [
    "mid_i = len(alphabet) // 2\n",
    "\n",
    "print(alphabet[0:mid_i])"
   ]
  },
  {
   "cell_type": "markdown",
   "metadata": {},
   "source": [
    "2.\tDie erste Hälfte der Zeichenfolge, die nur den Endindex verwendet."
   ]
  },
  {
   "cell_type": "code",
   "execution_count": 17,
   "metadata": {
    "ExecuteTime": {
     "end_time": "2023-10-10T14:37:19.722856Z",
     "start_time": "2023-10-10T14:37:19.713717Z"
    }
   },
   "outputs": [
    {
     "name": "stdout",
     "output_type": "stream",
     "text": [
      "abcdefghijklm\n"
     ]
    }
   ],
   "source": [
    "mid_i = len(alphabet) // 2\n",
    "\n",
    "print(alphabet[:mid_i])"
   ]
  },
  {
   "cell_type": "markdown",
   "metadata": {},
   "source": [
    "3.\tDie zweite Hälfte der Zeichenfolge unter Verwendung von Anfangs- und Endindizes."
   ]
  },
  {
   "cell_type": "code",
   "execution_count": null,
   "metadata": {
    "ExecuteTime": {
     "start_time": "2023-10-10T14:34:54.149175Z"
    }
   },
   "outputs": [],
   "source": [
    "mid_i = len(alphabet) // 2\n",
    "\n",
    "print(alphabet[mid_i:len(alphabet)])"
   ]
  },
  {
   "cell_type": "markdown",
   "metadata": {},
   "source": [
    "4.\tDie zweite Hälfte der Zeichenfolge, die nur den Startindex verwendet."
   ]
  },
  {
   "cell_type": "code",
   "execution_count": 29,
   "metadata": {
    "ExecuteTime": {
     "end_time": "2023-10-10T14:46:22.211477Z",
     "start_time": "2023-10-10T14:46:22.206872Z"
    }
   },
   "outputs": [
    {
     "name": "stdout",
     "output_type": "stream",
     "text": [
      "nopqrstuvwxyz\n"
     ]
    }
   ],
   "source": [
    "mid_i = len(alphabet) // 2\n",
    "\n",
    "print(alphabet[mid_i:])"
   ]
  },
  {
   "cell_type": "markdown",
   "metadata": {},
   "source": [
    "5.\tJeder zweite Buchstabe in der Zeichenfolge, die mit 'a' beginnt."
   ]
  },
  {
   "cell_type": "code",
   "execution_count": 23,
   "metadata": {
    "ExecuteTime": {
     "end_time": "2023-10-10T14:39:47.200258Z",
     "start_time": "2023-10-10T14:39:47.195710Z"
    }
   },
   "outputs": [
    {
     "name": "stdout",
     "output_type": "stream",
     "text": [
      "acegikmoqsuwy\n"
     ]
    }
   ],
   "source": [
    "print(alphabet[::2])"
   ]
  },
  {
   "cell_type": "markdown",
   "metadata": {},
   "source": [
    "6.\tDie gesamte Zeichenfolge in umgekehrter Richtung."
   ]
  },
  {
   "cell_type": "code",
   "execution_count": 24,
   "metadata": {
    "ExecuteTime": {
     "end_time": "2023-10-10T14:40:27.144688Z",
     "start_time": "2023-10-10T14:40:27.141363Z"
    }
   },
   "outputs": [
    {
     "name": "stdout",
     "output_type": "stream",
     "text": [
      "zyxwvutsrqponmlkjihgfedcba\n"
     ]
    }
   ],
   "source": [
    "print(alphabet[::-1])"
   ]
  },
  {
   "cell_type": "markdown",
   "metadata": {},
   "source": [
    "7.\tJeder dritte Buchstabe der Zeichenfolge umgekehrt, beginnend mit 'z'."
   ]
  },
  {
   "cell_type": "code",
   "execution_count": 25,
   "metadata": {
    "ExecuteTime": {
     "end_time": "2023-10-10T14:41:30.283608Z",
     "start_time": "2023-10-10T14:41:30.280049Z"
    }
   },
   "outputs": [
    {
     "name": "stdout",
     "output_type": "stream",
     "text": [
      "zwtqnkheb\n"
     ]
    }
   ],
   "source": [
    "print(alphabet[::-3])"
   ]
  },
  {
   "cell_type": "markdown",
   "metadata": {},
   "source": [
    "## Aufgabe 4\n",
    "Implementieren Sie eine Funktion `rotate()`, die drei Argumente empfängt und ein Tupel zurückgibt, in dem das erste Argument auf Index 1, das zweite Argument auf Index 2 und das dritte Argument auf Index 0 steht.\n",
    "\n",
    "Definieren Sie die Variablen a, b und c, die 'Doug', 22 und 1984 enthalten. Rufen Sie die Funktion dann dreimal auf. Entpacken Sie für jeden Aufruf das Ergebnis in a, b und c und zeigen Sie dann deren Werte an."
   ]
  },
  {
   "cell_type": "code",
   "execution_count": 28,
   "metadata": {
    "ExecuteTime": {
     "end_time": "2023-10-10T14:44:54.670892Z",
     "start_time": "2023-10-10T14:44:54.668557Z"
    }
   },
   "outputs": [
    {
     "name": "stdout",
     "output_type": "stream",
     "text": [
      "a: Doug\n",
      "b: 22\n",
      "c: 1984\n"
     ]
    }
   ],
   "source": [
    "a = 'Doug'\n",
    "b = 22\n",
    "c = 1984\n",
    "\n",
    "def rotate(x, y, z):\n",
    "    return (z, x, y)\n",
    "\n",
    "for i in range(3):\n",
    "    a, b, c, = rotate(a, b, c)\n",
    "    \n",
    "print(f'a: {a}')\n",
    "print(f'b: {b}')\n",
    "print(f'c: {c}')"
   ]
  },
  {
   "cell_type": "markdown",
   "metadata": {},
   "source": [
    "## Aufgabe 5\n",
    "Erstellen Sie eine Funktion, die eine Liste empfängt und eine (möglicherweise kürzere) sortierte Liste zurückgibt, die keine Duplikate enthält. \n",
    "Testen Sie Ihre Funktion mit einer Liste von Zahlen und einer Liste von Zeichenketten."
   ]
  },
  {
   "cell_type": "code",
   "execution_count": 34,
   "metadata": {
    "ExecuteTime": {
     "end_time": "2023-10-10T14:50:48.731198Z",
     "start_time": "2023-10-10T14:50:48.714710Z"
    }
   },
   "outputs": [
    {
     "name": "stdout",
     "output_type": "stream",
     "text": [
      "[1, 2, 3]\n",
      "['A', 'B', 'b']\n"
     ]
    }
   ],
   "source": [
    "def sort_list(list):\n",
    "    return sorted(set(list))\n",
    "\n",
    "print(sort_list([1,2,3,1]))\n",
    "print(sort_list(['B', 'b', 'b', 'A']))"
   ]
  },
  {
   "cell_type": "markdown",
   "metadata": {
    "tags": []
   },
   "source": [
    "## Aufgabe 6\n",
    "Standard-Telefontastaturen enthalten die Ziffern 0 bis 9. Den Ziffern 2 bis 9 sind jeweils Buchstaben zugeordnet, wie in der folgenden Tabelle dargestellt:\n",
    "\n",
    "| Ziffer | Buchstaben |\n",
    "| ------ | ---------- |\n",
    "|   2    | A B C      |\n",
    "|   3    | D E F      |\n",
    "|   4    | G H I      |\n",
    "|   5    | J K L      |\n",
    "|   6    | M N O      |\n",
    "|   7    | P Q R S    |\n",
    "|   8    | T U V      |\n",
    "|   9    | W X Y Z    |\n",
    "\n",
    "Vielen Menschen fällt es schwer, sich Telefonnummern zu merken, deshalb verwenden sie die Entsprechung zwischen Ziffern und Buchstaben, um Wörter (oder Sätze) mit sieben Buchstaben zu entwickeln, die ihren Telefonnummern entsprechen. Zum Beispiel könnte eine Person das Wort \"NUMBERS\" verwenden, um die Telefonnummer 686 23 77 zu codieren.\n",
    "\n",
    "Nehmen Sie an, Sie wollen die Telefonnummer finden, die zu einem siebenstelligen Wort passt.\n",
    "Schreiben Sie ein Script, welches die Telefonnummer für die gegebene Zeichenfolge mit sieben Buchstaben am Bildschirm ausgibt.\n"
   ]
  },
  {
   "cell_type": "code",
   "execution_count": 50,
   "metadata": {
    "ExecuteTime": {
     "end_time": "2023-10-10T15:16:06.082759Z",
     "start_time": "2023-10-10T15:16:06.078958Z"
    }
   },
   "outputs": [
    {
     "name": "stdout",
     "output_type": "stream",
     "text": [
      "6862377\n"
     ]
    }
   ],
   "source": [
    "dial = {    ('A', 'B', 'C'): 2, \n",
    "            ('D', 'E', 'F'): 3, \n",
    "            ('G', 'H', 'I'): 4, \n",
    "            ('J', 'K', 'L'): 5, \n",
    "            ('M', 'N', 'O'): 6, \n",
    "            ('P', 'Q', 'R', 'S'): 7,\n",
    "            ('T', 'U', 'V'): 8,\n",
    "            ('W', 'X', 'Y', 'Z'): 9\n",
    "            }\n",
    "\n",
    "def get_number(word):\n",
    "    phone_nr = ''\n",
    "    word = word.upper()\n",
    "    for letter in word:\n",
    "        for dial_letter in dial.keys():\n",
    "            if letter in dial_letter:\n",
    "                phone_nr = phone_nr + str(dial[dial_letter])\n",
    "    return phone_nr\n",
    "\n",
    "print(get_number('numbers'))"
   ]
  },
  {
   "cell_type": "markdown",
   "metadata": {},
   "source": [
    "## Aufgabe 7\n",
    "Erstellen Sie eine Funktion `is_ordered()`, die eine Sequenz als Argument nimmt und `True` zurückgibt, wenn die Elemente in aufsteigender, sortierter Reihenfolge sind, andernfalls wird `False` zurückgegeben. Testen Sie die Funktion mit sortierten und unsortierten Listen, Tupeln und Zeichenketten."
   ]
  },
  {
   "cell_type": "code",
   "execution_count": 61,
   "metadata": {
    "ExecuteTime": {
     "end_time": "2023-10-10T15:44:10.429386Z",
     "start_time": "2023-10-10T15:44:10.426175Z"
    }
   },
   "outputs": [
    {
     "name": "stdout",
     "output_type": "stream",
     "text": [
      "True\n",
      "False\n",
      "True\n",
      "False\n",
      "True\n",
      "False\n"
     ]
    }
   ],
   "source": [
    "def is_ordered(sequence):\n",
    "    if isinstance(sequence, list):\n",
    "        return sequence == sorted(sequence.copy())\n",
    "    elif isinstance(sequence, tuple):\n",
    "        return sequence == tuple(sorted(sequence))\n",
    "    else:\n",
    "        return sequence == ''.join(sorted(sequence))\n",
    "\n",
    "print(is_ordered([1, 2, 3, 4, 5]))\n",
    "print(is_ordered([5, 3, 1, 4, 2]))  \n",
    "print(is_ordered((1, 2, 3, 4, 5))) \n",
    "print(is_ordered((5, 3, 1, 4, 2)))  \n",
    "print(is_ordered(\"abcdefg\"))       \n",
    "print(is_ordered(\"cbadefg\"))       \n"
   ]
  }
 ],
 "metadata": {
  "kernelspec": {
   "display_name": "Python 3 (ipykernel)",
   "language": "python",
   "name": "python3"
  },
  "language_info": {
   "codemirror_mode": {
    "name": "ipython",
    "version": 3
   },
   "file_extension": ".py",
   "mimetype": "text/x-python",
   "name": "python",
   "nbconvert_exporter": "python",
   "pygments_lexer": "ipython3",
   "version": "3.8.16"
  }
 },
 "nbformat": 4,
 "nbformat_minor": 4
}
