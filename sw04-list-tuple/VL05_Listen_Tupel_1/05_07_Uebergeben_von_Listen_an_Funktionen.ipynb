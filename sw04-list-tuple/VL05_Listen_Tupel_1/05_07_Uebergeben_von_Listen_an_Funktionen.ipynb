{
 "cells": [
  {
   "cell_type": "markdown",
   "metadata": {},
   "source": [
    "# 5.7 Übergeben von Listen an Funktionen"
   ]
  },
  {
   "cell_type": "markdown",
   "metadata": {},
   "source": [
    "### Ganze Liste an eine Funktion übergeben"
   ]
  },
  {
   "cell_type": "code",
   "execution_count": 4,
   "metadata": {},
   "outputs": [],
   "source": [
    "def modify_elements(items):\n",
    "    \"\"\"\"Multiplies all element values in items by 2.\"\"\"\n",
    "    for i in range(len(items)):\n",
    "        items[i] *= 2"
   ]
  },
  {
   "cell_type": "code",
   "execution_count": 5,
   "metadata": {},
   "outputs": [],
   "source": [
    "numbers = [10, 3, 7, 1, 9]"
   ]
  },
  {
   "cell_type": "code",
   "execution_count": 6,
   "metadata": {},
   "outputs": [],
   "source": [
    "modify_elements(numbers)"
   ]
  },
  {
   "cell_type": "code",
   "execution_count": 7,
   "metadata": {},
   "outputs": [
    {
     "data": {
      "text/plain": [
       "[20, 6, 14, 2, 18]"
      ]
     },
     "execution_count": 7,
     "metadata": {},
     "output_type": "execute_result"
    }
   ],
   "source": [
    "numbers"
   ]
  },
  {
   "cell_type": "markdown",
   "metadata": {},
   "source": [
    "> Da Listen veränderliche (_mutable_) Datentypen sind, werden Veränderungen an den Elementen auch ausserhalb der Funktion `modify_elements()` sichtbar."
   ]
  },
  {
   "cell_type": "markdown",
   "metadata": {},
   "source": [
    "### Übergeben eines Tupels an eine Funktion\n",
    "Wenn Sie ein Tupel an eine Funktion übergeben, führt der Versuch, die unveränderlichen Elemente des Tupels zu ändern, zu einem `TypeError`."
   ]
  },
  {
   "cell_type": "code",
   "execution_count": 8,
   "metadata": {},
   "outputs": [],
   "source": [
    "numbers_tuple = (10, 20, 30)"
   ]
  },
  {
   "cell_type": "code",
   "execution_count": 9,
   "metadata": {},
   "outputs": [
    {
     "data": {
      "text/plain": [
       "(10, 20, 30)"
      ]
     },
     "execution_count": 9,
     "metadata": {},
     "output_type": "execute_result"
    }
   ],
   "source": [
    "numbers_tuple"
   ]
  },
  {
   "cell_type": "code",
   "execution_count": 11,
   "metadata": {},
   "outputs": [],
   "source": [
    "# Uncomment to raise error:\n",
    "#modify_elements(numbers_tuple)         # --> TypeError: 'tuple' object does not support item assignment\n"
   ]
  },
  {
   "cell_type": "raw",
   "metadata": {},
   "source": [
    "---------------------------------------------------------------------------\n",
    "TypeError                                 Traceback (most recent call last)\n",
    "Cell In[10], line 1\n",
    "----> 1 modify_elements(numbers_tuple)\n",
    "\n",
    "Cell In[4], line 4, in modify_elements(items)\n",
    "      2 \"\"\"\"Multiplies all element values in items by 2.\"\"\"\n",
    "      3 for i in range(len(items)):\n",
    "----> 4     items[i] *= 2\n",
    "\n",
    "TypeError: 'tuple' object does not support item assignment"
   ]
  },
  {
   "cell_type": "markdown",
   "metadata": {},
   "source": [
    "### Eine Anmerkung zu Tracebacks bei Fehlermeldungen\n",
    "* Ein Traceback zeigt Code an, der zu einer Ausnahme geführt hat.\n",
    "* Wenn eine Ausnahme in einem einzeiligen Snippet auftritt, wird ihr immer `----> 1` vorangestellt, was darauf hinweist, dass Zeile 1 (die einzige Zeile des Snippets) die Ausnahme verursacht hat. \n",
    "* Mehrzeilige Snippets wie eine Funktionsdefinition zeigen aufeinanderfolgende Zeilennummern, die bei 1 beginnen. \n",
    "* Die letzte mit `---->` gezeigte Codezeile verursachte die Ausnahme."
   ]
  },
  {
   "cell_type": "code",
   "execution_count": null,
   "metadata": {},
   "outputs": [],
   "source": []
  }
 ],
 "metadata": {
  "kernelspec": {
   "display_name": "Python 3 (ipykernel)",
   "language": "python",
   "name": "python3"
  },
  "language_info": {
   "codemirror_mode": {
    "name": "ipython",
    "version": 3
   },
   "file_extension": ".py",
   "mimetype": "text/x-python",
   "name": "python",
   "nbconvert_exporter": "python",
   "pygments_lexer": "ipython3",
   "version": "3.8.16"
  }
 },
 "nbformat": 4,
 "nbformat_minor": 4
}
