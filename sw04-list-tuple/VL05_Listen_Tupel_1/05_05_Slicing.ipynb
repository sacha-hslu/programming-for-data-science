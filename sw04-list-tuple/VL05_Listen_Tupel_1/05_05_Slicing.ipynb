{
 "cells": [
  {
   "cell_type": "markdown",
   "metadata": {},
   "source": [
    "# 5.5 Slicing\n",
    "* Sequenzen können in Bereiche geschnitten werden, diese Technik nennt sich [_slicing_](https://docs.python.org/3/glossary.html#term-slice). Das Ergebnis nennt sich _Schnitt_ oder _Slice_. Damit wird eine neue Sequenz derselben Objekte erstellt. Es wird eine _Untermengen_ der ursprünglichen Elemente zur Verfügung gestellt. \n",
    "* _Slice_-Operationen:\n",
    "    * verändern die urprüngliche Sequenz _nicht_ \n",
    "    * arbeiten identisch für Zeichenketten und andere Sequenzen, bspw. Listen und Tupel.\n"
   ]
  },
  {
   "cell_type": "markdown",
   "metadata": {},
   "source": [
    "### Angeben eines Schnitts mit Anfangs- und Endindizes"
   ]
  },
  {
   "cell_type": "code",
   "execution_count": 2,
   "metadata": {
    "ExecuteTime": {
     "end_time": "2023-11-28T15:44:36.331054Z",
     "start_time": "2023-11-28T15:44:36.266923Z"
    }
   },
   "outputs": [],
   "source": [
    "numbers = [2, 3, 5, 7, 11, 13, 17, 19]"
   ]
  },
  {
   "cell_type": "code",
   "execution_count": 3,
   "metadata": {
    "ExecuteTime": {
     "end_time": "2023-11-28T15:44:36.355057Z",
     "start_time": "2023-11-28T15:44:36.271600Z"
    }
   },
   "outputs": [
    {
     "data": {
      "text/plain": "[5, 7, 11, 13]"
     },
     "execution_count": 3,
     "metadata": {},
     "output_type": "execute_result"
    }
   ],
   "source": [
    "numbers[2:6]"
   ]
  },
  {
   "cell_type": "markdown",
   "metadata": {},
   "source": [
    "### Angeben eines Schnitts mit nur einem Endindex\n",
    "Es wird der Startindex `0` angenommen."
   ]
  },
  {
   "cell_type": "code",
   "execution_count": 4,
   "metadata": {
    "ExecuteTime": {
     "end_time": "2023-11-28T15:44:36.365392Z",
     "start_time": "2023-11-28T15:44:36.274927Z"
    }
   },
   "outputs": [
    {
     "data": {
      "text/plain": "[2, 3, 5, 7, 11, 13]"
     },
     "execution_count": 4,
     "metadata": {},
     "output_type": "execute_result"
    }
   ],
   "source": [
    "numbers[:6]"
   ]
  },
  {
   "cell_type": "code",
   "execution_count": 5,
   "metadata": {
    "ExecuteTime": {
     "end_time": "2023-11-28T15:44:36.372952Z",
     "start_time": "2023-11-28T15:44:36.278118Z"
    }
   },
   "outputs": [
    {
     "data": {
      "text/plain": "[2, 3, 5, 7, 11, 13]"
     },
     "execution_count": 5,
     "metadata": {},
     "output_type": "execute_result"
    }
   ],
   "source": [
    "numbers[0:6]"
   ]
  },
  {
   "cell_type": "markdown",
   "metadata": {},
   "source": [
    "### Angeben eines Schnitts mit nur einem Startindex\n",
    "Nimmt die Länge der Sequenz als Endindex an."
   ]
  },
  {
   "cell_type": "code",
   "execution_count": 6,
   "metadata": {
    "ExecuteTime": {
     "end_time": "2023-11-28T15:44:36.479140Z",
     "start_time": "2023-11-28T15:44:36.282335Z"
    }
   },
   "outputs": [
    {
     "data": {
      "text/plain": "[17, 19]"
     },
     "execution_count": 6,
     "metadata": {},
     "output_type": "execute_result"
    }
   ],
   "source": [
    "numbers[6:]"
   ]
  },
  {
   "cell_type": "code",
   "execution_count": 7,
   "metadata": {
    "ExecuteTime": {
     "end_time": "2023-11-28T15:44:36.506445Z",
     "start_time": "2023-11-28T15:44:36.285748Z"
    }
   },
   "outputs": [
    {
     "data": {
      "text/plain": "[17, 19]"
     },
     "execution_count": 7,
     "metadata": {},
     "output_type": "execute_result"
    }
   ],
   "source": [
    "numbers[6:len(numbers)]"
   ]
  },
  {
   "cell_type": "markdown",
   "metadata": {},
   "source": [
    "### Angeben eines Schnitts mit keinen Indizes"
   ]
  },
  {
   "cell_type": "code",
   "execution_count": 8,
   "metadata": {
    "ExecuteTime": {
     "end_time": "2023-11-28T15:44:36.510248Z",
     "start_time": "2023-11-28T15:44:36.288001Z"
    }
   },
   "outputs": [
    {
     "data": {
      "text/plain": "[2, 3, 5, 7, 11, 13, 17, 19]"
     },
     "execution_count": 8,
     "metadata": {},
     "output_type": "execute_result"
    }
   ],
   "source": [
    "numbers[:]"
   ]
  },
  {
   "cell_type": "markdown",
   "metadata": {},
   "source": [
    "Obwohl Slices neue Objekte erzeugen, erzeugen Slices **flache-Kopien** (**shallow copies**) der Elemente.<br>\n",
    "Im obigen Snippet beziehen sich die Elemente der neuen Liste auf die _gleichen Objekte_ wie die Elemente der ursprünglichen Liste."
   ]
  },
  {
   "cell_type": "code",
   "execution_count": 9,
   "metadata": {
    "ExecuteTime": {
     "end_time": "2023-11-28T15:44:36.510794Z",
     "start_time": "2023-11-28T15:44:36.290347Z"
    }
   },
   "outputs": [],
   "source": [
    "a_list = [1, 2]"
   ]
  },
  {
   "cell_type": "code",
   "execution_count": 10,
   "metadata": {
    "ExecuteTime": {
     "end_time": "2023-11-28T15:44:36.510925Z",
     "start_time": "2023-11-28T15:44:36.292255Z"
    }
   },
   "outputs": [],
   "source": [
    "a_slice = a_list[:]"
   ]
  },
  {
   "cell_type": "code",
   "execution_count": 11,
   "metadata": {
    "ExecuteTime": {
     "end_time": "2023-11-28T15:44:36.512461Z",
     "start_time": "2023-11-28T15:44:36.293802Z"
    }
   },
   "outputs": [
    {
     "name": "stdout",
     "output_type": "stream",
     "text": [
      "a_list [1, 2]\n"
     ]
    },
    {
     "data": {
      "text/plain": "4937451712"
     },
     "execution_count": 11,
     "metadata": {},
     "output_type": "execute_result"
    }
   ],
   "source": [
    "print('a_list', a_list)\n",
    "id(a_list)"
   ]
  },
  {
   "cell_type": "code",
   "execution_count": 12,
   "metadata": {
    "ExecuteTime": {
     "end_time": "2023-11-28T15:44:36.512578Z",
     "start_time": "2023-11-28T15:44:36.297612Z"
    }
   },
   "outputs": [
    {
     "name": "stdout",
     "output_type": "stream",
     "text": [
      "a_slice [1, 2]\n"
     ]
    },
    {
     "data": {
      "text/plain": "4937464768"
     },
     "execution_count": 12,
     "metadata": {},
     "output_type": "execute_result"
    }
   ],
   "source": [
    "print('a_slice', a_slice)\n",
    "id(a_slice)"
   ]
  },
  {
   "cell_type": "markdown",
   "metadata": {},
   "source": [
    "Die Elemente sind flache Kopien (_shallow copies_), d.h. in beiden Listen referenzieren die Elemente auf dieselben Objekte"
   ]
  },
  {
   "cell_type": "code",
   "execution_count": 13,
   "metadata": {
    "ExecuteTime": {
     "end_time": "2023-11-28T15:44:36.512668Z",
     "start_time": "2023-11-28T15:44:36.300038Z"
    }
   },
   "outputs": [
    {
     "data": {
      "text/plain": "4394313208"
     },
     "execution_count": 13,
     "metadata": {},
     "output_type": "execute_result"
    }
   ],
   "source": [
    "id(a_list[0])"
   ]
  },
  {
   "cell_type": "code",
   "execution_count": 14,
   "metadata": {
    "ExecuteTime": {
     "end_time": "2023-11-28T15:44:36.512990Z",
     "start_time": "2023-11-28T15:44:36.304377Z"
    }
   },
   "outputs": [
    {
     "data": {
      "text/plain": "4394313208"
     },
     "execution_count": 14,
     "metadata": {},
     "output_type": "execute_result"
    }
   ],
   "source": [
    "id(a_slice[0])"
   ]
  },
  {
   "cell_type": "markdown",
   "metadata": {},
   "source": [
    "### Schneiden mit Schritten"
   ]
  },
  {
   "cell_type": "code",
   "execution_count": 15,
   "metadata": {
    "ExecuteTime": {
     "end_time": "2023-11-28T15:44:36.513058Z",
     "start_time": "2023-11-28T15:44:36.306551Z"
    }
   },
   "outputs": [
    {
     "data": {
      "text/plain": "[2, 3, 5, 7, 11, 13, 17, 19]"
     },
     "execution_count": 15,
     "metadata": {},
     "output_type": "execute_result"
    }
   ],
   "source": [
    "numbers"
   ]
  },
  {
   "cell_type": "code",
   "execution_count": 16,
   "metadata": {
    "ExecuteTime": {
     "end_time": "2023-11-28T15:44:36.513134Z",
     "start_time": "2023-11-28T15:44:36.308672Z"
    }
   },
   "outputs": [
    {
     "data": {
      "text/plain": "[2, 5, 11, 17]"
     },
     "execution_count": 16,
     "metadata": {},
     "output_type": "execute_result"
    }
   ],
   "source": [
    "numbers[::2]"
   ]
  },
  {
   "cell_type": "markdown",
   "metadata": {},
   "source": [
    "### Schneiden mit negativen Indizes und Schritten"
   ]
  },
  {
   "cell_type": "code",
   "execution_count": 17,
   "metadata": {
    "ExecuteTime": {
     "end_time": "2023-11-28T15:44:36.513208Z",
     "start_time": "2023-11-28T15:44:36.310998Z"
    }
   },
   "outputs": [
    {
     "data": {
      "text/plain": "[19, 17, 13, 11, 7, 5, 3, 2]"
     },
     "execution_count": 17,
     "metadata": {},
     "output_type": "execute_result"
    }
   ],
   "source": [
    "numbers[::-1]"
   ]
  },
  {
   "cell_type": "code",
   "execution_count": 18,
   "metadata": {
    "ExecuteTime": {
     "end_time": "2023-11-28T15:44:36.513272Z",
     "start_time": "2023-11-28T15:44:36.313060Z"
    }
   },
   "outputs": [
    {
     "data": {
      "text/plain": "[19, 17, 13, 11, 7, 5, 3, 2]"
     },
     "execution_count": 18,
     "metadata": {},
     "output_type": "execute_result"
    }
   ],
   "source": [
    "numbers[-1:-9:-1]"
   ]
  },
  {
   "cell_type": "code",
   "execution_count": 19,
   "metadata": {
    "ExecuteTime": {
     "end_time": "2023-11-28T15:44:36.513342Z",
     "start_time": "2023-11-28T15:44:36.315051Z"
    }
   },
   "outputs": [
    {
     "data": {
      "text/plain": "[2, 3, 5, 7, 11, 13, 17, 19]"
     },
     "execution_count": 19,
     "metadata": {},
     "output_type": "execute_result"
    }
   ],
   "source": [
    "numbers"
   ]
  },
  {
   "cell_type": "code",
   "execution_count": 20,
   "metadata": {
    "ExecuteTime": {
     "end_time": "2023-11-28T15:44:36.513399Z",
     "start_time": "2023-11-28T15:44:36.317477Z"
    }
   },
   "outputs": [
    {
     "data": {
      "text/plain": "[5, 7, 11, 13]"
     },
     "execution_count": 20,
     "metadata": {},
     "output_type": "execute_result"
    }
   ],
   "source": [
    "numbers[2:-2]"
   ]
  },
  {
   "cell_type": "markdown",
   "metadata": {},
   "source": [
    "### Listen über Schnitte modifizieren\n",
    "Eine Liste kann mittels Slice verändert werden."
   ]
  },
  {
   "cell_type": "code",
   "execution_count": 21,
   "metadata": {
    "ExecuteTime": {
     "end_time": "2023-11-28T15:44:36.513468Z",
     "start_time": "2023-11-28T15:44:36.319746Z"
    }
   },
   "outputs": [
    {
     "data": {
      "text/plain": "[2, 3, 5, 7, 11, 13, 17, 19]"
     },
     "execution_count": 21,
     "metadata": {},
     "output_type": "execute_result"
    }
   ],
   "source": [
    "numbers"
   ]
  },
  {
   "cell_type": "code",
   "execution_count": 22,
   "metadata": {
    "tags": [],
    "ExecuteTime": {
     "end_time": "2023-11-28T15:44:36.513504Z",
     "start_time": "2023-11-28T15:44:36.321552Z"
    }
   },
   "outputs": [],
   "source": [
    "numbers[0:3] = ['two', 'three', 'five']"
   ]
  },
  {
   "cell_type": "code",
   "execution_count": 23,
   "metadata": {
    "ExecuteTime": {
     "end_time": "2023-11-28T15:44:36.513569Z",
     "start_time": "2023-11-28T15:44:36.323317Z"
    }
   },
   "outputs": [
    {
     "data": {
      "text/plain": "['two', 'three', 'five', 7, 11, 13, 17, 19]"
     },
     "execution_count": 23,
     "metadata": {},
     "output_type": "execute_result"
    }
   ],
   "source": [
    "numbers"
   ]
  },
  {
   "cell_type": "code",
   "execution_count": 24,
   "metadata": {
    "ExecuteTime": {
     "end_time": "2023-11-28T15:44:36.513602Z",
     "start_time": "2023-11-28T15:44:36.325306Z"
    }
   },
   "outputs": [],
   "source": [
    "numbers[0:3] = []"
   ]
  },
  {
   "cell_type": "code",
   "execution_count": 25,
   "metadata": {
    "ExecuteTime": {
     "end_time": "2023-11-28T15:44:36.513661Z",
     "start_time": "2023-11-28T15:44:36.327449Z"
    }
   },
   "outputs": [
    {
     "data": {
      "text/plain": "[7, 11, 13, 17, 19]"
     },
     "execution_count": 25,
     "metadata": {},
     "output_type": "execute_result"
    }
   ],
   "source": [
    "numbers"
   ]
  },
  {
   "cell_type": "code",
   "execution_count": 26,
   "metadata": {
    "ExecuteTime": {
     "end_time": "2023-11-28T15:44:36.513695Z",
     "start_time": "2023-11-28T15:44:36.329647Z"
    }
   },
   "outputs": [],
   "source": [
    "numbers = [2, 3, 5, 7, 11, 13, 17, 19]"
   ]
  },
  {
   "cell_type": "code",
   "execution_count": 27,
   "metadata": {
    "ExecuteTime": {
     "end_time": "2023-11-28T15:44:36.514229Z",
     "start_time": "2023-11-28T15:44:36.331306Z"
    }
   },
   "outputs": [],
   "source": [
    "numbers[::2] = [100, 100, 100, 100]"
   ]
  },
  {
   "cell_type": "code",
   "execution_count": 28,
   "metadata": {
    "ExecuteTime": {
     "end_time": "2023-11-28T15:44:36.514353Z",
     "start_time": "2023-11-28T15:44:36.333316Z"
    }
   },
   "outputs": [
    {
     "data": {
      "text/plain": "[100, 3, 100, 7, 100, 13, 100, 19]"
     },
     "execution_count": 28,
     "metadata": {},
     "output_type": "execute_result"
    }
   ],
   "source": [
    "numbers"
   ]
  },
  {
   "cell_type": "code",
   "execution_count": 29,
   "metadata": {
    "ExecuteTime": {
     "end_time": "2023-11-28T15:44:36.514826Z",
     "start_time": "2023-11-28T15:44:36.335269Z"
    }
   },
   "outputs": [
    {
     "data": {
      "text/plain": "4936738176"
     },
     "execution_count": 29,
     "metadata": {},
     "output_type": "execute_result"
    }
   ],
   "source": [
    "id(numbers)"
   ]
  },
  {
   "cell_type": "markdown",
   "metadata": {},
   "source": [
    "Löschen aller Elemente der Liste:"
   ]
  },
  {
   "cell_type": "code",
   "execution_count": 30,
   "metadata": {
    "ExecuteTime": {
     "end_time": "2023-11-28T15:44:36.514862Z",
     "start_time": "2023-11-28T15:44:36.337043Z"
    }
   },
   "outputs": [],
   "source": [
    "numbers[:] = []"
   ]
  },
  {
   "cell_type": "code",
   "execution_count": 31,
   "metadata": {
    "ExecuteTime": {
     "end_time": "2023-11-28T15:44:36.514925Z",
     "start_time": "2023-11-28T15:44:36.338914Z"
    }
   },
   "outputs": [
    {
     "data": {
      "text/plain": "[]"
     },
     "execution_count": 31,
     "metadata": {},
     "output_type": "execute_result"
    }
   ],
   "source": [
    "numbers"
   ]
  },
  {
   "cell_type": "code",
   "execution_count": 32,
   "metadata": {
    "ExecuteTime": {
     "end_time": "2023-11-28T15:44:36.514992Z",
     "start_time": "2023-11-28T15:44:36.340929Z"
    }
   },
   "outputs": [
    {
     "data": {
      "text/plain": "4936738176"
     },
     "execution_count": 32,
     "metadata": {},
     "output_type": "execute_result"
    }
   ],
   "source": [
    "id(numbers)"
   ]
  },
  {
   "cell_type": "markdown",
   "metadata": {},
   "source": [
    "Das Löschen des Inhalts von `numbers` unterscheidet sich von der Zuweisung einer _neuen_ leeren Liste `[]` zu `numbers`.<br>\n",
    "Die Identitäten der Objekte sind unterschiedlich, d.h., sie stellen separate Objekte im Speicher dar."
   ]
  },
  {
   "cell_type": "code",
   "execution_count": 33,
   "metadata": {
    "ExecuteTime": {
     "end_time": "2023-11-28T15:44:36.515023Z",
     "start_time": "2023-11-28T15:44:36.342902Z"
    }
   },
   "outputs": [],
   "source": [
    "numbers = []"
   ]
  },
  {
   "cell_type": "code",
   "execution_count": 34,
   "metadata": {
    "ExecuteTime": {
     "end_time": "2023-11-28T15:44:36.515077Z",
     "start_time": "2023-11-28T15:44:36.344605Z"
    }
   },
   "outputs": [
    {
     "data": {
      "text/plain": "[]"
     },
     "execution_count": 34,
     "metadata": {},
     "output_type": "execute_result"
    }
   ],
   "source": [
    "numbers"
   ]
  },
  {
   "cell_type": "code",
   "execution_count": 35,
   "metadata": {
    "ExecuteTime": {
     "end_time": "2023-11-28T15:44:36.515131Z",
     "start_time": "2023-11-28T15:44:36.346771Z"
    }
   },
   "outputs": [
    {
     "data": {
      "text/plain": "4901859968"
     },
     "execution_count": 35,
     "metadata": {},
     "output_type": "execute_result"
    }
   ],
   "source": [
    "id(numbers)"
   ]
  },
  {
   "cell_type": "markdown",
   "metadata": {},
   "source": [
    "Wenn Sie einer Variablen ein neues Objekt zuweisen, wird das ursprüngliche Objekt vom  [**Garbage collector**](https://devguide.python.org/internals/garbage-collector/) gelöscht, sofern keine anderen Variablen darauf verweisen."
   ]
  },
  {
   "cell_type": "code",
   "execution_count": 35,
   "metadata": {
    "ExecuteTime": {
     "end_time": "2023-11-28T15:44:36.515165Z",
     "start_time": "2023-11-28T15:44:36.348339Z"
    }
   },
   "outputs": [],
   "source": []
  }
 ],
 "metadata": {
  "kernelspec": {
   "display_name": "Python 3 (ipykernel)",
   "language": "python",
   "name": "python3"
  },
  "language_info": {
   "codemirror_mode": {
    "name": "ipython",
    "version": 3
   },
   "file_extension": ".py",
   "mimetype": "text/x-python",
   "name": "python",
   "nbconvert_exporter": "python",
   "pygments_lexer": "ipython3",
   "version": "3.8.16"
  }
 },
 "nbformat": 4,
 "nbformat_minor": 4
}
