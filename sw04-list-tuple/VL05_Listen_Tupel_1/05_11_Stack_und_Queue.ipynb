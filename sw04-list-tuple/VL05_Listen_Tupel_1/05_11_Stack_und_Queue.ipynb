{
 "cells": [
  {
   "cell_type": "markdown",
   "metadata": {},
   "source": [
    "# 5.11 Stack and Queue\n",
    "* Ein _Stack_ (Stapel) modelliert ein **LIFO** (_last-in, first-out_) Verhalten: das Element, welches zuletzt auf den Stapel gelegt wird, wird auch als erstes wieder vom Stapel entfernt.\n",
    "* Eine _Queue_ (Warteschlange) modelliert ein **FIFO** (_first-in, first-out_) Verhalten: das Element, welches als erstes in die Queue eingefügt wurde, wird auch wieder als ertes aus der Queue herausgenommen.\n",
    "* _Python_ hat keine integrierten Stack und Queue Typen. Diese lassen sich jedoch mit Listen nachbilden."
   ]
  },
  {
   "cell_type": "markdown",
   "metadata": {},
   "source": [
    "## Simulieren von Stacks mit Listen \n",
    "Ein _Stack_ funktioniert wie der Papierstapel auf einem Schreibtisch. Neue Elemente werden oben drauf gelegt und von dort wieder weg genommen. Beim _Stack_ heisst das, das neue Elemente am Ende ( einer Liste ) angehängt werden und dann von dort wieder weggenommen werden. Die anderen Funktionen der Liste werden nicht verwendet.\n",
    "\n",
    "+ Einfügen eines neues Elements (_Push_) in den Stack wird mittels der Listenmethode `append()` erreicht, also am Ende angehängt.\n",
    "* Das Entfernen (_Pop_) eines Elements wird mittels der Listenmethode `pop()` ohne Argumente erreicht, also vom Ende der Liste entnommen.\n",
    "\n",
    "<img src='ch05images/LIFO.png' alt='LIFO' width='300'>"
   ]
  },
  {
   "cell_type": "code",
   "execution_count": null,
   "metadata": {},
   "outputs": [],
   "source": [
    "stack = []"
   ]
  },
  {
   "cell_type": "code",
   "execution_count": null,
   "metadata": {},
   "outputs": [],
   "source": [
    "stack.append('red')\n",
    "stack.append('green')"
   ]
  },
  {
   "cell_type": "code",
   "execution_count": null,
   "metadata": {},
   "outputs": [],
   "source": [
    "stack"
   ]
  },
  {
   "cell_type": "code",
   "execution_count": null,
   "metadata": {},
   "outputs": [],
   "source": [
    "stack.pop()"
   ]
  },
  {
   "cell_type": "code",
   "execution_count": null,
   "metadata": {},
   "outputs": [],
   "source": [
    "stack"
   ]
  },
  {
   "cell_type": "code",
   "execution_count": null,
   "metadata": {},
   "outputs": [],
   "source": [
    "stack.pop()"
   ]
  },
  {
   "cell_type": "code",
   "execution_count": null,
   "metadata": {},
   "outputs": [],
   "source": [
    "stack"
   ]
  },
  {
   "cell_type": "code",
   "execution_count": null,
   "metadata": {
    "tags": []
   },
   "outputs": [],
   "source": [
    "stack.pop()"
   ]
  },
  {
   "cell_type": "code",
   "execution_count": null,
   "metadata": {},
   "outputs": [],
   "source": [
    "stack.pop() if stack else 'stack is empy'"
   ]
  },
  {
   "cell_type": "markdown",
   "metadata": {},
   "source": [
    "\n",
    "## Simulieren von Queues\n",
    "* Das Simulieren von Queues mit Listen ist zwar möglich, aber nicht effizient, das das Einfügen von Elelemten am Anfang einer Liste langsam ist, weil alle anderen Elemente um eins verschoben werden müssen.\n",
    "* Um eine Warteschlange zu implementieren, verwenden Sie [`collections.deque`](https://docs.python.org/3/library/collections.html#deque-objects), das für schnelles `append()` und `pop()` von beiden Seiten, also vom Anfang und vom Ende des _Deque_ entwickelt wurde.\n",
    "\n",
    "\n",
    "<img src='ch05images/FIFO.png' alt='FIFO' width='350'>"
   ]
  },
  {
   "cell_type": "code",
   "execution_count": null,
   "metadata": {},
   "outputs": [],
   "source": [
    "from collections import deque"
   ]
  },
  {
   "cell_type": "code",
   "execution_count": null,
   "metadata": {},
   "outputs": [],
   "source": [
    "queue = deque([])\n",
    "queue.appendleft('first')\n",
    "queue.appendleft('second')\n",
    "queue.appendleft('third')\n",
    "queue"
   ]
  },
  {
   "cell_type": "code",
   "execution_count": null,
   "metadata": {},
   "outputs": [],
   "source": [
    "queue.pop() if queue else 'queue is empty'"
   ]
  },
  {
   "cell_type": "code",
   "execution_count": null,
   "metadata": {},
   "outputs": [],
   "source": [
    "queue"
   ]
  },
  {
   "cell_type": "code",
   "execution_count": null,
   "metadata": {},
   "outputs": [],
   "source": [
    "queue.pop() if queue else 'queue is empty'"
   ]
  },
  {
   "cell_type": "code",
   "execution_count": null,
   "metadata": {},
   "outputs": [],
   "source": [
    "queue"
   ]
  },
  {
   "cell_type": "code",
   "execution_count": null,
   "metadata": {},
   "outputs": [],
   "source": [
    "queue.pop() if queue else 'queue is empty'"
   ]
  },
  {
   "cell_type": "code",
   "execution_count": null,
   "metadata": {},
   "outputs": [],
   "source": [
    "queue"
   ]
  },
  {
   "cell_type": "code",
   "execution_count": null,
   "metadata": {},
   "outputs": [],
   "source": [
    "queue.pop() if queue else 'queue is empty'"
   ]
  }
 ],
 "metadata": {
  "kernelspec": {
   "display_name": "Python 3 (ipykernel)",
   "language": "python",
   "name": "python3"
  },
  "language_info": {
   "codemirror_mode": {
    "name": "ipython",
    "version": 3
   },
   "file_extension": ".py",
   "mimetype": "text/x-python",
   "name": "python",
   "nbconvert_exporter": "python",
   "pygments_lexer": "ipython3",
   "version": "3.8.16"
  }
 },
 "nbformat": 4,
 "nbformat_minor": 4
}
