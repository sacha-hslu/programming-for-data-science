{
 "cells": [
  {
   "cell_type": "markdown",
   "metadata": {},
   "source": [
    "# 5.2 Zeichenketten\n",
    "Eine uns bekannte Art von Sequenz die für die Verarbeitung von Text entworfen wurde sind Zeichenketten ([_str_](https://docs.python.org/3/library/stdtypes.html#textseq)). Zeichenketten erlauben bereits den Zugriff auf einzelne Elemente durch einen Index.\n",
    "\n",
    "Operationen:\n",
    "+ `[]` _Index_-Operator ( oder _Subscript_-Operator )\n",
    "+ `len()` - Funktion, zur Bestimmung der Anzahl Elemente"
   ]
  },
  {
   "cell_type": "markdown",
   "metadata": {},
   "source": [
    "### Erstellen einer Zeichenkette"
   ]
  },
  {
   "cell_type": "code",
   "execution_count": 1,
   "metadata": {},
   "outputs": [],
   "source": [
    "s = \"Ich sehe einen Hund graben, dass muss doch einen Grund haben.\""
   ]
  },
  {
   "cell_type": "code",
   "execution_count": 2,
   "metadata": {},
   "outputs": [
    {
     "data": {
      "text/plain": [
       "'Ich sehe einen Hund graben, dass muss doch einen Grund haben.'"
      ]
     },
     "execution_count": 2,
     "metadata": {},
     "output_type": "execute_result"
    }
   ],
   "source": [
    "s"
   ]
  },
  {
   "cell_type": "code",
   "execution_count": 3,
   "metadata": {},
   "outputs": [
    {
     "name": "stdout",
     "output_type": "stream",
     "text": [
      "Ich sehe einen Hund graben, dass muss doch einen Grund haben.\n"
     ]
    }
   ],
   "source": [
    "print(s)"
   ]
  },
  {
   "cell_type": "markdown",
   "metadata": {},
   "source": [
    "### Bestimmen der Länge einer Liste "
   ]
  },
  {
   "cell_type": "code",
   "execution_count": 8,
   "metadata": {},
   "outputs": [
    {
     "data": {
      "text/plain": [
       "61"
      ]
     },
     "execution_count": 8,
     "metadata": {},
     "output_type": "execute_result"
    }
   ],
   "source": [
    "len(s)"
   ]
  },
  {
   "cell_type": "markdown",
   "metadata": {},
   "source": [
    "### Zugriff auf Elemente einer Sequenz mittels Index\n",
    "Zugriff mittels dem **Subscript operator** (auch **Index-Operator** genannt).<br>\n",
    "Ein Subscript Operator besteht aus dem Namen der Liste, gefolgt von dem in `[]` eingeschlossenen **Index** des Elements.\n",
    "> Achtung! Sequenzen beginnen mit `0` als Index auf das _erste_ Element."
   ]
  },
  {
   "cell_type": "markdown",
   "metadata": {},
   "source": [
    "![Diagram of a list named c labeled with its element names](ch05images/AAEMYRO0.png \"Diagram of a list named c labeled with its element names\")"
   ]
  },
  {
   "cell_type": "code",
   "execution_count": 4,
   "metadata": {},
   "outputs": [
    {
     "data": {
      "text/plain": [
       "'I'"
      ]
     },
     "execution_count": 4,
     "metadata": {},
     "output_type": "execute_result"
    }
   ],
   "source": [
    "# Auslesen des ersten Buchstabens der Zeichenkette (s)\n",
    "s[0]"
   ]
  },
  {
   "cell_type": "code",
   "execution_count": 6,
   "metadata": {},
   "outputs": [
    {
     "data": {
      "text/plain": [
       "'s'"
      ]
     },
     "execution_count": 6,
     "metadata": {},
     "output_type": "execute_result"
    }
   ],
   "source": [
    "# Auslesen des dritten Buchstabens der Zeichenkette (s)\n",
    "s[4]"
   ]
  },
  {
   "cell_type": "markdown",
   "metadata": {},
   "source": [
    "### Zugriff auf Elemente vom Ende einer Sequenz mit negativen Indizes\n",
    "Auf die Sequenzen kann einfach auch vom Ende her zugegriffen werden, indem _negative Indizes_ verwendet werden:\n",
    "![Diagram of the list c labeled with its negative indices](ch05images/AAEMYRO0_2.png \"Diagram of the list c labeled with its negative indices\")"
   ]
  },
  {
   "cell_type": "code",
   "execution_count": 10,
   "metadata": {},
   "outputs": [
    {
     "data": {
      "text/plain": [
       "'.'"
      ]
     },
     "execution_count": 10,
     "metadata": {},
     "output_type": "execute_result"
    }
   ],
   "source": [
    "# Auslesen des letzten Buchstabens der Zeichenkette (s)\n",
    "s[-1]"
   ]
  },
  {
   "cell_type": "code",
   "execution_count": 12,
   "metadata": {},
   "outputs": [
    {
     "data": {
      "text/plain": [
       "'a'"
      ]
     },
     "execution_count": 12,
     "metadata": {},
     "output_type": "execute_result"
    }
   ],
   "source": [
    "# Auslesen des fünftletzten Buchstabens der Zeichenkette (s)\n",
    "s[-5]"
   ]
  },
  {
   "cell_type": "markdown",
   "metadata": {},
   "source": [
    "### Indizes müssen ganze Zahlen oder ganzzahlige Ausdrücke sein"
   ]
  },
  {
   "cell_type": "code",
   "execution_count": 14,
   "metadata": {},
   "outputs": [],
   "source": [
    "a = 1"
   ]
  },
  {
   "cell_type": "code",
   "execution_count": 15,
   "metadata": {},
   "outputs": [],
   "source": [
    "b = 2"
   ]
  },
  {
   "cell_type": "code",
   "execution_count": 16,
   "metadata": {},
   "outputs": [
    {
     "data": {
      "text/plain": [
       "' '"
      ]
     },
     "execution_count": 16,
     "metadata": {},
     "output_type": "execute_result"
    }
   ],
   "source": [
    "s[a + b]  # Index (a+b) ist ein ganzzahliger Ausdruck"
   ]
  },
  {
   "cell_type": "code",
   "execution_count": 17,
   "metadata": {},
   "outputs": [],
   "source": [
    "b = 1.5"
   ]
  },
  {
   "cell_type": "code",
   "execution_count": 32,
   "metadata": {},
   "outputs": [],
   "source": [
    "# Uncomment to raise error:\n",
    "#s[b]                     # --> TypeError: string indices must be integers"
   ]
  },
  {
   "cell_type": "raw",
   "metadata": {},
   "source": [
    "---------------------------------------------------------------------------\n",
    "TypeError                                 Traceback (most recent call last)\n",
    "Cell In[31], line 2\n",
    "      1 # Uncomment to raise error:\n",
    "----> 2 s[b]\n",
    "\n",
    "TypeError: string indices must be integers"
   ]
  },
  {
   "cell_type": "markdown",
   "metadata": {},
   "source": [
    "### Versuch, auf ein nicht existierendes Element zuzugreifen\n",
    "Indexwerte müssen im zulässigen Bereich liegen und dürfen nicht über das Ende der Zeichenkette hinaus auf Elemente zugreifen."
   ]
  },
  {
   "cell_type": "code",
   "execution_count": 53,
   "metadata": {},
   "outputs": [
    {
     "data": {
      "text/plain": [
       "'Ich sehe einen Hund graben, dass muss doch einen Grund haben.'"
      ]
     },
     "execution_count": 53,
     "metadata": {},
     "output_type": "execute_result"
    }
   ],
   "source": [
    "s"
   ]
  },
  {
   "cell_type": "code",
   "execution_count": 54,
   "metadata": {},
   "outputs": [],
   "source": [
    "# Uncomment to raise error:\n",
    "#s[111] = 'i'                # --> IndexError: string index out of range"
   ]
  },
  {
   "cell_type": "raw",
   "metadata": {},
   "source": [
    "---------------------------------------------------------------------------\n",
    "IndexError                                Traceback (most recent call last)\n",
    "Cell In[36], line 1\n",
    "----> 1 s[155]\n",
    "\n",
    "IndexError: string index out of range"
   ]
  },
  {
   "cell_type": "markdown",
   "metadata": {},
   "source": [
    "### Zeichenketten sind unveränderlich"
   ]
  },
  {
   "cell_type": "code",
   "execution_count": 22,
   "metadata": {},
   "outputs": [
    {
     "data": {
      "text/plain": [
       "'I'"
      ]
     },
     "execution_count": 22,
     "metadata": {},
     "output_type": "execute_result"
    }
   ],
   "source": [
    "# Auslesen des ersten Buchstabens der Zeichenkette (s) funktioniert problemlos\n",
    "s[0]"
   ]
  },
  {
   "cell_type": "code",
   "execution_count": 30,
   "metadata": {},
   "outputs": [],
   "source": [
    "# Aber der erste Buchstabe kann nicht einfach verändert werden:\n",
    "\n",
    "# Uncomment to raise error:\n",
    "#s[0] = 'i'                # --> TypeError: 'str' object does not support item assignment"
   ]
  },
  {
   "cell_type": "raw",
   "metadata": {},
   "source": [
    "---------------------------------------------------------------------------\n",
    "TypeError                                 Traceback (most recent call last)\n",
    "Cell In[29], line 4\n",
    "      1 # Aber der erste Buchstabe kann nicht einfach verändert werden:\n",
    "      2 \n",
    "      3 # Uncomment to raise error:\n",
    "----> 4 s[0] = 'i'\n",
    "\n",
    "TypeError: 'str' object does not support item assignment\n"
   ]
  },
  {
   "cell_type": "markdown",
   "metadata": {},
   "source": [
    "#### Workaround: Statt Zeichenkette verädern einfach neue Zeichenkette erstellen\n",
    "Da Zeichenketten, wie auch einige andere Sequenzen unveränderlich sind, werden einfach neue Sequenzen erstellt. Sie können aus einer Kombination von Sequenzen bestehen, wie hier im Beispiel mit Zeichenketten gezeigt.\n",
    "> Der Syntax `[1:]` ist ein Schnitt (_slice_) und wird getrennt und detailliert eingeführt. Zum Verständnis des Beispiels: mit `[1:len(s)]` werden alle Buchstaben vom zweiten bis zum letzten zusammengefasst."
   ]
  },
  {
   "cell_type": "code",
   "execution_count": 55,
   "metadata": {},
   "outputs": [
    {
     "name": "stdout",
     "output_type": "stream",
     "text": [
      "Ich sehe einen Hund graben, dass muss doch einen Grund haben.\n",
      "i_ch sehe einen Hund graben, dass muss doch einen Grund haben.\n"
     ]
    }
   ],
   "source": [
    "print(s)\n",
    "\n",
    "s_new = s[0].lower() + '_' + s[1:]\n",
    "\n",
    "print(s_new)"
   ]
  },
  {
   "cell_type": "markdown",
   "metadata": {},
   "source": [
    "### Vergleichsoperatoren\n",
    "* Zeichenketten können Element für Element verglichen werden.\n",
    "* Zwei Zeichenketten sind \"gleich\", wenn sie die gleichen Elemente in derselben Reihenfolge haben."
   ]
  },
  {
   "cell_type": "code",
   "execution_count": 1,
   "metadata": {
    "ExecuteTime": {
     "end_time": "2023-11-28T15:20:33.302858Z",
     "start_time": "2023-11-28T15:20:33.297221Z"
    }
   },
   "outputs": [],
   "source": [
    "a = \"alpha\""
   ]
  },
  {
   "cell_type": "code",
   "execution_count": 2,
   "metadata": {
    "ExecuteTime": {
     "end_time": "2023-11-28T15:20:33.304691Z",
     "start_time": "2023-11-28T15:20:33.300059Z"
    }
   },
   "outputs": [],
   "source": [
    "b = \"alpha\""
   ]
  },
  {
   "cell_type": "code",
   "execution_count": 3,
   "metadata": {
    "ExecuteTime": {
     "end_time": "2023-11-28T15:20:33.304785Z",
     "start_time": "2023-11-28T15:20:33.301918Z"
    }
   },
   "outputs": [],
   "source": [
    "c = \"alpha!\""
   ]
  },
  {
   "cell_type": "code",
   "execution_count": 4,
   "metadata": {
    "ExecuteTime": {
     "end_time": "2023-11-28T15:20:33.700774Z",
     "start_time": "2023-11-28T15:20:33.689149Z"
    }
   },
   "outputs": [
    {
     "data": {
      "text/plain": "True"
     },
     "execution_count": 4,
     "metadata": {},
     "output_type": "execute_result"
    }
   ],
   "source": [
    "a == b   # Wahr: die entsprechenden Elemente sind gleich\n"
   ]
  },
  {
   "cell_type": "code",
   "execution_count": 5,
   "metadata": {
    "ExecuteTime": {
     "end_time": "2023-11-28T15:20:34.333445Z",
     "start_time": "2023-11-28T15:20:34.320554Z"
    }
   },
   "outputs": [
    {
     "data": {
      "text/plain": "False"
     },
     "execution_count": 5,
     "metadata": {},
     "output_type": "execute_result"
    }
   ],
   "source": [
    "a == c   # Falsch: unterschiedliche Längen"
   ]
  },
  {
   "cell_type": "code",
   "execution_count": 6,
   "metadata": {
    "ExecuteTime": {
     "end_time": "2023-11-28T15:20:34.785099Z",
     "start_time": "2023-11-28T15:20:34.780477Z"
    }
   },
   "outputs": [
    {
     "data": {
      "text/plain": "True"
     },
     "execution_count": 6,
     "metadata": {},
     "output_type": "execute_result"
    }
   ],
   "source": [
    "a < c  # True, a hat weniger Elemente"
   ]
  },
  {
   "cell_type": "code",
   "execution_count": 7,
   "metadata": {
    "ExecuteTime": {
     "end_time": "2023-11-28T15:20:35.216931Z",
     "start_time": "2023-11-28T15:20:35.212376Z"
    }
   },
   "outputs": [
    {
     "data": {
      "text/plain": "True"
     },
     "execution_count": 7,
     "metadata": {},
     "output_type": "execute_result"
    }
   ],
   "source": [
    "c >= b  # Wahr: Elemente mit Index 0-2 sind gleich, aber c hat mehr Elemente"
   ]
  },
  {
   "cell_type": "code",
   "execution_count": 12,
   "metadata": {
    "ExecuteTime": {
     "end_time": "2023-11-28T15:21:03.806815Z",
     "start_time": "2023-11-28T15:21:03.793699Z"
    }
   },
   "outputs": [],
   "source": [
    "d = 'alm'"
   ]
  },
  {
   "cell_type": "code",
   "execution_count": 13,
   "metadata": {
    "ExecuteTime": {
     "end_time": "2023-11-28T15:21:04.651278Z",
     "start_time": "2023-11-28T15:21:04.634650Z"
    }
   },
   "outputs": [
    {
     "data": {
      "text/plain": "True"
     },
     "execution_count": 13,
     "metadata": {},
     "output_type": "execute_result"
    }
   ],
   "source": [
    "d < a"
   ]
  },
  {
   "cell_type": "code",
   "execution_count": null,
   "outputs": [],
   "source": [],
   "metadata": {
    "collapsed": false
   }
  }
 ],
 "metadata": {
  "interpreter": {
   "hash": "aee8b7b246df8f9039afb4144a1f6fd8d2ca17a180786b69acc140d282b71a49"
  },
  "kernelspec": {
   "display_name": "Python 3 (ipykernel)",
   "language": "python",
   "name": "python3"
  },
  "language_info": {
   "codemirror_mode": {
    "name": "ipython",
    "version": 3
   },
   "file_extension": ".py",
   "mimetype": "text/x-python",
   "name": "python",
   "nbconvert_exporter": "python",
   "pygments_lexer": "ipython3",
   "version": "3.8.16"
  }
 },
 "nbformat": 4,
 "nbformat_minor": 4
}
