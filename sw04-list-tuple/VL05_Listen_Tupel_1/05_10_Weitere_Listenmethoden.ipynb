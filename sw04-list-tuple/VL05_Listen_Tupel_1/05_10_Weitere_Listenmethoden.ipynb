{
 "cells": [
  {
   "cell_type": "markdown",
   "metadata": {},
   "source": [
    "# 5.10 Weitere Listenmethoden \n",
    "Neben der Listenmethode [`.sort()`]() gibt es noch eine Reihe weiterer Methoden von denen wir hier einige näher betrachten:\n",
    "+ `append()`\n",
    "+ `clear()`\n",
    "+ `copy()`\n",
    "+ `count()`\n",
    "+ `extend()`\n",
    "+ `index()`\n",
    "+ `insert()`\n",
    "+ `pop()`\n",
    "+ `remove()`\n",
    "+ `reverse()`"
   ]
  },
  {
   "cell_type": "code",
   "execution_count": 6,
   "metadata": {
    "ExecuteTime": {
     "end_time": "2023-12-26T13:48:52.522950Z",
     "start_time": "2023-12-26T13:48:52.465532Z"
    }
   },
   "outputs": [
    {
     "name": "stdout",
     "output_type": "stream",
     "text": [
      "Help on list object:\n",
      "\n",
      "class list(object)\n",
      " |  list(iterable=(), /)\n",
      " |  \n",
      " |  Built-in mutable sequence.\n",
      " |  \n",
      " |  If no argument is given, the constructor creates a new empty list.\n",
      " |  The argument must be an iterable if specified.\n",
      " |  \n",
      " |  Methods defined here:\n",
      " |  \n",
      " |  __add__(self, value, /)\n",
      " |      Return self+value.\n",
      " |  \n",
      " |  __contains__(self, key, /)\n",
      " |      Return key in self.\n",
      " |  \n",
      " |  __delitem__(self, key, /)\n",
      " |      Delete self[key].\n",
      " |  \n",
      " |  __eq__(self, value, /)\n",
      " |      Return self==value.\n",
      " |  \n",
      " |  __ge__(self, value, /)\n",
      " |      Return self>=value.\n",
      " |  \n",
      " |  __getattribute__(self, name, /)\n",
      " |      Return getattr(self, name).\n",
      " |  \n",
      " |  __getitem__(...)\n",
      " |      x.__getitem__(y) <==> x[y]\n",
      " |  \n",
      " |  __gt__(self, value, /)\n",
      " |      Return self>value.\n",
      " |  \n",
      " |  __iadd__(self, value, /)\n",
      " |      Implement self+=value.\n",
      " |  \n",
      " |  __imul__(self, value, /)\n",
      " |      Implement self*=value.\n",
      " |  \n",
      " |  __init__(self, /, *args, **kwargs)\n",
      " |      Initialize self.  See help(type(self)) for accurate signature.\n",
      " |  \n",
      " |  __iter__(self, /)\n",
      " |      Implement iter(self).\n",
      " |  \n",
      " |  __le__(self, value, /)\n",
      " |      Return self<=value.\n",
      " |  \n",
      " |  __len__(self, /)\n",
      " |      Return len(self).\n",
      " |  \n",
      " |  __lt__(self, value, /)\n",
      " |      Return self<value.\n",
      " |  \n",
      " |  __mul__(self, value, /)\n",
      " |      Return self*value.\n",
      " |  \n",
      " |  __ne__(self, value, /)\n",
      " |      Return self!=value.\n",
      " |  \n",
      " |  __repr__(self, /)\n",
      " |      Return repr(self).\n",
      " |  \n",
      " |  __reversed__(self, /)\n",
      " |      Return a reverse iterator over the list.\n",
      " |  \n",
      " |  __rmul__(self, value, /)\n",
      " |      Return value*self.\n",
      " |  \n",
      " |  __setitem__(self, key, value, /)\n",
      " |      Set self[key] to value.\n",
      " |  \n",
      " |  __sizeof__(self, /)\n",
      " |      Return the size of the list in memory, in bytes.\n",
      " |  \n",
      " |  append(self, object, /)\n",
      " |      Append object to the end of the list.\n",
      " |  \n",
      " |  clear(self, /)\n",
      " |      Remove all items from list.\n",
      " |  \n",
      " |  copy(self, /)\n",
      " |      Return a shallow copy of the list.\n",
      " |  \n",
      " |  count(self, value, /)\n",
      " |      Return number of occurrences of value.\n",
      " |  \n",
      " |  extend(self, iterable, /)\n",
      " |      Extend list by appending elements from the iterable.\n",
      " |  \n",
      " |  index(self, value, start=0, stop=9223372036854775807, /)\n",
      " |      Return first index of value.\n",
      " |      \n",
      " |      Raises ValueError if the value is not present.\n",
      " |  \n",
      " |  insert(self, index, object, /)\n",
      " |      Insert object before index.\n",
      " |  \n",
      " |  pop(self, index=-1, /)\n",
      " |      Remove and return item at index (default last).\n",
      " |      \n",
      " |      Raises IndexError if list is empty or index is out of range.\n",
      " |  \n",
      " |  remove(self, value, /)\n",
      " |      Remove first occurrence of value.\n",
      " |      \n",
      " |      Raises ValueError if the value is not present.\n",
      " |  \n",
      " |  reverse(self, /)\n",
      " |      Reverse *IN PLACE*.\n",
      " |  \n",
      " |  sort(self, /, *, key=None, reverse=False)\n",
      " |      Sort the list in ascending order and return None.\n",
      " |      \n",
      " |      The sort is in-place (i.e. the list itself is modified) and stable (i.e. the\n",
      " |      order of two equal elements is maintained).\n",
      " |      \n",
      " |      If a key function is given, apply it once to each list item and sort them,\n",
      " |      ascending or descending, according to their function values.\n",
      " |      \n",
      " |      The reverse flag can be set to sort in descending order.\n",
      " |  \n",
      " |  ----------------------------------------------------------------------\n",
      " |  Class methods defined here:\n",
      " |  \n",
      " |  __class_getitem__(...) from builtins.type\n",
      " |      See PEP 585\n",
      " |  \n",
      " |  ----------------------------------------------------------------------\n",
      " |  Static methods defined here:\n",
      " |  \n",
      " |  __new__(*args, **kwargs) from builtins.type\n",
      " |      Create and return a new object.  See help(type) for accurate signature.\n",
      " |  \n",
      " |  ----------------------------------------------------------------------\n",
      " |  Data and other attributes defined here:\n",
      " |  \n",
      " |  __hash__ = None\n"
     ]
    }
   ],
   "source": [
    "help(list())"
   ]
  },
  {
   "cell_type": "markdown",
   "metadata": {},
   "source": [
    "### Einfügen eines Elements an einem bestimmten Listenindex\n",
    "Die Methode `insert()` nimmt zwei Argumente `index` und `object` und fügt das Element `object` an der mit `index` spezifizierten Stelle ein. Das Element, dass vorher an dieser Stelle stand wandert nach hinten."
   ]
  },
  {
   "cell_type": "code",
   "execution_count": 7,
   "metadata": {
    "ExecuteTime": {
     "end_time": "2023-12-26T13:48:52.582351Z",
     "start_time": "2023-12-26T13:48:52.468894Z"
    }
   },
   "outputs": [
    {
     "name": "stdout",
     "output_type": "stream",
     "text": [
      "Help on built-in function insert:\n",
      "\n",
      "insert(index, object, /) method of builtins.list instance\n",
      "    Insert object before index.\n"
     ]
    }
   ],
   "source": [
    "help(list().insert)"
   ]
  },
  {
   "cell_type": "code",
   "execution_count": 8,
   "metadata": {
    "ExecuteTime": {
     "end_time": "2023-12-26T13:48:52.596840Z",
     "start_time": "2023-12-26T13:48:52.471531Z"
    }
   },
   "outputs": [],
   "source": [
    "color_names = ['orange', 'yellow', 'green']"
   ]
  },
  {
   "cell_type": "code",
   "execution_count": 9,
   "metadata": {
    "ExecuteTime": {
     "end_time": "2023-12-26T13:48:52.661387Z",
     "start_time": "2023-12-26T13:48:52.475915Z"
    }
   },
   "outputs": [],
   "source": [
    "color_names.insert(0, 'red')"
   ]
  },
  {
   "cell_type": "code",
   "execution_count": 10,
   "metadata": {
    "ExecuteTime": {
     "end_time": "2023-12-26T13:48:52.675359Z",
     "start_time": "2023-12-26T13:48:52.478380Z"
    }
   },
   "outputs": [
    {
     "data": {
      "text/plain": "['red', 'orange', 'yellow', 'green']"
     },
     "execution_count": 10,
     "metadata": {},
     "output_type": "execute_result"
    }
   ],
   "source": [
    "color_names"
   ]
  },
  {
   "cell_type": "markdown",
   "metadata": {},
   "source": [
    "### Hinzufügen eines Elements am Ende einer Liste\n",
    "Die Methode `append()` nimmt ein Argument und hängt dieses Element _ans Ende_ der Liste."
   ]
  },
  {
   "cell_type": "code",
   "execution_count": 11,
   "metadata": {
    "ExecuteTime": {
     "end_time": "2023-12-26T13:48:52.693994Z",
     "start_time": "2023-12-26T13:48:52.481255Z"
    }
   },
   "outputs": [
    {
     "name": "stdout",
     "output_type": "stream",
     "text": [
      "Help on built-in function append:\n",
      "\n",
      "append(object, /) method of builtins.list instance\n",
      "    Append object to the end of the list.\n"
     ]
    }
   ],
   "source": [
    "help(list().append)"
   ]
  },
  {
   "cell_type": "code",
   "execution_count": 12,
   "metadata": {
    "ExecuteTime": {
     "end_time": "2023-12-26T13:48:52.704725Z",
     "start_time": "2023-12-26T13:48:52.483440Z"
    }
   },
   "outputs": [],
   "source": [
    "color_names.append('blue')"
   ]
  },
  {
   "cell_type": "code",
   "execution_count": 13,
   "metadata": {
    "ExecuteTime": {
     "end_time": "2023-12-26T13:48:52.705207Z",
     "start_time": "2023-12-26T13:48:52.485852Z"
    }
   },
   "outputs": [
    {
     "data": {
      "text/plain": "['red', 'orange', 'yellow', 'green', 'blue']"
     },
     "execution_count": 13,
     "metadata": {},
     "output_type": "execute_result"
    }
   ],
   "source": [
    "color_names"
   ]
  },
  {
   "cell_type": "markdown",
   "metadata": {},
   "source": [
    "### Alle Elemente einer Sequenz am Ende einer Liste hinzufügen\n",
    "Die Methode `extend()` hängt die einzelnen Elemente einer Sequenz an das Ende einer Liste an. Die Methode verhält sich äquivalent zu `+=`."
   ]
  },
  {
   "cell_type": "code",
   "execution_count": 14,
   "metadata": {
    "ExecuteTime": {
     "end_time": "2023-12-26T13:48:52.705532Z",
     "start_time": "2023-12-26T13:48:52.488406Z"
    }
   },
   "outputs": [
    {
     "name": "stdout",
     "output_type": "stream",
     "text": [
      "Help on built-in function extend:\n",
      "\n",
      "extend(iterable, /) method of builtins.list instance\n",
      "    Extend list by appending elements from the iterable.\n"
     ]
    }
   ],
   "source": [
    "help(list().extend)"
   ]
  },
  {
   "cell_type": "code",
   "execution_count": 15,
   "metadata": {
    "ExecuteTime": {
     "end_time": "2023-12-26T13:48:52.708164Z",
     "start_time": "2023-12-26T13:48:52.492803Z"
    }
   },
   "outputs": [],
   "source": [
    "color_names.extend(['indigo', 'violet'])"
   ]
  },
  {
   "cell_type": "code",
   "execution_count": 16,
   "metadata": {
    "ExecuteTime": {
     "end_time": "2023-12-26T13:48:52.709650Z",
     "start_time": "2023-12-26T13:48:52.495355Z"
    }
   },
   "outputs": [
    {
     "data": {
      "text/plain": "['red', 'orange', 'yellow', 'green', 'blue', 'indigo', 'violet']"
     },
     "execution_count": 16,
     "metadata": {},
     "output_type": "execute_result"
    }
   ],
   "source": [
    "color_names"
   ]
  },
  {
   "cell_type": "code",
   "execution_count": 17,
   "metadata": {
    "ExecuteTime": {
     "end_time": "2023-12-26T13:48:52.710110Z",
     "start_time": "2023-12-26T13:48:52.497372Z"
    }
   },
   "outputs": [],
   "source": [
    "sample_list = []"
   ]
  },
  {
   "cell_type": "code",
   "execution_count": 18,
   "metadata": {
    "ExecuteTime": {
     "end_time": "2023-12-26T13:48:52.710240Z",
     "start_time": "2023-12-26T13:48:52.498965Z"
    }
   },
   "outputs": [],
   "source": [
    "s = 'abc'"
   ]
  },
  {
   "cell_type": "code",
   "execution_count": 19,
   "metadata": {
    "ExecuteTime": {
     "end_time": "2023-12-26T13:48:52.710880Z",
     "start_time": "2023-12-26T13:48:52.500712Z"
    }
   },
   "outputs": [],
   "source": [
    "sample_list.extend(s)"
   ]
  },
  {
   "cell_type": "code",
   "execution_count": 20,
   "metadata": {
    "ExecuteTime": {
     "end_time": "2023-12-26T13:48:52.711082Z",
     "start_time": "2023-12-26T13:48:52.502681Z"
    }
   },
   "outputs": [
    {
     "data": {
      "text/plain": "['a', 'b', 'c']"
     },
     "execution_count": 20,
     "metadata": {},
     "output_type": "execute_result"
    }
   ],
   "source": [
    "sample_list"
   ]
  },
  {
   "cell_type": "code",
   "execution_count": 21,
   "metadata": {
    "ExecuteTime": {
     "end_time": "2023-12-26T13:48:52.711162Z",
     "start_time": "2023-12-26T13:48:52.504959Z"
    }
   },
   "outputs": [],
   "source": [
    "t = (1, 2, 3)"
   ]
  },
  {
   "cell_type": "code",
   "execution_count": 22,
   "metadata": {
    "ExecuteTime": {
     "end_time": "2023-12-26T13:48:52.711242Z",
     "start_time": "2023-12-26T13:48:52.506822Z"
    }
   },
   "outputs": [],
   "source": [
    "sample_list.extend(t)"
   ]
  },
  {
   "cell_type": "code",
   "execution_count": 23,
   "metadata": {
    "ExecuteTime": {
     "end_time": "2023-12-26T13:48:52.711434Z",
     "start_time": "2023-12-26T13:48:52.508893Z"
    }
   },
   "outputs": [
    {
     "data": {
      "text/plain": "['a', 'b', 'c', 1, 2, 3]"
     },
     "execution_count": 23,
     "metadata": {},
     "output_type": "execute_result"
    }
   ],
   "source": [
    "sample_list"
   ]
  },
  {
   "cell_type": "markdown",
   "metadata": {},
   "source": [
    "* Für das Tupel-Argument unten sind Klammern erforderlich, weil die Methode `extend()` **ein iterierbares Argument** erwartet."
   ]
  },
  {
   "cell_type": "code",
   "execution_count": 24,
   "metadata": {
    "ExecuteTime": {
     "end_time": "2023-12-26T13:48:52.711506Z",
     "start_time": "2023-12-26T13:48:52.510996Z"
    }
   },
   "outputs": [],
   "source": [
    "sample_list.extend((4, 5, 6))  # note the extra parentheses"
   ]
  },
  {
   "cell_type": "code",
   "execution_count": 25,
   "metadata": {
    "ExecuteTime": {
     "end_time": "2023-12-26T13:48:52.711656Z",
     "start_time": "2023-12-26T13:48:52.512579Z"
    }
   },
   "outputs": [
    {
     "data": {
      "text/plain": "['a', 'b', 'c', 1, 2, 3, 4, 5, 6]"
     },
     "execution_count": 25,
     "metadata": {},
     "output_type": "execute_result"
    }
   ],
   "source": [
    "sample_list"
   ]
  },
  {
   "cell_type": "markdown",
   "metadata": {},
   "source": [
    "### Entfernen des ersten Vorkommens eines Elements in einer Liste \n",
    "Die Methode **`remove()`** entfernt das erste Vorkommen eines Elements. Ein `ValueError` tritt auf, wenn das Argument von `remove()` nicht in der Liste enthalten ist."
   ]
  },
  {
   "cell_type": "code",
   "execution_count": 26,
   "metadata": {
    "ExecuteTime": {
     "end_time": "2023-12-26T13:48:52.712174Z",
     "start_time": "2023-12-26T13:48:52.514711Z"
    }
   },
   "outputs": [
    {
     "data": {
      "text/plain": "['red', 'orange', 'yellow', 'green', 'blue', 'indigo', 'violet']"
     },
     "execution_count": 26,
     "metadata": {},
     "output_type": "execute_result"
    }
   ],
   "source": [
    "color_names"
   ]
  },
  {
   "cell_type": "code",
   "execution_count": 27,
   "metadata": {
    "ExecuteTime": {
     "end_time": "2023-12-26T13:48:52.712330Z",
     "start_time": "2023-12-26T13:48:52.516719Z"
    }
   },
   "outputs": [],
   "source": [
    "color_names.remove('green')"
   ]
  },
  {
   "cell_type": "code",
   "execution_count": 28,
   "metadata": {
    "ExecuteTime": {
     "end_time": "2023-12-26T13:48:52.712538Z",
     "start_time": "2023-12-26T13:48:52.519104Z"
    }
   },
   "outputs": [
    {
     "data": {
      "text/plain": "['red', 'orange', 'yellow', 'blue', 'indigo', 'violet']"
     },
     "execution_count": 28,
     "metadata": {},
     "output_type": "execute_result"
    }
   ],
   "source": [
    "color_names"
   ]
  },
  {
   "cell_type": "code",
   "execution_count": 29,
   "metadata": {
    "ExecuteTime": {
     "end_time": "2023-12-26T13:48:52.737483Z",
     "start_time": "2023-12-26T13:48:52.521082Z"
    }
   },
   "outputs": [
    {
     "ename": "ValueError",
     "evalue": "list.remove(x): x not in list",
     "output_type": "error",
     "traceback": [
      "\u001B[0;31m---------------------------------------------------------------------------\u001B[0m",
      "\u001B[0;31mValueError\u001B[0m                                Traceback (most recent call last)",
      "Cell \u001B[0;32mIn[29], line 1\u001B[0m\n\u001B[0;32m----> 1\u001B[0m \u001B[43mcolor_names\u001B[49m\u001B[38;5;241;43m.\u001B[39;49m\u001B[43mremove\u001B[49m\u001B[43m(\u001B[49m\u001B[38;5;124;43m'\u001B[39;49m\u001B[38;5;124;43mgreen\u001B[39;49m\u001B[38;5;124;43m'\u001B[39;49m\u001B[43m)\u001B[49m\n",
      "\u001B[0;31mValueError\u001B[0m: list.remove(x): x not in list"
     ]
    }
   ],
   "source": [
    "color_names.remove('green')"
   ]
  },
  {
   "cell_type": "markdown",
   "metadata": {},
   "source": [
    "### Leeren einer Liste\n",
    "Die Methode **`clear()`** entfernt alle Elemente aus einer Liste."
   ]
  },
  {
   "cell_type": "code",
   "execution_count": null,
   "metadata": {
    "ExecuteTime": {
     "start_time": "2023-12-26T13:48:52.622453Z"
    }
   },
   "outputs": [],
   "source": [
    "color_names.clear()"
   ]
  },
  {
   "cell_type": "code",
   "execution_count": null,
   "metadata": {
    "ExecuteTime": {
     "start_time": "2023-12-26T13:48:52.623740Z"
    }
   },
   "outputs": [],
   "source": [
    "color_names"
   ]
  },
  {
   "cell_type": "markdown",
   "metadata": {},
   "source": [
    "### Zählen der Anzahl der Vorkommen eines Elements\n",
    "Die Methode `count()` zählt wie oft ein Wert in der Liste vorhanden ist."
   ]
  },
  {
   "cell_type": "code",
   "execution_count": null,
   "metadata": {
    "ExecuteTime": {
     "start_time": "2023-12-26T13:48:52.625135Z"
    }
   },
   "outputs": [],
   "source": [
    "responses = [1, 2, 5, 4, 3, 5, 2, 1, 3, 3, \n",
    "             1, 4, 3, 3, 3, 2, 3, 3, 2, 2]"
   ]
  },
  {
   "cell_type": "code",
   "execution_count": null,
   "metadata": {
    "ExecuteTime": {
     "start_time": "2023-12-26T13:48:52.626546Z"
    }
   },
   "outputs": [],
   "source": [
    "for i in range(1, 6):\n",
    "    print(f'{i} appears {responses.count(i)} times in responses')"
   ]
  },
  {
   "cell_type": "markdown",
   "metadata": {},
   "source": [
    "### Umkehrung der Elemente einer Liste\n",
    "Die Methode `reverse()` dreht die Reihenfolge der Elemente einer Liste um."
   ]
  },
  {
   "cell_type": "code",
   "execution_count": null,
   "metadata": {
    "ExecuteTime": {
     "start_time": "2023-12-26T13:48:52.627879Z"
    }
   },
   "outputs": [],
   "source": [
    "color_names = ['red', 'orange', 'yellow', 'green', 'blue']"
   ]
  },
  {
   "cell_type": "code",
   "execution_count": null,
   "metadata": {
    "ExecuteTime": {
     "start_time": "2023-12-26T13:48:52.628952Z"
    }
   },
   "outputs": [],
   "source": [
    "color_names.reverse()"
   ]
  },
  {
   "cell_type": "code",
   "execution_count": null,
   "metadata": {
    "ExecuteTime": {
     "start_time": "2023-12-26T13:48:52.629728Z"
    }
   },
   "outputs": [],
   "source": [
    "color_names"
   ]
  },
  {
   "cell_type": "markdown",
   "metadata": {},
   "source": [
    "### Kopieren einer Liste\n",
    "Die Methode `copy()` gibt eine _neue_ Liste zurück. Es wird eine _flache_ Kopie (shallow copy) der Liste erzeugt."
   ]
  },
  {
   "cell_type": "code",
   "execution_count": null,
   "metadata": {
    "ExecuteTime": {
     "start_time": "2023-12-26T13:48:52.630539Z"
    }
   },
   "outputs": [],
   "source": [
    "copied_list = color_names.copy()"
   ]
  },
  {
   "cell_type": "code",
   "execution_count": null,
   "metadata": {
    "ExecuteTime": {
     "start_time": "2023-12-26T13:48:52.631396Z"
    }
   },
   "outputs": [],
   "source": [
    "copied_list"
   ]
  }
 ],
 "metadata": {
  "kernelspec": {
   "display_name": "Python 3 (ipykernel)",
   "language": "python",
   "name": "python3"
  },
  "language_info": {
   "codemirror_mode": {
    "name": "ipython",
    "version": 3
   },
   "file_extension": ".py",
   "mimetype": "text/x-python",
   "name": "python",
   "nbconvert_exporter": "python",
   "pygments_lexer": "ipython3",
   "version": "3.8.16"
  }
 },
 "nbformat": 4,
 "nbformat_minor": 4
}
