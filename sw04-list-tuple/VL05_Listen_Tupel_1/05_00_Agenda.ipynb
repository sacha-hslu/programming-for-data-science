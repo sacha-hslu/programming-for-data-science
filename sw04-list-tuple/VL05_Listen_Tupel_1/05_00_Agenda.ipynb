{
 "cells": [
  {
   "cell_type": "markdown",
   "metadata": {
    "slideshow": {
     "slide_type": "slide"
    }
   },
   "source": [
    "# 5. Listen und Tupel"
   ]
  },
  {
   "cell_type": "markdown",
   "metadata": {
    "slideshow": {
     "slide_type": "slide"
    }
   },
   "source": [
    "## Agenda\n",
    "\n",
    "### Teil 1\n",
    "* [5.1   \tEinführung](05_01_Einfuehrung.ipynb)\n",
    "* [5.2   \tStrings](05_02_AString.ipynb)\n",
    "* [5.3   \tListen](05_02_Listen.ipynb)\n",
    "* [5.4   \tTupel](05_03_Tupel.ipynb)\n",
    "* [5.5   \tEntpacken von Sequenzen](05_04_Entpacken.ipynb)\n",
    "* [5.6   \tSequenz-Slicing](05_05_Slicing.ipynb)\n",
    "* [5.7   \tdel-Anweisung](05_06_del-Anweisung.ipynb)\n",
    "* [5.8   \tÜbergeben von Listen an Funktionen](05_07_Uebergeben_von_Listen_an_Funktionen.ipynb)\n",
    "* [5.9   \tListen sortieren](05_08_Listen_sortieren.ipynb)\n",
    "* [5.10   \tSequenzen durchsuchen](05_09_Sequenzen_durchsuchen.ipynb)\n",
    "* [5.11   \tWeitere Listen-Methoden](05_10_Weitere_Listenmethoden.ipynb)\n",
    "* [5.12   \tSimulieren von Stacks und Queues mit Listen](05_11_Stack_und_Queue.ipynb)"
   ]
  },
  {
   "cell_type": "code",
   "execution_count": null,
   "metadata": {},
   "outputs": [],
   "source": []
  }
 ],
 "metadata": {
  "celltoolbar": "Slideshow",
  "kernelspec": {
   "display_name": "Python 3 (ipykernel)",
   "language": "python",
   "name": "python3"
  },
  "language_info": {
   "codemirror_mode": {
    "name": "ipython",
    "version": 3
   },
   "file_extension": ".py",
   "mimetype": "text/x-python",
   "name": "python",
   "nbconvert_exporter": "python",
   "pygments_lexer": "ipython3",
   "version": "3.8.16"
  }
 },
 "nbformat": 4,
 "nbformat_minor": 4
}
