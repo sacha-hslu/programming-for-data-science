{
 "cells": [
  {
   "cell_type": "markdown",
   "id": "9c6a6fc5b9403a22",
   "metadata": {
    "collapsed": false,
    "jupyter": {
     "outputs_hidden": false
    }
   },
   "source": [
    "# Most valuable lessons for string"
   ]
  },
  {
   "cell_type": "markdown",
   "id": "6aee5f16852c5e95",
   "metadata": {
    "collapsed": false,
    "jupyter": {
     "outputs_hidden": false
    }
   },
   "source": [
    "## creation and modification"
   ]
  },
  {
   "cell_type": "code",
   "execution_count": 303,
   "id": "568c19ae90abf04f",
   "metadata": {
    "ExecuteTime": {
     "end_time": "2023-12-26T15:18:07.936959Z",
     "start_time": "2023-12-26T15:18:07.901659Z"
    },
    "collapsed": false,
    "jupyter": {
     "outputs_hidden": false
    }
   },
   "outputs": [
    {
     "name": "stdout",
     "output_type": "stream",
     "text": [
      "!!!!!!!!!!\n"
     ]
    }
   ],
   "source": [
    "new_symbol = '!'\n",
    "new_symbol *= 10\n",
    "print(new_symbol)"
   ]
  },
  {
   "cell_type": "markdown",
   "id": "b3e5e0bc4024bc6b",
   "metadata": {
    "collapsed": false,
    "jupyter": {
     "outputs_hidden": false
    }
   },
   "source": [
    "## Comparison"
   ]
  },
  {
   "cell_type": "code",
   "execution_count": 304,
   "id": "initial_id",
   "metadata": {
    "ExecuteTime": {
     "end_time": "2023-12-26T15:18:07.958486Z",
     "start_time": "2023-12-26T15:18:07.908853Z"
    },
    "collapsed": true,
    "jupyter": {
     "outputs_hidden": true
    }
   },
   "outputs": [],
   "source": [
    "a = 'alpha'\n",
    "b = 'alpha!'"
   ]
  },
  {
   "cell_type": "code",
   "execution_count": 305,
   "id": "d26afe5726838c23",
   "metadata": {
    "ExecuteTime": {
     "end_time": "2023-12-26T15:18:07.969315Z",
     "start_time": "2023-12-26T15:18:07.912746Z"
    },
    "collapsed": false,
    "jupyter": {
     "outputs_hidden": false
    }
   },
   "outputs": [
    {
     "name": "stdout",
     "output_type": "stream",
     "text": [
      "False\n",
      "False\n",
      "True\n",
      "True\n"
     ]
    }
   ],
   "source": [
    "print(a == b)\n",
    "print(a > b)\n",
    "print(a < b)\n",
    "print(a <= b)"
   ]
  },
  {
   "cell_type": "markdown",
   "id": "4836e99d42e020da",
   "metadata": {
    "collapsed": false,
    "jupyter": {
     "outputs_hidden": false
    }
   },
   "source": [
    "## presentation"
   ]
  },
  {
   "cell_type": "code",
   "execution_count": 306,
   "id": "6411ea22ed1ed33f",
   "metadata": {
    "ExecuteTime": {
     "end_time": "2023-12-26T15:18:07.972086Z",
     "start_time": "2023-12-26T15:18:07.914970Z"
    },
    "collapsed": false,
    "jupyter": {
     "outputs_hidden": false
    }
   },
   "outputs": [
    {
     "name": "stdout",
     "output_type": "stream",
     "text": [
      "65.000000\n",
      "A\n"
     ]
    }
   ],
   "source": [
    "# float\n",
    "print(f'{65:f}')\n",
    "\n",
    "# ascii\n",
    "print(f'{65:c}')\n",
    "\n",
    "# more available in sw07 exercise 08"
   ]
  },
  {
   "cell_type": "code",
   "execution_count": 307,
   "id": "f2e01ef34ba783dc",
   "metadata": {
    "ExecuteTime": {
     "end_time": "2023-12-26T15:18:08.016675Z",
     "start_time": "2023-12-26T15:18:07.917512Z"
    },
    "collapsed": false,
    "jupyter": {
     "outputs_hidden": false
    }
   },
   "outputs": [
    {
     "name": "stdout",
     "output_type": "stream",
     "text": [
      "format float digit at end of this 46 long line\n",
      "                                     65.000000\n"
     ]
    }
   ],
   "source": [
    "print('format float digit at end of this 46 long line')\n",
    "print(f'{65:>46f}')"
   ]
  },
  {
   "cell_type": "markdown",
   "id": "b095d2527e83829e",
   "metadata": {
    "collapsed": false,
    "jupyter": {
     "outputs_hidden": false
    }
   },
   "source": [
    "## formatting"
   ]
  },
  {
   "cell_type": "code",
   "execution_count": 308,
   "id": "a3ccdcc89c71877f",
   "metadata": {
    "ExecuteTime": {
     "end_time": "2023-12-26T15:18:08.020706Z",
     "start_time": "2023-12-26T15:18:07.921039Z"
    },
    "collapsed": false,
    "jupyter": {
     "outputs_hidden": false
    }
   },
   "outputs": [
    {
     "data": {
      "text/plain": [
       "'Happy Happy Birthday'"
      ]
     },
     "execution_count": 308,
     "metadata": {},
     "output_type": "execute_result"
    }
   ],
   "source": [
    "'{0} {0} {1}'.format('Happy', 'Birthday')"
   ]
  },
  {
   "cell_type": "code",
   "execution_count": 309,
   "id": "fb9f2a17f5aea6da",
   "metadata": {
    "ExecuteTime": {
     "end_time": "2023-12-26T15:18:08.030883Z",
     "start_time": "2023-12-26T15:18:07.924359Z"
    },
    "collapsed": false,
    "jupyter": {
     "outputs_hidden": false
    }
   },
   "outputs": [
    {
     "data": {
      "text/plain": [
       "'Gray Amanda'"
      ]
     },
     "execution_count": 309,
     "metadata": {},
     "output_type": "execute_result"
    }
   ],
   "source": [
    "'{last} {first}'.format(first='Amanda', last='Gray')"
   ]
  },
  {
   "cell_type": "markdown",
   "id": "4517c063b4d4b48f",
   "metadata": {
    "collapsed": false,
    "jupyter": {
     "outputs_hidden": false
    }
   },
   "source": [
    "## whitespaces"
   ]
  },
  {
   "cell_type": "code",
   "execution_count": 310,
   "id": "a69ee01cfb6ca5ea",
   "metadata": {
    "ExecuteTime": {
     "end_time": "2023-12-26T15:18:08.038216Z",
     "start_time": "2023-12-26T15:18:07.926458Z"
    },
    "collapsed": false,
    "jupyter": {
     "outputs_hidden": false
    }
   },
   "outputs": [
    {
     "name": "stdout",
     "output_type": "stream",
     "text": [
      "\t  \n",
      "  this is a test string. \t\t \n",
      "\n",
      "this is a test string.\n"
     ]
    }
   ],
   "source": [
    "sentence = '\\t  \\n  this is a test string. \\t\\t \\n'\n",
    "print(sentence)\n",
    "print(sentence.strip())"
   ]
  },
  {
   "cell_type": "markdown",
   "id": "733c22a08d97fcb1",
   "metadata": {
    "collapsed": false,
    "jupyter": {
     "outputs_hidden": false
    }
   },
   "source": [
    "## Grossschreibung"
   ]
  },
  {
   "cell_type": "code",
   "execution_count": 311,
   "id": "d7310a2afc0dda9d",
   "metadata": {
    "ExecuteTime": {
     "end_time": "2023-12-26T15:18:08.041085Z",
     "start_time": "2023-12-26T15:18:07.929217Z"
    },
    "collapsed": false,
    "jupyter": {
     "outputs_hidden": false
    }
   },
   "outputs": [
    {
     "name": "stdout",
     "output_type": "stream",
     "text": [
      "This is a test string.\n",
      "This Is A Test String.\n"
     ]
    }
   ],
   "source": [
    "print(sentence.strip().capitalize())\n",
    "print(sentence.strip().title())"
   ]
  },
  {
   "cell_type": "markdown",
   "id": "5f86d26ef75cd1f8",
   "metadata": {
    "collapsed": false,
    "jupyter": {
     "outputs_hidden": false
    }
   },
   "source": [
    "## comparison"
   ]
  },
  {
   "cell_type": "code",
   "execution_count": 312,
   "id": "829524e07e4f693a",
   "metadata": {
    "ExecuteTime": {
     "end_time": "2023-12-26T15:18:08.063500Z",
     "start_time": "2023-12-26T15:18:07.933482Z"
    },
    "collapsed": false,
    "jupyter": {
     "outputs_hidden": false
    }
   },
   "outputs": [
    {
     "name": "stdout",
     "output_type": "stream",
     "text": [
      "A: 65; a: 97\n"
     ]
    }
   ],
   "source": [
    "print(f'A: {ord(\"A\")}; a: {ord(\"a\")}')"
   ]
  },
  {
   "cell_type": "code",
   "execution_count": 313,
   "id": "6834dd574aef0996",
   "metadata": {
    "ExecuteTime": {
     "end_time": "2023-12-26T15:18:08.063843Z",
     "start_time": "2023-12-26T15:18:07.935091Z"
    },
    "collapsed": false,
    "jupyter": {
     "outputs_hidden": false
    }
   },
   "outputs": [
    {
     "name": "stdout",
     "output_type": "stream",
     "text": [
      "True\n"
     ]
    }
   ],
   "source": [
    "print('A' <= 'a')"
   ]
  },
  {
   "cell_type": "markdown",
   "id": "59475ff62c7b4fe",
   "metadata": {
    "collapsed": false,
    "jupyter": {
     "outputs_hidden": false
    }
   },
   "source": [
    "## count"
   ]
  },
  {
   "cell_type": "code",
   "execution_count": 314,
   "id": "10c7ed86dd11c5f6",
   "metadata": {
    "ExecuteTime": {
     "end_time": "2023-12-26T15:18:08.064149Z",
     "start_time": "2023-12-26T15:18:07.937472Z"
    },
    "collapsed": false,
    "jupyter": {
     "outputs_hidden": false
    }
   },
   "outputs": [
    {
     "name": "stdout",
     "output_type": "stream",
     "text": [
      "2\n",
      "1\n"
     ]
    }
   ],
   "source": [
    "speech = 'to be or not to be that is the question'\n",
    "print(speech.count('to'))\n",
    "print(speech.count('to', 12, 23)) # between"
   ]
  },
  {
   "cell_type": "markdown",
   "id": "c1e60e026dc602a9",
   "metadata": {
    "collapsed": false,
    "jupyter": {
     "outputs_hidden": false
    }
   },
   "source": [
    "## substring"
   ]
  },
  {
   "cell_type": "code",
   "execution_count": 315,
   "id": "36ca1b0efd1c867f",
   "metadata": {
    "ExecuteTime": {
     "end_time": "2023-12-26T15:18:08.065080Z",
     "start_time": "2023-12-26T15:18:07.939738Z"
    },
    "collapsed": false,
    "jupyter": {
     "outputs_hidden": false
    }
   },
   "outputs": [
    {
     "data": {
      "text/plain": [
       "True"
      ]
     },
     "execution_count": 315,
     "metadata": {},
     "output_type": "execute_result"
    }
   ],
   "source": [
    "'to' in speech"
   ]
  },
  {
   "cell_type": "code",
   "execution_count": 316,
   "id": "37e7769a3ee2ecc2",
   "metadata": {
    "ExecuteTime": {
     "end_time": "2023-12-26T15:18:08.065364Z",
     "start_time": "2023-12-26T15:18:07.942125Z"
    },
    "collapsed": false,
    "jupyter": {
     "outputs_hidden": false
    }
   },
   "outputs": [
    {
     "data": {
      "text/plain": [
       "True"
      ]
     },
     "execution_count": 316,
     "metadata": {},
     "output_type": "execute_result"
    }
   ],
   "source": [
    "speech.startswith(('to', 'To'))"
   ]
  },
  {
   "cell_type": "markdown",
   "id": "fac9e9b661f16798",
   "metadata": {
    "collapsed": false,
    "jupyter": {
     "outputs_hidden": false
    }
   },
   "source": [
    "## replace"
   ]
  },
  {
   "cell_type": "code",
   "execution_count": 317,
   "id": "aadfdf21d586856e",
   "metadata": {
    "ExecuteTime": {
     "end_time": "2023-12-26T15:18:08.065422Z",
     "start_time": "2023-12-26T15:18:07.944539Z"
    },
    "collapsed": false,
    "jupyter": {
     "outputs_hidden": false
    }
   },
   "outputs": [
    {
     "data": {
      "text/plain": [
       "'1;2;3;4 5'"
      ]
     },
     "execution_count": 317,
     "metadata": {},
     "output_type": "execute_result"
    }
   ],
   "source": [
    "values = '1 2 3 4 5'\n",
    "values.replace(' ', ';', 3) # do it 3 times only"
   ]
  },
  {
   "cell_type": "markdown",
   "id": "d5cf2b8808150c0a",
   "metadata": {
    "collapsed": false,
    "jupyter": {
     "outputs_hidden": false
    }
   },
   "source": [
    "## list"
   ]
  },
  {
   "cell_type": "code",
   "execution_count": 318,
   "id": "f748ce1717666a2e",
   "metadata": {
    "ExecuteTime": {
     "end_time": "2023-12-26T15:18:08.065467Z",
     "start_time": "2023-12-26T15:18:07.946663Z"
    },
    "collapsed": false,
    "jupyter": {
     "outputs_hidden": false
    }
   },
   "outputs": [
    {
     "name": "stdout",
     "output_type": "stream",
     "text": [
      "['A', 'B', 'C', 'D']\n"
     ]
    }
   ],
   "source": [
    "letters = 'A, B, C, D'\n",
    "print(letters.split(', '))"
   ]
  },
  {
   "cell_type": "code",
   "execution_count": 319,
   "id": "91cb6c356114b5f0",
   "metadata": {
    "ExecuteTime": {
     "end_time": "2023-12-26T15:18:08.065519Z",
     "start_time": "2023-12-26T15:18:07.948760Z"
    },
    "collapsed": false,
    "jupyter": {
     "outputs_hidden": false
    }
   },
   "outputs": [
    {
     "data": {
      "text/plain": [
       "'0, 1, 2, 3, 4, 5, 6, 7, 8, 9'"
      ]
     },
     "execution_count": 319,
     "metadata": {},
     "output_type": "execute_result"
    }
   ],
   "source": [
    "', '.join([str(i) for i in range(10)])"
   ]
  },
  {
   "cell_type": "markdown",
   "id": "3f8c87c9c7aad317",
   "metadata": {
    "collapsed": false,
    "jupyter": {
     "outputs_hidden": false
    }
   },
   "source": [
    "## character test methods in sw07 exercise 08_09"
   ]
  },
  {
   "cell_type": "code",
   "execution_count": 320,
   "id": "3c4fbf929e283c8",
   "metadata": {
    "ExecuteTime": {
     "end_time": "2023-12-26T15:18:08.065561Z",
     "start_time": "2023-12-26T15:18:07.951158Z"
    },
    "collapsed": false,
    "jupyter": {
     "outputs_hidden": false
    }
   },
   "outputs": [
    {
     "name": "stdout",
     "output_type": "stream",
     "text": [
      "False\n"
     ]
    }
   ],
   "source": [
    "print('string'.isnumeric())"
   ]
  },
  {
   "cell_type": "markdown",
   "id": "5154dabf2023f2f5",
   "metadata": {
    "collapsed": false,
    "jupyter": {
     "outputs_hidden": false
    }
   },
   "source": [
    "## raw strings"
   ]
  },
  {
   "cell_type": "code",
   "execution_count": 321,
   "id": "5ec7869ea9bbfb9",
   "metadata": {
    "ExecuteTime": {
     "end_time": "2023-12-26T15:18:08.065583Z",
     "start_time": "2023-12-26T15:18:07.954374Z"
    },
    "collapsed": false,
    "jupyter": {
     "outputs_hidden": false
    }
   },
   "outputs": [],
   "source": [
    "file_path = 'c:\\my_folder\\\\todo.txt'\n",
    "# because \\t"
   ]
  },
  {
   "cell_type": "code",
   "execution_count": 322,
   "id": "aa989fcdd4c8a0ac",
   "metadata": {
    "ExecuteTime": {
     "end_time": "2023-12-26T15:18:08.065624Z",
     "start_time": "2023-12-26T15:18:07.955973Z"
    },
    "collapsed": false,
    "jupyter": {
     "outputs_hidden": false
    }
   },
   "outputs": [
    {
     "name": "stdout",
     "output_type": "stream",
     "text": [
      "c:\\my_folder\\todo.txt\n"
     ]
    }
   ],
   "source": [
    "print(file_path)"
   ]
  },
  {
   "cell_type": "code",
   "execution_count": 323,
   "id": "5c7543b2505136a8",
   "metadata": {
    "ExecuteTime": {
     "end_time": "2023-12-26T15:18:08.065905Z",
     "start_time": "2023-12-26T15:18:07.958259Z"
    },
    "collapsed": false,
    "jupyter": {
     "outputs_hidden": false
    }
   },
   "outputs": [
    {
     "data": {
      "text/plain": [
       "'c:\\\\my_folder\\\\todo.txt'"
      ]
     },
     "execution_count": 323,
     "metadata": {},
     "output_type": "execute_result"
    }
   ],
   "source": [
    "file_path"
   ]
  },
  {
   "cell_type": "code",
   "execution_count": 324,
   "id": "a18dab1a51f98b5",
   "metadata": {
    "ExecuteTime": {
     "end_time": "2023-12-26T15:18:08.065928Z",
     "start_time": "2023-12-26T15:18:07.960334Z"
    },
    "collapsed": false,
    "jupyter": {
     "outputs_hidden": false
    }
   },
   "outputs": [],
   "source": [
    "file_path = r'c:\\my_folder\\\\todo.txt'"
   ]
  },
  {
   "cell_type": "code",
   "execution_count": 325,
   "id": "823c6486b238d125",
   "metadata": {
    "ExecuteTime": {
     "end_time": "2023-12-26T15:18:08.065969Z",
     "start_time": "2023-12-26T15:18:07.962159Z"
    },
    "collapsed": false,
    "jupyter": {
     "outputs_hidden": false
    }
   },
   "outputs": [
    {
     "name": "stdout",
     "output_type": "stream",
     "text": [
      "c:\\my_folder\\\\todo.txt\n"
     ]
    }
   ],
   "source": [
    "print(file_path)"
   ]
  },
  {
   "cell_type": "code",
   "execution_count": 326,
   "id": "b087eb3044a3e21d",
   "metadata": {
    "ExecuteTime": {
     "end_time": "2023-12-26T15:18:08.066026Z",
     "start_time": "2023-12-26T15:18:07.964080Z"
    },
    "collapsed": false,
    "jupyter": {
     "outputs_hidden": false
    }
   },
   "outputs": [
    {
     "data": {
      "text/plain": [
       "'c:\\\\my_folder\\\\\\\\todo.txt'"
      ]
     },
     "execution_count": 326,
     "metadata": {},
     "output_type": "execute_result"
    }
   ],
   "source": [
    "file_path"
   ]
  }
 ],
 "metadata": {
  "kernelspec": {
   "display_name": "Python 3 (ipykernel)",
   "language": "python",
   "name": "python3"
  },
  "language_info": {
   "codemirror_mode": {
    "name": "ipython",
    "version": 3
   },
   "file_extension": ".py",
   "mimetype": "text/x-python",
   "name": "python",
   "nbconvert_exporter": "python",
   "pygments_lexer": "ipython3",
   "version": "3.11.5"
  }
 },
 "nbformat": 4,
 "nbformat_minor": 5
}
