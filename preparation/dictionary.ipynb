{
 "cells": [
  {
   "cell_type": "markdown",
   "source": [
    "# most valuable lessons programming with dicts"
   ],
   "metadata": {
    "collapsed": false
   },
   "id": "9d5a1119916ad8e6"
  },
  {
   "cell_type": "markdown",
   "source": [
    "## creating, accessing and deleting values"
   ],
   "metadata": {
    "collapsed": false
   },
   "id": "84ad951319193a5d"
  },
  {
   "cell_type": "code",
   "execution_count": 90,
   "outputs": [
    {
     "name": "stdout",
     "output_type": "stream",
     "text": [
      "31\n"
     ]
    }
   ],
   "source": [
    "new_dict = {'January': 31, 'February': 28, 'March': 31}\n",
    "print(new_dict['January'])"
   ],
   "metadata": {
    "collapsed": false,
    "ExecuteTime": {
     "end_time": "2023-12-26T14:08:43.255309Z",
     "start_time": "2023-12-26T14:08:43.217498Z"
    }
   },
   "id": "ff9957fa08977845"
  },
  {
   "cell_type": "code",
   "execution_count": 91,
   "outputs": [
    {
     "name": "stdout",
     "output_type": "stream",
     "text": [
      "{'January': 31, 'February': 28, 'March': 31, 'April': 30}\n"
     ]
    }
   ],
   "source": [
    "new_dict['April'] = 30\n",
    "print(new_dict)"
   ],
   "metadata": {
    "collapsed": false,
    "ExecuteTime": {
     "end_time": "2023-12-26T14:08:43.262688Z",
     "start_time": "2023-12-26T14:08:43.220398Z"
    }
   },
   "id": "3a4244cde67a1ca7"
  },
  {
   "cell_type": "code",
   "execution_count": 92,
   "outputs": [
    {
     "name": "stdout",
     "output_type": "stream",
     "text": [
      "{'January': 31, 'February': 28, 'March': 31}\n"
     ]
    }
   ],
   "source": [
    "del new_dict['April']\n",
    "print(new_dict)"
   ],
   "metadata": {
    "collapsed": false,
    "ExecuteTime": {
     "end_time": "2023-12-26T14:08:43.263404Z",
     "start_time": "2023-12-26T14:08:43.222530Z"
    }
   },
   "id": "fcdb588fa4653203"
  },
  {
   "cell_type": "markdown",
   "source": [
    "## empty"
   ],
   "metadata": {
    "collapsed": false
   },
   "id": "b0bc597615c4b59b"
  },
  {
   "cell_type": "code",
   "execution_count": 93,
   "id": "initial_id",
   "metadata": {
    "collapsed": true,
    "ExecuteTime": {
     "end_time": "2023-12-26T14:08:43.263518Z",
     "start_time": "2023-12-26T14:08:43.224061Z"
    }
   },
   "outputs": [
    {
     "name": "stdout",
     "output_type": "stream",
     "text": [
      "empty\n"
     ]
    }
   ],
   "source": [
    "empty_dict = {}\n",
    "print('not empty' if empty_dict else 'empty')"
   ]
  },
  {
   "cell_type": "markdown",
   "source": [
    "## iteration"
   ],
   "metadata": {
    "collapsed": false
   },
   "id": "68b9273d5c2aa983"
  },
  {
   "cell_type": "code",
   "execution_count": 94,
   "outputs": [
    {
     "name": "stdout",
     "output_type": "stream",
     "text": [
      "January\n",
      "February\n",
      "March\n"
     ]
    }
   ],
   "source": [
    "days_per_month = {'January': 31, 'February': 28, 'March': 31}\n",
    "for month in days_per_month:\n",
    "    print(month)"
   ],
   "metadata": {
    "collapsed": false,
    "ExecuteTime": {
     "end_time": "2023-12-26T14:08:43.266659Z",
     "start_time": "2023-12-26T14:08:43.227097Z"
    }
   },
   "id": "6c11697fb4de41bb"
  },
  {
   "cell_type": "markdown",
   "source": [
    "### items()"
   ],
   "metadata": {
    "collapsed": false
   },
   "id": "63d2dcce3ef2446"
  },
  {
   "cell_type": "code",
   "execution_count": 95,
   "outputs": [
    {
     "name": "stdout",
     "output_type": "stream",
     "text": [
      "January 31\n",
      "February 28\n",
      "March 31\n"
     ]
    }
   ],
   "source": [
    "for month, day in days_per_month.items():\n",
    "    print(month, day)"
   ],
   "metadata": {
    "collapsed": false,
    "ExecuteTime": {
     "end_time": "2023-12-26T14:08:43.266875Z",
     "start_time": "2023-12-26T14:08:43.229040Z"
    }
   },
   "id": "3bb5a27c5b396e0b"
  },
  {
   "cell_type": "markdown",
   "source": [
    "## condition"
   ],
   "metadata": {
    "collapsed": false
   },
   "id": "3d1519b29887eb3e"
  },
  {
   "cell_type": "code",
   "execution_count": 96,
   "outputs": [
    {
     "name": "stdout",
     "output_type": "stream",
     "text": [
      "False\n",
      "True\n"
     ]
    }
   ],
   "source": [
    "print('December' in days_per_month)\n",
    "print('December' not in days_per_month)"
   ],
   "metadata": {
    "collapsed": false,
    "ExecuteTime": {
     "end_time": "2023-12-26T14:08:43.267121Z",
     "start_time": "2023-12-26T14:08:43.230784Z"
    }
   },
   "id": "c323fe8f6def6238"
  },
  {
   "cell_type": "markdown",
   "source": [
    "## comprehension"
   ],
   "metadata": {
    "collapsed": false
   },
   "id": "466e2e187c50096e"
  },
  {
   "cell_type": "code",
   "execution_count": 97,
   "outputs": [
    {
     "name": "stdout",
     "output_type": "stream",
     "text": [
      "{31: 'March', 28: 'February'}\n"
     ]
    }
   ],
   "source": [
    "switched_months = {value: key for key, value in days_per_month.items()}\n",
    "print(switched_months) # key must be unique, therefore only two months can be added to list"
   ],
   "metadata": {
    "collapsed": false,
    "ExecuteTime": {
     "end_time": "2023-12-26T14:08:43.267179Z",
     "start_time": "2023-12-26T14:08:43.232917Z"
    }
   },
   "id": "7ddc8011afdec6b7"
  }
 ],
 "metadata": {
  "kernelspec": {
   "display_name": "Python 3",
   "language": "python",
   "name": "python3"
  },
  "language_info": {
   "codemirror_mode": {
    "name": "ipython",
    "version": 2
   },
   "file_extension": ".py",
   "mimetype": "text/x-python",
   "name": "python",
   "nbconvert_exporter": "python",
   "pygments_lexer": "ipython2",
   "version": "2.7.6"
  }
 },
 "nbformat": 4,
 "nbformat_minor": 5
}
