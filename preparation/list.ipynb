{
 "cells": [
  {
   "cell_type": "markdown",
   "id": "55a1b0285eb214a4",
   "metadata": {
    "collapsed": false,
    "jupyter": {
     "outputs_hidden": false
    }
   },
   "source": [
    "# Most valuable lessons for lists\n",
    "sw04 -> 05_10 for more methods available on lists"
   ]
  },
  {
   "cell_type": "markdown",
   "id": "4157d61615b9a3bc",
   "metadata": {
    "collapsed": false,
    "jupyter": {
     "outputs_hidden": false
    }
   },
   "source": [
    "## string list"
   ]
  },
  {
   "cell_type": "code",
   "execution_count": 5,
   "id": "initial_id",
   "metadata": {
    "ExecuteTime": {
     "end_time": "2023-12-26T14:08:50.481249Z",
     "start_time": "2023-12-26T14:08:50.442171Z"
    },
    "collapsed": true,
    "jupyter": {
     "outputs_hidden": true
    }
   },
   "outputs": [
    {
     "data": {
      "text/plain": [
       "['H', 'e', 'l', 'l', 'o', ' ', 'W', 'o', 'r', 'l', 'd']"
      ]
     },
     "execution_count": 5,
     "metadata": {},
     "output_type": "execute_result"
    }
   ],
   "source": [
    "list('Hello World')"
   ]
  },
  {
   "cell_type": "markdown",
   "id": "9a4ae2926b9d4c33",
   "metadata": {
    "collapsed": false,
    "jupyter": {
     "outputs_hidden": false
    }
   },
   "source": [
    "## length"
   ]
  },
  {
   "cell_type": "code",
   "execution_count": 6,
   "id": "f78717d147a2f4ec",
   "metadata": {
    "ExecuteTime": {
     "end_time": "2023-12-26T14:08:50.498124Z",
     "start_time": "2023-12-26T14:08:50.446543Z"
    },
    "collapsed": false,
    "jupyter": {
     "outputs_hidden": false
    }
   },
   "outputs": [
    {
     "data": {
      "text/plain": [
       "5"
      ]
     },
     "execution_count": 6,
     "metadata": {},
     "output_type": "execute_result"
    }
   ],
   "source": [
    "len(list('Hello'))"
   ]
  },
  {
   "cell_type": "markdown",
   "id": "fc864d7c93888fd3",
   "metadata": {
    "collapsed": false,
    "jupyter": {
     "outputs_hidden": false
    }
   },
   "source": [
    "## index"
   ]
  },
  {
   "cell_type": "code",
   "execution_count": 7,
   "id": "72b79ed49c2de9c6",
   "metadata": {
    "ExecuteTime": {
     "end_time": "2023-12-26T14:08:50.505855Z",
     "start_time": "2023-12-26T14:08:50.450103Z"
    },
    "collapsed": false,
    "jupyter": {
     "outputs_hidden": false
    }
   },
   "outputs": [
    {
     "name": "stdout",
     "output_type": "stream",
     "text": [
      "2\n",
      "7\n"
     ]
    }
   ],
   "source": [
    "values = [1, 2, 3, 4, 5, 6, 7]\n",
    "print(values[1])\n",
    "print(values[-1])"
   ]
  },
  {
   "cell_type": "markdown",
   "id": "a09e271fc9401db2",
   "metadata": {
    "collapsed": false,
    "jupyter": {
     "outputs_hidden": false
    }
   },
   "source": [
    "### enumerate\n",
    "gives tuple of index and value"
   ]
  },
  {
   "cell_type": "code",
   "execution_count": 8,
   "id": "1cc9aa9b17255b64",
   "metadata": {
    "ExecuteTime": {
     "end_time": "2023-12-26T14:08:50.532377Z",
     "start_time": "2023-12-26T14:08:50.454233Z"
    },
    "collapsed": false,
    "jupyter": {
     "outputs_hidden": false
    }
   },
   "outputs": [
    {
     "data": {
      "text/plain": [
       "[(0, 1), (1, 2), (2, 3), (3, 4), (4, 5), (5, 6), (6, 7)]"
      ]
     },
     "execution_count": 8,
     "metadata": {},
     "output_type": "execute_result"
    }
   ],
   "source": [
    "list(enumerate(values))"
   ]
  },
  {
   "cell_type": "markdown",
   "id": "de5371f17378995c",
   "metadata": {
    "collapsed": false,
    "jupyter": {
     "outputs_hidden": false
    }
   },
   "source": [
    "### slicing"
   ]
  },
  {
   "cell_type": "code",
   "execution_count": 9,
   "id": "c209f4f5b2ed6d2",
   "metadata": {
    "ExecuteTime": {
     "end_time": "2023-12-26T14:08:50.532615Z",
     "start_time": "2023-12-26T14:08:50.456953Z"
    },
    "collapsed": false,
    "jupyter": {
     "outputs_hidden": false
    }
   },
   "outputs": [
    {
     "name": "stdout",
     "output_type": "stream",
     "text": [
      "[4, 5, 6, 7]\n",
      "[4, 5, 6, 7]\n"
     ]
    }
   ],
   "source": [
    "print(values[3:])\n",
    "print(values[3:len(values)])"
   ]
  },
  {
   "cell_type": "code",
   "execution_count": 10,
   "id": "b2af3da947a72871",
   "metadata": {
    "ExecuteTime": {
     "end_time": "2023-12-26T14:08:50.546582Z",
     "start_time": "2023-12-26T14:08:50.459623Z"
    },
    "collapsed": false,
    "jupyter": {
     "outputs_hidden": false
    }
   },
   "outputs": [
    {
     "name": "stdout",
     "output_type": "stream",
     "text": [
      "[1, 3, 5, 7]\n",
      "[7, 6, 5, 4, 3, 2, 1]\n"
     ]
    }
   ],
   "source": [
    "print(values[::2])\n",
    "print(values[::-1])"
   ]
  },
  {
   "cell_type": "markdown",
   "id": "248dd5a74388fdd3",
   "metadata": {
    "collapsed": false,
    "jupyter": {
     "outputs_hidden": false
    }
   },
   "source": [
    "## sorting"
   ]
  },
  {
   "cell_type": "code",
   "execution_count": 11,
   "id": "e0b68fecefec9640",
   "metadata": {
    "ExecuteTime": {
     "end_time": "2023-12-26T14:08:50.547848Z",
     "start_time": "2023-12-26T14:08:50.461856Z"
    },
    "collapsed": false,
    "jupyter": {
     "outputs_hidden": false
    }
   },
   "outputs": [
    {
     "name": "stdout",
     "output_type": "stream",
     "text": [
      "[7, 6, 5, 4, 3, 2, 1]\n",
      "[1, 2, 3, 4, 5, 6, 7]\n"
     ]
    }
   ],
   "source": [
    "print(sorted(values, reverse=True))\n",
    "print(values)"
   ]
  },
  {
   "cell_type": "markdown",
   "id": "912f0ea28f0ee27b",
   "metadata": {
    "collapsed": false,
    "jupyter": {
     "outputs_hidden": false
    }
   },
   "source": [
    "## searching"
   ]
  },
  {
   "cell_type": "code",
   "execution_count": 12,
   "id": "f6c63f6c96c5f603",
   "metadata": {
    "ExecuteTime": {
     "end_time": "2023-12-26T14:08:50.548004Z",
     "start_time": "2023-12-26T14:08:50.465305Z"
    },
    "collapsed": false,
    "jupyter": {
     "outputs_hidden": false
    }
   },
   "outputs": [
    {
     "name": "stdout",
     "output_type": "stream",
     "text": [
      "2\n"
     ]
    }
   ],
   "source": [
    "element_to_get_index_of = 3\n",
    "print(values.index(element_to_get_index_of))"
   ]
  },
  {
   "cell_type": "markdown",
   "id": "fe8512dabf2a2f5e",
   "metadata": {
    "collapsed": false,
    "jupyter": {
     "outputs_hidden": false
    }
   },
   "source": [
    "## comprehension"
   ]
  },
  {
   "cell_type": "code",
   "execution_count": 13,
   "id": "c6708fda926c1a57",
   "metadata": {
    "ExecuteTime": {
     "end_time": "2023-12-26T14:08:50.548061Z",
     "start_time": "2023-12-26T14:08:50.467637Z"
    },
    "collapsed": false,
    "jupyter": {
     "outputs_hidden": false
    }
   },
   "outputs": [
    {
     "name": "stdout",
     "output_type": "stream",
     "text": [
      "[2, 4]\n"
     ]
    }
   ],
   "source": [
    "numbers = [1, 2, 3, 4, 5]\n",
    "even_numbers = [x for x in numbers if x % 2 == 0]\n",
    "print(even_numbers)"
   ]
  },
  {
   "cell_type": "markdown",
   "id": "45fb6905cd58b206",
   "metadata": {
    "collapsed": false,
    "jupyter": {
     "outputs_hidden": false
    }
   },
   "source": [
    "## methods"
   ]
  },
  {
   "cell_type": "code",
   "execution_count": 14,
   "id": "7c6be951c89988c8",
   "metadata": {
    "ExecuteTime": {
     "end_time": "2023-12-26T14:08:50.548427Z",
     "start_time": "2023-12-26T14:08:50.470046Z"
    },
    "collapsed": false,
    "jupyter": {
     "outputs_hidden": false
    }
   },
   "outputs": [
    {
     "name": "stdout",
     "output_type": "stream",
     "text": [
      "['blue', 'yellow', 'red']\n"
     ]
    }
   ],
   "source": [
    "colors = ['blue', 'yellow']\n",
    "colors.append('red')\n",
    "print(colors)"
   ]
  },
  {
   "cell_type": "code",
   "execution_count": 15,
   "id": "3c35315a218ef88a",
   "metadata": {
    "ExecuteTime": {
     "end_time": "2023-12-26T14:08:50.548491Z",
     "start_time": "2023-12-26T14:08:50.471905Z"
    },
    "collapsed": false,
    "jupyter": {
     "outputs_hidden": false
    }
   },
   "outputs": [
    {
     "name": "stdout",
     "output_type": "stream",
     "text": [
      "['blue', 'red', 'yellow']\n"
     ]
    }
   ],
   "source": [
    "colors = ['blue', 'yellow']\n",
    "colors.insert(1, 'red')\n",
    "print(colors)"
   ]
  }
 ],
 "metadata": {
  "kernelspec": {
   "display_name": "Python 3 (ipykernel)",
   "language": "python",
   "name": "python3"
  },
  "language_info": {
   "codemirror_mode": {
    "name": "ipython",
    "version": 3
   },
   "file_extension": ".py",
   "mimetype": "text/x-python",
   "name": "python",
   "nbconvert_exporter": "python",
   "pygments_lexer": "ipython3",
   "version": "3.11.5"
  }
 },
 "nbformat": 4,
 "nbformat_minor": 5
}
