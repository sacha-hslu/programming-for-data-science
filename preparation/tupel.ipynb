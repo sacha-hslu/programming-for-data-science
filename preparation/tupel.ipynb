{
 "cells": [
  {
   "cell_type": "markdown",
   "id": "59f12579f73ab6e1",
   "metadata": {
    "collapsed": false,
    "jupyter": {
     "outputs_hidden": false
    }
   },
   "source": [
    "# Most valuable lesson for tupel\n",
    "\n",
    "tuple are not modifiable"
   ]
  },
  {
   "cell_type": "markdown",
   "id": "ae451492b225d62b",
   "metadata": {
    "collapsed": false,
    "jupyter": {
     "outputs_hidden": false
    }
   },
   "source": [
    "## singleton"
   ]
  },
  {
   "cell_type": "code",
   "execution_count": 57,
   "id": "initial_id",
   "metadata": {
    "ExecuteTime": {
     "end_time": "2023-11-28T15:50:08.295164Z",
     "start_time": "2023-11-28T15:50:08.265601Z"
    },
    "collapsed": true,
    "jupyter": {
     "outputs_hidden": true
    }
   },
   "outputs": [
    {
     "name": "stdout",
     "output_type": "stream",
     "text": [
      "(10,)\n"
     ]
    }
   ],
   "source": [
    "tuple = (10,)\n",
    "print(tuple)"
   ]
  },
  {
   "cell_type": "code",
   "execution_count": 58,
   "id": "ec496946be6fac4a",
   "metadata": {
    "ExecuteTime": {
     "end_time": "2023-11-28T15:50:08.295302Z",
     "start_time": "2023-11-28T15:50:08.268324Z"
    },
    "collapsed": false,
    "jupyter": {
     "outputs_hidden": false
    }
   },
   "outputs": [
    {
     "name": "stdout",
     "output_type": "stream",
     "text": [
      "(10, 20)\n"
     ]
    }
   ],
   "source": [
    "tuple += (20,)\n",
    "print(tuple)"
   ]
  },
  {
   "cell_type": "code",
   "execution_count": 59,
   "id": "86dee3093c55ebab",
   "metadata": {
    "ExecuteTime": {
     "end_time": "2023-11-28T15:50:08.295934Z",
     "start_time": "2023-11-28T15:50:08.270213Z"
    },
    "collapsed": false,
    "jupyter": {
     "outputs_hidden": false
    }
   },
   "outputs": [
    {
     "name": "stdout",
     "output_type": "stream",
     "text": [
      "10\n",
      "20\n"
     ]
    }
   ],
   "source": [
    "ten, twenty = tuple\n",
    "print(ten)\n",
    "print(twenty)"
   ]
  },
  {
   "cell_type": "markdown",
   "id": "72addee6221f8f8b",
   "metadata": {
    "collapsed": false,
    "jupyter": {
     "outputs_hidden": false
    }
   },
   "source": [
    "## with list"
   ]
  },
  {
   "cell_type": "code",
   "execution_count": 60,
   "id": "467da5e60a659b54",
   "metadata": {
    "ExecuteTime": {
     "end_time": "2023-11-28T15:50:08.296063Z",
     "start_time": "2023-11-28T15:50:08.272273Z"
    },
    "collapsed": false,
    "jupyter": {
     "outputs_hidden": false
    }
   },
   "outputs": [
    {
     "name": "stdout",
     "output_type": "stream",
     "text": [
      "[(10, 20), 30, 40]\n"
     ]
    }
   ],
   "source": [
    "new_list = [tuple, 30, 40]\n",
    "print(new_list)"
   ]
  },
  {
   "cell_type": "code",
   "execution_count": 61,
   "id": "9a5563dd550997ea",
   "metadata": {
    "ExecuteTime": {
     "end_time": "2023-11-28T15:50:08.296118Z",
     "start_time": "2023-11-28T15:50:08.275075Z"
    },
    "collapsed": false,
    "jupyter": {
     "outputs_hidden": false
    }
   },
   "outputs": [
    {
     "name": "stdout",
     "output_type": "stream",
     "text": [
      "('new', 'tuple', [(10, 20), 30, 40])\n",
      "('new', 'tuple', [(10, 20), 300000, 40])\n"
     ]
    }
   ],
   "source": [
    "tuple_list = ('new', 'tuple', new_list)\n",
    "print(tuple_list)\n",
    "\n",
    "tuple_list[2][1] = 300000\n",
    "print(tuple_list)"
   ]
  },
  {
   "cell_type": "markdown",
   "id": "5fffc767e5b2326a",
   "metadata": {
    "collapsed": false,
    "jupyter": {
     "outputs_hidden": false
    }
   },
   "source": [
    "## range"
   ]
  },
  {
   "cell_type": "code",
   "execution_count": 62,
   "id": "dae329d7c484c308",
   "metadata": {
    "ExecuteTime": {
     "end_time": "2023-11-28T15:50:08.296469Z",
     "start_time": "2023-11-28T15:50:08.276990Z"
    },
    "collapsed": false,
    "jupyter": {
     "outputs_hidden": false
    }
   },
   "outputs": [
    {
     "name": "stdout",
     "output_type": "stream",
     "text": [
      "10  20  30\n"
     ]
    }
   ],
   "source": [
    "number1, number2, number3 = range(10, 40, 10)\n",
    "print(f'{number1}  {number2}  {number3}')"
   ]
  }
 ],
 "metadata": {
  "kernelspec": {
   "display_name": "Python 3 (ipykernel)",
   "language": "python",
   "name": "python3"
  },
  "language_info": {
   "codemirror_mode": {
    "name": "ipython",
    "version": 3
   },
   "file_extension": ".py",
   "mimetype": "text/x-python",
   "name": "python",
   "nbconvert_exporter": "python",
   "pygments_lexer": "ipython3",
   "version": "3.11.5"
  }
 },
 "nbformat": 4,
 "nbformat_minor": 5
}
