{
 "cells": [
  {
   "cell_type": "markdown",
   "metadata": {},
   "source": [
    "# Übung 7"
   ]
  },
  {
   "cell_type": "markdown",
   "metadata": {},
   "source": [
    "## Aufgabe 1\n",
    "Der folgende Code sollte die eindeutigen Wörter von `text` und die Anzahl der Vorkommnisse jedes Wortes anzeigen. Was ist falsch an diesem Code? \n",
    "\n",
    "``` python\n",
    "from collections import Counter\n",
    "text = ('to be or not to be that is the question')\n",
    "counter = Counter(text.split())\n",
    "for word, count in sorted(counter):\n",
    "    print(f'{word:<12}{count}')\n",
    "```"
   ]
  },
  {
   "cell_type": "code",
   "execution_count": 6,
   "outputs": [
    {
     "name": "stdout",
     "output_type": "stream",
     "text": [
      "be          2\n",
      "is          1\n",
      "not         1\n",
      "or          1\n",
      "question    1\n",
      "that        1\n",
      "the         1\n",
      "to          2\n",
      "['be', 'is', 'not', 'or', 'question', 'that', 'the', 'to']\n",
      "[('be', 2), ('is', 1), ('not', 1), ('or', 1), ('question', 1), ('that', 1), ('the', 1), ('to', 2)]\n"
     ]
    }
   ],
   "source": [
    "from collections import Counter\n",
    "text = ('to be or not to be that is the question')\n",
    "counter = Counter(text.split())\n",
    "for word, count in sorted(counter.items()):\n",
    "    print(f'{word:<12}{count}')\n",
    "print(sorted(counter))\n",
    "print(sorted(counter.items()))"
   ],
   "metadata": {
    "collapsed": false,
    "ExecuteTime": {
     "end_time": "2023-11-21T16:08:56.878694Z",
     "start_time": "2023-11-21T16:08:56.834712Z"
    }
   }
  },
  {
   "cell_type": "markdown",
   "metadata": {},
   "source": [
    "items() gibt die tupel zurück, wobei die liste an sich nur den ersten wert der tupel zurück gibt"
   ]
  },
  {
   "cell_type": "markdown",
   "metadata": {},
   "source": [
    "## Aufgabe 2\n",
    "Gegeben ist das folgende Dictionary eines Dozenten, in welchem für die Studentinnen und Studenten die erreichten Punktzahlen an verschiedenen Prüfungen gespeichert sind.\n",
    "\n",
    "```\n",
    "    grade_book = {            \n",
    "        'Susan': [92, 85, 100], \n",
    "        'Eduardo': [83, 95, 79],\n",
    "        'Azizi': [91, 89, 82],  \n",
    "        'Pantipa': [97, 91, 92] \n",
    "    }\n",
    "```\n",
    "\n",
    "Schreiben Sie ein Script, welches die Durchschnittspunkzahl pro Student:in, sowie den Klassendurchschnitt berechnet und ausgibt."
   ]
  },
  {
   "cell_type": "code",
   "execution_count": 7,
   "metadata": {
    "ExecuteTime": {
     "end_time": "2023-11-21T16:08:56.878931Z",
     "start_time": "2023-11-21T16:08:56.839174Z"
    }
   },
   "outputs": [
    {
     "name": "stdout",
     "output_type": "stream",
     "text": [
      "{'Susan': 92.333, 'Eduardo': 85.667, 'Azizi': 87.333, 'Pantipa': 93.333}\n",
      "89.6665\n",
      "89.6665\n"
     ]
    }
   ],
   "source": [
    "import statistics\n",
    "\n",
    "grade_book = {            \n",
    "    'Susan': [92, 85, 100], \n",
    "    'Eduardo': [83, 95, 79],\n",
    "    'Azizi': [91, 89, 82],  \n",
    "    'Pantipa': [97, 91, 92] \n",
    "}\n",
    "\n",
    "grade_book = {student: round(statistics.mean(grades), 3) for student, grades in grade_book.items()}\n",
    "\n",
    "print(grade_book)\n",
    "print(statistics.mean([x for _, x in grade_book.items()]))\n",
    "# other solution from class\n",
    "print(statistics.mean(grade_book.values()))\n"
   ]
  },
  {
   "cell_type": "markdown",
   "metadata": {},
   "source": [
    "## Aufgabe 3\n",
    "Ersetzen Sie in jedem der folgenden Ausdrücke die *** durch einen Set-Operator, der das im Kommentar angezeigte Ergebnis erzeugt. \n",
    "Geben Sie für jeden der ersten vier Ausdrücke den Namen der Mengenoperation an, die das angegebene Ergebnis liefert.\n",
    "\n",
    "Die letzte Operation in Teilaufgabe e) sollte prüfen, ob der linke Operand eine unechte Teilmenge des rechten Operanden ist. \n",
    "\n",
    "\n",
    "``` python\n",
    "a) {1, 2, 4, 8, 16} *** {1, 4, 16, 64, 256} # {1,2,4,8,16,64,256}\n",
    "b) {1, 2, 4, 8, 16} *** {1, 4, 16, 64, 256} # {1,4,16}\n",
    "c) {1, 2, 4, 8, 16} *** {1, 4, 16, 64, 256} # {2,8}\n",
    "d) {1, 2, 4, 8, 16} *** {1, 4, 16, 64, 256} # {2,8,64,256}\n",
    "e) {1, 2, 4, 8, 16} *** {1, 4, 16, 64, 256} # False\n",
    "```"
   ]
  },
  {
   "cell_type": "code",
   "execution_count": 8,
   "metadata": {
    "ExecuteTime": {
     "end_time": "2023-11-21T16:08:56.909918Z",
     "start_time": "2023-11-21T16:08:56.849927Z"
    }
   },
   "outputs": [
    {
     "name": "stdout",
     "output_type": "stream",
     "text": [
      "[1, 2, 4, 8, 16, 64, 256]\n",
      "[1, 4, 16]\n",
      "[2, 8]\n",
      "[2, 8, 64, 256]\n",
      "False\n",
      "True\n",
      "[2, 4, 8, 64, 256]\n"
     ]
    }
   ],
   "source": [
    "print(sorted({1, 2, 4, 8, 16} | {1, 4, 16, 64, 256})) # {1,2,4,8,16,64,256}\n",
    "print(sorted({1, 2, 4, 8, 16} & {1, 4, 16, 64, 256})) # {1,4,16}\n",
    "print(sorted({1, 2, 4, 8, 16} - {1, 4, 16, 64, 256})) # {2,8}\n",
    "print(sorted({1, 2, 4, 8, 16} ^ {1, 4, 16, 64, 256})) # {2,8,64,256}\n",
    "print({1, 2, 4, 8, 16}.issubset({1, 4, 16, 64, 256})) # False\n",
    "print({1, 4}.issubset({1, 4})) # False\n",
    "print(sorted({1, 2, 4, 4, 8, 16} ^ {1, 16, 64, 256})) # {2,8,64,256}"
   ]
  },
  {
   "cell_type": "markdown",
   "metadata": {},
   "source": [
    "## Aufgabe 4\n",
    "Schreiben Sie ein Script, welches die Wörter die Duplikate in einem Text enthalten evaluiert und mit Angabe der Anzahl Vorkommen ausgibt.<br>\n",
    "Behandeln Sie Gross- und Kleinbuchstaben gleich und gehen Sie davon aus, dass es im Satz keine Interpunktion gibt. Tipp: Wörter, deren Anzahl grösser als 1 ist, haben Duplikate."
   ]
  },
  {
   "cell_type": "code",
   "execution_count": 9,
   "metadata": {
    "ExecuteTime": {
     "end_time": "2023-11-21T16:08:56.916069Z",
     "start_time": "2023-11-21T16:08:56.853921Z"
    }
   },
   "outputs": [
    {
     "name": "stdout",
     "output_type": "stream",
     "text": [
      "{'BE': 2, 'IS': 1, 'NOT': 1, 'OR': 1, 'QUESTION': 1, 'THAT': 1, 'THE': 1, 'TO': 2}\n"
     ]
    }
   ],
   "source": [
    "from collections import Counter\n",
    "\n",
    "text = ('to be or not to be that is the question')\n",
    "counter = Counter(text.upper().split())\n",
    "counted_words = {word: count for word, count in sorted(counter.items())}\n",
    "\n",
    "print(counted_words)"
   ]
  },
  {
   "cell_type": "markdown",
   "metadata": {},
   "source": [
    "## Aufgabe 5\n",
    "Schreiben Sie ein Skript, das einen Satz vom Benutzer einliest und dann ein Dictionary verwendet, um die Anzahl der Vorkommen jedes Buchstabens zusammenzufassen. Ignorieren Sie Gross- und Kleinschreibung, ignorieren Sie Leerzeichen und gehen Sie davon aus, dass der Benutzer keine Interpunktion eingibt. Zeigen Sie eine zweispaltige Tabelle der Buchstaben und ihrer Anzahl an, wobei die Buchstaben in sortierter Reihenfolge angezeigt werden. \n",
    "\n",
    "Zusatzherausforderung: Verwenden Sie eine Mengenoperation, um festzustellen, welche Buchstaben des Alphabets in der ursprünglichen Zeichenfolge nicht vorkamen."
   ]
  },
  {
   "cell_type": "code",
   "execution_count": 10,
   "metadata": {
    "ExecuteTime": {
     "end_time": "2023-11-21T16:08:56.918462Z",
     "start_time": "2023-11-21T16:08:56.856841Z"
    }
   },
   "outputs": [
    {
     "name": "stdout",
     "output_type": "stream",
     "text": [
      "{'T': 1, 'O': 1, ' ': 1, 'B': 1, 'E': 1, 'R': 1, 'N': 1, 'H': 1, 'A': 1, 'I': 1, 'S': 1, 'Q': 1, 'U': 1}\n"
     ]
    }
   ],
   "source": [
    "text = ('to be or not to be that is the question')\n",
    "\n",
    "counted_letters = {letter: 1 for letter in text.upper()}\n",
    "\n",
    "\n",
    "print(counted_letters)"
   ]
  },
  {
   "cell_type": "markdown",
   "metadata": {},
   "source": [
    "## Aufgabe 6\n",
    "Modifizieren Sie das Skript `craps.py`, um 1'000'000 Craps-Spiele zu spielen. Verwenden Sie ein Gewinn-Dictionary, um die Anzahl der gewonnenen Spiele für eine bestimmte Anzahl von Würfen zu verfolgen. Verwenden Sie in analog ein Verlust-Dictionary, um die Anzahl der verlorenen Spiele für eine bestimmte Anzahl von Würfen zu verfolgen. Aktualisieren Sie die Dictionaries im Laufe der Simulation immer wieder.\n",
    "\n",
    "Ein typisches Schlüssel-Werte-Paar im Gewinn-Dictionary könnte so aussehen `4: 50217` und darauf hindeuten, dass 50217 Spiele im 4. Wurf gewonnen wurden.\n",
    "\n",
    "Zeigen Sie am Schluss eine Zusammenfassung an, die folgende Informationen enthält:\n",
    "1. Die Anzahl der gewonnen Spiele, sowie die Anzahl der verlorenen Spiele pro Wurf\n",
    "2. Die Gewinnchance als prozentualer Anteil aller gewonnener Spiele im Vergleich zur Geamtzahl der gespielten Spiele\n",
    "\n",
    "\n",
    "Die Zusammenfassung könnte z.B. so aussehen:\n",
    "```\n",
    " 222353 games won and  110749 games lost on roll #1\n",
    "  77056 games won and  111262 games lost on roll #2\n",
    "  55346 games won and   79861 games lost on roll #3\n",
    "  39329 games won and   57492 games lost on roll #4\n",
    "  27926 games won and   41220 games lost on roll #5\n",
    "  19919 games won and   29442 games lost on roll #6\n",
    "  14477 games won and   21255 games lost on roll #7\n",
    "  10280 games won and   15366 games lost on roll #8\n",
    "   7315 games won and   10966 games lost on roll #9\n",
    "   5272 games won and    7975 games lost on roll #10\n",
    "   3881 games won and    5787 games lost on roll #11\n",
    "   2709 games won and    4220 games lost on roll #12\n",
    "   1916 games won and    3131 games lost on roll #13\n",
    "   1471 games won and    2220 games lost on roll #14\n",
    "   1028 games won and    1635 games lost on roll #15\n",
    "    753 games won and    1179 games lost on roll #16\n",
    "    543 games won and     884 games lost on roll #17\n",
    "    404 games won and     641 games lost on roll #18\n",
    "    265 games won and     474 games lost on roll #19\n",
    "    218 games won and     337 games lost on roll #20\n",
    "    510 games won and     933 games lost after the 20th roll\n",
    "\n",
    "The chances of winning are 492971 / 1000000 = 49.30%\n",
    "\n",
    "```\n",
    "\n"
   ]
  },
  {
   "cell_type": "code",
   "execution_count": 10,
   "outputs": [],
   "source": [],
   "metadata": {
    "collapsed": false,
    "ExecuteTime": {
     "end_time": "2023-11-21T16:08:56.918570Z",
     "start_time": "2023-11-21T16:08:56.859919Z"
    }
   }
  }
 ],
 "metadata": {
  "kernelspec": {
   "display_name": "Python 3.10.5 64-bit",
   "language": "python",
   "name": "python3"
  },
  "language_info": {
   "codemirror_mode": {
    "name": "ipython",
    "version": 3
   },
   "file_extension": ".py",
   "mimetype": "text/x-python",
   "name": "python",
   "nbconvert_exporter": "python",
   "pygments_lexer": "ipython3",
   "version": "3.10.5"
  },
  "vscode": {
   "interpreter": {
    "hash": "aee8b7b246df8f9039afb4144a1f6fd8d2ca17a180786b69acc140d282b71a49"
   }
  }
 },
 "nbformat": 4,
 "nbformat_minor": 4
}
