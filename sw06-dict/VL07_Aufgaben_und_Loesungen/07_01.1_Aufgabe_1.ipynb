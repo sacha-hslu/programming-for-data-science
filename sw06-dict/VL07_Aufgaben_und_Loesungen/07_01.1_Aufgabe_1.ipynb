{
 "cells": [
  {
   "cell_type": "markdown",
   "id": "81c0907d-7d17-48ed-a0e6-13c1ca0a2fe0",
   "metadata": {},
   "source": [
    "## Aufgabe 1\n",
    "Gegeben ist das folgende Dictionary `temperatures`, welches für jeden von vier Tagen (Mo - Do) jeweils drei Temperaturmesswerte vom Morgen, Mittag und Abend enthält.\n",
    "\n",
    "```\n",
    "temperatures = {\n",
    "    'Monday': [16, 19, 16],\n",
    "    'Tuesday': [12, 19, 14],\n",
    "    'Wednesday': [15, 20, 15],\n",
    "    'Thursday': [12, 20, 17]\n",
    "}\n",
    "```\n",
    "\n",
    "Schreiben Sie Script, welches für jeden Tag die Durchschnittstemperatur ausgibt."
   ]
  },
  {
   "cell_type": "code",
   "execution_count": 4,
   "id": "0068e70a-e5f9-4454-9b5f-c006dec0e063",
   "metadata": {},
   "outputs": [
    {
     "name": "stdout",
     "output_type": "stream",
     "text": [
      "Monday: 17.00\n",
      "Tuesday: 15.00\n",
      "Wednesday: 16.67\n",
      "Thursday: 16.33\n"
     ]
    }
   ],
   "source": [
    "temperatures = {\n",
    "    'Monday': [16, 19, 16],\n",
    "    'Tuesday': [12, 19, 14],\n",
    "    'Wednesday': [15, 20, 15],\n",
    "    'Thursday': [12, 20, 17]\n",
    "}\n",
    "\n",
    "for k, v in temperatures.items():\n",
    "    print(f'{k}: {sum(v)/len(v):.2f}')"
   ]
  }
 ],
 "metadata": {
  "kernelspec": {
   "display_name": "Python 3 (ipykernel)",
   "language": "python",
   "name": "python3"
  },
  "language_info": {
   "codemirror_mode": {
    "name": "ipython",
    "version": 3
   },
   "file_extension": ".py",
   "mimetype": "text/x-python",
   "name": "python",
   "nbconvert_exporter": "python",
   "pygments_lexer": "ipython3",
   "version": "3.10.5"
  }
 },
 "nbformat": 4,
 "nbformat_minor": 5
}
