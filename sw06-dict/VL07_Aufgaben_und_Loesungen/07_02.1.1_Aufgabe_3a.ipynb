{
 "cells": [
  {
   "cell_type": "markdown",
   "id": "31d96ad9-4a55-4529-b50e-e564a550327d",
   "metadata": {},
   "source": [
    "## Aufgabe 3a\n",
    "Gegeben sind folgende Sets:\n",
    "\n",
    "``` python\n",
    "{'red', 'green', 'blue'}\n",
    "{'cyan', 'green', 'blue', 'magenta', 'red'}\n",
    "```\n",
    "Zeigen Sie die Ergebnisse für die folgende Teilaufgabe:"
   ]
  },
  {
   "cell_type": "markdown",
   "id": "249d2012-89e1-44bb-b569-03d3b9a7f505",
   "metadata": {},
   "source": [
    "a) Vergleich der Mengen unter Verwendung der einzelnen Vergleichsoperatoren."
   ]
  },
  {
   "cell_type": "code",
   "execution_count": null,
   "id": "828f65b2-1594-4b1e-9dff-ee54cd91501d",
   "metadata": {},
   "outputs": [],
   "source": [
    "set1 = {'red', 'green', 'blue'}\n",
    "set2 = {'cyan', 'green', 'blue', 'magenta', 'red'}"
   ]
  },
  {
   "cell_type": "code",
   "execution_count": null,
   "id": "1fbd8f13-4917-4b35-875b-7408353e8210",
   "metadata": {},
   "outputs": [],
   "source": [
    "set1 < set2  # echte Teilmenge"
   ]
  },
  {
   "cell_type": "code",
   "execution_count": null,
   "id": "077cb8e6-ca1c-482a-a300-daf19b61feb0",
   "metadata": {},
   "outputs": [],
   "source": [
    "set1 <= set2 # unechte Teilmenge"
   ]
  },
  {
   "cell_type": "code",
   "execution_count": null,
   "id": "74f71a60-9a27-4082-8ab8-37bde0f93800",
   "metadata": {},
   "outputs": [],
   "source": [
    "set1 > set2 # echte Obermenge"
   ]
  },
  {
   "cell_type": "code",
   "execution_count": null,
   "id": "002521c4-0dbd-49cc-9d83-0e9d75b0dbf7",
   "metadata": {},
   "outputs": [],
   "source": [
    "set1 >= set2 # unechte Obermenge"
   ]
  },
  {
   "cell_type": "code",
   "execution_count": null,
   "id": "16565237-ca16-42b9-a866-99373a990480",
   "metadata": {},
   "outputs": [],
   "source": [
    "set1 == set2"
   ]
  },
  {
   "cell_type": "code",
   "execution_count": null,
   "id": "2bd3f4d9-3eba-47eb-ae52-1fb17b19e7b1",
   "metadata": {},
   "outputs": [],
   "source": [
    "set1 != set2"
   ]
  }
 ],
 "metadata": {
  "kernelspec": {
   "display_name": "Python 3 (ipykernel)",
   "language": "python",
   "name": "python3"
  },
  "language_info": {
   "codemirror_mode": {
    "name": "ipython",
    "version": 3
   },
   "file_extension": ".py",
   "mimetype": "text/x-python",
   "name": "python",
   "nbconvert_exporter": "python",
   "pygments_lexer": "ipython3",
   "version": "3.10.5"
  }
 },
 "nbformat": 4,
 "nbformat_minor": 5
}
