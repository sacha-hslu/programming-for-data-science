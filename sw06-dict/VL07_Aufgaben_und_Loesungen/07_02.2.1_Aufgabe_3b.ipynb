{
 "cells": [
  {
   "cell_type": "markdown",
   "id": "31d96ad9-4a55-4529-b50e-e564a550327d",
   "metadata": {},
   "source": [
    "## Aufgabe 3b\n",
    "Gegeben sind folgende Sets:\n",
    "\n",
    "``` python\n",
    "{'red', 'green', 'blue'}\n",
    "{'cyan', 'green', 'blue', 'magenta', 'red'}\n",
    "```\n",
    "Zeigen Sie die Ergebnisse für die folgende Teilaufgabe:"
   ]
  },
  {
   "cell_type": "markdown",
   "id": "87a81fc6-a752-4dc2-8fde-076ec9cd1e08",
   "metadata": {},
   "source": [
    "b) Kombinieren der Mengen unter Verwendung der mathematischen Mengenoperatoren."
   ]
  },
  {
   "cell_type": "code",
   "execution_count": null,
   "id": "9eff7a0b-db40-4475-8fa3-a24145448b42",
   "metadata": {
    "tags": []
   },
   "outputs": [],
   "source": [
    "set1 = {'red', 'green', 'blue'}\n",
    "set2 = {'cyan', 'green', 'blue', 'magenta', 'red'}"
   ]
  },
  {
   "cell_type": "code",
   "execution_count": null,
   "id": "199187a1-fb5f-415f-9d19-dd9ba7ab3445",
   "metadata": {
    "tags": []
   },
   "outputs": [],
   "source": [
    "set1 | set2 # Vereinigung"
   ]
  },
  {
   "cell_type": "code",
   "execution_count": null,
   "id": "a89adcd4-26b8-403a-8e2e-0bf3771dbe86",
   "metadata": {
    "tags": []
   },
   "outputs": [],
   "source": [
    "set1 & set2 # Schnittmenge"
   ]
  },
  {
   "cell_type": "code",
   "execution_count": null,
   "id": "140ea420-deb4-45db-a182-c02d976d69f5",
   "metadata": {
    "tags": []
   },
   "outputs": [],
   "source": [
    "set1  - set2 # Differenz"
   ]
  },
  {
   "cell_type": "code",
   "execution_count": null,
   "id": "910200bd-4f6b-4032-88be-80d04ed68d7c",
   "metadata": {
    "tags": []
   },
   "outputs": [],
   "source": [
    "set1 ^ set2 # Symmetrische Differenz"
   ]
  },
  {
   "cell_type": "code",
   "execution_count": null,
   "id": "de3273f1-1054-4f1a-8f26-743204a22bef",
   "metadata": {
    "tags": []
   },
   "outputs": [],
   "source": [
    "set1.isdisjoint(set2)  # disjunkte Mengen"
   ]
  }
 ],
 "metadata": {
  "kernelspec": {
   "display_name": "Python 3 (ipykernel)",
   "language": "python",
   "name": "python3"
  },
  "language_info": {
   "codemirror_mode": {
    "name": "ipython",
    "version": 3
   },
   "file_extension": ".py",
   "mimetype": "text/x-python",
   "name": "python",
   "nbconvert_exporter": "python",
   "pygments_lexer": "ipython3",
   "version": "3.10.5"
  }
 },
 "nbformat": 4,
 "nbformat_minor": 5
}
