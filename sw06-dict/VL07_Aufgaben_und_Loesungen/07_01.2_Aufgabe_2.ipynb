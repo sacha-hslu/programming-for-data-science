{
 "cells": [
  {
   "cell_type": "markdown",
   "id": "51367b89-014e-4170-a076-96cfc4e999d7",
   "metadata": {},
   "source": [
    "## Aufgabe 2 - Zählen von Wörtern\n",
    "Gegeben ist der folgende Text:\n",
    "\n",
    "```\n",
    "    text = ('this is sample text with several words and '          \n",
    "            'this is more sample text with some different words')\n",
    "```\n",
    "\n",
    "Schreiben Sie ein Script, um die Anzahl Vorkommen jedes Wortes in der Zeichenfolge zu zählen. Verwenden Sie dazu ein Dictionary. Geben Sie das Resultat tabellarisch, mit den zwei Spalten \"WORD\" und \"COUNT\", aus.\n",
    "\n",
    "Tipp: Ein String kann in mit der `.split()` Methode in die einzelnen Wörter zerlegt werden."
   ]
  },
  {
   "cell_type": "code",
   "execution_count": 4,
   "id": "bdacfe11-e9d6-4d92-90f6-6ed98fdad565",
   "metadata": {},
   "outputs": [
    {
     "name": "stdout",
     "output_type": "stream",
     "text": [
      "WORD        COUNT\n",
      "and         1\n",
      "different   1\n",
      "is          2\n",
      "more        1\n",
      "sample      2\n",
      "several     1\n",
      "some        1\n",
      "text        2\n",
      "this        2\n",
      "with        2\n",
      "words       2\n",
      "\n",
      "Number of unique words: 11\n"
     ]
    }
   ],
   "source": [
    "\"\"\"Tokenizing a string and counting unique words.\"\"\"\n",
    "\n",
    "# Note: Python automatically concatenates strings that are sparated by spaces\n",
    "# and are inside the same parantheses.\n",
    "text = ('this is sample text with several words and '          \n",
    "        'this is more sample text with some different words')\n",
    "\n",
    "word_counts = {}\n",
    "\n",
    "# count occurrences of each unique word\n",
    "for word in text.split():\n",
    "    if word in word_counts: \n",
    "        word_counts[word] += 1  # update existing key-value pair\n",
    "    else:\n",
    "        word_counts[word] = 1  # insert new key-value pair\n",
    "\n",
    "print(f'{\"WORD\":<12}COUNT')\n",
    "\n",
    "for word, count in sorted(word_counts.items()):\n",
    "    print(f'{word:<12}{count}')\n",
    "\n",
    "print('\\nNumber of unique words:', len(word_counts))"
   ]
  },
  {
   "cell_type": "markdown",
   "id": "ac15ac31-3055-464f-a99a-5d0517db556e",
   "metadata": {},
   "source": [
    "\n",
    "&nbsp;\n",
    "### Python Standard-Bibliotheksmodul `collections`. \n",
    "Die Python-Standardbibliothek enthält bereits die oben gezeigte Zählfunktionalität. \n",
    "\n",
    "Ein **`Counter`** Objekt erzeugt intern ein Dictionary, das die Werte der zugrunde liegenden Sammlung als Schlüssel enthält und die Anzahl Vorkommen als Werte zählt und speichert."
   ]
  },
  {
   "cell_type": "code",
   "execution_count": 6,
   "id": "a2b4c486-80e7-4c94-8ade-b4ee4a99f665",
   "metadata": {},
   "outputs": [],
   "source": [
    "from collections import Counter\n",
    "\n",
    "text = ('this is sample text with several words and '\n",
    "        'this is more sample text with some different words')\n",
    "\n",
    "counter = Counter(text.split())"
   ]
  },
  {
   "cell_type": "code",
   "execution_count": 7,
   "id": "48bd8961-41b6-48c3-ae5d-a9e22082217e",
   "metadata": {},
   "outputs": [
    {
     "data": {
      "text/plain": [
       "Counter({'this': 2,\n",
       "         'is': 2,\n",
       "         'sample': 2,\n",
       "         'text': 2,\n",
       "         'with': 2,\n",
       "         'several': 1,\n",
       "         'words': 2,\n",
       "         'and': 1,\n",
       "         'more': 1,\n",
       "         'some': 1,\n",
       "         'different': 1})"
      ]
     },
     "execution_count": 7,
     "metadata": {},
     "output_type": "execute_result"
    }
   ],
   "source": [
    "counter"
   ]
  },
  {
   "cell_type": "code",
   "execution_count": 8,
   "id": "deb0df2b-357e-43a4-af2a-cb348f7f8183",
   "metadata": {},
   "outputs": [
    {
     "name": "stdout",
     "output_type": "stream",
     "text": [
      "and         1\n",
      "different   1\n",
      "is          2\n",
      "more        1\n",
      "sample      2\n",
      "several     1\n",
      "some        1\n",
      "text        2\n",
      "this        2\n",
      "with        2\n",
      "words       2\n",
      "\n",
      "Number of unique words: 11\n"
     ]
    }
   ],
   "source": [
    "for word, count in sorted(counter.items()):\n",
    "    print(f'{word:<12}{count}')\n",
    "    \n",
    "print('\\nNumber of unique words:', len(counter.keys()))"
   ]
  }
 ],
 "metadata": {
  "kernelspec": {
   "display_name": "Python 3 (ipykernel)",
   "language": "python",
   "name": "python3"
  },
  "language_info": {
   "codemirror_mode": {
    "name": "ipython",
    "version": 3
   },
   "file_extension": ".py",
   "mimetype": "text/x-python",
   "name": "python",
   "nbconvert_exporter": "python",
   "pygments_lexer": "ipython3",
   "version": "3.10.5"
  }
 },
 "nbformat": 4,
 "nbformat_minor": 5
}
